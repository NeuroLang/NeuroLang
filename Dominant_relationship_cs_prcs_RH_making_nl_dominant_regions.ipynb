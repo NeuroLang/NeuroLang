{
 "cells": [
  {
   "cell_type": "code",
   "execution_count": 1,
   "metadata": {
    "scrolled": false
   },
   "outputs": [
    {
     "name": "stderr",
     "output_type": "stream",
     "text": [
      "/home/amachlou/miniconda3/envs/antonia/lib/python3.6/importlib/_bootstrap.py:205: ImportWarning: can't resolve package from __spec__ or __package__, falling back on __name__ and __path__\n",
      "  return f(*args, **kwds)\n",
      "/home/amachlou/git/neurolang/neurolang/expression_pattern_matching.py:54: UserWarning: Warning in class FirstOrderLogicSolver overwrites {'universal_predicate', 'existential_predicate'} from base GenericSolver[typing.Any]\n",
      "  warn(warn_message)\n",
      "/home/amachlou/miniconda3/envs/antonia/lib/python3.6/importlib/_bootstrap_external.py:426: ImportWarning: Not importing directory /home/amachlou/miniconda3/envs/antonia/lib/python3.6/site-packages/mpl_toolkits: missing __init__\n",
      "  _warnings.warn(msg.format(portions[0]), ImportWarning)\n"
     ]
    }
   ],
   "source": [
    "import os\n",
    "import random\n",
    "from collections import defaultdict, Counter\n",
    "from statistics import mode\n",
    "\n",
    "import numpy as np\n",
    "import pandas as pd\n",
    "import nibabel\n",
    "import matplotlib.style\n",
    "matplotlib.style.use('ggplot')\n",
    "import matplotlib.pyplot as plt\n",
    "import matplotlib.gridspec as gridspec\n",
    "# import seaborn as sns\n",
    "import matplotlib\n",
    "%matplotlib inline\n",
    "import numpy as np\n",
    "from nilearn import datasets\n",
    "from nilearn import plotting\n",
    "import nibabel as nib\n",
    "\n",
    "from neurolang import frontend as fe"
   ]
  },
  {
   "cell_type": "code",
   "execution_count": 2,
   "metadata": {},
   "outputs": [
    {
     "name": "stderr",
     "output_type": "stream",
     "text": [
      "/home/amachlou/miniconda3/envs/antonia/lib/python3.6/site-packages/numpy/lib/npyio.py:2278: VisibleDeprecationWarning: Reading unicode strings without specifying the encoding argument is deprecated. Set the encoding, use None for the system default.\n",
      "  output = genfromtxt(fname, **kwargs)\n"
     ]
    },
    {
     "data": {
      "text/plain": [
       "rec.array([(  0, b'Background'), (  1, b'L G_and_S_frontomargin'),\n",
       "           (  2, b'L G_and_S_occipital_inf'),\n",
       "           (  3, b'L G_and_S_paracentral'),\n",
       "           (  4, b'L G_and_S_subcentral'),\n",
       "           (  5, b'L G_and_S_transv_frontopol'),\n",
       "           (  6, b'L G_and_S_cingul-Ant'),\n",
       "           (  7, b'L G_and_S_cingul-Mid-Ant'),\n",
       "           (  8, b'L G_and_S_cingul-Mid-Post'),\n",
       "           (  9, b'L G_cingul-Post-dorsal'),\n",
       "           ( 10, b'L G_cingul-Post-ventral'), ( 11, b'L G_cuneus'),\n",
       "           ( 12, b'L G_front_inf-Opercular'),\n",
       "           ( 13, b'L G_front_inf-Orbital'),\n",
       "           ( 14, b'L G_front_inf-Triangul'), ( 15, b'L G_front_middle'),\n",
       "           ( 16, b'L G_front_sup'), ( 17, b'L G_Ins_lg_and_S_cent_ins'),\n",
       "           ( 18, b'L G_insular_short'), ( 19, b'L G_occipital_middle'),\n",
       "           ( 20, b'L G_occipital_sup'), ( 21, b'L G_oc-temp_lat-fusifor'),\n",
       "           ( 22, b'L G_oc-temp_med-Lingual'),\n",
       "           ( 23, b'L G_oc-temp_med-Parahip'), ( 24, b'L G_orbital'),\n",
       "           ( 25, b'L G_pariet_inf-Angular'),\n",
       "           ( 26, b'L G_pariet_inf-Supramar'), ( 27, b'L G_parietal_sup'),\n",
       "           ( 28, b'L G_postcentral'), ( 29, b'L G_precentral'),\n",
       "           ( 30, b'L G_precuneus'), ( 31, b'L G_rectus'),\n",
       "           ( 32, b'L G_subcallosal'), ( 33, b'L G_temp_sup-G_T_transv'),\n",
       "           ( 34, b'L G_temp_sup-Lateral'),\n",
       "           ( 35, b'L G_temp_sup-Plan_polar'),\n",
       "           ( 36, b'L G_temp_sup-Plan_tempo'), ( 37, b'L G_temporal_inf'),\n",
       "           ( 38, b'L G_temporal_middle'),\n",
       "           ( 39, b'L Lat_Fis-ant-Horizont'),\n",
       "           ( 40, b'L Lat_Fis-ant-Vertical'), ( 41, b'L Lat_Fis-post'),\n",
       "           ( 42, b'L Medial_wall'), ( 43, b'L Pole_occipital'),\n",
       "           ( 44, b'L Pole_temporal'), ( 45, b'L S_calcarine'),\n",
       "           ( 46, b'L S_central'), ( 47, b'L S_cingul-Marginalis'),\n",
       "           ( 48, b'L S_circular_insula_ant'),\n",
       "           ( 49, b'L S_circular_insula_inf'),\n",
       "           ( 50, b'L S_circular_insula_sup'),\n",
       "           ( 51, b'L S_collat_transv_ant'),\n",
       "           ( 52, b'L S_collat_transv_post'), ( 53, b'L S_front_inf'),\n",
       "           ( 54, b'L S_front_middle'), ( 55, b'L S_front_sup'),\n",
       "           ( 56, b'L S_interm_prim-Jensen'),\n",
       "           ( 57, b'L S_intrapariet_and_P_trans'),\n",
       "           ( 58, b'L S_oc_middle_and_Lunatus'),\n",
       "           ( 59, b'L S_oc_sup_and_transversal'),\n",
       "           ( 60, b'L S_occipital_ant'), ( 61, b'L S_oc-temp_lat'),\n",
       "           ( 62, b'L S_oc-temp_med_and_Lingual'),\n",
       "           ( 63, b'L S_orbital_lateral'),\n",
       "           ( 64, b'L S_orbital_med-olfact'),\n",
       "           ( 65, b'L S_orbital-H_Shaped'),\n",
       "           ( 66, b'L S_parieto_occipital'), ( 67, b'L S_pericallosal'),\n",
       "           ( 68, b'L S_postcentral'), ( 69, b'L S_precentral-inf-part'),\n",
       "           ( 70, b'L S_precentral-sup-part'), ( 71, b'L S_suborbital'),\n",
       "           ( 72, b'L S_subparietal'), ( 73, b'L S_temporal_inf'),\n",
       "           ( 74, b'L S_temporal_sup'), ( 75, b'L S_temporal_transverse'),\n",
       "           ( 76, b'R G_and_S_frontomargin'),\n",
       "           ( 77, b'R G_and_S_occipital_inf'),\n",
       "           ( 78, b'R G_and_S_paracentral'),\n",
       "           ( 79, b'R G_and_S_subcentral'),\n",
       "           ( 80, b'R G_and_S_transv_frontopol'),\n",
       "           ( 81, b'R G_and_S_cingul-Ant'),\n",
       "           ( 82, b'R G_and_S_cingul-Mid-Ant'),\n",
       "           ( 83, b'R G_and_S_cingul-Mid-Post'),\n",
       "           ( 84, b'R G_cingul-Post-dorsal'),\n",
       "           ( 85, b'R G_cingul-Post-ventral'), ( 86, b'R G_cuneus'),\n",
       "           ( 87, b'R G_front_inf-Opercular'),\n",
       "           ( 88, b'R G_front_inf-Orbital'),\n",
       "           ( 89, b'R G_front_inf-Triangul'), ( 90, b'R G_front_middle'),\n",
       "           ( 91, b'R G_front_sup'), ( 92, b'R G_Ins_lg_and_S_cent_ins'),\n",
       "           ( 93, b'R G_insular_short'), ( 94, b'R G_occipital_middle'),\n",
       "           ( 95, b'R G_occipital_sup'), ( 96, b'R G_oc-temp_lat-fusifor'),\n",
       "           ( 97, b'R G_oc-temp_med-Lingual'),\n",
       "           ( 98, b'R G_oc-temp_med-Parahip'), ( 99, b'R G_orbital'),\n",
       "           (100, b'R G_pariet_inf-Angular'),\n",
       "           (101, b'R G_pariet_inf-Supramar'), (102, b'R G_parietal_sup'),\n",
       "           (103, b'R G_postcentral'), (104, b'R G_precentral'),\n",
       "           (105, b'R G_precuneus'), (106, b'R G_rectus'),\n",
       "           (107, b'R G_subcallosal'), (108, b'R G_temp_sup-G_T_transv'),\n",
       "           (109, b'R G_temp_sup-Lateral'),\n",
       "           (110, b'R G_temp_sup-Plan_polar'),\n",
       "           (111, b'R G_temp_sup-Plan_tempo'), (112, b'R G_temporal_inf'),\n",
       "           (113, b'R G_temporal_middle'),\n",
       "           (114, b'R Lat_Fis-ant-Horizont'),\n",
       "           (115, b'R Lat_Fis-ant-Vertical'), (116, b'R Lat_Fis-post'),\n",
       "           (117, b'R Medial_wall'), (118, b'R Pole_occipital'),\n",
       "           (119, b'R Pole_temporal'), (120, b'R S_calcarine'),\n",
       "           (121, b'R S_central'), (122, b'R S_cingul-Marginalis'),\n",
       "           (123, b'R S_circular_insula_ant'),\n",
       "           (124, b'R S_circular_insula_inf'),\n",
       "           (125, b'R S_circular_insula_sup'),\n",
       "           (126, b'R S_collat_transv_ant'),\n",
       "           (127, b'R S_collat_transv_post'), (128, b'R S_front_inf'),\n",
       "           (129, b'R S_front_middle'), (130, b'R S_front_sup'),\n",
       "           (131, b'R S_interm_prim-Jensen'),\n",
       "           (132, b'R S_intrapariet_and_P_trans'),\n",
       "           (133, b'R S_oc_middle_and_Lunatus'),\n",
       "           (134, b'R S_oc_sup_and_transversal'),\n",
       "           (135, b'R S_occipital_ant'), (136, b'R S_oc-temp_lat'),\n",
       "           (137, b'R S_oc-temp_med_and_Lingual'),\n",
       "           (138, b'R S_orbital_lateral'),\n",
       "           (139, b'R S_orbital_med-olfact'),\n",
       "           (140, b'R S_orbital-H_Shaped'),\n",
       "           (141, b'R S_parieto_occipital'), (142, b'R S_pericallosal'),\n",
       "           (143, b'R S_postcentral'), (144, b'R S_precentral-inf-part'),\n",
       "           (145, b'R S_precentral-sup-part'), (146, b'R S_suborbital'),\n",
       "           (147, b'R S_subparietal'), (148, b'R S_temporal_inf'),\n",
       "           (149, b'R S_temporal_sup'), (150, b'R S_temporal_transverse')],\n",
       "          dtype=[('index', '<i8'), ('name', 'S27')])"
      ]
     },
     "execution_count": 2,
     "metadata": {},
     "output_type": "execute_result"
    }
   ],
   "source": [
    "destrieux_dataset = datasets.fetch_atlas_destrieux_2009()\n",
    "destrieux_map = nib.load(destrieux_dataset['maps'])\n",
    "destrieux_dataset['labels']"
   ]
  },
  {
   "cell_type": "code",
   "execution_count": 3,
   "metadata": {},
   "outputs": [
    {
     "name": "stderr",
     "output_type": "stream",
     "text": [
      "/home/amachlou/miniconda3/envs/antonia/lib/python3.6/site-packages/nibabel/gifti/parse_gifti_fast.py:62: DeprecationWarning: The binary mode of fromstring is deprecated, as it behaves surprisingly on unicode inputs. Use frombuffer instead\n",
      "  newarr = np.fromstring(zdec, dtype=dt)\n",
      "/home/amachlou/miniconda3/envs/antonia/lib/python3.6/site-packages/nibabel/gifti/gifti.py:760: ResourceWarning: unclosed file <_io.BufferedReader name='101309.L.pial.32k_fs_LR.surf.gii'>\n",
      "  parser.parse(fptr=file_map['image'].get_prepare_fileobj('rb'))\n",
      "/home/amachlou/miniconda3/envs/antonia/lib/python3.6/site-packages/nibabel/gifti/gifti.py:760: ResourceWarning: unclosed file <_io.BufferedReader name='101309_L_manual_segmentation.func.gii'>\n",
      "  parser.parse(fptr=file_map['image'].get_prepare_fileobj('rb'))\n",
      "/home/amachlou/miniconda3/envs/antonia/lib/python3.6/site-packages/nibabel/gifti/gifti.py:760: ResourceWarning: unclosed file <_io.BufferedReader name='108121.L.pial.32k_fs_LR.surf.gii'>\n",
      "  parser.parse(fptr=file_map['image'].get_prepare_fileobj('rb'))\n",
      "/home/amachlou/miniconda3/envs/antonia/lib/python3.6/site-packages/nibabel/gifti/gifti.py:760: ResourceWarning: unclosed file <_io.BufferedReader name='108121_L_manual_segmentation.func.gii'>\n",
      "  parser.parse(fptr=file_map['image'].get_prepare_fileobj('rb'))\n",
      "/home/amachlou/miniconda3/envs/antonia/lib/python3.6/site-packages/nibabel/gifti/gifti.py:760: ResourceWarning: unclosed file <_io.BufferedReader name='102008.L.pial.32k_fs_LR.surf.gii'>\n",
      "  parser.parse(fptr=file_map['image'].get_prepare_fileobj('rb'))\n",
      "/home/amachlou/miniconda3/envs/antonia/lib/python3.6/site-packages/nibabel/gifti/gifti.py:760: ResourceWarning: unclosed file <_io.BufferedReader name='102008_L_manual_segmentation.func.gii'>\n",
      "  parser.parse(fptr=file_map['image'].get_prepare_fileobj('rb'))\n",
      "/home/amachlou/miniconda3/envs/antonia/lib/python3.6/site-packages/nibabel/gifti/gifti.py:760: ResourceWarning: unclosed file <_io.BufferedReader name='107321.L.pial.32k_fs_LR.surf.gii'>\n",
      "  parser.parse(fptr=file_map['image'].get_prepare_fileobj('rb'))\n",
      "/home/amachlou/miniconda3/envs/antonia/lib/python3.6/site-packages/nibabel/gifti/gifti.py:760: ResourceWarning: unclosed file <_io.BufferedReader name='107321_L_manual_segmentation.func.gii'>\n",
      "  parser.parse(fptr=file_map['image'].get_prepare_fileobj('rb'))\n",
      "/home/amachlou/miniconda3/envs/antonia/lib/python3.6/site-packages/nibabel/gifti/gifti.py:760: ResourceWarning: unclosed file <_io.BufferedReader name='102311.L.pial.32k_fs_LR.surf.gii'>\n",
      "  parser.parse(fptr=file_map['image'].get_prepare_fileobj('rb'))\n",
      "/home/amachlou/miniconda3/envs/antonia/lib/python3.6/site-packages/nibabel/gifti/gifti.py:760: ResourceWarning: unclosed file <_io.BufferedReader name='102311_L_manual_segmentation.func.gii'>\n",
      "  parser.parse(fptr=file_map['image'].get_prepare_fileobj('rb'))\n",
      "/home/amachlou/miniconda3/envs/antonia/lib/python3.6/site-packages/nibabel/gifti/gifti.py:760: ResourceWarning: unclosed file <_io.BufferedReader name='121315.L.pial.32k_fs_LR.surf.gii'>\n",
      "  parser.parse(fptr=file_map['image'].get_prepare_fileobj('rb'))\n",
      "/home/amachlou/miniconda3/envs/antonia/lib/python3.6/site-packages/nibabel/gifti/gifti.py:760: ResourceWarning: unclosed file <_io.BufferedReader name='121315_L_manual_segmentation.func.gii'>\n",
      "  parser.parse(fptr=file_map['image'].get_prepare_fileobj('rb'))\n",
      "/home/amachlou/miniconda3/envs/antonia/lib/python3.6/site-packages/nibabel/gifti/gifti.py:760: ResourceWarning: unclosed file <_io.BufferedReader name='108525.L.pial.32k_fs_LR.surf.gii'>\n",
      "  parser.parse(fptr=file_map['image'].get_prepare_fileobj('rb'))\n",
      "/home/amachlou/miniconda3/envs/antonia/lib/python3.6/site-packages/nibabel/gifti/gifti.py:760: ResourceWarning: unclosed file <_io.BufferedReader name='108525_L_manual_segmentation.func.gii'>\n",
      "  parser.parse(fptr=file_map['image'].get_prepare_fileobj('rb'))\n",
      "/home/amachlou/miniconda3/envs/antonia/lib/python3.6/site-packages/nibabel/gifti/gifti.py:760: ResourceWarning: unclosed file <_io.BufferedReader name='116524.L.pial.32k_fs_LR.surf.gii'>\n",
      "  parser.parse(fptr=file_map['image'].get_prepare_fileobj('rb'))\n",
      "/home/amachlou/miniconda3/envs/antonia/lib/python3.6/site-packages/nibabel/gifti/gifti.py:760: ResourceWarning: unclosed file <_io.BufferedReader name='116524_L_manual_segmentation.func.gii'>\n",
      "  parser.parse(fptr=file_map['image'].get_prepare_fileobj('rb'))\n"
     ]
    }
   ],
   "source": [
    "subjects = ['101309', '108121', '102008', '107321', '102311', '121315', '108525', '116524']\n",
    "nl = fe.RegionFrontend()\n",
    "\n",
    "Manual_sulci={}\n",
    "\n",
    "for s in subjects:\n",
    "    Manual_sulci[s]={}\n",
    "    surface = nib.load('{}.L.pial.32k_fs_LR.surf.gii'.format(s))\n",
    "    vertices = surface.darrays[0].data\n",
    "    manual_sulci_gii = nib.load('{}_L_manual_segmentation.func.gii'.format(s))\n",
    "    for darray in manual_sulci_gii.darrays:\n",
    "        name = darray.meta.metadata['Name']\n",
    "        name = name[:name.rfind('_')]\n",
    "        points = vertices[darray.data.nonzero()].round(1)\n",
    "        Manual_sulci[s][name] = points\n",
    "#         print(f\"{name}: number of points {points.shape[0]}\")\n",
    "    for name, points in Manual_sulci[s].items():\n",
    "        ijk_points = nib.affines.apply_affine(np.linalg.inv(destrieux_map.affine), points).astype(int)\n",
    "        region = fe.ExplicitVBR(\n",
    "            ijk_points,\n",
    "            destrieux_map.affine,\n",
    "            img_dim=destrieux_map.shape\n",
    "        )\n",
    "        nl.add_region(region, result_symbol_name=f'{name}')"
   ]
  },
  {
   "cell_type": "code",
   "execution_count": 4,
   "metadata": {},
   "outputs": [
    {
     "name": "stderr",
     "output_type": "stream",
     "text": [
      "/home/amachlou/miniconda3/envs/antonia/lib/python3.6/site-packages/nibabel/gifti/parse_gifti_fast.py:62: DeprecationWarning: The binary mode of fromstring is deprecated, as it behaves surprisingly on unicode inputs. Use frombuffer instead\n",
      "  newarr = np.fromstring(zdec, dtype=dt)\n",
      "/home/amachlou/miniconda3/envs/antonia/lib/python3.6/site-packages/nibabel/gifti/gifti.py:760: ResourceWarning: unclosed file <_io.BufferedReader name='101309.R.pial.32k_fs_LR.surf.gii'>\n",
      "  parser.parse(fptr=file_map['image'].get_prepare_fileobj('rb'))\n",
      "/home/amachlou/miniconda3/envs/antonia/lib/python3.6/site-packages/nibabel/gifti/gifti.py:760: ResourceWarning: unclosed file <_io.BufferedReader name='101309_R_manual_segmentation.func.gii'>\n",
      "  parser.parse(fptr=file_map['image'].get_prepare_fileobj('rb'))\n"
     ]
    }
   ],
   "source": [
    "surface_1 = nib.load('101309.R.pial.32k_fs_LR.surf.gii')\n",
    "vertices_1 = surface_1.darrays[0].data\n",
    "manual_sulci_gii_1 = nib.load('101309_R_manual_segmentation.func.gii')\n",
    "manual_sulci_1 = dict()\n",
    "for darray in manual_sulci_gii_1.darrays:\n",
    "    name = darray.meta.metadata['Name']\n",
    "    name = name[:name.rfind('_')]\n",
    "    points = vertices_1[darray.data.nonzero()].round(1)\n",
    "    manual_sulci_1[name] = points\n",
    "#     print(f\"{name}: number of points {points.shape[0]}\")"
   ]
  },
  {
   "cell_type": "code",
   "execution_count": 5,
   "metadata": {},
   "outputs": [
    {
     "name": "stderr",
     "output_type": "stream",
     "text": [
      "/home/amachlou/miniconda3/envs/antonia/lib/python3.6/site-packages/nibabel/gifti/parse_gifti_fast.py:62: DeprecationWarning: The binary mode of fromstring is deprecated, as it behaves surprisingly on unicode inputs. Use frombuffer instead\n",
      "  newarr = np.fromstring(zdec, dtype=dt)\n",
      "/home/amachlou/miniconda3/envs/antonia/lib/python3.6/site-packages/nibabel/gifti/gifti.py:760: ResourceWarning: unclosed file <_io.BufferedReader name='108121.R.pial.32k_fs_LR.surf.gii'>\n",
      "  parser.parse(fptr=file_map['image'].get_prepare_fileobj('rb'))\n",
      "/home/amachlou/miniconda3/envs/antonia/lib/python3.6/site-packages/nibabel/gifti/gifti.py:760: ResourceWarning: unclosed file <_io.BufferedReader name='108121_R_manual_segmentation.func.gii'>\n",
      "  parser.parse(fptr=file_map['image'].get_prepare_fileobj('rb'))\n"
     ]
    }
   ],
   "source": [
    "surface_2 = nib.load('108121.R.pial.32k_fs_LR.surf.gii')\n",
    "vertices_2 = surface_2.darrays[0].data\n",
    "manual_sulci_gii_2 = nib.load('108121_R_manual_segmentation.func.gii')\n",
    "manual_sulci_2 = dict()\n",
    "for darray in manual_sulci_gii_2.darrays:\n",
    "    name = darray.meta.metadata['Name']\n",
    "    name = name[:name.rfind('_')]\n",
    "    points = vertices_2[darray.data.nonzero()].round(1)\n",
    "    manual_sulci_2[name] = points\n",
    "#     print(f\"{name}: number of points {points.shape[0]}\")"
   ]
  },
  {
   "cell_type": "code",
   "execution_count": 6,
   "metadata": {},
   "outputs": [
    {
     "name": "stderr",
     "output_type": "stream",
     "text": [
      "/home/amachlou/miniconda3/envs/antonia/lib/python3.6/site-packages/nibabel/gifti/parse_gifti_fast.py:62: DeprecationWarning: The binary mode of fromstring is deprecated, as it behaves surprisingly on unicode inputs. Use frombuffer instead\n",
      "  newarr = np.fromstring(zdec, dtype=dt)\n",
      "/home/amachlou/miniconda3/envs/antonia/lib/python3.6/site-packages/nibabel/gifti/gifti.py:760: ResourceWarning: unclosed file <_io.BufferedReader name='102008.R.pial.32k_fs_LR.surf.gii'>\n",
      "  parser.parse(fptr=file_map['image'].get_prepare_fileobj('rb'))\n",
      "/home/amachlou/miniconda3/envs/antonia/lib/python3.6/site-packages/nibabel/gifti/gifti.py:760: ResourceWarning: unclosed file <_io.BufferedReader name='102008_R_manual_segmentation.func.gii'>\n",
      "  parser.parse(fptr=file_map['image'].get_prepare_fileobj('rb'))\n"
     ]
    }
   ],
   "source": [
    "surface_3 = nib.load('102008.R.pial.32k_fs_LR.surf.gii')\n",
    "vertices_3 = surface_3.darrays[0].data\n",
    "manual_sulci_gii_3 = nib.load('102008_R_manual_segmentation.func.gii')\n",
    "manual_sulci_3 = dict()\n",
    "for darray in manual_sulci_gii_3.darrays:\n",
    "    name = darray.meta.metadata['Name']\n",
    "    name = name[:name.rfind('_')]\n",
    "    points = vertices_3[darray.data.nonzero()].round(1)\n",
    "    manual_sulci_3[name] = points\n",
    "#     print(f\"{name}: number of points {points.shape[0]}\")"
   ]
  },
  {
   "cell_type": "code",
   "execution_count": 7,
   "metadata": {},
   "outputs": [
    {
     "name": "stderr",
     "output_type": "stream",
     "text": [
      "/home/amachlou/miniconda3/envs/antonia/lib/python3.6/site-packages/nibabel/gifti/parse_gifti_fast.py:62: DeprecationWarning: The binary mode of fromstring is deprecated, as it behaves surprisingly on unicode inputs. Use frombuffer instead\n",
      "  newarr = np.fromstring(zdec, dtype=dt)\n",
      "/home/amachlou/miniconda3/envs/antonia/lib/python3.6/site-packages/nibabel/gifti/gifti.py:760: ResourceWarning: unclosed file <_io.BufferedReader name='107321.R.pial.32k_fs_LR.surf.gii'>\n",
      "  parser.parse(fptr=file_map['image'].get_prepare_fileobj('rb'))\n",
      "/home/amachlou/miniconda3/envs/antonia/lib/python3.6/site-packages/nibabel/gifti/gifti.py:760: ResourceWarning: unclosed file <_io.BufferedReader name='107321_R_manual_segmentation.func.gii'>\n",
      "  parser.parse(fptr=file_map['image'].get_prepare_fileobj('rb'))\n"
     ]
    }
   ],
   "source": [
    "surface_4 = nib.load('107321.R.pial.32k_fs_LR.surf.gii')\n",
    "vertices_4 = surface_4.darrays[0].data\n",
    "manual_sulci_gii_4 = nib.load('107321_R_manual_segmentation.func.gii')\n",
    "manual_sulci_4 = dict()\n",
    "for darray in manual_sulci_gii_4.darrays:\n",
    "    name = darray.meta.metadata['Name']\n",
    "    name = name[:name.rfind('_')]\n",
    "    points = vertices_4[darray.data.nonzero()].round(1)\n",
    "    manual_sulci_4[name] = points\n",
    "#     print(f\"{name}: number of points {points.shape[0]}\")"
   ]
  },
  {
   "cell_type": "code",
   "execution_count": 8,
   "metadata": {},
   "outputs": [
    {
     "name": "stderr",
     "output_type": "stream",
     "text": [
      "/home/amachlou/miniconda3/envs/antonia/lib/python3.6/site-packages/nibabel/gifti/parse_gifti_fast.py:62: DeprecationWarning: The binary mode of fromstring is deprecated, as it behaves surprisingly on unicode inputs. Use frombuffer instead\n",
      "  newarr = np.fromstring(zdec, dtype=dt)\n",
      "/home/amachlou/miniconda3/envs/antonia/lib/python3.6/site-packages/nibabel/gifti/gifti.py:760: ResourceWarning: unclosed file <_io.BufferedReader name='102311.R.pial.32k_fs_LR.surf.gii'>\n",
      "  parser.parse(fptr=file_map['image'].get_prepare_fileobj('rb'))\n",
      "/home/amachlou/miniconda3/envs/antonia/lib/python3.6/site-packages/nibabel/gifti/gifti.py:760: ResourceWarning: unclosed file <_io.BufferedReader name='102311_R_manual_segmentation.func.gii'>\n",
      "  parser.parse(fptr=file_map['image'].get_prepare_fileobj('rb'))\n"
     ]
    }
   ],
   "source": [
    "surface_5 = nib.load('102311.R.pial.32k_fs_LR.surf.gii')\n",
    "vertices_5 = surface_5.darrays[0].data\n",
    "manual_sulci_gii_5 = nib.load('102311_R_manual_segmentation.func.gii')\n",
    "manual_sulci_5 = dict()\n",
    "for darray in manual_sulci_gii_5.darrays:\n",
    "    name = darray.meta.metadata['Name']\n",
    "    name = name[:name.rfind('_')]\n",
    "    points = vertices_5[darray.data.nonzero()].round(1)\n",
    "    manual_sulci_5[name] = points\n",
    "#     print(f\"{name}: number of points {points.shape[0]}\")"
   ]
  },
  {
   "cell_type": "code",
   "execution_count": 9,
   "metadata": {},
   "outputs": [
    {
     "name": "stderr",
     "output_type": "stream",
     "text": [
      "/home/amachlou/miniconda3/envs/antonia/lib/python3.6/site-packages/nibabel/gifti/parse_gifti_fast.py:62: DeprecationWarning: The binary mode of fromstring is deprecated, as it behaves surprisingly on unicode inputs. Use frombuffer instead\n",
      "  newarr = np.fromstring(zdec, dtype=dt)\n",
      "/home/amachlou/miniconda3/envs/antonia/lib/python3.6/site-packages/nibabel/gifti/gifti.py:760: ResourceWarning: unclosed file <_io.BufferedReader name='121315.R.pial.32k_fs_LR.surf.gii'>\n",
      "  parser.parse(fptr=file_map['image'].get_prepare_fileobj('rb'))\n",
      "/home/amachlou/miniconda3/envs/antonia/lib/python3.6/site-packages/nibabel/gifti/gifti.py:760: ResourceWarning: unclosed file <_io.BufferedReader name='121315_R_manual_segmentation.func.gii'>\n",
      "  parser.parse(fptr=file_map['image'].get_prepare_fileobj('rb'))\n"
     ]
    }
   ],
   "source": [
    "surface_6 = nib.load('121315.R.pial.32k_fs_LR.surf.gii')\n",
    "vertices_6 = surface_6.darrays[0].data\n",
    "manual_sulci_gii_6 = nib.load('121315_R_manual_segmentation.func.gii')\n",
    "manual_sulci_6 = dict()\n",
    "for darray in manual_sulci_gii_6.darrays:\n",
    "    name = darray.meta.metadata['Name']\n",
    "    name = name[:name.rfind('_')]\n",
    "    points = vertices_6[darray.data.nonzero()].round(1)\n",
    "    manual_sulci_6[name] = points\n",
    "#     print(f\"{name}: number of points {points.shape[0]}\")"
   ]
  },
  {
   "cell_type": "code",
   "execution_count": 10,
   "metadata": {},
   "outputs": [
    {
     "name": "stderr",
     "output_type": "stream",
     "text": [
      "/home/amachlou/miniconda3/envs/antonia/lib/python3.6/site-packages/nibabel/gifti/parse_gifti_fast.py:62: DeprecationWarning: The binary mode of fromstring is deprecated, as it behaves surprisingly on unicode inputs. Use frombuffer instead\n",
      "  newarr = np.fromstring(zdec, dtype=dt)\n",
      "/home/amachlou/miniconda3/envs/antonia/lib/python3.6/site-packages/nibabel/gifti/gifti.py:760: ResourceWarning: unclosed file <_io.BufferedReader name='108525.R.pial.32k_fs_LR.surf.gii'>\n",
      "  parser.parse(fptr=file_map['image'].get_prepare_fileobj('rb'))\n",
      "/home/amachlou/miniconda3/envs/antonia/lib/python3.6/site-packages/nibabel/gifti/gifti.py:760: ResourceWarning: unclosed file <_io.BufferedReader name='108525_R_manual_segmentation.func.gii'>\n",
      "  parser.parse(fptr=file_map['image'].get_prepare_fileobj('rb'))\n"
     ]
    }
   ],
   "source": [
    "surface_7 = nib.load('108525.R.pial.32k_fs_LR.surf.gii')\n",
    "vertices_7 = surface_7.darrays[0].data\n",
    "manual_sulci_gii_7 = nib.load('108525_R_manual_segmentation.func.gii')\n",
    "manual_sulci_7 = dict()\n",
    "for darray in manual_sulci_gii_7.darrays:\n",
    "    name = darray.meta.metadata['Name']\n",
    "    name = name[:name.rfind('_')]\n",
    "    points = vertices_7[darray.data.nonzero()].round(1)\n",
    "    manual_sulci_7[name] = points\n",
    "#     print(f\"{name}: number of points {points.shape[0]}\")"
   ]
  },
  {
   "cell_type": "code",
   "execution_count": 11,
   "metadata": {},
   "outputs": [
    {
     "name": "stderr",
     "output_type": "stream",
     "text": [
      "/home/amachlou/miniconda3/envs/antonia/lib/python3.6/site-packages/nibabel/gifti/parse_gifti_fast.py:62: DeprecationWarning: The binary mode of fromstring is deprecated, as it behaves surprisingly on unicode inputs. Use frombuffer instead\n",
      "  newarr = np.fromstring(zdec, dtype=dt)\n",
      "/home/amachlou/miniconda3/envs/antonia/lib/python3.6/site-packages/nibabel/gifti/gifti.py:760: ResourceWarning: unclosed file <_io.BufferedReader name='116524.R.pial.32k_fs_LR.surf.gii'>\n",
      "  parser.parse(fptr=file_map['image'].get_prepare_fileobj('rb'))\n",
      "/home/amachlou/miniconda3/envs/antonia/lib/python3.6/site-packages/nibabel/gifti/gifti.py:760: ResourceWarning: unclosed file <_io.BufferedReader name='116524_R_manual_segmentation.func.gii'>\n",
      "  parser.parse(fptr=file_map['image'].get_prepare_fileobj('rb'))\n"
     ]
    }
   ],
   "source": [
    "surface_8 = nib.load('116524.R.pial.32k_fs_LR.surf.gii')\n",
    "vertices_8 = surface_8.darrays[0].data\n",
    "manual_sulci_gii_8 = nib.load('116524_R_manual_segmentation.func.gii')\n",
    "manual_sulci_8 = dict()\n",
    "for darray in manual_sulci_gii_8.darrays:\n",
    "    name = darray.meta.metadata['Name']\n",
    "    name = name[:name.rfind('_')]\n",
    "    points = vertices_8[darray.data.nonzero()].round(1)\n",
    "    manual_sulci_8[name] = points\n",
    "#     print(f\"{name}: number of points {points.shape[0]}\")"
   ]
  },
  {
   "cell_type": "code",
   "execution_count": 12,
   "metadata": {},
   "outputs": [],
   "source": [
    "RH_manual_sulci = [manual_sulci_1, manual_sulci_2, manual_sulci_3, manual_sulci_4, manual_sulci_5, manual_sulci_6,  manual_sulci_7, manual_sulci_8]"
   ]
  },
  {
   "cell_type": "code",
   "execution_count": 13,
   "metadata": {},
   "outputs": [],
   "source": [
    "def tolerance_y_3(ys_origin_sulcus, ys_target_sulcus, length):\n",
    "    # we consider I the origin\n",
    "    before=set()\n",
    "    overlaps=set()\n",
    "    during=set()\n",
    "    meets=set()\n",
    "    starts=set()\n",
    "    finishes=set()\n",
    "    equals=set()\n",
    "    after=set()\n",
    "    Anterior_of=set()\n",
    "    Posterior_of=set()\n",
    "    During=set()\n",
    "    J_minus = min(ys_target_sulcus)\n",
    "#     print('J-:', J_minus)\n",
    "    J_plus = max(ys_target_sulcus) + length\n",
    "#     print('J+:', J_plus)\n",
    "    \n",
    "    I_boxes = set(ys_origin_sulcus)\n",
    "    for x in I_boxes:\n",
    "        I_minus = x\n",
    "        I_plus = I_minus + length\n",
    "        \n",
    "        if I_minus < I_plus < J_minus < J_plus:\n",
    "            before.add(x)\n",
    "        if I_minus < J_minus < I_plus < J_plus:\n",
    "            overlaps.add(x)\n",
    "        if J_minus < I_minus < I_plus < J_plus:\n",
    "            during.add(x)\n",
    "        if I_minus < I_plus == J_minus < J_plus:\n",
    "            meets.add(x)\n",
    "        if I_minus == J_minus < I_plus < J_plus:\n",
    "            starts.add(x)\n",
    "        if J_minus < I_minus < I_plus == J_plus:\n",
    "            finishes.add(x)\n",
    "        if I_minus == J_minus < I_plus == J_plus:\n",
    "            equals.add(x)\n",
    "        if J_minus < J_plus < I_minus < I_plus:\n",
    "            after.add(x)\n",
    "    before_pc =  len(before) / len(I_boxes) * 100\n",
    "    overlaps_pc =  len(overlaps) / len(I_boxes) * 100\n",
    "    during_pc = len(during) / len(I_boxes) * 100\n",
    "    meets_pc = len(meets) / len(I_boxes) * 100\n",
    "    starts_pc = len(starts) / len(I_boxes) * 100\n",
    "    finishes_pc = len(finishes) / len(I_boxes) * 100\n",
    "    equals_pc = len(equals) / len(I_boxes) * 100\n",
    "    after_pc = len(after) / len(I_boxes) * 100     \n",
    "    \n",
    "#     print('before', before_pc)\n",
    "#     print('overlaps', overlaps_pc)\n",
    "#     print('during', during_pc)\n",
    "#     print('meets', meets_pc)\n",
    "#     print('starts', starts_pc)\n",
    "#     print('finishes', finishes_pc)\n",
    "#     print('equals', equals_pc)\n",
    "#     print('after', after_pc)\n",
    "    \n",
    "    x = np.arange(8)\n",
    "    plt.bar(x, height= [before_pc, overlaps_pc, during_pc, meets_pc, starts_pc, finishes_pc, equals_pc, after_pc])\n",
    "    plt.xticks(x+.5, ['before','overlaps','during','meets','starts','finishes','equals','after'])\n",
    "    plt.axhline(y=80, color='r', linestyle='--')\n",
    "    plt.show()\n",
    "    values = [before_pc, overlaps_pc, during_pc, meets_pc, starts_pc, finishes_pc, equals_pc, after_pc]\n",
    "    \n",
    "    return values"
   ]
  },
  {
   "cell_type": "code",
   "execution_count": 14,
   "metadata": {},
   "outputs": [
    {
     "data": {
      "image/png": "[encoded data removed]",
      "text/plain": [
       "<Figure size 432x288 with 1 Axes>"
      ]
     },
     "metadata": {
      "needs_background": "light"
     },
     "output_type": "display_data"
    }
   ],
   "source": [
    "cs_prcs_1 = tolerance_y_3(manual_sulci_1['Central_sulcus'].T[1], manual_sulci_1['Precentral_sulcus'].T[1], length=.1)"
   ]
  },
  {
   "cell_type": "code",
   "execution_count": 15,
   "metadata": {},
   "outputs": [
    {
     "data": {
      "image/png": "[encoded data removed]",
      "text/plain": [
       "<Figure size 432x288 with 1 Axes>"
      ]
     },
     "metadata": {
      "needs_background": "light"
     },
     "output_type": "display_data"
    }
   ],
   "source": [
    "cs_prcs_2 = tolerance_y_3(manual_sulci_2['Central_sulcus'].T[1], manual_sulci_2['Precentral_sulcus'].T[1], length=.1)"
   ]
  },
  {
   "cell_type": "code",
   "execution_count": 16,
   "metadata": {},
   "outputs": [
    {
     "data": {
      "image/png": "[encoded data removed]",
      "text/plain": [
       "<Figure size 432x288 with 1 Axes>"
      ]
     },
     "metadata": {
      "needs_background": "light"
     },
     "output_type": "display_data"
    }
   ],
   "source": [
    "cs_prcs_3 = tolerance_y_3(manual_sulci_3['Central_sulcus'].T[1], manual_sulci_3['Precentral_sulcus'].T[1], length=.1)"
   ]
  },
  {
   "cell_type": "code",
   "execution_count": 17,
   "metadata": {},
   "outputs": [
    {
     "data": {
      "image/png": "[encoded data removed]",
      "text/plain": [
       "<Figure size 432x288 with 1 Axes>"
      ]
     },
     "metadata": {
      "needs_background": "light"
     },
     "output_type": "display_data"
    }
   ],
   "source": [
    "cs_prcs_4 = tolerance_y_3(manual_sulci_4['Central_sulcus'].T[1], manual_sulci_4['Precentral_sulcus'].T[1], length=.1)"
   ]
  },
  {
   "cell_type": "code",
   "execution_count": 18,
   "metadata": {},
   "outputs": [
    {
     "data": {
      "image/png": "[encoded data removed]",
      "text/plain": [
       "<Figure size 432x288 with 1 Axes>"
      ]
     },
     "metadata": {
      "needs_background": "light"
     },
     "output_type": "display_data"
    }
   ],
   "source": [
    "cs_prcs_5 = tolerance_y_3(manual_sulci_5['Central_sulcus'].T[1], manual_sulci_5['Precentral_sulcus'].T[1], length=.1)"
   ]
  },
  {
   "cell_type": "code",
   "execution_count": 19,
   "metadata": {},
   "outputs": [
    {
     "data": {
      "image/png": "[encoded data removed]",
      "text/plain": [
       "<Figure size 432x288 with 1 Axes>"
      ]
     },
     "metadata": {
      "needs_background": "light"
     },
     "output_type": "display_data"
    }
   ],
   "source": [
    "cs_prcs_6 = tolerance_y_3(manual_sulci_6['Central_sulcus'].T[1], manual_sulci_6['Precentral_sulcus'].T[1], length=.1)"
   ]
  },
  {
   "cell_type": "code",
   "execution_count": 20,
   "metadata": {},
   "outputs": [
    {
     "data": {
      "image/png": "[encoded data removed]",
      "text/plain": [
       "<Figure size 432x288 with 1 Axes>"
      ]
     },
     "metadata": {
      "needs_background": "light"
     },
     "output_type": "display_data"
    }
   ],
   "source": [
    "cs_prcs_7 = tolerance_y_3(manual_sulci_7['Central_sulcus'].T[1], manual_sulci_7['Precentral_sulcus'].T[1], length=.1)"
   ]
  },
  {
   "cell_type": "code",
   "execution_count": 21,
   "metadata": {},
   "outputs": [
    {
     "data": {
      "image/png": "[encoded data removed]",
      "text/plain": [
       "<Figure size 432x288 with 1 Axes>"
      ]
     },
     "metadata": {
      "needs_background": "light"
     },
     "output_type": "display_data"
    }
   ],
   "source": [
    "cs_prcs_8 = tolerance_y_3(manual_sulci_8['Central_sulcus'].T[1], manual_sulci_8['Precentral_sulcus'].T[1], length=.1)"
   ]
  },
  {
   "cell_type": "code",
   "execution_count": 22,
   "metadata": {
    "scrolled": true
   },
   "outputs": [
    {
     "data": {
      "image/png": "[encoded data removed]",
      "text/plain": [
       "<Figure size 432x288 with 1 Axes>"
      ]
     },
     "metadata": {
      "needs_background": "light"
     },
     "output_type": "display_data"
    },
    {
     "data": {
      "image/png": "[encoded data removed]",
      "text/plain": [
       "<Figure size 432x288 with 1 Axes>"
      ]
     },
     "metadata": {
      "needs_background": "light"
     },
     "output_type": "display_data"
    },
    {
     "data": {
      "image/png": "[encoded data removed]",
      "text/plain": [
       "<Figure size 432x288 with 1 Axes>"
      ]
     },
     "metadata": {
      "needs_background": "light"
     },
     "output_type": "display_data"
    },
    {
     "data": {
      "image/png": "[encoded data removed]",
      "text/plain": [
       "<Figure size 432x288 with 1 Axes>"
      ]
     },
     "metadata": {
      "needs_background": "light"
     },
     "output_type": "display_data"
    },
    {
     "data": {
      "image/png": "[encoded data removed]",
      "text/plain": [
       "<Figure size 432x288 with 1 Axes>"
      ]
     },
     "metadata": {
      "needs_background": "light"
     },
     "output_type": "display_data"
    },
    {
     "data": {
      "image/png": "[encoded data removed]",
      "text/plain": [
       "<Figure size 432x288 with 1 Axes>"
      ]
     },
     "metadata": {
      "needs_background": "light"
     },
     "output_type": "display_data"
    },
    {
     "data": {
      "image/png": "[encoded data removed]",
      "text/plain": [
       "<Figure size 432x288 with 1 Axes>"
      ]
     },
     "metadata": {
      "needs_background": "light"
     },
     "output_type": "display_data"
    },
    {
     "data": {
      "image/png": "[encoded data removed]",
      "text/plain": [
       "<Figure size 432x288 with 1 Axes>"
      ]
     },
     "metadata": {
      "needs_background": "light"
     },
     "output_type": "display_data"
    }
   ],
   "source": [
    "plots_cs_prcs = [cs_prcs_1, cs_prcs_2, cs_prcs_3, cs_prcs_4, cs_prcs_5, cs_prcs_6, cs_prcs_7, cs_prcs_8]\n",
    "x = np.arange(8)\n",
    "\n",
    "labels = ['before', 'overlaps', 'during', 'meets', 'starts', 'finishes', 'equals', 'after']\n",
    "\n",
    "for label, r in zip(labels, np.array(plots_cs_prcs).T):\n",
    "    plt.title(label)\n",
    "    plt.hist(r)\n",
    "    plt.show()"
   ]
  },
  {
   "cell_type": "code",
   "execution_count": 23,
   "metadata": {},
   "outputs": [],
   "source": [
    "def tolerance_y_historgrams(individual_plots):\n",
    "    # we consider I the origin\n",
    "    subject_relationships = individual_plots\n",
    "    \n",
    "#     for s in subject_set:\n",
    "#         relationships = (tolerance_y_3(s[origin_sulcus].T[1], s[target_sulcus].T[1], length))\n",
    "#         subject_relationships.append(relationships)\n",
    "        \n",
    "    x = np.arange(8)\n",
    "        #plt.bar(x, height = relationships)\n",
    "        #plt.xticks(x+.5, ['before','overlaps','during','meets','starts','finishes','equals','after'])\n",
    "        #plt.axhline(y=80, color='r', linestyle='--')\n",
    "        #plt.title(s)\n",
    "        #plt.show()\n",
    "    \n",
    "    labels =  ['before', 'overlaps', 'during', 'meets', 'starts', 'finishes', 'equals', 'after']\n",
    "    for label, r in zip(labels, np.array(subject_relationships).T):\n",
    "        plt.title(label)\n",
    "        plt.hist(r)\n",
    "        #plt.xlim(0, 100)\n",
    "        plt.show()"
   ]
  },
  {
   "cell_type": "code",
   "execution_count": 24,
   "metadata": {
    "scrolled": true
   },
   "outputs": [
    {
     "data": {
      "image/png": "[encoded data removed]",
      "text/plain": [
       "<Figure size 432x288 with 1 Axes>"
      ]
     },
     "metadata": {
      "needs_background": "light"
     },
     "output_type": "display_data"
    },
    {
     "data": {
      "image/png": "[encoded data removed]",
      "text/plain": [
       "<Figure size 432x288 with 1 Axes>"
      ]
     },
     "metadata": {
      "needs_background": "light"
     },
     "output_type": "display_data"
    },
    {
     "data": {
      "image/png": "[encoded data removed]",
      "text/plain": [
       "<Figure size 432x288 with 1 Axes>"
      ]
     },
     "metadata": {
      "needs_background": "light"
     },
     "output_type": "display_data"
    },
    {
     "data": {
      "image/png": "[encoded data removed]",
      "text/plain": [
       "<Figure size 432x288 with 1 Axes>"
      ]
     },
     "metadata": {
      "needs_background": "light"
     },
     "output_type": "display_data"
    },
    {
     "data": {
      "image/png": "[encoded data removed]",
      "text/plain": [
       "<Figure size 432x288 with 1 Axes>"
      ]
     },
     "metadata": {
      "needs_background": "light"
     },
     "output_type": "display_data"
    },
    {
     "data": {
      "image/png": "[encoded data removed]",
      "text/plain": [
       "<Figure size 432x288 with 1 Axes>"
      ]
     },
     "metadata": {
      "needs_background": "light"
     },
     "output_type": "display_data"
    },
    {
     "data": {
      "image/png": "[encoded data removed]",
      "text/plain": [
       "<Figure size 432x288 with 1 Axes>"
      ]
     },
     "metadata": {
      "needs_background": "light"
     },
     "output_type": "display_data"
    },
    {
     "data": {
      "image/png": "[encoded data removed]",
      "text/plain": [
       "<Figure size 432x288 with 1 Axes>"
      ]
     },
     "metadata": {
      "needs_background": "light"
     },
     "output_type": "display_data"
    }
   ],
   "source": [
    "tolerance_y_historgrams(plots_cs_prcs)"
   ]
  },
  {
   "cell_type": "code",
   "execution_count": 25,
   "metadata": {},
   "outputs": [
    {
     "data": {
      "image/png": "[encoded data removed]",
      "text/plain": [
       "<Figure size 432x288 with 1 Axes>"
      ]
     },
     "metadata": {
      "needs_background": "light"
     },
     "output_type": "display_data"
    }
   ],
   "source": [
    "befores = []\n",
    "overlapss = []\n",
    "durings = []\n",
    "meetss = []\n",
    "startss = []\n",
    "finishess = []\n",
    "equalss = [] \n",
    "afters = []\n",
    "for plot in plots_cs_prcs:\n",
    "    befores.append(plot[0])\n",
    "    overlapss.append(plot[1])\n",
    "    durings.append(plot[2])\n",
    "    meetss.append(plot[3])\n",
    "    startss.append(plot[4])\n",
    "    finishess.append(plot[5])\n",
    "    equalss.append(plot[6])\n",
    "    afters.append(plot[7])\n",
    "\n",
    "x = np.arange(8)\n",
    "plt.bar(x, height= [np.mean(befores), np.mean(overlapss), np.mean(durings), np.mean(meetss),\n",
    "                    np.mean(startss), np.mean(finishess), np.mean(equalss), np.mean(afters)])\n",
    "plt.xticks(x+.5, ['before','overlaps','during','meets','starts','finishes','equals','after'])\n",
    "plt.axhline(y=80, color='r', linestyle='--')\n",
    "plt.show()"
   ]
  },
  {
   "cell_type": "code",
   "execution_count": 26,
   "metadata": {},
   "outputs": [],
   "source": [
    "def find_dominant_relationship(relationships, pair_analyses): \n",
    "    relations=[]\n",
    "    for x in pair_analyses:\n",
    "        relations.append(relationships[np.argmax(x)])\n",
    "    keys, counts = np.unique(relations, return_counts=True)\n",
    "    plt.bar(keys, counts)\n",
    "    plt.show()\n",
    "    return mode(relations), len(mode(relations)) / len(relations)"
   ]
  },
  {
   "cell_type": "code",
   "execution_count": 27,
   "metadata": {},
   "outputs": [
    {
     "data": {
      "image/png": "[encoded data removed]",
      "text/plain": [
       "<Figure size 432x288 with 1 Axes>"
      ]
     },
     "metadata": {
      "needs_background": "light"
     },
     "output_type": "display_data"
    },
    {
     "data": {
      "text/plain": [
       "('before', 0.75)"
      ]
     },
     "execution_count": 27,
     "metadata": {},
     "output_type": "execute_result"
    }
   ],
   "source": [
    "find_dominant_relationship(labels, plots_cs_prcs)"
   ]
  },
  {
   "cell_type": "code",
   "execution_count": 28,
   "metadata": {},
   "outputs": [],
   "source": [
    "Before=0\n",
    "Overlaps=0\n",
    "During=0\n",
    "Meets=0\n",
    "Starts=0\n",
    "Finishes=0\n",
    "Equals=0\n",
    "After=0\n",
    "\n",
    "for prcs in plots_cs_prcs:\n",
    "    if np.argmax(prcs)==0:\n",
    "        Before +=1 #.add(nl.symbols['Precentral_sulcus'])\n",
    "    elif np.argmax(prcs)==1:\n",
    "        Overlaps+=1\n",
    "    elif np.argmax(prcs)==2:\n",
    "        During+=1\n",
    "    elif np.argmax(prcs)==3:\n",
    "        Meets+=1\n",
    "    elif np.argmax(prcs)==4:\n",
    "        Starts+=1\n",
    "    elif np.argmax(prcs)==5:\n",
    "        Finishes+=1\n",
    "    elif np.argmax(prcs)==6:\n",
    "        Equals+=1\n",
    "    elif np.argmax(prcs)==7:\n",
    "        After+=1"
   ]
  },
  {
   "cell_type": "code",
   "execution_count": 29,
   "metadata": {},
   "outputs": [
    {
     "name": "stdout",
     "output_type": "stream",
     "text": [
      "Before\n"
     ]
    }
   ],
   "source": [
    "Relationships = {}\n",
    "\n",
    "Relationships['Before']=Before\n",
    "Relationships['Overlaps']=Overlaps\n",
    "Relationships['During']=During\n",
    "Relationships['Meets']=Meets\n",
    "Relationships['Starts']=Starts\n",
    "Relationships['Finishes']=Finishes\n",
    "Relationships['Equals']=Equals\n",
    "Relationships['After']=After\n",
    "\n",
    "inverse = [(value, key) for key, value in Relationships.items()]\n",
    "largest = max(inverse)[1]\n",
    "print (largest)"
   ]
  },
  {
   "cell_type": "code",
   "execution_count": 30,
   "metadata": {},
   "outputs": [],
   "source": [
    "before_final=set()\n",
    "before_final.add(nl.symbols['Precentral_sulcus'])\n",
    "before_dominant = nl.add_region_set(before_final, name='before_dominant')"
   ]
  },
  {
   "cell_type": "code",
   "execution_count": 31,
   "metadata": {},
   "outputs": [
    {
     "data": {
      "text/plain": [
       "before_dominant: typing.AbstractSet[neurolang.regions.Region] = ['Precentral_sulcus']"
      ]
     },
     "execution_count": 31,
     "metadata": {},
     "output_type": "execute_result"
    }
   ],
   "source": [
    "before_dominant"
   ]
  }
 ],
 "metadata": {
  "kernelspec": {
   "display_name": "Python 3",
   "language": "python",
   "name": "python3"
  },
  "language_info": {
   "codemirror_mode": {
    "name": "ipython",
    "version": 3
   },
   "file_extension": ".py",
   "mimetype": "text/x-python",
   "name": "python",
   "nbconvert_exporter": "python",
   "pygments_lexer": "ipython3",
   "version": "3.6.2"
  }
 },
 "nbformat": 4,
 "nbformat_minor": 2
}
