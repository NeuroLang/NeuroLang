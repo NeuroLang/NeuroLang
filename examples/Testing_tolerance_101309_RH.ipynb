{
 "cells": [
  {
   "cell_type": "code",
   "execution_count": 1,
   "metadata": {
    "scrolled": false
   },
   "outputs": [
    {
     "name": "stderr",
     "output_type": "stream",
     "text": [
      "/home/amachlou/miniconda3/envs/antonia/lib/python3.6/importlib/_bootstrap.py:205: ImportWarning: can't resolve package from __spec__ or __package__, falling back on __name__ and __path__\n",
      "  return f(*args, **kwds)\n",
      "/home/amachlou/git/neurolang/neurolang/expression_pattern_matching.py:54: UserWarning: Warning in class FirstOrderLogicSolver overwrites {'existential_predicate', 'universal_predicate'} from base GenericSolver[typing.Any]\n",
      "  warn(warn_message)\n",
      "/home/amachlou/miniconda3/envs/antonia/lib/python3.6/importlib/_bootstrap_external.py:426: ImportWarning: Not importing directory /home/amachlou/miniconda3/envs/antonia/lib/python3.6/site-packages/mpl_toolkits: missing __init__\n",
      "  _warnings.warn(msg.format(portions[0]), ImportWarning)\n",
      "/home/amachlou/miniconda3/envs/antonia/lib/python3.6/importlib/_bootstrap.py:205: RuntimeWarning: numpy.dtype size changed, may indicate binary incompatibility. Expected 96, got 88\n",
      "  return f(*args, **kwds)\n",
      "/home/amachlou/miniconda3/envs/antonia/lib/python3.6/importlib/_bootstrap.py:205: ImportWarning: can't resolve package from __spec__ or __package__, falling back on __name__ and __path__\n",
      "  return f(*args, **kwds)\n"
     ]
    }
   ],
   "source": [
    "import matplotlib\n",
    "%matplotlib inline\n",
    "import numpy as np\n",
    "from nilearn import datasets\n",
    "from nilearn import plotting\n",
    "import nibabel as nib\n",
    "\n",
    "from neurolang import frontend as fe"
   ]
  },
  {
   "cell_type": "markdown",
   "metadata": {},
   "source": [
    "Example of how to translate the sulci file\n",
    "\n",
    "`blender_obj_to_gifti -i 101309_L.obj -r 101309.L.pial.32k_fs_LR.surf.gii -o 101309.L.manual_drawings.func.gii`\n",
    "\n",
    "`blender_obj_to_gifti -i 101309_L.obj -r 101309.L.pial.32k_fs_LR.surf.gii -o 101309.L.manual_drawings.func.gii -p \".*(sulcus|fissure|Fissure|primus)*.\"`"
   ]
  },
  {
   "cell_type": "code",
   "execution_count": 2,
   "metadata": {},
   "outputs": [
    {
     "name": "stderr",
     "output_type": "stream",
     "text": [
      "/home/amachlou/miniconda3/envs/antonia/lib/python3.6/site-packages/numpy/lib/npyio.py:2278: VisibleDeprecationWarning: Reading unicode strings without specifying the encoding argument is deprecated. Set the encoding, use None for the system default.\n",
      "  output = genfromtxt(fname, **kwargs)\n"
     ]
    },
    {
     "data": {
      "text/plain": [
       "rec.array([(  0, b'Background'), (  1, b'L G_and_S_frontomargin'),\n",
       "           (  2, b'L G_and_S_occipital_inf'),\n",
       "           (  3, b'L G_and_S_paracentral'),\n",
       "           (  4, b'L G_and_S_subcentral'),\n",
       "           (  5, b'L G_and_S_transv_frontopol'),\n",
       "           (  6, b'L G_and_S_cingul-Ant'),\n",
       "           (  7, b'L G_and_S_cingul-Mid-Ant'),\n",
       "           (  8, b'L G_and_S_cingul-Mid-Post'),\n",
       "           (  9, b'L G_cingul-Post-dorsal'),\n",
       "           ( 10, b'L G_cingul-Post-ventral'), ( 11, b'L G_cuneus'),\n",
       "           ( 12, b'L G_front_inf-Opercular'),\n",
       "           ( 13, b'L G_front_inf-Orbital'),\n",
       "           ( 14, b'L G_front_inf-Triangul'), ( 15, b'L G_front_middle'),\n",
       "           ( 16, b'L G_front_sup'), ( 17, b'L G_Ins_lg_and_S_cent_ins'),\n",
       "           ( 18, b'L G_insular_short'), ( 19, b'L G_occipital_middle'),\n",
       "           ( 20, b'L G_occipital_sup'), ( 21, b'L G_oc-temp_lat-fusifor'),\n",
       "           ( 22, b'L G_oc-temp_med-Lingual'),\n",
       "           ( 23, b'L G_oc-temp_med-Parahip'), ( 24, b'L G_orbital'),\n",
       "           ( 25, b'L G_pariet_inf-Angular'),\n",
       "           ( 26, b'L G_pariet_inf-Supramar'), ( 27, b'L G_parietal_sup'),\n",
       "           ( 28, b'L G_postcentral'), ( 29, b'L G_precentral'),\n",
       "           ( 30, b'L G_precuneus'), ( 31, b'L G_rectus'),\n",
       "           ( 32, b'L G_subcallosal'), ( 33, b'L G_temp_sup-G_T_transv'),\n",
       "           ( 34, b'L G_temp_sup-Lateral'),\n",
       "           ( 35, b'L G_temp_sup-Plan_polar'),\n",
       "           ( 36, b'L G_temp_sup-Plan_tempo'), ( 37, b'L G_temporal_inf'),\n",
       "           ( 38, b'L G_temporal_middle'),\n",
       "           ( 39, b'L Lat_Fis-ant-Horizont'),\n",
       "           ( 40, b'L Lat_Fis-ant-Vertical'), ( 41, b'L Lat_Fis-post'),\n",
       "           ( 42, b'L Medial_wall'), ( 43, b'L Pole_occipital'),\n",
       "           ( 44, b'L Pole_temporal'), ( 45, b'L S_calcarine'),\n",
       "           ( 46, b'L S_central'), ( 47, b'L S_cingul-Marginalis'),\n",
       "           ( 48, b'L S_circular_insula_ant'),\n",
       "           ( 49, b'L S_circular_insula_inf'),\n",
       "           ( 50, b'L S_circular_insula_sup'),\n",
       "           ( 51, b'L S_collat_transv_ant'),\n",
       "           ( 52, b'L S_collat_transv_post'), ( 53, b'L S_front_inf'),\n",
       "           ( 54, b'L S_front_middle'), ( 55, b'L S_front_sup'),\n",
       "           ( 56, b'L S_interm_prim-Jensen'),\n",
       "           ( 57, b'L S_intrapariet_and_P_trans'),\n",
       "           ( 58, b'L S_oc_middle_and_Lunatus'),\n",
       "           ( 59, b'L S_oc_sup_and_transversal'),\n",
       "           ( 60, b'L S_occipital_ant'), ( 61, b'L S_oc-temp_lat'),\n",
       "           ( 62, b'L S_oc-temp_med_and_Lingual'),\n",
       "           ( 63, b'L S_orbital_lateral'),\n",
       "           ( 64, b'L S_orbital_med-olfact'),\n",
       "           ( 65, b'L S_orbital-H_Shaped'),\n",
       "           ( 66, b'L S_parieto_occipital'), ( 67, b'L S_pericallosal'),\n",
       "           ( 68, b'L S_postcentral'), ( 69, b'L S_precentral-inf-part'),\n",
       "           ( 70, b'L S_precentral-sup-part'), ( 71, b'L S_suborbital'),\n",
       "           ( 72, b'L S_subparietal'), ( 73, b'L S_temporal_inf'),\n",
       "           ( 74, b'L S_temporal_sup'), ( 75, b'L S_temporal_transverse'),\n",
       "           ( 76, b'R G_and_S_frontomargin'),\n",
       "           ( 77, b'R G_and_S_occipital_inf'),\n",
       "           ( 78, b'R G_and_S_paracentral'),\n",
       "           ( 79, b'R G_and_S_subcentral'),\n",
       "           ( 80, b'R G_and_S_transv_frontopol'),\n",
       "           ( 81, b'R G_and_S_cingul-Ant'),\n",
       "           ( 82, b'R G_and_S_cingul-Mid-Ant'),\n",
       "           ( 83, b'R G_and_S_cingul-Mid-Post'),\n",
       "           ( 84, b'R G_cingul-Post-dorsal'),\n",
       "           ( 85, b'R G_cingul-Post-ventral'), ( 86, b'R G_cuneus'),\n",
       "           ( 87, b'R G_front_inf-Opercular'),\n",
       "           ( 88, b'R G_front_inf-Orbital'),\n",
       "           ( 89, b'R G_front_inf-Triangul'), ( 90, b'R G_front_middle'),\n",
       "           ( 91, b'R G_front_sup'), ( 92, b'R G_Ins_lg_and_S_cent_ins'),\n",
       "           ( 93, b'R G_insular_short'), ( 94, b'R G_occipital_middle'),\n",
       "           ( 95, b'R G_occipital_sup'), ( 96, b'R G_oc-temp_lat-fusifor'),\n",
       "           ( 97, b'R G_oc-temp_med-Lingual'),\n",
       "           ( 98, b'R G_oc-temp_med-Parahip'), ( 99, b'R G_orbital'),\n",
       "           (100, b'R G_pariet_inf-Angular'),\n",
       "           (101, b'R G_pariet_inf-Supramar'), (102, b'R G_parietal_sup'),\n",
       "           (103, b'R G_postcentral'), (104, b'R G_precentral'),\n",
       "           (105, b'R G_precuneus'), (106, b'R G_rectus'),\n",
       "           (107, b'R G_subcallosal'), (108, b'R G_temp_sup-G_T_transv'),\n",
       "           (109, b'R G_temp_sup-Lateral'),\n",
       "           (110, b'R G_temp_sup-Plan_polar'),\n",
       "           (111, b'R G_temp_sup-Plan_tempo'), (112, b'R G_temporal_inf'),\n",
       "           (113, b'R G_temporal_middle'),\n",
       "           (114, b'R Lat_Fis-ant-Horizont'),\n",
       "           (115, b'R Lat_Fis-ant-Vertical'), (116, b'R Lat_Fis-post'),\n",
       "           (117, b'R Medial_wall'), (118, b'R Pole_occipital'),\n",
       "           (119, b'R Pole_temporal'), (120, b'R S_calcarine'),\n",
       "           (121, b'R S_central'), (122, b'R S_cingul-Marginalis'),\n",
       "           (123, b'R S_circular_insula_ant'),\n",
       "           (124, b'R S_circular_insula_inf'),\n",
       "           (125, b'R S_circular_insula_sup'),\n",
       "           (126, b'R S_collat_transv_ant'),\n",
       "           (127, b'R S_collat_transv_post'), (128, b'R S_front_inf'),\n",
       "           (129, b'R S_front_middle'), (130, b'R S_front_sup'),\n",
       "           (131, b'R S_interm_prim-Jensen'),\n",
       "           (132, b'R S_intrapariet_and_P_trans'),\n",
       "           (133, b'R S_oc_middle_and_Lunatus'),\n",
       "           (134, b'R S_oc_sup_and_transversal'),\n",
       "           (135, b'R S_occipital_ant'), (136, b'R S_oc-temp_lat'),\n",
       "           (137, b'R S_oc-temp_med_and_Lingual'),\n",
       "           (138, b'R S_orbital_lateral'),\n",
       "           (139, b'R S_orbital_med-olfact'),\n",
       "           (140, b'R S_orbital-H_Shaped'),\n",
       "           (141, b'R S_parieto_occipital'), (142, b'R S_pericallosal'),\n",
       "           (143, b'R S_postcentral'), (144, b'R S_precentral-inf-part'),\n",
       "           (145, b'R S_precentral-sup-part'), (146, b'R S_suborbital'),\n",
       "           (147, b'R S_subparietal'), (148, b'R S_temporal_inf'),\n",
       "           (149, b'R S_temporal_sup'), (150, b'R S_temporal_transverse')],\n",
       "          dtype=[('index', '<i8'), ('name', 'S27')])"
      ]
     },
     "execution_count": 2,
     "metadata": {},
     "output_type": "execute_result"
    }
   ],
   "source": [
    "destrieux_dataset = datasets.fetch_atlas_destrieux_2009()\n",
    "destrieux_map = nib.load(destrieux_dataset['maps'])\n",
    "destrieux_dataset['labels']"
   ]
  },
  {
   "cell_type": "code",
   "execution_count": 3,
   "metadata": {
    "scrolled": true
   },
   "outputs": [
    {
     "name": "stdout",
     "output_type": "stream",
     "text": [
      "Temporopolar_sulcus: number of points 38\n",
      "Anterior_horizontal_ramus_lateral_fissure: number of points 57\n",
      "Anterior_vertical_ramus_lateral_fissure: number of points 37\n",
      "Angular_sulcus: number of points 112\n",
      "Intermediate_primus_of_Jensen: number of points 209\n",
      "Callosomarginal_sulcus: number of points 121\n",
      "Orbital_H_shaped_sulcus: number of points 156\n",
      "Olfactory_sulcus: number of points 96\n",
      "Superior_rostral_sulcus: number of points 40\n",
      "Superior_parietal_sulcus: number of points 145\n",
      "Superior_occipital_sulcus: number of points 176\n",
      "Superior_frontal_sulcus: number of points 420\n",
      "Superior_temporal_sulcus: number of points 451\n",
      "Subparietal_sulcus: number of points 199\n",
      "Rhinal_sulcus: number of points 55\n",
      "Precentral_sulcus: number of points 580\n",
      "Postcentral_sulcus: number of points 634\n",
      "Parieto_occipital_sulcus: number of points 208\n",
      "Paracingulate_sulcus: number of points 683\n",
      "Paracentral_sulcus: number of points 81\n",
      "Occipitotemporal_sulcus: number of points 443\n",
      "Anterior_occipital_sulcus: number of points 50\n",
      "Middle_frontal_sulcus: number of points 141\n",
      "Lunate_sulcus: number of points 132\n",
      "Lateral_occipital_sulcus: number of points 61\n",
      "Lateral_fissure: number of points 582\n",
      "Intraparietal_sulcus: number of points 289\n",
      "Intralingual_sulcus: number of points 63\n",
      "Inferior_temporal_sulcus: number of points 262\n",
      "Inferior_occipital_sulcus: number of points 110\n",
      "Inferior_frontal_sulcus: number of points 291\n",
      "Hippocampal_sulcus: number of points 235\n",
      "Frontomarginal_sulcus: number of points 49\n",
      "Cuneal_sulcus: number of points 37\n",
      "Collateral_sulcus: number of points 246\n",
      "Cingulate_sulcus: number of points 481\n",
      "Central_sulcus: number of points 536\n",
      "Callosal_sulcus: number of points 389\n",
      "Calcarine_sulcus: number of points 207\n",
      "Retrocalcarine_sulcus: number of points 49\n"
     ]
    },
    {
     "name": "stderr",
     "output_type": "stream",
     "text": [
      "/home/amachlou/miniconda3/envs/antonia/lib/python3.6/site-packages/nibabel/gifti/parse_gifti_fast.py:62: DeprecationWarning: The binary mode of fromstring is deprecated, as it behaves surprisingly on unicode inputs. Use frombuffer instead\n",
      "  newarr = np.fromstring(zdec, dtype=dt)\n",
      "/home/amachlou/miniconda3/envs/antonia/lib/python3.6/site-packages/nibabel/gifti/gifti.py:760: ResourceWarning: unclosed file <_io.BufferedReader name='101309.R.pial.32k_fs_LR.surf.gii'>\n",
      "  parser.parse(fptr=file_map['image'].get_prepare_fileobj('rb'))\n",
      "/home/amachlou/miniconda3/envs/antonia/lib/python3.6/site-packages/nibabel/gifti/gifti.py:760: ResourceWarning: unclosed file <_io.BufferedReader name='101309_R_manual_segmentation.func.gii'>\n",
      "  parser.parse(fptr=file_map['image'].get_prepare_fileobj('rb'))\n"
     ]
    }
   ],
   "source": [
    "surface = nib.load('101309.R.pial.32k_fs_LR.surf.gii')\n",
    "vertices = surface.darrays[0].data\n",
    "manual_sulci_gii = nib.load('101309_R_manual_segmentation.func.gii')\n",
    "manual_sulci = dict()\n",
    "for darray in manual_sulci_gii.darrays:\n",
    "    name = darray.meta.metadata['Name']\n",
    "    name = name[:name.rfind('_')]\n",
    "    points = vertices[darray.data.nonzero()]\n",
    "    manual_sulci[name] = points\n",
    "    print(f\"{name}: number of points {points.shape[0]}\")"
   ]
  },
  {
   "cell_type": "code",
   "execution_count": 4,
   "metadata": {},
   "outputs": [],
   "source": [
    "nl = fe.RegionFrontend()\n",
    "\n",
    "for name, points in manual_sulci.items():\n",
    "    ijk_points = nib.affines.apply_affine(np.linalg.inv(destrieux_map.affine), points).astype(int)\n",
    "    region = fe.ExplicitVBR(\n",
    "        ijk_points,\n",
    "        destrieux_map.affine,\n",
    "        img_dim=destrieux_map.shape\n",
    "    )\n",
    "    nl.add_region(region, result_symbol_name=f'manual_{name}')"
   ]
  },
  {
   "cell_type": "markdown",
   "metadata": {},
   "source": [
    "# Surfaces\n"
   ]
  },
  {
   "cell_type": "code",
   "execution_count": 9,
   "metadata": {},
   "outputs": [],
   "source": [
    "Medial_surface_sulci = set()\n",
    "Lateral_surface_sulci = set()\n",
    "Ventral_surface_sulci = set()\n",
    "\n",
    "for manual_sulcus_name in nl.region_names:\n",
    "    if ('Callos' in manual_sulcus_name\n",
    "        or 'Parieto_occipital' in manual_sulcus_name\n",
    "        or 'Cingulate' in manual_sulcus_name \n",
    "        or 'alcarine' in manual_sulcus_name \n",
    "        or 'Marginal' in manual_sulcus_name\n",
    "        or 'Paracingulate' in manual_sulcus_name\n",
    "        or 'Superior_rostral' in manual_sulcus_name\n",
    "        or 'Paracentral' in manual_sulcus_name\n",
    "        or 'Subparietal' in manual_sulcus_name\n",
    "        or 'Cuneal' in manual_sulcus_name\n",
    "        or 'Intralingual' in manual_sulcus_name\n",
    "        or 'Medial_frontal' in manual_sulcus_name):\n",
    "        Medial_surface_sulci.add(nl.symbols[manual_sulcus_name])\n",
    "    elif ('Central' in manual_sulcus_name\n",
    "        or 'ateral_fissure' in manual_sulcus_name\n",
    "        or 'Precentral' in manual_sulcus_name\n",
    "        or 'Postcentral' in manual_sulcus_name \n",
    "        or 'Superior_frontal' in manual_sulcus_name \n",
    "        or 'Inferior_frontal' in manual_sulcus_name\n",
    "        or 'Middle_frontal' in manual_sulcus_name\n",
    "        or 'Frontomarginal' in manual_sulcus_name\n",
    "        or 'subcentral' in manual_sulcus_name\n",
    "        or 'Intraparietal' in manual_sulcus_name\n",
    "        or 'Intermediate_primus' in manual_sulcus_name\n",
    "        or 'Superior_parietal' in manual_sulcus_name\n",
    "        or 'Superior_occipital' in manual_sulcus_name\n",
    "        or 'Inferior_occipital' in manual_sulcus_name \n",
    "        or 'Lateral_occipital' in manual_sulcus_name \n",
    "        or 'Lunate' in manual_sulcus_name\n",
    "        or 'Superior_temporal' in manual_sulcus_name\n",
    "        or 'Inferior_temporal' in manual_sulcus_name\n",
    "        or 'Anterior_occipital' in manual_sulcus_name\n",
    "        or 'Angular' in manual_sulcus_name\n",
    "        or 'Medial_frontal' in manual_sulcus_name):\n",
    "        Lateral_surface_sulci.add(nl.symbols[manual_sulcus_name])\n",
    "    elif ('Occipitotemporal' in manual_sulcus_name\n",
    "        or 'Collateral' in manual_sulcus_name\n",
    "        or 'Rhinal' in manual_sulcus_name \n",
    "        or 'Parahippocampal' in manual_sulcus_name \n",
    "        or 'Hippocampal' in manual_sulcus_name\n",
    "        or 'Olfactory' in manual_sulcus_name\n",
    "        or 'Temporopolar' in manual_sulcus_name\n",
    "        or 'Orbital' in manual_sulcus_name):\n",
    "        Ventral_surface_sulci.add(nl.symbols[manual_sulcus_name])\n",
    "    else:\n",
    "        print(manual_sulcus_name)"
   ]
  },
  {
   "cell_type": "code",
   "execution_count": 10,
   "metadata": {},
   "outputs": [],
   "source": [
    "lateral_sulci = nl.add_region_set(Lateral_surface_sulci, name='lateral_sulci')\n",
    "medial_sulci = nl.add_region_set(Medial_surface_sulci, name='medial_sulci')\n",
    "ventral_sulci = nl.add_region_set(Ventral_surface_sulci, name='ventral_sulci')"
   ]
  },
  {
   "cell_type": "markdown",
   "metadata": {},
   "source": [
    "# Testing tolerance\n"
   ]
  },
  {
   "cell_type": "markdown",
   "metadata": {},
   "source": [
    "### Anteriority/Posteriority"
   ]
  },
  {
   "cell_type": "code",
   "execution_count": 39,
   "metadata": {},
   "outputs": [],
   "source": [
    "def tolerance_y(ys_origin_sulcus, ys_target_sulcus, length):\n",
    "    # we consider I the origin\n",
    "    before=set()\n",
    "    overlaps=set()\n",
    "    during=set()\n",
    "    meets=set()\n",
    "    starts=set()\n",
    "    finishes=set()\n",
    "    equals=set()\n",
    "    J_minus = min(ys_target_sulcus)\n",
    "    J_plus = max(ys_target_sulcus) + length\n",
    "    \n",
    "    I_boxes = set(ys_origin_sulcus)\n",
    "    for x in I_boxes:\n",
    "        I_minus = x\n",
    "        I_plus = I_minus + length\n",
    "        \n",
    "        if I_minus < I_plus < J_minus < J_plus:\n",
    "            before.add(x)\n",
    "        if I_minus < J_minus < I_plus < J_plus:\n",
    "            overlaps.add(x)\n",
    "        if J_minus < I_minus < I_plus < J_plus:\n",
    "            during.add(x)\n",
    "        if I_minus < (I_plus==J_minus) < J_plus:\n",
    "            meets.add(x)\n",
    "        if (I_minus==J_minus) < I_plus < J_plus:\n",
    "            starts.add(x)\n",
    "        if J_minus < I_minus < (I_plus==J_plus):\n",
    "            finishes.add(x)\n",
    "        if (I_minus==J_minus) < (I_plus==J_plus):\n",
    "            equals.add(x)\n",
    "        \n",
    "    \n",
    "    print('before', len(before) / len(I_boxes) * 100)\n",
    "    print('overlaps', len(overlaps) / len(I_boxes) * 100)\n",
    "    print('during', len(during) / len(I_boxes) * 100)\n",
    "    print('meets', len(meets) / len(I_boxes) * 100)\n",
    "    print('starts', len(starts) / len(I_boxes) * 100)\n",
    "    print('finishes', len(finishes) / len(I_boxes) * 100)\n",
    "    print('equals', len(equals) / len(I_boxes) * 100)"
   ]
  },
  {
   "cell_type": "code",
   "execution_count": 40,
   "metadata": {},
   "outputs": [
    {
     "name": "stdout",
     "output_type": "stream",
     "text": [
      "before 43.13725490196079\n",
      "overlaps 0.0\n",
      "during 56.86274509803921\n",
      "meets 95.68627450980392\n",
      "starts 4.313725490196078\n",
      "finishes 52.54901960784314\n",
      "equals 0.0\n"
     ]
    }
   ],
   "source": [
    "prcs_anteriority= tolerance_y(cs_y.round(1), prcs_y.round(1), length=.1)"
   ]
  },
  {
   "cell_type": "code",
   "execution_count": 25,
   "metadata": {},
   "outputs": [
    {
     "ename": "NameError",
     "evalue": "name 'tolerance_y' is not defined",
     "output_type": "error",
     "traceback": [
      "\u001b[0;31m---------------------------------------------------------------------------\u001b[0m",
      "\u001b[0;31mNameError\u001b[0m                                 Traceback (most recent call last)",
      "\u001b[0;32m<ipython-input-25-18e9116b2be6>\u001b[0m in \u001b[0;36m<module>\u001b[0;34m()\u001b[0m\n\u001b[0;32m----> 1\u001b[0;31m \u001b[0mpocs_posteriority\u001b[0m\u001b[0;34m=\u001b[0m\u001b[0mtolerance_y\u001b[0m\u001b[0;34m(\u001b[0m\u001b[0mcs_y\u001b[0m\u001b[0;34m.\u001b[0m\u001b[0mround\u001b[0m\u001b[0;34m(\u001b[0m\u001b[0;36m1\u001b[0m\u001b[0;34m)\u001b[0m\u001b[0;34m,\u001b[0m \u001b[0mpocs_y\u001b[0m\u001b[0;34m.\u001b[0m\u001b[0mround\u001b[0m\u001b[0;34m(\u001b[0m\u001b[0;36m1\u001b[0m\u001b[0;34m)\u001b[0m\u001b[0;34m,\u001b[0m \u001b[0mlength\u001b[0m\u001b[0;34m=\u001b[0m\u001b[0;36m.1\u001b[0m\u001b[0;34m)\u001b[0m\u001b[0;34m\u001b[0m\u001b[0m\n\u001b[0m",
      "\u001b[0;31mNameError\u001b[0m: name 'tolerance_y' is not defined"
     ]
    }
   ],
   "source": [
    "pocs_posteriority=tolerance_y(cs_y.round(1), pocs_y.round(1), length=.1)"
   ]
  },
  {
   "cell_type": "code",
   "execution_count": 17,
   "metadata": {},
   "outputs": [],
   "source": [
    "def tolerance_y_2(ys_origin_sulcus, ys_target_sulcus, length):\n",
    "    # we consider I the origin\n",
    "    before=set()\n",
    "    overlaps=set()\n",
    "    during=set()\n",
    "    meets=set()\n",
    "    starts=set()\n",
    "    finishes=set()\n",
    "    equals=set()\n",
    "    after=set()\n",
    "    J_minus = min(ys_target_sulcus)\n",
    "    print('J-:', J_minus)\n",
    "    J_plus = max(ys_target_sulcus) + length\n",
    "    print('J+:', J_plus)\n",
    "    \n",
    "    I_boxes = set(ys_origin_sulcus)\n",
    "    for x in I_boxes:\n",
    "        I_minus = x\n",
    "        I_plus = I_minus + length\n",
    "        \n",
    "        if I_minus < I_plus < J_minus < J_plus:\n",
    "            before.add(x)\n",
    "        if I_minus < J_minus < I_plus < J_plus:\n",
    "            overlaps.add(x)\n",
    "        if J_minus < I_minus < I_plus < J_plus:\n",
    "            during.add(x)\n",
    "        if I_minus < I_plus == J_minus < J_plus:\n",
    "            meets.add(x)\n",
    "        if I_minus == J_minus < I_plus < J_plus:\n",
    "            starts.add(x)\n",
    "        if J_minus < I_minus < I_plus == J_plus:\n",
    "            finishes.add(x)\n",
    "        if I_minus == J_minus < I_plus == J_plus:\n",
    "            equals.add(x)\n",
    "        if J_minus < J_plus < I_minus < I_plus:\n",
    "            after.add(x)\n",
    "        \n",
    "    \n",
    "    print('before', len(before) / len(I_boxes) * 100)\n",
    "    print('overlaps', len(overlaps) / len(I_boxes) * 100)\n",
    "    print('during', len(during) / len(I_boxes) * 100)\n",
    "    print('meets', len(meets) / len(I_boxes) * 100)\n",
    "    print('starts', len(starts) / len(I_boxes) * 100)\n",
    "    print('finishes', len(finishes) / len(I_boxes) * 100)\n",
    "    print('equals', len(equals) / len(I_boxes) * 100)\n",
    "    print('after', len(after) / len(I_boxes) * 100)\n",
    "    \n",
    "    if (len(before) / len(I_boxes))>=0.8:\n",
    "        print('Anterior of')\n",
    "    if (len(after) / len(I_boxes))>=0.8:\n",
    "        print('Posterior of')     \n",
    "    if (len(during) / len(I_boxes))>=0.8:\n",
    "        print('During')"
   ]
  },
  {
   "cell_type": "code",
   "execution_count": 18,
   "metadata": {},
   "outputs": [],
   "source": [
    "cs_y = manual_sulci['Central_sulcus'].T[1]"
   ]
  },
  {
   "cell_type": "code",
   "execution_count": 19,
   "metadata": {},
   "outputs": [],
   "source": [
    "call_y = manual_sulci['Callosal_sulcus'].T[1]"
   ]
  },
  {
   "cell_type": "code",
   "execution_count": 20,
   "metadata": {},
   "outputs": [],
   "source": [
    "lf_y = manual_sulci['Lateral_fissure'].T[1]"
   ]
  },
  {
   "cell_type": "markdown",
   "metadata": {},
   "source": [
    "### Lateral surface"
   ]
  },
  {
   "cell_type": "code",
   "execution_count": 21,
   "metadata": {},
   "outputs": [
    {
     "name": "stdout",
     "output_type": "stream",
     "text": [
      "J-: -33.0\n",
      "J+: 32.199998474121095\n",
      "before 5.490196078431373\n",
      "overlaps 0.39215686274509803\n",
      "during 93.72549019607843\n",
      "meets 0.0\n",
      "starts 0.39215686274509803\n",
      "finishes 0.0\n",
      "equals 0.0\n",
      "after 0.0\n",
      "During\n"
     ]
    }
   ],
   "source": [
    "lf_anteriority=tolerance_y_2(cs_y.round(1), lf_y.round(1), length=.1)"
   ]
  },
  {
   "cell_type": "code",
   "execution_count": 22,
   "metadata": {},
   "outputs": [],
   "source": [
    "prcs_y = manual_sulci['Precentral_sulcus'].T[1]"
   ]
  },
  {
   "cell_type": "code",
   "execution_count": 23,
   "metadata": {},
   "outputs": [
    {
     "name": "stdout",
     "output_type": "stream",
     "text": [
      "J-: -21.3\n",
      "J+: 13.6\n",
      "before 43.13725490196079\n",
      "overlaps 0.0\n",
      "during 56.86274509803921\n",
      "meets 0.0\n",
      "starts 0.0\n",
      "finishes 0.0\n",
      "equals 0.0\n",
      "after 0.0\n"
     ]
    }
   ],
   "source": [
    "prcs_anteriority_2= tolerance_y_2(cs_y.round(1), prcs_y.round(1), length=.1)"
   ]
  },
  {
   "cell_type": "code",
   "execution_count": 29,
   "metadata": {},
   "outputs": [],
   "source": [
    "pocs_y = manual_sulci['Postcentral_sulcus'].T[1]"
   ]
  },
  {
   "cell_type": "code",
   "execution_count": 30,
   "metadata": {},
   "outputs": [
    {
     "name": "stdout",
     "output_type": "stream",
     "text": [
      "J-: -35.0\n",
      "J+: 2.6999999046325684\n",
      "before 44.106463878327\n",
      "overlaps 0.38022813688212925\n",
      "during 55.13307984790875\n",
      "meets 0.0\n",
      "starts 0.38022813688212925\n",
      "finishes 0.0\n",
      "equals 0.0\n",
      "after 0.0\n"
     ]
    }
   ],
   "source": [
    "pocs_posteriority_2=tolerance_y_2(pocs_y.round(1), cs_y.round(1), length=.1)"
   ]
  },
  {
   "cell_type": "code",
   "execution_count": 31,
   "metadata": {},
   "outputs": [],
   "source": [
    "fms_y = manual_sulci['Frontomarginal_sulcus'].T[1]"
   ]
  },
  {
   "cell_type": "code",
   "execution_count": 32,
   "metadata": {},
   "outputs": [
    {
     "name": "stdout",
     "output_type": "stream",
     "text": [
      "J-: 54.1\n",
      "J+: 67.1\n",
      "before 100.0\n",
      "overlaps 0.0\n",
      "during 0.0\n",
      "meets 0.0\n",
      "starts 0.0\n",
      "finishes 0.0\n",
      "equals 0.0\n",
      "after 0.0\n",
      "Anterior of\n"
     ]
    }
   ],
   "source": [
    "fms_anteriority_2=tolerance_y_2(cs_y.round(1), fms_y.round(1), length=.1)"
   ]
  },
  {
   "cell_type": "code",
   "execution_count": 33,
   "metadata": {},
   "outputs": [],
   "source": [
    "sfs_y = manual_sulci['Superior_frontal_sulcus'].T[1]"
   ]
  },
  {
   "cell_type": "code",
   "execution_count": 34,
   "metadata": {},
   "outputs": [
    {
     "name": "stdout",
     "output_type": "stream",
     "text": [
      "J-: -4.2\n",
      "J+: 62.800000762939455\n",
      "before 85.09803921568627\n",
      "overlaps 0.0\n",
      "during 14.50980392156863\n",
      "meets 0.0\n",
      "starts 0.39215686274509803\n",
      "finishes 0.0\n",
      "equals 0.0\n",
      "after 0.0\n",
      "Anterior of\n"
     ]
    }
   ],
   "source": [
    "sfs_anteriority_2=tolerance_y_2(cs_y.round(1), sfs_y.round(1), length=.1)"
   ]
  },
  {
   "cell_type": "code",
   "execution_count": 35,
   "metadata": {},
   "outputs": [
    {
     "name": "stdout",
     "output_type": "stream",
     "text": [
      "J-: -4.2\n",
      "J+: 62.800000762939455\n",
      "before 43.873517786561266\n",
      "overlaps 0.0\n",
      "during 55.73122529644269\n",
      "meets 0.0\n",
      "starts 0.3952569169960474\n",
      "finishes 0.0\n",
      "equals 0.0\n",
      "after 0.0\n"
     ]
    }
   ],
   "source": [
    "sfs_from_prcs_anteriority_2=tolerance_y_2(prcs_y.round(1), sfs_y.round(1), length=.1)"
   ]
  },
  {
   "cell_type": "code",
   "execution_count": 36,
   "metadata": {},
   "outputs": [],
   "source": [
    "ifs_y = manual_sulci['Inferior_frontal_sulcus'].T[1]"
   ]
  },
  {
   "cell_type": "code",
   "execution_count": 37,
   "metadata": {},
   "outputs": [
    {
     "name": "stdout",
     "output_type": "stream",
     "text": [
      "J-: 6.6\n",
      "J+: 63.199998474121095\n",
      "before 100.0\n",
      "overlaps 0.0\n",
      "during 0.0\n",
      "meets 0.0\n",
      "starts 0.0\n",
      "finishes 0.0\n",
      "equals 0.0\n",
      "after 0.0\n",
      "Anterior of\n"
     ]
    }
   ],
   "source": [
    "ifs_anteriority_2=tolerance_y_2(cs_y.round(1), ifs_y.round(1), length=.1)"
   ]
  },
  {
   "cell_type": "code",
   "execution_count": 38,
   "metadata": {},
   "outputs": [
    {
     "name": "stdout",
     "output_type": "stream",
     "text": [
      "J-: 6.6\n",
      "J+: 63.199998474121095\n",
      "before 76.28458498023716\n",
      "overlaps 0.3952569169960474\n",
      "during 22.92490118577075\n",
      "meets 0.0\n",
      "starts 0.3952569169960474\n",
      "finishes 0.0\n",
      "equals 0.0\n",
      "after 0.0\n"
     ]
    }
   ],
   "source": [
    "ifs_from_prcs_anteriority_2=tolerance_y_2(prcs_y.round(1), ifs_y.round(1), length=.1)"
   ]
  },
  {
   "cell_type": "code",
   "execution_count": 39,
   "metadata": {},
   "outputs": [],
   "source": [
    "avrlf_y=manual_sulci['Anterior_vertical_ramus_lateral_fissure'].T[1]"
   ]
  },
  {
   "cell_type": "code",
   "execution_count": 40,
   "metadata": {
    "scrolled": true
   },
   "outputs": [
    {
     "name": "stdout",
     "output_type": "stream",
     "text": [
      "J-: 25.2\n",
      "J+: 28.700000381469728\n",
      "before 90.29411764705883\n",
      "overlaps 0.0\n",
      "during 2.941176470588235\n",
      "meets 0.0\n",
      "starts 0.0\n",
      "finishes 0.29411764705882354\n",
      "equals 0.0\n",
      "after 6.470588235294119\n",
      "Anterior of\n"
     ]
    }
   ],
   "source": [
    "avrlf_anteriority_2=tolerance_y_2(lf_y.round(1), avrlf_y.round(1), length=.1)"
   ]
  },
  {
   "cell_type": "code",
   "execution_count": 41,
   "metadata": {},
   "outputs": [],
   "source": [
    "ips_y=manual_sulci['Intraparietal_sulcus'].T[1]"
   ]
  },
  {
   "cell_type": "code",
   "execution_count": 42,
   "metadata": {
    "scrolled": true
   },
   "outputs": [
    {
     "name": "stdout",
     "output_type": "stream",
     "text": [
      "J-: -66.1\n",
      "J+: -33.300001525878905\n",
      "before 0.0\n",
      "overlaps 0.0\n",
      "during 50.57034220532319\n",
      "meets 0.0\n",
      "starts 0.0\n",
      "finishes 0.38022813688212925\n",
      "equals 0.0\n",
      "after 49.049429657794676\n"
     ]
    }
   ],
   "source": [
    "ips_anteriority_2=tolerance_y_2(pocs_y.round(1), ips_y.round(1), length=.1)"
   ]
  },
  {
   "cell_type": "code",
   "execution_count": 43,
   "metadata": {},
   "outputs": [],
   "source": [
    "ipoj_y=manual_sulci['Intermediate_primus_of_Jensen'].T[1]"
   ]
  },
  {
   "cell_type": "code",
   "execution_count": 44,
   "metadata": {
    "scrolled": true
   },
   "outputs": [
    {
     "name": "stdout",
     "output_type": "stream",
     "text": [
      "J-: -52.3\n",
      "J+: -39.49999847412109\n",
      "before 0.0\n",
      "overlaps 0.0\n",
      "during 0.0\n",
      "meets 0.0\n",
      "starts 0.0\n",
      "finishes 0.0\n",
      "equals 0.0\n",
      "after 100.0\n",
      "Posterior of\n"
     ]
    }
   ],
   "source": [
    "ipoj_anteriority_2=tolerance_y_2(lf_y.round(1), ipoj_y.round(1), length=.1)"
   ]
  },
  {
   "cell_type": "code",
   "execution_count": 45,
   "metadata": {},
   "outputs": [],
   "source": [
    "ang_y=manual_sulci['Angular_sulcus'].T[1]"
   ]
  },
  {
   "cell_type": "code",
   "execution_count": 46,
   "metadata": {
    "scrolled": true
   },
   "outputs": [
    {
     "name": "stdout",
     "output_type": "stream",
     "text": [
      "J-: -71.0\n",
      "J+: -51.800001525878905\n",
      "before 0.0\n",
      "overlaps 0.0\n",
      "during 0.0\n",
      "meets 0.0\n",
      "starts 0.0\n",
      "finishes 0.0\n",
      "equals 0.0\n",
      "after 100.0\n",
      "Posterior of\n"
     ]
    }
   ],
   "source": [
    "ang_anteriority_2=tolerance_y_2(lf_y.round(1), ang_y.round(1), length=.1)"
   ]
  },
  {
   "cell_type": "code",
   "execution_count": 47,
   "metadata": {},
   "outputs": [],
   "source": [
    "sts_y=manual_sulci['Superior_temporal_sulcus'].T[1]"
   ]
  },
  {
   "cell_type": "code",
   "execution_count": 48,
   "metadata": {},
   "outputs": [
    {
     "name": "stdout",
     "output_type": "stream",
     "text": [
      "J-: -52.8\n",
      "J+: 21.300000762939455\n",
      "before 0.0\n",
      "overlaps 0.0\n",
      "during 83.82352941176471\n",
      "meets 0.0\n",
      "starts 0.0\n",
      "finishes 0.0\n",
      "equals 0.0\n",
      "after 16.176470588235293\n",
      "During\n"
     ]
    }
   ],
   "source": [
    "sts_anteriority_2=tolerance_y_2(lf_y.round(1), sts_y.round(1), length=.1)"
   ]
  },
  {
   "cell_type": "code",
   "execution_count": 49,
   "metadata": {},
   "outputs": [],
   "source": [
    "its_y=manual_sulci['Inferior_temporal_sulcus'].T[1]"
   ]
  },
  {
   "cell_type": "code",
   "execution_count": 50,
   "metadata": {},
   "outputs": [],
   "source": [
    "ios_y=manual_sulci['Inferior_occipital_sulcus'].T[1]"
   ]
  },
  {
   "cell_type": "code",
   "execution_count": 51,
   "metadata": {},
   "outputs": [],
   "source": [
    "aos_y=manual_sulci['Anterior_occipital_sulcus'].T[1]"
   ]
  },
  {
   "cell_type": "code",
   "execution_count": 52,
   "metadata": {},
   "outputs": [
    {
     "name": "stdout",
     "output_type": "stream",
     "text": [
      "J-: -69.5\n",
      "J+: -52.9\n",
      "before 0.0\n",
      "overlaps 0.0\n",
      "during 7.804878048780488\n",
      "meets 0.0\n",
      "starts 0.0\n",
      "finishes 0.0\n",
      "equals 0.0\n",
      "after 92.19512195121952\n",
      "Posterior of\n"
     ]
    }
   ],
   "source": [
    "aos_anteriority_2=tolerance_y_2(its_y.round(1), aos_y.round(1), length=.1)"
   ]
  },
  {
   "cell_type": "code",
   "execution_count": 53,
   "metadata": {},
   "outputs": [],
   "source": [
    "sos_y=manual_sulci['Superior_occipital_sulcus'].T[1]"
   ]
  },
  {
   "cell_type": "code",
   "execution_count": 54,
   "metadata": {},
   "outputs": [
    {
     "name": "stdout",
     "output_type": "stream",
     "text": [
      "J-: -90.1\n",
      "J+: -59.60000076293945\n",
      "before 0.0\n",
      "overlaps 0.0\n",
      "during 31.097560975609756\n",
      "meets 0.0\n",
      "starts 0.0\n",
      "finishes 0.6097560975609756\n",
      "equals 0.0\n",
      "after 68.29268292682927\n"
     ]
    }
   ],
   "source": [
    "sos_posterior=tolerance_y_2(ips_y.round(1), sos_y.round(1), length=0.1)"
   ]
  },
  {
   "cell_type": "markdown",
   "metadata": {},
   "source": [
    "### Medial surface"
   ]
  },
  {
   "cell_type": "code",
   "execution_count": 55,
   "metadata": {},
   "outputs": [],
   "source": [
    "pos_y = manual_sulci['Parieto_occipital_sulcus'].T[1]"
   ]
  },
  {
   "cell_type": "code",
   "execution_count": 56,
   "metadata": {},
   "outputs": [
    {
     "name": "stdout",
     "output_type": "stream",
     "text": [
      "J-: -78.5\n",
      "J+: -57.4\n",
      "before 0.0\n",
      "overlaps 0.0\n",
      "during 0.0\n",
      "meets 0.0\n",
      "starts 0.0\n",
      "finishes 0.0\n",
      "equals 0.0\n",
      "after 100.0\n",
      "Posterior of\n"
     ]
    }
   ],
   "source": [
    "pos_anteriority=tolerance_y_2(call_y.round(1), pos_y.round(1), length=.1)"
   ]
  },
  {
   "cell_type": "code",
   "execution_count": 57,
   "metadata": {},
   "outputs": [
    {
     "name": "stdout",
     "output_type": "stream",
     "text": [
      "J-: -45.9\n",
      "J+: 36.89999923706055\n",
      "before 0.0\n",
      "overlaps 0.0\n",
      "during 100.0\n",
      "meets 0.0\n",
      "starts 0.0\n",
      "finishes 0.0\n",
      "equals 0.0\n",
      "after 0.0\n",
      "During\n"
     ]
    }
   ],
   "source": [
    "call_anteriority_2=tolerance_y_2(cs_y.round(1), call_y.round(1), length=.1)"
   ]
  },
  {
   "cell_type": "code",
   "execution_count": 58,
   "metadata": {},
   "outputs": [],
   "source": [
    "calc_y = manual_sulci['Calcarine_sulcus'].T[1]"
   ]
  },
  {
   "cell_type": "code",
   "execution_count": 59,
   "metadata": {},
   "outputs": [
    {
     "name": "stdout",
     "output_type": "stream",
     "text": [
      "J-: -95.3\n",
      "J+: -41.99999847412109\n",
      "before 0.0\n",
      "overlaps 0.0\n",
      "during 9.688581314878892\n",
      "meets 0.0\n",
      "starts 0.0\n",
      "finishes 0.0\n",
      "equals 0.0\n",
      "after 89.96539792387543\n",
      "Posterior of\n"
     ]
    }
   ],
   "source": [
    "calc_anteriority_2=tolerance_y_2(call_y.round(1), calc_y.round(1), length=.1)"
   ]
  },
  {
   "cell_type": "code",
   "execution_count": 60,
   "metadata": {},
   "outputs": [],
   "source": [
    "cing_y = manual_sulci['Cingulate_sulcus'].T[1]"
   ]
  },
  {
   "cell_type": "code",
   "execution_count": 61,
   "metadata": {},
   "outputs": [
    {
     "name": "stdout",
     "output_type": "stream",
     "text": [
      "J-: -36.1\n",
      "J+: 45.6\n",
      "before 0.0\n",
      "overlaps 0.0\n",
      "during 100.0\n",
      "meets 0.0\n",
      "starts 0.0\n",
      "finishes 0.0\n",
      "equals 0.0\n",
      "after 0.0\n",
      "During\n"
     ]
    }
   ],
   "source": [
    "cing_anteriority_2=tolerance_y_2(cs_y.round(1), cing_y.round(1), length=.1)"
   ]
  },
  {
   "cell_type": "code",
   "execution_count": 62,
   "metadata": {},
   "outputs": [],
   "source": [
    "paracing_y = manual_sulci['Paracingulate_sulcus'].T[1]"
   ]
  },
  {
   "cell_type": "code",
   "execution_count": 63,
   "metadata": {},
   "outputs": [
    {
     "name": "stdout",
     "output_type": "stream",
     "text": [
      "J-: -17.1\n",
      "J+: 68.1\n",
      "before 49.411764705882355\n",
      "overlaps 0.0\n",
      "during 50.19607843137255\n",
      "meets 0.0\n",
      "starts 0.39215686274509803\n",
      "finishes 0.0\n",
      "equals 0.0\n",
      "after 0.0\n"
     ]
    }
   ],
   "source": [
    "paracing_anteriority_2=tolerance_y_2(cs_y.round(1), paracing_y.round(1), length=.1)"
   ]
  },
  {
   "cell_type": "code",
   "execution_count": 64,
   "metadata": {},
   "outputs": [],
   "source": [
    "srs_y = manual_sulci['Superior_rostral_sulcus'].T[1]"
   ]
  },
  {
   "cell_type": "code",
   "execution_count": 65,
   "metadata": {},
   "outputs": [
    {
     "name": "stdout",
     "output_type": "stream",
     "text": [
      "J-: 40.6\n",
      "J+: 60.199998474121095\n",
      "before 100.0\n",
      "overlaps 0.0\n",
      "during 0.0\n",
      "meets 0.0\n",
      "starts 0.0\n",
      "finishes 0.0\n",
      "equals 0.0\n",
      "after 0.0\n",
      "Anterior of\n"
     ]
    }
   ],
   "source": [
    "srs_anteriority_2=tolerance_y_2(cs_y.round(1), srs_y.round(1), length=.1)"
   ]
  },
  {
   "cell_type": "code",
   "execution_count": 66,
   "metadata": {},
   "outputs": [],
   "source": [
    "subp_y = manual_sulci['Subparietal_sulcus'].T[1]"
   ]
  },
  {
   "cell_type": "code",
   "execution_count": 67,
   "metadata": {},
   "outputs": [
    {
     "name": "stdout",
     "output_type": "stream",
     "text": [
      "J-: -68.8\n",
      "J+: -34.10000076293945\n",
      "before 0.0\n",
      "overlaps 0.0\n",
      "during 19.72318339100346\n",
      "meets 0.0\n",
      "starts 0.0\n",
      "finishes 0.0\n",
      "equals 0.0\n",
      "after 80.27681660899654\n",
      "Posterior of\n"
     ]
    }
   ],
   "source": [
    "subp_posteriority=tolerance_y_2(call_y.round(1), subp_y.round(1), length=.1)"
   ]
  },
  {
   "cell_type": "code",
   "execution_count": 68,
   "metadata": {},
   "outputs": [],
   "source": [
    "cun_y = manual_sulci['Cuneal_sulcus'].T[1]"
   ]
  },
  {
   "cell_type": "code",
   "execution_count": 69,
   "metadata": {},
   "outputs": [
    {
     "name": "stdout",
     "output_type": "stream",
     "text": [
      "J-: -85.8\n",
      "J+: -75.9\n",
      "before 0.0\n",
      "overlaps 0.0\n",
      "during 0.0\n",
      "meets 0.0\n",
      "starts 0.0\n",
      "finishes 0.0\n",
      "equals 0.0\n",
      "after 100.0\n",
      "Posterior of\n"
     ]
    }
   ],
   "source": [
    "cun_anteriority=tolerance_y_2(call_y.round(1), cun_y.round(1), length=.1)"
   ]
  },
  {
   "cell_type": "code",
   "execution_count": 70,
   "metadata": {},
   "outputs": [],
   "source": [
    "ils_y = manual_sulci['Intralingual_sulcus'].T[1]"
   ]
  },
  {
   "cell_type": "code",
   "execution_count": 71,
   "metadata": {},
   "outputs": [
    {
     "name": "stdout",
     "output_type": "stream",
     "text": [
      "J-: -79.8\n",
      "J+: -63.49999847412109\n",
      "before 0.0\n",
      "overlaps 0.0\n",
      "during 0.0\n",
      "meets 0.0\n",
      "starts 0.0\n",
      "finishes 0.0\n",
      "equals 0.0\n",
      "after 100.0\n",
      "Posterior of\n"
     ]
    }
   ],
   "source": [
    "ils_anteriority=tolerance_y_2(call_y.round(1), ils_y.round(1), length=.1)"
   ]
  },
  {
   "cell_type": "code",
   "execution_count": 72,
   "metadata": {},
   "outputs": [],
   "source": [
    "marg_y=manual_sulci['Callosomarginal_sulcus'].T[1]"
   ]
  },
  {
   "cell_type": "code",
   "execution_count": 73,
   "metadata": {},
   "outputs": [
    {
     "name": "stdout",
     "output_type": "stream",
     "text": [
      "J-: -43.5\n",
      "J+: -34.699999237060545\n",
      "before 0.0\n",
      "overlaps 0.0\n",
      "during 1.3192612137203166\n",
      "meets 0.0\n",
      "starts 0.0\n",
      "finishes 0.2638522427440633\n",
      "equals 0.0\n",
      "after 98.41688654353563\n",
      "Posterior of\n"
     ]
    }
   ],
   "source": [
    "marg_posteriority=tolerance_y_2(cing_y.round(1), marg_y.round(1), length=.1)"
   ]
  },
  {
   "cell_type": "markdown",
   "metadata": {},
   "source": [
    "### Superiority/Inferiority"
   ]
  },
  {
   "cell_type": "code",
   "execution_count": 74,
   "metadata": {},
   "outputs": [],
   "source": [
    "def tolerance_z(zs_origin_sulcus, zs_target_sulcus, length):\n",
    "    # we consider I the origin\n",
    "    above=set()\n",
    "    overlaps=set()\n",
    "    during=set()\n",
    "    meets=set()\n",
    "    starts=set()\n",
    "    finishes=set()\n",
    "    equals=set()\n",
    "    below=set()\n",
    "    J_minus = min(zs_target_sulcus)\n",
    "    print('J-:', J_minus)\n",
    "    J_plus = max(zs_target_sulcus) + length\n",
    "    print('J+:', J_plus)\n",
    "    \n",
    "    I_boxes = set(zs_origin_sulcus)\n",
    "    for x in I_boxes:\n",
    "        I_minus = x\n",
    "        I_plus = I_minus + length\n",
    "        \n",
    "        if I_minus < I_plus < J_minus < J_plus:\n",
    "            above.add(x)\n",
    "        if I_minus < J_minus < I_plus < J_plus:\n",
    "            overlaps.add(x)\n",
    "        if J_minus < I_minus < I_plus < J_plus:\n",
    "            during.add(x)\n",
    "        if I_minus < I_plus == J_minus < J_plus:\n",
    "            meets.add(x)\n",
    "        if I_minus == J_minus < I_plus < J_plus:\n",
    "            starts.add(x)\n",
    "        if J_minus < I_minus < I_plus == J_plus:\n",
    "            finishes.add(x)\n",
    "        if I_minus == J_minus < I_plus == J_plus:\n",
    "            equals.add(x)\n",
    "        if J_minus < J_plus < I_minus < I_plus:\n",
    "            below.add(x)\n",
    "        \n",
    "    \n",
    "    print('above', len(above) / len(I_boxes) * 100)\n",
    "    print('overlaps', len(overlaps) / len(I_boxes) * 100)\n",
    "    print('during', len(during) / len(I_boxes) * 100)\n",
    "    print('meets', len(meets) / len(I_boxes) * 100)\n",
    "    print('starts', len(starts) / len(I_boxes) * 100)\n",
    "    print('finishes', len(finishes) / len(I_boxes) * 100)\n",
    "    print('equals', len(equals) / len(I_boxes) * 100)\n",
    "    print('below', len(below) / len(I_boxes) * 100)\n",
    "    \n",
    "    if (len(above) / len(I_boxes))>=0.8:\n",
    "        print('Superior of')\n",
    "    if (len(below) / len(I_boxes))>=0.8:\n",
    "        print('Inferior of')     \n",
    "    if (len(during) / len(I_boxes))>=0.8:\n",
    "        print('During')"
   ]
  },
  {
   "cell_type": "code",
   "execution_count": 75,
   "metadata": {},
   "outputs": [],
   "source": [
    "cs_z = manual_sulci['Central_sulcus'].T[2]"
   ]
  },
  {
   "cell_type": "code",
   "execution_count": 76,
   "metadata": {},
   "outputs": [],
   "source": [
    "lf_z = manual_sulci['Lateral_fissure'].T[2]"
   ]
  },
  {
   "cell_type": "code",
   "execution_count": 77,
   "metadata": {},
   "outputs": [],
   "source": [
    "sts_z = manual_sulci['Superior_temporal_sulcus'].T[2]"
   ]
  },
  {
   "cell_type": "code",
   "execution_count": 78,
   "metadata": {},
   "outputs": [
    {
     "name": "stdout",
     "output_type": "stream",
     "text": [
      "J-: -40.2\n",
      "J+: 24.300000762939455\n",
      "above 0.0\n",
      "overlaps 0.0\n",
      "during 73.54085603112841\n",
      "meets 0.0\n",
      "starts 0.0\n",
      "finishes 0.38910505836575876\n",
      "equals 0.0\n",
      "below 25.680933852140075\n"
     ]
    }
   ],
   "source": [
    "sts_inferior=tolerance_z(lf_z.round(1), sts_z.round(1), length=0.1)"
   ]
  },
  {
   "cell_type": "code",
   "execution_count": 79,
   "metadata": {},
   "outputs": [],
   "source": [
    "its_z = manual_sulci['Inferior_temporal_sulcus'].T[2]"
   ]
  },
  {
   "cell_type": "code",
   "execution_count": 80,
   "metadata": {},
   "outputs": [
    {
     "name": "stdout",
     "output_type": "stream",
     "text": [
      "J-: -37.2\n",
      "J+: -5.9\n",
      "above 0.0\n",
      "overlaps 0.0\n",
      "during 0.0\n",
      "meets 0.0\n",
      "starts 0.0\n",
      "finishes 0.0\n",
      "equals 0.0\n",
      "below 100.0\n",
      "Inferior of\n"
     ]
    }
   ],
   "source": [
    "its_inferior=tolerance_z(lf_z.round(1), its_z.round(1), length=0.1)"
   ]
  },
  {
   "cell_type": "code",
   "execution_count": 81,
   "metadata": {},
   "outputs": [],
   "source": [
    "ips_z = manual_sulci['Intraparietal_sulcus'].T[2]"
   ]
  },
  {
   "cell_type": "code",
   "execution_count": 82,
   "metadata": {},
   "outputs": [],
   "source": [
    "ipoj_z = manual_sulci['Intermediate_primus_of_Jensen'].T[2]"
   ]
  },
  {
   "cell_type": "code",
   "execution_count": 83,
   "metadata": {},
   "outputs": [
    {
     "name": "stdout",
     "output_type": "stream",
     "text": [
      "J-: 21.8\n",
      "J+: 47.199998474121095\n",
      "above 0.0\n",
      "overlaps 0.0\n",
      "during 54.43037974683544\n",
      "meets 0.0\n",
      "starts 0.0\n",
      "finishes 0.6329113924050633\n",
      "equals 0.0\n",
      "below 44.936708860759495\n"
     ]
    }
   ],
   "source": [
    "ipoj_inferior=tolerance_z(ips_z.round(1), ipoj_z.round(1), length=0.1)"
   ]
  },
  {
   "cell_type": "code",
   "execution_count": 84,
   "metadata": {},
   "outputs": [],
   "source": [
    "ang_z = manual_sulci['Angular_sulcus'].T[2]"
   ]
  },
  {
   "cell_type": "code",
   "execution_count": 85,
   "metadata": {},
   "outputs": [
    {
     "name": "stdout",
     "output_type": "stream",
     "text": [
      "J-: 23.3\n",
      "J+: 52.699998474121095\n",
      "above 0.0\n",
      "overlaps 0.0\n",
      "during 83.54430379746836\n",
      "meets 0.0\n",
      "starts 0.0\n",
      "finishes 0.6329113924050633\n",
      "equals 0.0\n",
      "below 15.822784810126583\n",
      "During\n"
     ]
    }
   ],
   "source": [
    "ang_inferior=tolerance_z(ips_z.round(1), ang_z.round(1), length=0.1)"
   ]
  },
  {
   "cell_type": "code",
   "execution_count": 86,
   "metadata": {},
   "outputs": [],
   "source": [
    "sos_z = manual_sulci['Superior_occipital_sulcus'].T[2]"
   ]
  },
  {
   "cell_type": "code",
   "execution_count": 87,
   "metadata": {},
   "outputs": [
    {
     "name": "stdout",
     "output_type": "stream",
     "text": [
      "J-: 9.4\n",
      "J+: 43.699998474121095\n",
      "above 0.0\n",
      "overlaps 0.0\n",
      "during 34.177215189873415\n",
      "meets 0.0\n",
      "starts 0.0\n",
      "finishes 0.6329113924050633\n",
      "equals 0.0\n",
      "below 65.18987341772153\n"
     ]
    }
   ],
   "source": [
    "sos_inferior=tolerance_z(ips_z.round(1), sos_z.round(1), length=0.1)"
   ]
  },
  {
   "cell_type": "code",
   "execution_count": 88,
   "metadata": {},
   "outputs": [],
   "source": [
    "ios_z = manual_sulci['Inferior_occipital_sulcus'].T[2]"
   ]
  },
  {
   "cell_type": "code",
   "execution_count": 89,
   "metadata": {},
   "outputs": [
    {
     "name": "stdout",
     "output_type": "stream",
     "text": [
      "J-: -7.4\n",
      "J+: 8.1\n",
      "above 0.0\n",
      "overlaps 0.0\n",
      "during 0.0\n",
      "meets 0.0\n",
      "starts 0.0\n",
      "finishes 0.0\n",
      "equals 0.0\n",
      "below 100.0\n",
      "Inferior of\n"
     ]
    }
   ],
   "source": [
    "ios_inferior=tolerance_z(sos_z.round(1), ios_z.round(1), length=0.1)"
   ]
  },
  {
   "cell_type": "code",
   "execution_count": 90,
   "metadata": {},
   "outputs": [],
   "source": [
    "los_z = manual_sulci['Lateral_occipital_sulcus'].T[2]"
   ]
  },
  {
   "cell_type": "code",
   "execution_count": 91,
   "metadata": {},
   "outputs": [
    {
     "name": "stdout",
     "output_type": "stream",
     "text": [
      "J-: -1.3\n",
      "J+: 4.400000190734863\n",
      "above 0.0\n",
      "overlaps 0.0\n",
      "during 0.0\n",
      "meets 0.0\n",
      "starts 0.0\n",
      "finishes 0.0\n",
      "equals 0.0\n",
      "below 100.0\n",
      "Inferior of\n"
     ]
    }
   ],
   "source": [
    "los_inferior=tolerance_z(sos_z.round(1), los_z.round(1), length=0.1)"
   ]
  }
 ],
 "metadata": {
  "kernelspec": {
   "display_name": "Python 3",
   "language": "python",
   "name": "python3"
  },
  "language_info": {
   "codemirror_mode": {
    "name": "ipython",
    "version": 3
   },
   "file_extension": ".py",
   "mimetype": "text/x-python",
   "name": "python",
   "nbconvert_exporter": "python",
   "pygments_lexer": "ipython3",
   "version": "3.6.2"
  }
 },
 "nbformat": 4,
 "nbformat_minor": 2
}
