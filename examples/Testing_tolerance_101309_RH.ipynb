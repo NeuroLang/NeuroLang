{
 "cells": [
  {
   "cell_type": "code",
   "execution_count": 104,
   "metadata": {
    "scrolled": false
   },
   "outputs": [],
   "source": [
    "import matplotlib\n",
    "%matplotlib inline\n",
    "import numpy as np\n",
    "from nilearn import datasets\n",
    "from nilearn import plotting\n",
    "import nibabel as nib\n",
    "\n",
    "from neurolang import frontend as fe"
   ]
  },
  {
   "cell_type": "markdown",
   "metadata": {},
   "source": [
    "Example of how to translate the sulci file\n",
    "\n",
    "`blender_obj_to_gifti -i 101309_L.obj -r 101309.L.pial.32k_fs_LR.surf.gii -o 101309.L.manual_drawings.func.gii`\n",
    "\n",
    "`blender_obj_to_gifti -i 101309_L.obj -r 101309.L.pial.32k_fs_LR.surf.gii -o 101309.L.manual_drawings.func.gii -p \".*(sulcus|fissure|Fissure|primus)*.\"`"
   ]
  },
  {
   "cell_type": "code",
   "execution_count": 105,
   "metadata": {},
   "outputs": [
    {
     "name": "stderr",
     "output_type": "stream",
     "text": [
      "/home/amachlou/miniconda3/envs/antonia/lib/python3.6/site-packages/numpy/lib/npyio.py:2278: VisibleDeprecationWarning: Reading unicode strings without specifying the encoding argument is deprecated. Set the encoding, use None for the system default.\n",
      "  output = genfromtxt(fname, **kwargs)\n"
     ]
    },
    {
     "data": {
      "text/plain": [
       "rec.array([(  0, b'Background'), (  1, b'L G_and_S_frontomargin'),\n",
       "           (  2, b'L G_and_S_occipital_inf'),\n",
       "           (  3, b'L G_and_S_paracentral'),\n",
       "           (  4, b'L G_and_S_subcentral'),\n",
       "           (  5, b'L G_and_S_transv_frontopol'),\n",
       "           (  6, b'L G_and_S_cingul-Ant'),\n",
       "           (  7, b'L G_and_S_cingul-Mid-Ant'),\n",
       "           (  8, b'L G_and_S_cingul-Mid-Post'),\n",
       "           (  9, b'L G_cingul-Post-dorsal'),\n",
       "           ( 10, b'L G_cingul-Post-ventral'), ( 11, b'L G_cuneus'),\n",
       "           ( 12, b'L G_front_inf-Opercular'),\n",
       "           ( 13, b'L G_front_inf-Orbital'),\n",
       "           ( 14, b'L G_front_inf-Triangul'), ( 15, b'L G_front_middle'),\n",
       "           ( 16, b'L G_front_sup'), ( 17, b'L G_Ins_lg_and_S_cent_ins'),\n",
       "           ( 18, b'L G_insular_short'), ( 19, b'L G_occipital_middle'),\n",
       "           ( 20, b'L G_occipital_sup'), ( 21, b'L G_oc-temp_lat-fusifor'),\n",
       "           ( 22, b'L G_oc-temp_med-Lingual'),\n",
       "           ( 23, b'L G_oc-temp_med-Parahip'), ( 24, b'L G_orbital'),\n",
       "           ( 25, b'L G_pariet_inf-Angular'),\n",
       "           ( 26, b'L G_pariet_inf-Supramar'), ( 27, b'L G_parietal_sup'),\n",
       "           ( 28, b'L G_postcentral'), ( 29, b'L G_precentral'),\n",
       "           ( 30, b'L G_precuneus'), ( 31, b'L G_rectus'),\n",
       "           ( 32, b'L G_subcallosal'), ( 33, b'L G_temp_sup-G_T_transv'),\n",
       "           ( 34, b'L G_temp_sup-Lateral'),\n",
       "           ( 35, b'L G_temp_sup-Plan_polar'),\n",
       "           ( 36, b'L G_temp_sup-Plan_tempo'), ( 37, b'L G_temporal_inf'),\n",
       "           ( 38, b'L G_temporal_middle'),\n",
       "           ( 39, b'L Lat_Fis-ant-Horizont'),\n",
       "           ( 40, b'L Lat_Fis-ant-Vertical'), ( 41, b'L Lat_Fis-post'),\n",
       "           ( 42, b'L Medial_wall'), ( 43, b'L Pole_occipital'),\n",
       "           ( 44, b'L Pole_temporal'), ( 45, b'L S_calcarine'),\n",
       "           ( 46, b'L S_central'), ( 47, b'L S_cingul-Marginalis'),\n",
       "           ( 48, b'L S_circular_insula_ant'),\n",
       "           ( 49, b'L S_circular_insula_inf'),\n",
       "           ( 50, b'L S_circular_insula_sup'),\n",
       "           ( 51, b'L S_collat_transv_ant'),\n",
       "           ( 52, b'L S_collat_transv_post'), ( 53, b'L S_front_inf'),\n",
       "           ( 54, b'L S_front_middle'), ( 55, b'L S_front_sup'),\n",
       "           ( 56, b'L S_interm_prim-Jensen'),\n",
       "           ( 57, b'L S_intrapariet_and_P_trans'),\n",
       "           ( 58, b'L S_oc_middle_and_Lunatus'),\n",
       "           ( 59, b'L S_oc_sup_and_transversal'),\n",
       "           ( 60, b'L S_occipital_ant'), ( 61, b'L S_oc-temp_lat'),\n",
       "           ( 62, b'L S_oc-temp_med_and_Lingual'),\n",
       "           ( 63, b'L S_orbital_lateral'),\n",
       "           ( 64, b'L S_orbital_med-olfact'),\n",
       "           ( 65, b'L S_orbital-H_Shaped'),\n",
       "           ( 66, b'L S_parieto_occipital'), ( 67, b'L S_pericallosal'),\n",
       "           ( 68, b'L S_postcentral'), ( 69, b'L S_precentral-inf-part'),\n",
       "           ( 70, b'L S_precentral-sup-part'), ( 71, b'L S_suborbital'),\n",
       "           ( 72, b'L S_subparietal'), ( 73, b'L S_temporal_inf'),\n",
       "           ( 74, b'L S_temporal_sup'), ( 75, b'L S_temporal_transverse'),\n",
       "           ( 76, b'R G_and_S_frontomargin'),\n",
       "           ( 77, b'R G_and_S_occipital_inf'),\n",
       "           ( 78, b'R G_and_S_paracentral'),\n",
       "           ( 79, b'R G_and_S_subcentral'),\n",
       "           ( 80, b'R G_and_S_transv_frontopol'),\n",
       "           ( 81, b'R G_and_S_cingul-Ant'),\n",
       "           ( 82, b'R G_and_S_cingul-Mid-Ant'),\n",
       "           ( 83, b'R G_and_S_cingul-Mid-Post'),\n",
       "           ( 84, b'R G_cingul-Post-dorsal'),\n",
       "           ( 85, b'R G_cingul-Post-ventral'), ( 86, b'R G_cuneus'),\n",
       "           ( 87, b'R G_front_inf-Opercular'),\n",
       "           ( 88, b'R G_front_inf-Orbital'),\n",
       "           ( 89, b'R G_front_inf-Triangul'), ( 90, b'R G_front_middle'),\n",
       "           ( 91, b'R G_front_sup'), ( 92, b'R G_Ins_lg_and_S_cent_ins'),\n",
       "           ( 93, b'R G_insular_short'), ( 94, b'R G_occipital_middle'),\n",
       "           ( 95, b'R G_occipital_sup'), ( 96, b'R G_oc-temp_lat-fusifor'),\n",
       "           ( 97, b'R G_oc-temp_med-Lingual'),\n",
       "           ( 98, b'R G_oc-temp_med-Parahip'), ( 99, b'R G_orbital'),\n",
       "           (100, b'R G_pariet_inf-Angular'),\n",
       "           (101, b'R G_pariet_inf-Supramar'), (102, b'R G_parietal_sup'),\n",
       "           (103, b'R G_postcentral'), (104, b'R G_precentral'),\n",
       "           (105, b'R G_precuneus'), (106, b'R G_rectus'),\n",
       "           (107, b'R G_subcallosal'), (108, b'R G_temp_sup-G_T_transv'),\n",
       "           (109, b'R G_temp_sup-Lateral'),\n",
       "           (110, b'R G_temp_sup-Plan_polar'),\n",
       "           (111, b'R G_temp_sup-Plan_tempo'), (112, b'R G_temporal_inf'),\n",
       "           (113, b'R G_temporal_middle'),\n",
       "           (114, b'R Lat_Fis-ant-Horizont'),\n",
       "           (115, b'R Lat_Fis-ant-Vertical'), (116, b'R Lat_Fis-post'),\n",
       "           (117, b'R Medial_wall'), (118, b'R Pole_occipital'),\n",
       "           (119, b'R Pole_temporal'), (120, b'R S_calcarine'),\n",
       "           (121, b'R S_central'), (122, b'R S_cingul-Marginalis'),\n",
       "           (123, b'R S_circular_insula_ant'),\n",
       "           (124, b'R S_circular_insula_inf'),\n",
       "           (125, b'R S_circular_insula_sup'),\n",
       "           (126, b'R S_collat_transv_ant'),\n",
       "           (127, b'R S_collat_transv_post'), (128, b'R S_front_inf'),\n",
       "           (129, b'R S_front_middle'), (130, b'R S_front_sup'),\n",
       "           (131, b'R S_interm_prim-Jensen'),\n",
       "           (132, b'R S_intrapariet_and_P_trans'),\n",
       "           (133, b'R S_oc_middle_and_Lunatus'),\n",
       "           (134, b'R S_oc_sup_and_transversal'),\n",
       "           (135, b'R S_occipital_ant'), (136, b'R S_oc-temp_lat'),\n",
       "           (137, b'R S_oc-temp_med_and_Lingual'),\n",
       "           (138, b'R S_orbital_lateral'),\n",
       "           (139, b'R S_orbital_med-olfact'),\n",
       "           (140, b'R S_orbital-H_Shaped'),\n",
       "           (141, b'R S_parieto_occipital'), (142, b'R S_pericallosal'),\n",
       "           (143, b'R S_postcentral'), (144, b'R S_precentral-inf-part'),\n",
       "           (145, b'R S_precentral-sup-part'), (146, b'R S_suborbital'),\n",
       "           (147, b'R S_subparietal'), (148, b'R S_temporal_inf'),\n",
       "           (149, b'R S_temporal_sup'), (150, b'R S_temporal_transverse')],\n",
       "          dtype=[('index', '<i8'), ('name', 'S27')])"
      ]
     },
     "execution_count": 105,
     "metadata": {},
     "output_type": "execute_result"
    }
   ],
   "source": [
    "destrieux_dataset = datasets.fetch_atlas_destrieux_2009()\n",
    "destrieux_map = nib.load(destrieux_dataset['maps'])\n",
    "destrieux_dataset['labels']"
   ]
  },
  {
   "cell_type": "code",
   "execution_count": 106,
   "metadata": {
    "scrolled": true
   },
   "outputs": [
    {
     "name": "stdout",
     "output_type": "stream",
     "text": [
      "Temporopolar_sulcus: number of points 38\n",
      "Anterior_horizontal_ramus_lateral_fissure: number of points 57\n",
      "Anterior_vertical_ramus_lateral_fissure: number of points 37\n",
      "Angular_sulcus: number of points 112\n",
      "Intermediate_primus_of_Jensen: number of points 209\n",
      "Callosomarginal_sulcus: number of points 121\n",
      "Orbital_H_shaped_sulcus: number of points 156\n",
      "Olfactory_sulcus: number of points 96\n",
      "Superior_rostral_sulcus: number of points 40\n",
      "Superior_parietal_sulcus: number of points 145\n",
      "Superior_occipital_sulcus: number of points 176\n",
      "Superior_frontal_sulcus: number of points 420\n",
      "Superior_temporal_sulcus: number of points 451\n",
      "Subparietal_sulcus: number of points 199\n",
      "Rhinal_sulcus: number of points 55\n",
      "Precentral_sulcus: number of points 580\n",
      "Postcentral_sulcus: number of points 634\n",
      "Parieto_occipital_sulcus: number of points 208\n",
      "Paracingulate_sulcus: number of points 683\n",
      "Paracentral_sulcus: number of points 81\n",
      "Occipitotemporal_sulcus: number of points 443\n",
      "Anterior_occipital_sulcus: number of points 50\n",
      "Middle_frontal_sulcus: number of points 141\n",
      "Lunate_sulcus: number of points 132\n",
      "Lateral_occipital_sulcus: number of points 61\n",
      "Lateral_fissure: number of points 582\n",
      "Intraparietal_sulcus: number of points 289\n",
      "Intralingual_sulcus: number of points 63\n",
      "Inferior_temporal_sulcus: number of points 262\n",
      "Inferior_occipital_sulcus: number of points 110\n",
      "Inferior_frontal_sulcus: number of points 291\n",
      "Hippocampal_sulcus: number of points 235\n",
      "Frontomarginal_sulcus: number of points 49\n",
      "Cuneal_sulcus: number of points 37\n",
      "Collateral_sulcus: number of points 246\n",
      "Cingulate_sulcus: number of points 481\n",
      "Central_sulcus: number of points 536\n",
      "Callosal_sulcus: number of points 389\n",
      "Calcarine_sulcus: number of points 207\n",
      "Retrocalcarine_sulcus: number of points 49\n"
     ]
    },
    {
     "name": "stderr",
     "output_type": "stream",
     "text": [
      "/home/amachlou/miniconda3/envs/antonia/lib/python3.6/site-packages/nibabel/gifti/parse_gifti_fast.py:62: DeprecationWarning: The binary mode of fromstring is deprecated, as it behaves surprisingly on unicode inputs. Use frombuffer instead\n",
      "  newarr = np.fromstring(zdec, dtype=dt)\n",
      "/home/amachlou/miniconda3/envs/antonia/lib/python3.6/site-packages/nibabel/gifti/gifti.py:760: ResourceWarning: unclosed file <_io.BufferedReader name='101309.R.pial.32k_fs_LR.surf.gii'>\n",
      "  parser.parse(fptr=file_map['image'].get_prepare_fileobj('rb'))\n",
      "/home/amachlou/miniconda3/envs/antonia/lib/python3.6/site-packages/nibabel/gifti/gifti.py:760: ResourceWarning: unclosed file <_io.BufferedReader name='101309_R_manual_segmentation.func.gii'>\n",
      "  parser.parse(fptr=file_map['image'].get_prepare_fileobj('rb'))\n"
     ]
    }
   ],
   "source": [
    "surface = nib.load('101309.R.pial.32k_fs_LR.surf.gii')\n",
    "vertices = surface.darrays[0].data\n",
    "manual_sulci_gii = nib.load('101309_R_manual_segmentation.func.gii')\n",
    "manual_sulci = dict()\n",
    "for darray in manual_sulci_gii.darrays:\n",
    "    name = darray.meta.metadata['Name']\n",
    "    name = name[:name.rfind('_')]\n",
    "    points = vertices[darray.data.nonzero()]\n",
    "    manual_sulci[name] = points\n",
    "    print(f\"{name}: number of points {points.shape[0]}\")"
   ]
  },
  {
   "cell_type": "code",
   "execution_count": 107,
   "metadata": {},
   "outputs": [],
   "source": [
    "nl = fe.RegionFrontend()\n",
    "\n",
    "for name, points in manual_sulci.items():\n",
    "    ijk_points = nib.affines.apply_affine(np.linalg.inv(destrieux_map.affine), points).astype(int)\n",
    "    region = fe.ExplicitVBR(\n",
    "        ijk_points,\n",
    "        destrieux_map.affine,\n",
    "        img_dim=destrieux_map.shape\n",
    "    )\n",
    "    nl.add_region(region, result_symbol_name=f'manual_{name}')"
   ]
  },
  {
   "cell_type": "markdown",
   "metadata": {},
   "source": [
    "# Surfaces\n"
   ]
  },
  {
   "cell_type": "code",
   "execution_count": 108,
   "metadata": {},
   "outputs": [],
   "source": [
    "Medial_surface_sulci = set()\n",
    "Lateral_surface_sulci = set()\n",
    "Ventral_surface_sulci = set()\n",
    "\n",
    "for manual_sulcus_name in nl.region_names:\n",
    "    if ('Callos' in manual_sulcus_name\n",
    "        or 'Parieto_occipital' in manual_sulcus_name\n",
    "        or 'Cingulate' in manual_sulcus_name \n",
    "        or 'alcarine' in manual_sulcus_name \n",
    "        or 'Marginal' in manual_sulcus_name\n",
    "        or 'Paracingulate' in manual_sulcus_name\n",
    "        or 'Superior_rostral' in manual_sulcus_name\n",
    "        or 'Paracentral' in manual_sulcus_name\n",
    "        or 'Subparietal' in manual_sulcus_name\n",
    "        or 'Cuneal' in manual_sulcus_name\n",
    "        or 'Intralingual' in manual_sulcus_name\n",
    "        or 'Medial_frontal' in manual_sulcus_name):\n",
    "        Medial_surface_sulci.add(nl.symbols[manual_sulcus_name])\n",
    "    elif ('Central' in manual_sulcus_name\n",
    "        or 'ateral_fissure' in manual_sulcus_name\n",
    "        or 'Precentral' in manual_sulcus_name\n",
    "        or 'Postcentral' in manual_sulcus_name \n",
    "        or 'Superior_frontal' in manual_sulcus_name \n",
    "        or 'Inferior_frontal' in manual_sulcus_name\n",
    "        or 'Middle_frontal' in manual_sulcus_name\n",
    "        or 'Frontomarginal' in manual_sulcus_name\n",
    "        or 'subcentral' in manual_sulcus_name\n",
    "        or 'Intraparietal' in manual_sulcus_name\n",
    "        or 'Intermediate_primus' in manual_sulcus_name\n",
    "        or 'Superior_parietal' in manual_sulcus_name\n",
    "        or 'Superior_occipital' in manual_sulcus_name\n",
    "        or 'Inferior_occipital' in manual_sulcus_name \n",
    "        or 'Lateral_occipital' in manual_sulcus_name \n",
    "        or 'Lunate' in manual_sulcus_name\n",
    "        or 'Superior_temporal' in manual_sulcus_name\n",
    "        or 'Inferior_temporal' in manual_sulcus_name\n",
    "        or 'Anterior_occipital' in manual_sulcus_name\n",
    "        or 'Angular' in manual_sulcus_name\n",
    "        or 'Medial_frontal' in manual_sulcus_name):\n",
    "        Lateral_surface_sulci.add(nl.symbols[manual_sulcus_name])\n",
    "    elif ('Occipitotemporal' in manual_sulcus_name\n",
    "        or 'Collateral' in manual_sulcus_name\n",
    "        or 'Rhinal' in manual_sulcus_name \n",
    "        or 'Parahippocampal' in manual_sulcus_name \n",
    "        or 'Hippocampal' in manual_sulcus_name\n",
    "        or 'Olfactory' in manual_sulcus_name\n",
    "        or 'Temporopolar' in manual_sulcus_name\n",
    "        or 'Orbital' in manual_sulcus_name):\n",
    "        Ventral_surface_sulci.add(nl.symbols[manual_sulcus_name])\n",
    "    else:\n",
    "        print(manual_sulcus_name)"
   ]
  },
  {
   "cell_type": "code",
   "execution_count": 109,
   "metadata": {},
   "outputs": [],
   "source": [
    "lateral_sulci = nl.add_region_set(Lateral_surface_sulci, name='lateral_sulci')\n",
    "medial_sulci = nl.add_region_set(Medial_surface_sulci, name='medial_sulci')\n",
    "ventral_sulci = nl.add_region_set(Ventral_surface_sulci, name='ventral_sulci')"
   ]
  },
  {
   "cell_type": "markdown",
   "metadata": {},
   "source": [
    "# Testing tolerance\n"
   ]
  },
  {
   "cell_type": "markdown",
   "metadata": {},
   "source": [
    "### Anteriority/Posteriority"
   ]
  },
  {
   "cell_type": "code",
   "execution_count": 110,
   "metadata": {},
   "outputs": [],
   "source": [
    "def tolerance_y(ys_origin_sulcus, ys_target_sulcus, length):\n",
    "    # we consider I the origin\n",
    "    before=set()\n",
    "    overlaps=set()\n",
    "    during=set()\n",
    "    meets=set()\n",
    "    starts=set()\n",
    "    finishes=set()\n",
    "    equals=set()\n",
    "    J_minus = min(ys_target_sulcus)\n",
    "    J_plus = max(ys_target_sulcus) + length\n",
    "    \n",
    "    I_boxes = set(ys_origin_sulcus)\n",
    "    for x in I_boxes:\n",
    "        I_minus = x\n",
    "        I_plus = I_minus + length\n",
    "        \n",
    "        if I_minus < I_plus < J_minus < J_plus:\n",
    "            before.add(x)\n",
    "        if I_minus < J_minus < I_plus < J_plus:\n",
    "            overlaps.add(x)\n",
    "        if J_minus < I_minus < I_plus < J_plus:\n",
    "            during.add(x)\n",
    "        if I_minus < (I_plus==J_minus) < J_plus:\n",
    "            meets.add(x)\n",
    "        if (I_minus==J_minus) < I_plus < J_plus:\n",
    "            starts.add(x)\n",
    "        if J_minus < I_minus < (I_plus==J_plus):\n",
    "            finishes.add(x)\n",
    "        if (I_minus==J_minus) < (I_plus==J_plus):\n",
    "            equals.add(x)\n",
    "        \n",
    "    \n",
    "    print('before', len(before) / len(I_boxes) * 100)\n",
    "    print('overlaps', len(overlaps) / len(I_boxes) * 100)\n",
    "    print('during', len(during) / len(I_boxes) * 100)\n",
    "    print('meets', len(meets) / len(I_boxes) * 100)\n",
    "    print('starts', len(starts) / len(I_boxes) * 100)\n",
    "    print('finishes', len(finishes) / len(I_boxes) * 100)\n",
    "    print('equals', len(equals) / len(I_boxes) * 100)"
   ]
  },
  {
   "cell_type": "code",
   "execution_count": 111,
   "metadata": {},
   "outputs": [],
   "source": [
    "def tolerance_y_2(ys_origin_sulcus, ys_target_sulcus, length):\n",
    "    # we consider I the origin\n",
    "    before=set()\n",
    "    overlaps=set()\n",
    "    during=set()\n",
    "    meets=set()\n",
    "    starts=set()\n",
    "    finishes=set()\n",
    "    equals=set()\n",
    "    after=set()\n",
    "    Anterior_of=set()\n",
    "    Posterior_of=set()\n",
    "    During=set()\n",
    "    J_minus = min(ys_target_sulcus)\n",
    "    print('J-:', J_minus)\n",
    "    J_plus = max(ys_target_sulcus) + length\n",
    "    print('J+:', J_plus)\n",
    "    \n",
    "    I_boxes = set(ys_origin_sulcus)\n",
    "    for x in I_boxes:\n",
    "        I_minus = x\n",
    "        I_plus = I_minus + length\n",
    "        \n",
    "        if I_minus < I_plus < J_minus < J_plus:\n",
    "            before.add(x)\n",
    "        if I_minus < J_minus < I_plus < J_plus:\n",
    "            overlaps.add(x)\n",
    "        if J_minus < I_minus < I_plus < J_plus:\n",
    "            during.add(x)\n",
    "        if I_minus < I_plus == J_minus < J_plus:\n",
    "            meets.add(x)\n",
    "        if I_minus == J_minus < I_plus < J_plus:\n",
    "            starts.add(x)\n",
    "        if J_minus < I_minus < I_plus == J_plus:\n",
    "            finishes.add(x)\n",
    "        if I_minus == J_minus < I_plus == J_plus:\n",
    "            equals.add(x)\n",
    "        if J_minus < J_plus < I_minus < I_plus:\n",
    "            after.add(x)\n",
    "        \n",
    "    \n",
    "    print('before', len(before) / len(I_boxes) * 100)\n",
    "    print('overlaps', len(overlaps) / len(I_boxes) * 100)\n",
    "    print('during', len(during) / len(I_boxes) * 100)\n",
    "    print('meets', len(meets) / len(I_boxes) * 100)\n",
    "    print('starts', len(starts) / len(I_boxes) * 100)\n",
    "    print('finishes', len(finishes) / len(I_boxes) * 100)\n",
    "    print('equals', len(equals) / len(I_boxes) * 100)\n",
    "    print('after', len(after) / len(I_boxes) * 100)\n",
    "    \n",
    "    if (len(before) / len(I_boxes))>=0.8:\n",
    "        Anterior_of.add(str(ys_target_sulcus))\n",
    "        return 'Anterior of'\n",
    "    if (len(after) / len(I_boxes))>=0.8:\n",
    "        Posterior_of.add(str(ys_target_sulcus))\n",
    "        return 'Posterior of'\n",
    "    if (len(during) / len(I_boxes))>=0.8:\n",
    "        During.add(str(ys_target_sulcus))\n",
    "        return 'During'\n",
    "    else:\n",
    "        return 'Threshold not reached'"
   ]
  },
  {
   "cell_type": "code",
   "execution_count": 112,
   "metadata": {},
   "outputs": [],
   "source": [
    "cs_y = manual_sulci['Central_sulcus'].T[1]"
   ]
  },
  {
   "cell_type": "code",
   "execution_count": 113,
   "metadata": {},
   "outputs": [],
   "source": [
    "call_y = manual_sulci['Callosal_sulcus'].T[1]"
   ]
  },
  {
   "cell_type": "code",
   "execution_count": 114,
   "metadata": {},
   "outputs": [],
   "source": [
    "lf_y = manual_sulci['Lateral_fissure'].T[1]"
   ]
  },
  {
   "cell_type": "markdown",
   "metadata": {},
   "source": [
    "### Lateral surface"
   ]
  },
  {
   "cell_type": "code",
   "execution_count": 115,
   "metadata": {},
   "outputs": [
    {
     "name": "stdout",
     "output_type": "stream",
     "text": [
      "J-: -33.0\n",
      "J+: 32.199998474121095\n",
      "before 5.490196078431373\n",
      "overlaps 0.39215686274509803\n",
      "during 93.72549019607843\n",
      "meets 0.0\n",
      "starts 0.39215686274509803\n",
      "finishes 0.0\n",
      "equals 0.0\n",
      "after 0.0\n"
     ]
    }
   ],
   "source": [
    "lf_anteriority=tolerance_y_2(cs_y.round(1), lf_y.round(1), length=.1)"
   ]
  },
  {
   "cell_type": "code",
   "execution_count": 116,
   "metadata": {},
   "outputs": [],
   "source": [
    "prcs_y = manual_sulci['Precentral_sulcus'].T[1]"
   ]
  },
  {
   "cell_type": "code",
   "execution_count": 117,
   "metadata": {},
   "outputs": [
    {
     "name": "stdout",
     "output_type": "stream",
     "text": [
      "J-: -21.3\n",
      "J+: 13.6\n",
      "before 43.13725490196079\n",
      "overlaps 0.0\n",
      "during 56.86274509803921\n",
      "meets 0.0\n",
      "starts 0.0\n",
      "finishes 0.0\n",
      "equals 0.0\n",
      "after 0.0\n"
     ]
    },
    {
     "data": {
      "text/plain": [
       "'Threshold not reached'"
      ]
     },
     "execution_count": 117,
     "metadata": {},
     "output_type": "execute_result"
    }
   ],
   "source": [
    "prcs_anteriority_2= tolerance_y_2(cs_y.round(1), prcs_y.round(1), length=.1)\n",
    "prcs_anteriority_2"
   ]
  },
  {
   "cell_type": "code",
   "execution_count": 118,
   "metadata": {},
   "outputs": [],
   "source": [
    "pocs_y = manual_sulci['Postcentral_sulcus'].T[1]"
   ]
  },
  {
   "cell_type": "code",
   "execution_count": 119,
   "metadata": {},
   "outputs": [
    {
     "name": "stdout",
     "output_type": "stream",
     "text": [
      "J-: -35.0\n",
      "J+: 2.6999999046325684\n",
      "before 44.106463878327\n",
      "overlaps 0.38022813688212925\n",
      "during 55.13307984790875\n",
      "meets 0.0\n",
      "starts 0.38022813688212925\n",
      "finishes 0.0\n",
      "equals 0.0\n",
      "after 0.0\n"
     ]
    },
    {
     "data": {
      "text/plain": [
       "'Threshold not reached'"
      ]
     },
     "execution_count": 119,
     "metadata": {},
     "output_type": "execute_result"
    }
   ],
   "source": [
    "pocs_posteriority_2=tolerance_y_2(pocs_y.round(1), cs_y.round(1), length=.1)\n",
    "pocs_posteriority_2"
   ]
  },
  {
   "cell_type": "code",
   "execution_count": 120,
   "metadata": {},
   "outputs": [],
   "source": [
    "fms_y = manual_sulci['Frontomarginal_sulcus'].T[1]"
   ]
  },
  {
   "cell_type": "code",
   "execution_count": 121,
   "metadata": {},
   "outputs": [
    {
     "name": "stdout",
     "output_type": "stream",
     "text": [
      "J-: 54.1\n",
      "J+: 67.1\n",
      "before 100.0\n",
      "overlaps 0.0\n",
      "during 0.0\n",
      "meets 0.0\n",
      "starts 0.0\n",
      "finishes 0.0\n",
      "equals 0.0\n",
      "after 0.0\n"
     ]
    },
    {
     "data": {
      "text/plain": [
       "'Anterior of'"
      ]
     },
     "execution_count": 121,
     "metadata": {},
     "output_type": "execute_result"
    }
   ],
   "source": [
    "fms_anteriority_2=tolerance_y_2(cs_y.round(1), fms_y.round(1), length=.1)\n",
    "fms_anteriority_2"
   ]
  },
  {
   "cell_type": "code",
   "execution_count": 122,
   "metadata": {},
   "outputs": [],
   "source": [
    "sfs_y = manual_sulci['Superior_frontal_sulcus'].T[1]"
   ]
  },
  {
   "cell_type": "code",
   "execution_count": 123,
   "metadata": {},
   "outputs": [
    {
     "name": "stdout",
     "output_type": "stream",
     "text": [
      "J-: -4.2\n",
      "J+: 62.800000762939455\n",
      "before 85.09803921568627\n",
      "overlaps 0.0\n",
      "during 14.50980392156863\n",
      "meets 0.0\n",
      "starts 0.39215686274509803\n",
      "finishes 0.0\n",
      "equals 0.0\n",
      "after 0.0\n"
     ]
    },
    {
     "data": {
      "text/plain": [
       "'Anterior of'"
      ]
     },
     "execution_count": 123,
     "metadata": {},
     "output_type": "execute_result"
    }
   ],
   "source": [
    "sfs_anteriority_2=tolerance_y_2(cs_y.round(1), sfs_y.round(1), length=.1)\n",
    "sfs_anteriority_2"
   ]
  },
  {
   "cell_type": "code",
   "execution_count": 124,
   "metadata": {},
   "outputs": [
    {
     "name": "stdout",
     "output_type": "stream",
     "text": [
      "J-: -4.2\n",
      "J+: 62.800000762939455\n",
      "before 43.873517786561266\n",
      "overlaps 0.0\n",
      "during 55.73122529644269\n",
      "meets 0.0\n",
      "starts 0.3952569169960474\n",
      "finishes 0.0\n",
      "equals 0.0\n",
      "after 0.0\n"
     ]
    }
   ],
   "source": [
    "sfs_from_prcs_anteriority_2=tolerance_y_2(prcs_y.round(1), sfs_y.round(1), length=.1)"
   ]
  },
  {
   "cell_type": "code",
   "execution_count": 125,
   "metadata": {},
   "outputs": [],
   "source": [
    "ifs_y = manual_sulci['Inferior_frontal_sulcus'].T[1]"
   ]
  },
  {
   "cell_type": "code",
   "execution_count": 126,
   "metadata": {},
   "outputs": [
    {
     "name": "stdout",
     "output_type": "stream",
     "text": [
      "J-: 6.6\n",
      "J+: 63.199998474121095\n",
      "before 100.0\n",
      "overlaps 0.0\n",
      "during 0.0\n",
      "meets 0.0\n",
      "starts 0.0\n",
      "finishes 0.0\n",
      "equals 0.0\n",
      "after 0.0\n"
     ]
    },
    {
     "data": {
      "text/plain": [
       "'Anterior of'"
      ]
     },
     "execution_count": 126,
     "metadata": {},
     "output_type": "execute_result"
    }
   ],
   "source": [
    "ifs_anteriority_2=tolerance_y_2(cs_y.round(1), ifs_y.round(1), length=.1)\n",
    "ifs_anteriority_2"
   ]
  },
  {
   "cell_type": "code",
   "execution_count": 127,
   "metadata": {},
   "outputs": [
    {
     "name": "stdout",
     "output_type": "stream",
     "text": [
      "J-: 6.6\n",
      "J+: 63.199998474121095\n",
      "before 76.28458498023716\n",
      "overlaps 0.3952569169960474\n",
      "during 22.92490118577075\n",
      "meets 0.0\n",
      "starts 0.3952569169960474\n",
      "finishes 0.0\n",
      "equals 0.0\n",
      "after 0.0\n"
     ]
    },
    {
     "data": {
      "text/plain": [
       "'Threshold not reached'"
      ]
     },
     "execution_count": 127,
     "metadata": {},
     "output_type": "execute_result"
    }
   ],
   "source": [
    "ifs_from_prcs_anteriority_2=tolerance_y_2(prcs_y.round(1), ifs_y.round(1), length=.1)\n",
    "ifs_from_prcs_anteriority_2"
   ]
  },
  {
   "cell_type": "code",
   "execution_count": 128,
   "metadata": {},
   "outputs": [],
   "source": [
    "mfs_y = manual_sulci['Middle_frontal_sulcus'].T[1]"
   ]
  },
  {
   "cell_type": "code",
   "execution_count": 129,
   "metadata": {},
   "outputs": [
    {
     "name": "stdout",
     "output_type": "stream",
     "text": [
      "J-: 14.7\n",
      "J+: 53.300000762939455\n",
      "before 100.0\n",
      "overlaps 0.0\n",
      "during 0.0\n",
      "meets 0.0\n",
      "starts 0.0\n",
      "finishes 0.0\n",
      "equals 0.0\n",
      "after 0.0\n"
     ]
    },
    {
     "data": {
      "text/plain": [
       "'Anterior of'"
      ]
     },
     "execution_count": 129,
     "metadata": {},
     "output_type": "execute_result"
    }
   ],
   "source": [
    "mfs_anteriority=tolerance_y_2(cs_y.round(1), mfs_y.round(1), length=.1)\n",
    "mfs_anteriority"
   ]
  },
  {
   "cell_type": "code",
   "execution_count": 130,
   "metadata": {},
   "outputs": [],
   "source": [
    "sps_y = manual_sulci['Superior_parietal_sulcus'].T[1]"
   ]
  },
  {
   "cell_type": "code",
   "execution_count": 131,
   "metadata": {},
   "outputs": [
    {
     "name": "stdout",
     "output_type": "stream",
     "text": [
      "J-: -69.0\n",
      "J+: -48.300001525878905\n",
      "before 0.0\n",
      "overlaps 0.0\n",
      "during 0.0\n",
      "meets 0.0\n",
      "starts 0.0\n",
      "finishes 0.0\n",
      "equals 0.0\n",
      "after 100.0\n"
     ]
    },
    {
     "data": {
      "text/plain": [
       "'Posterior of'"
      ]
     },
     "execution_count": 131,
     "metadata": {},
     "output_type": "execute_result"
    }
   ],
   "source": [
    "sps_anteriority=tolerance_y_2(cs_y.round(1), sps_y.round(1), length=.1)\n",
    "sps_anteriority"
   ]
  },
  {
   "cell_type": "code",
   "execution_count": 132,
   "metadata": {},
   "outputs": [],
   "source": [
    "ipoj_y = manual_sulci['Intermediate_primus_of_Jensen'].T[1]"
   ]
  },
  {
   "cell_type": "code",
   "execution_count": 133,
   "metadata": {},
   "outputs": [
    {
     "name": "stdout",
     "output_type": "stream",
     "text": [
      "J-: -52.3\n",
      "J+: -39.49999847412109\n",
      "before 0.0\n",
      "overlaps 0.0\n",
      "during 0.0\n",
      "meets 0.0\n",
      "starts 0.0\n",
      "finishes 0.0\n",
      "equals 0.0\n",
      "after 100.0\n"
     ]
    },
    {
     "data": {
      "text/plain": [
       "'Posterior of'"
      ]
     },
     "execution_count": 133,
     "metadata": {},
     "output_type": "execute_result"
    }
   ],
   "source": [
    "ipoj_anteriority_from_cs=tolerance_y_2(cs_y.round(1), ipoj_y.round(1), length=.1)\n",
    "ipoj_anteriority_from_cs"
   ]
  },
  {
   "cell_type": "code",
   "execution_count": 134,
   "metadata": {},
   "outputs": [],
   "source": [
    "ang_y=manual_sulci['Angular_sulcus'].T[1]"
   ]
  },
  {
   "cell_type": "code",
   "execution_count": 135,
   "metadata": {},
   "outputs": [
    {
     "name": "stdout",
     "output_type": "stream",
     "text": [
      "J-: -71.0\n",
      "J+: -51.800001525878905\n",
      "before 0.0\n",
      "overlaps 0.0\n",
      "during 0.0\n",
      "meets 0.0\n",
      "starts 0.0\n",
      "finishes 0.0\n",
      "equals 0.0\n",
      "after 100.0\n"
     ]
    },
    {
     "data": {
      "text/plain": [
       "'Posterior of'"
      ]
     },
     "execution_count": 135,
     "metadata": {},
     "output_type": "execute_result"
    }
   ],
   "source": [
    "ang_anteriority_from_cs=tolerance_y_2(cs_y.round(1), ang_y.round(1), length=.1)\n",
    "ang_anteriority_from_cs"
   ]
  },
  {
   "cell_type": "code",
   "execution_count": 136,
   "metadata": {},
   "outputs": [],
   "source": [
    "sos_y=manual_sulci['Superior_occipital_sulcus'].T[1]"
   ]
  },
  {
   "cell_type": "code",
   "execution_count": 137,
   "metadata": {},
   "outputs": [
    {
     "name": "stdout",
     "output_type": "stream",
     "text": [
      "J-: -90.1\n",
      "J+: -59.60000076293945\n",
      "before 0.0\n",
      "overlaps 0.0\n",
      "during 0.0\n",
      "meets 0.0\n",
      "starts 0.0\n",
      "finishes 0.0\n",
      "equals 0.0\n",
      "after 100.0\n"
     ]
    },
    {
     "data": {
      "text/plain": [
       "'Posterior of'"
      ]
     },
     "execution_count": 137,
     "metadata": {},
     "output_type": "execute_result"
    }
   ],
   "source": [
    "sos_anteriority_from_cs=tolerance_y_2(cs_y.round(1), sos_y.round(1), length=.1)\n",
    "sos_anteriority_from_cs"
   ]
  },
  {
   "cell_type": "code",
   "execution_count": 138,
   "metadata": {},
   "outputs": [],
   "source": [
    "ios_y=manual_sulci['Inferior_occipital_sulcus'].T[1]"
   ]
  },
  {
   "cell_type": "code",
   "execution_count": 139,
   "metadata": {},
   "outputs": [
    {
     "name": "stdout",
     "output_type": "stream",
     "text": [
      "J-: -84.1\n",
      "J+: -62.60000076293945\n",
      "before 0.0\n",
      "overlaps 0.0\n",
      "during 0.0\n",
      "meets 0.0\n",
      "starts 0.0\n",
      "finishes 0.0\n",
      "equals 0.0\n",
      "after 100.0\n"
     ]
    },
    {
     "data": {
      "text/plain": [
       "'Posterior of'"
      ]
     },
     "execution_count": 139,
     "metadata": {},
     "output_type": "execute_result"
    }
   ],
   "source": [
    "ios_anteriority_from_cs=tolerance_y_2(cs_y.round(1), ios_y.round(1), length=.1)\n",
    "ios_anteriority_from_cs"
   ]
  },
  {
   "cell_type": "code",
   "execution_count": 140,
   "metadata": {},
   "outputs": [],
   "source": [
    "aos_y=manual_sulci['Anterior_occipital_sulcus'].T[1]"
   ]
  },
  {
   "cell_type": "code",
   "execution_count": 141,
   "metadata": {},
   "outputs": [
    {
     "name": "stdout",
     "output_type": "stream",
     "text": [
      "J-: -69.5\n",
      "J+: -52.9\n",
      "before 0.0\n",
      "overlaps 0.0\n",
      "during 0.0\n",
      "meets 0.0\n",
      "starts 0.0\n",
      "finishes 0.0\n",
      "equals 0.0\n",
      "after 100.0\n"
     ]
    },
    {
     "data": {
      "text/plain": [
       "'Posterior of'"
      ]
     },
     "execution_count": 141,
     "metadata": {},
     "output_type": "execute_result"
    }
   ],
   "source": [
    "aos_anteriority_from_cs=tolerance_y_2(cs_y.round(1), aos_y.round(1), length=.1)\n",
    "aos_anteriority_from_cs"
   ]
  },
  {
   "cell_type": "code",
   "execution_count": 142,
   "metadata": {},
   "outputs": [],
   "source": [
    "its_y=manual_sulci['Inferior_temporal_sulcus'].T[1]"
   ]
  },
  {
   "cell_type": "code",
   "execution_count": 143,
   "metadata": {},
   "outputs": [
    {
     "name": "stdout",
     "output_type": "stream",
     "text": [
      "J-: -63.9\n",
      "J+: 3.5000000953674317\n",
      "before 0.0\n",
      "overlaps 0.0\n",
      "during 100.0\n",
      "meets 0.0\n",
      "starts 0.0\n",
      "finishes 0.0\n",
      "equals 0.0\n",
      "after 0.0\n"
     ]
    },
    {
     "data": {
      "text/plain": [
       "'During'"
      ]
     },
     "execution_count": 143,
     "metadata": {},
     "output_type": "execute_result"
    }
   ],
   "source": [
    "its_anteriority_from_cs=tolerance_y_2(cs_y.round(1), its_y.round(1), length=.1)\n",
    "its_anteriority_from_cs"
   ]
  },
  {
   "cell_type": "code",
   "execution_count": 144,
   "metadata": {},
   "outputs": [],
   "source": [
    "avrlf_y=manual_sulci['Anterior_vertical_ramus_lateral_fissure'].T[1]"
   ]
  },
  {
   "cell_type": "code",
   "execution_count": 145,
   "metadata": {},
   "outputs": [
    {
     "name": "stdout",
     "output_type": "stream",
     "text": [
      "J-: 25.2\n",
      "J+: 28.700000381469728\n",
      "before 100.0\n",
      "overlaps 0.0\n",
      "during 0.0\n",
      "meets 0.0\n",
      "starts 0.0\n",
      "finishes 0.0\n",
      "equals 0.0\n",
      "after 0.0\n"
     ]
    },
    {
     "data": {
      "text/plain": [
       "'Anterior of'"
      ]
     },
     "execution_count": 145,
     "metadata": {},
     "output_type": "execute_result"
    }
   ],
   "source": [
    "avrlf_anteriority_from_cs=tolerance_y_2(cs_y.round(1), avrlf_y.round(1), length=.1)\n",
    "avrlf_anteriority_from_cs"
   ]
  },
  {
   "cell_type": "code",
   "execution_count": 146,
   "metadata": {},
   "outputs": [],
   "source": [
    "ahrlf_y=manual_sulci['Anterior_horizontal_ramus_lateral_fissure'].T[1]"
   ]
  },
  {
   "cell_type": "code",
   "execution_count": 147,
   "metadata": {},
   "outputs": [
    {
     "name": "stdout",
     "output_type": "stream",
     "text": [
      "J-: 30.4\n",
      "J+: 37.199998474121095\n",
      "before 100.0\n",
      "overlaps 0.0\n",
      "during 0.0\n",
      "meets 0.0\n",
      "starts 0.0\n",
      "finishes 0.0\n",
      "equals 0.0\n",
      "after 0.0\n"
     ]
    },
    {
     "data": {
      "text/plain": [
       "'Anterior of'"
      ]
     },
     "execution_count": 147,
     "metadata": {},
     "output_type": "execute_result"
    }
   ],
   "source": [
    "ahrlf_anteriority_from_cs=tolerance_y_2(cs_y.round(1), ahrlf_y.round(1), length=.1)\n",
    "ahrlf_anteriority_from_cs"
   ]
  },
  {
   "cell_type": "code",
   "execution_count": 148,
   "metadata": {
    "scrolled": true
   },
   "outputs": [
    {
     "name": "stdout",
     "output_type": "stream",
     "text": [
      "J-: 25.2\n",
      "J+: 28.700000381469728\n",
      "before 90.29411764705883\n",
      "overlaps 0.0\n",
      "during 2.941176470588235\n",
      "meets 0.0\n",
      "starts 0.0\n",
      "finishes 0.29411764705882354\n",
      "equals 0.0\n",
      "after 6.470588235294119\n"
     ]
    },
    {
     "data": {
      "text/plain": [
       "'Anterior of'"
      ]
     },
     "execution_count": 148,
     "metadata": {},
     "output_type": "execute_result"
    }
   ],
   "source": [
    "avrlf_anteriority_2=tolerance_y_2(lf_y.round(1), avrlf_y.round(1), length=.1)\n",
    "avrlf_anteriority_2"
   ]
  },
  {
   "cell_type": "code",
   "execution_count": 149,
   "metadata": {},
   "outputs": [],
   "source": [
    "ips_y=manual_sulci['Intraparietal_sulcus'].T[1]"
   ]
  },
  {
   "cell_type": "code",
   "execution_count": 150,
   "metadata": {
    "scrolled": true
   },
   "outputs": [
    {
     "name": "stdout",
     "output_type": "stream",
     "text": [
      "J-: -66.1\n",
      "J+: -33.300001525878905\n",
      "before 0.0\n",
      "overlaps 0.0\n",
      "during 4.313725490196078\n",
      "meets 0.0\n",
      "starts 0.0\n",
      "finishes 0.39215686274509803\n",
      "equals 0.0\n",
      "after 95.29411764705881\n"
     ]
    },
    {
     "data": {
      "text/plain": [
       "'Posterior of'"
      ]
     },
     "execution_count": 150,
     "metadata": {},
     "output_type": "execute_result"
    }
   ],
   "source": [
    "ips_anteriority_2=tolerance_y_2(cs_y.round(1), ips_y.round(1), length=.1)\n",
    "ips_anteriority_2"
   ]
  },
  {
   "cell_type": "code",
   "execution_count": 151,
   "metadata": {},
   "outputs": [],
   "source": [
    "ipoj_y=manual_sulci['Intermediate_primus_of_Jensen'].T[1]"
   ]
  },
  {
   "cell_type": "code",
   "execution_count": 152,
   "metadata": {
    "scrolled": true
   },
   "outputs": [
    {
     "name": "stdout",
     "output_type": "stream",
     "text": [
      "J-: -52.3\n",
      "J+: -39.49999847412109\n",
      "before 0.0\n",
      "overlaps 0.0\n",
      "during 0.0\n",
      "meets 0.0\n",
      "starts 0.0\n",
      "finishes 0.0\n",
      "equals 0.0\n",
      "after 100.0\n"
     ]
    },
    {
     "data": {
      "text/plain": [
       "'Posterior of'"
      ]
     },
     "execution_count": 152,
     "metadata": {},
     "output_type": "execute_result"
    }
   ],
   "source": [
    "ipoj_anteriority_2=tolerance_y_2(lf_y.round(1), ipoj_y.round(1), length=.1)\n",
    "ipoj_anteriority_2"
   ]
  },
  {
   "cell_type": "code",
   "execution_count": 153,
   "metadata": {
    "scrolled": true
   },
   "outputs": [
    {
     "name": "stdout",
     "output_type": "stream",
     "text": [
      "J-: -71.0\n",
      "J+: -51.800001525878905\n",
      "before 0.0\n",
      "overlaps 0.0\n",
      "during 0.0\n",
      "meets 0.0\n",
      "starts 0.0\n",
      "finishes 0.0\n",
      "equals 0.0\n",
      "after 100.0\n"
     ]
    },
    {
     "data": {
      "text/plain": [
       "'Posterior of'"
      ]
     },
     "execution_count": 153,
     "metadata": {},
     "output_type": "execute_result"
    }
   ],
   "source": [
    "ang_anteriority_2=tolerance_y_2(lf_y.round(1), ang_y.round(1), length=.1)\n",
    "ang_anteriority_2"
   ]
  },
  {
   "cell_type": "code",
   "execution_count": 154,
   "metadata": {},
   "outputs": [],
   "source": [
    "sts_y=manual_sulci['Superior_temporal_sulcus'].T[1]"
   ]
  },
  {
   "cell_type": "code",
   "execution_count": 155,
   "metadata": {},
   "outputs": [
    {
     "name": "stdout",
     "output_type": "stream",
     "text": [
      "J-: -52.8\n",
      "J+: 21.300000762939455\n",
      "before 0.0\n",
      "overlaps 0.0\n",
      "during 83.82352941176471\n",
      "meets 0.0\n",
      "starts 0.0\n",
      "finishes 0.0\n",
      "equals 0.0\n",
      "after 16.176470588235293\n"
     ]
    },
    {
     "data": {
      "text/plain": [
       "'During'"
      ]
     },
     "execution_count": 155,
     "metadata": {},
     "output_type": "execute_result"
    }
   ],
   "source": [
    "sts_anteriority_2=tolerance_y_2(lf_y.round(1), sts_y.round(1), length=.1)\n",
    "sts_anteriority_2"
   ]
  },
  {
   "cell_type": "code",
   "execution_count": 156,
   "metadata": {},
   "outputs": [
    {
     "name": "stdout",
     "output_type": "stream",
     "text": [
      "J-: -69.5\n",
      "J+: -52.9\n",
      "before 0.0\n",
      "overlaps 0.0\n",
      "during 7.804878048780488\n",
      "meets 0.0\n",
      "starts 0.0\n",
      "finishes 0.0\n",
      "equals 0.0\n",
      "after 92.19512195121952\n"
     ]
    },
    {
     "data": {
      "text/plain": [
       "'Posterior of'"
      ]
     },
     "execution_count": 156,
     "metadata": {},
     "output_type": "execute_result"
    }
   ],
   "source": [
    "aos_of_its_posteriority_2=tolerance_y_2(its_y.round(1), aos_y.round(1), length=.1)\n",
    "aos_of_its_posteriority_2"
   ]
  },
  {
   "cell_type": "code",
   "execution_count": 157,
   "metadata": {},
   "outputs": [
    {
     "name": "stdout",
     "output_type": "stream",
     "text": [
      "J-: -69.5\n",
      "J+: -52.9\n",
      "before 31.944444444444443\n",
      "overlaps 1.3888888888888888\n",
      "during 65.27777777777779\n",
      "meets 0.0\n",
      "starts 1.3888888888888888\n",
      "finishes 0.0\n",
      "equals 0.0\n",
      "after 0.0\n"
     ]
    },
    {
     "data": {
      "text/plain": [
       "'Threshold not reached'"
      ]
     },
     "execution_count": 157,
     "metadata": {},
     "output_type": "execute_result"
    }
   ],
   "source": [
    "aos_of_ios_anteriority_2=tolerance_y_2(ios_y.round(1), aos_y.round(1), length=.1)\n",
    "aos_of_ios_anteriority_2"
   ]
  },
  {
   "cell_type": "code",
   "execution_count": 158,
   "metadata": {},
   "outputs": [
    {
     "name": "stdout",
     "output_type": "stream",
     "text": [
      "J-: -69.5\n",
      "J+: -52.9\n",
      "before 31.944444444444443\n",
      "overlaps 1.3888888888888888\n",
      "during 65.27777777777779\n",
      "meets 0.0\n",
      "starts 1.3888888888888888\n",
      "finishes 0.0\n",
      "equals 0.0\n",
      "after 0.0\n"
     ]
    },
    {
     "data": {
      "text/plain": [
       "'Threshold not reached'"
      ]
     },
     "execution_count": 158,
     "metadata": {},
     "output_type": "execute_result"
    }
   ],
   "source": [
    "aos_of_ios_anteriority_2=tolerance_y_2(ios_y.round(1), aos_y.round(1), length=.1)\n",
    "aos_of_ios_anteriority_2"
   ]
  },
  {
   "cell_type": "code",
   "execution_count": 159,
   "metadata": {},
   "outputs": [
    {
     "name": "stdout",
     "output_type": "stream",
     "text": [
      "J-: -69.5\n",
      "J+: -52.9\n",
      "before 0.0\n",
      "overlaps 0.0\n",
      "during 0.0\n",
      "meets 0.0\n",
      "starts 0.0\n",
      "finishes 0.0\n",
      "equals 0.0\n",
      "after 100.0\n"
     ]
    },
    {
     "data": {
      "text/plain": [
       "'Posterior of'"
      ]
     },
     "execution_count": 159,
     "metadata": {},
     "output_type": "execute_result"
    }
   ],
   "source": [
    "aos_of_lf_anteriority_2=tolerance_y_2(lf_y.round(1), aos_y.round(1), length=.1)\n",
    "aos_of_lf_anteriority_2"
   ]
  },
  {
   "cell_type": "code",
   "execution_count": 160,
   "metadata": {},
   "outputs": [
    {
     "name": "stdout",
     "output_type": "stream",
     "text": [
      "J-: 54.1\n",
      "J+: 67.1\n",
      "before 100.0\n",
      "overlaps 0.0\n",
      "during 0.0\n",
      "meets 0.0\n",
      "starts 0.0\n",
      "finishes 0.0\n",
      "equals 0.0\n",
      "after 0.0\n"
     ]
    },
    {
     "data": {
      "text/plain": [
       "'Anterior of'"
      ]
     },
     "execution_count": 160,
     "metadata": {},
     "output_type": "execute_result"
    }
   ],
   "source": [
    "fms_of_lf_anteriority_2=tolerance_y_2(lf_y.round(1), fms_y.round(1), length=.1)\n",
    "fms_of_lf_anteriority_2"
   ]
  },
  {
   "cell_type": "code",
   "execution_count": 161,
   "metadata": {},
   "outputs": [
    {
     "name": "stdout",
     "output_type": "stream",
     "text": [
      "J-: -66.1\n",
      "J+: -33.300001525878905\n",
      "before 0.0\n",
      "overlaps 0.0\n",
      "during 0.0\n",
      "meets 0.0\n",
      "starts 0.0\n",
      "finishes 0.0\n",
      "equals 0.0\n",
      "after 100.0\n"
     ]
    },
    {
     "data": {
      "text/plain": [
       "'Posterior of'"
      ]
     },
     "execution_count": 161,
     "metadata": {},
     "output_type": "execute_result"
    }
   ],
   "source": [
    "ips_of_lf_anteriority_2=tolerance_y_2(lf_y.round(1), ips_y.round(1), length=.1)\n",
    "ips_of_lf_anteriority_2"
   ]
  },
  {
   "cell_type": "code",
   "execution_count": 162,
   "metadata": {},
   "outputs": [
    {
     "name": "stdout",
     "output_type": "stream",
     "text": [
      "J-: -49.2\n",
      "J+: -13.4\n",
      "before 0.0\n",
      "overlaps 0.0\n",
      "during 37.94117647058823\n",
      "meets 0.0\n",
      "starts 0.0\n",
      "finishes 0.29411764705882354\n",
      "equals 0.0\n",
      "after 61.76470588235294\n"
     ]
    },
    {
     "data": {
      "text/plain": [
       "'Threshold not reached'"
      ]
     },
     "execution_count": 162,
     "metadata": {},
     "output_type": "execute_result"
    }
   ],
   "source": [
    "pocs_of_lf_anteriority_2=tolerance_y_2(lf_y.round(1), pocs_y.round(1), length=.1)\n",
    "pocs_of_lf_anteriority_2"
   ]
  },
  {
   "cell_type": "code",
   "execution_count": 163,
   "metadata": {},
   "outputs": [
    {
     "name": "stdout",
     "output_type": "stream",
     "text": [
      "J-: -69.0\n",
      "J+: -48.300001525878905\n",
      "before 0.0\n",
      "overlaps 0.0\n",
      "during 0.0\n",
      "meets 0.0\n",
      "starts 0.0\n",
      "finishes 0.0\n",
      "equals 0.0\n",
      "after 100.0\n"
     ]
    },
    {
     "data": {
      "text/plain": [
       "'Posterior of'"
      ]
     },
     "execution_count": 163,
     "metadata": {},
     "output_type": "execute_result"
    }
   ],
   "source": [
    "sps_of_lf_anteriority_2=tolerance_y_2(lf_y.round(1), sps_y.round(1), length=.1)\n",
    "sps_of_lf_anteriority_2"
   ]
  },
  {
   "cell_type": "code",
   "execution_count": 164,
   "metadata": {},
   "outputs": [
    {
     "name": "stdout",
     "output_type": "stream",
     "text": [
      "J-: -90.1\n",
      "J+: -59.60000076293945\n",
      "before 0.0\n",
      "overlaps 0.0\n",
      "during 0.0\n",
      "meets 0.0\n",
      "starts 0.0\n",
      "finishes 0.0\n",
      "equals 0.0\n",
      "after 100.0\n"
     ]
    },
    {
     "data": {
      "text/plain": [
       "'Posterior of'"
      ]
     },
     "execution_count": 164,
     "metadata": {},
     "output_type": "execute_result"
    }
   ],
   "source": [
    "sos_of_lf_anteriority_2=tolerance_y_2(lf_y.round(1), sos_y.round(1), length=.1)\n",
    "sos_of_lf_anteriority_2"
   ]
  },
  {
   "cell_type": "code",
   "execution_count": 165,
   "metadata": {},
   "outputs": [
    {
     "name": "stdout",
     "output_type": "stream",
     "text": [
      "J-: -84.1\n",
      "J+: -62.60000076293945\n",
      "before 0.0\n",
      "overlaps 0.0\n",
      "during 0.0\n",
      "meets 0.0\n",
      "starts 0.0\n",
      "finishes 0.0\n",
      "equals 0.0\n",
      "after 100.0\n"
     ]
    },
    {
     "data": {
      "text/plain": [
       "'Posterior of'"
      ]
     },
     "execution_count": 165,
     "metadata": {},
     "output_type": "execute_result"
    }
   ],
   "source": [
    "ios_of_lf_anteriority_2=tolerance_y_2(lf_y.round(1), ios_y.round(1), length=.1)\n",
    "ios_of_lf_anteriority_2"
   ]
  },
  {
   "cell_type": "code",
   "execution_count": 166,
   "metadata": {},
   "outputs": [
    {
     "name": "stdout",
     "output_type": "stream",
     "text": [
      "J-: -69.0\n",
      "J+: -48.300001525878905\n",
      "before 0.0\n",
      "overlaps 0.0\n",
      "during 0.0\n",
      "meets 0.0\n",
      "starts 0.0\n",
      "finishes 0.0\n",
      "equals 0.0\n",
      "after 100.0\n"
     ]
    },
    {
     "data": {
      "text/plain": [
       "'Posterior of'"
      ]
     },
     "execution_count": 166,
     "metadata": {},
     "output_type": "execute_result"
    }
   ],
   "source": [
    "sps_of_lf_anteriority_2=tolerance_y_2(lf_y.round(1), sps_y.round(1), length=.1)\n",
    "sps_of_lf_anteriority_2"
   ]
  },
  {
   "cell_type": "code",
   "execution_count": 167,
   "metadata": {},
   "outputs": [
    {
     "name": "stdout",
     "output_type": "stream",
     "text": [
      "J-: -90.1\n",
      "J+: -59.60000076293945\n",
      "before 0.0\n",
      "overlaps 0.0\n",
      "during 31.097560975609756\n",
      "meets 0.0\n",
      "starts 0.0\n",
      "finishes 0.6097560975609756\n",
      "equals 0.0\n",
      "after 68.29268292682927\n"
     ]
    },
    {
     "data": {
      "text/plain": [
       "'Threshold not reached'"
      ]
     },
     "execution_count": 167,
     "metadata": {},
     "output_type": "execute_result"
    }
   ],
   "source": [
    "sos_posterior=tolerance_y_2(ips_y.round(1), sos_y.round(1), length=0.1)\n",
    "sos_posterior"
   ]
  },
  {
   "cell_type": "markdown",
   "metadata": {},
   "source": [
    "### Medial surface"
   ]
  },
  {
   "cell_type": "code",
   "execution_count": 168,
   "metadata": {},
   "outputs": [],
   "source": [
    "pos_y = manual_sulci['Parieto_occipital_sulcus'].T[1]"
   ]
  },
  {
   "cell_type": "code",
   "execution_count": 169,
   "metadata": {},
   "outputs": [
    {
     "name": "stdout",
     "output_type": "stream",
     "text": [
      "J-: -78.5\n",
      "J+: -57.4\n",
      "before 0.0\n",
      "overlaps 0.0\n",
      "during 0.0\n",
      "meets 0.0\n",
      "starts 0.0\n",
      "finishes 0.0\n",
      "equals 0.0\n",
      "after 100.0\n"
     ]
    }
   ],
   "source": [
    "pos_anteriority=tolerance_y_2(call_y.round(1), pos_y.round(1), length=.1)"
   ]
  },
  {
   "cell_type": "code",
   "execution_count": 170,
   "metadata": {},
   "outputs": [
    {
     "name": "stdout",
     "output_type": "stream",
     "text": [
      "J-: -45.9\n",
      "J+: 36.89999923706055\n",
      "before 0.0\n",
      "overlaps 0.0\n",
      "during 100.0\n",
      "meets 0.0\n",
      "starts 0.0\n",
      "finishes 0.0\n",
      "equals 0.0\n",
      "after 0.0\n"
     ]
    }
   ],
   "source": [
    "call_anteriority_2=tolerance_y_2(cs_y.round(1), call_y.round(1), length=.1)"
   ]
  },
  {
   "cell_type": "code",
   "execution_count": 171,
   "metadata": {},
   "outputs": [],
   "source": [
    "calc_y = manual_sulci['Calcarine_sulcus'].T[1]"
   ]
  },
  {
   "cell_type": "code",
   "execution_count": 172,
   "metadata": {},
   "outputs": [
    {
     "name": "stdout",
     "output_type": "stream",
     "text": [
      "J-: -95.3\n",
      "J+: -41.99999847412109\n",
      "before 0.0\n",
      "overlaps 0.0\n",
      "during 9.688581314878892\n",
      "meets 0.0\n",
      "starts 0.0\n",
      "finishes 0.0\n",
      "equals 0.0\n",
      "after 89.96539792387543\n"
     ]
    }
   ],
   "source": [
    "calc_anteriority_2=tolerance_y_2(call_y.round(1), calc_y.round(1), length=.1)"
   ]
  },
  {
   "cell_type": "code",
   "execution_count": 173,
   "metadata": {},
   "outputs": [],
   "source": [
    "cing_y = manual_sulci['Cingulate_sulcus'].T[1]"
   ]
  },
  {
   "cell_type": "code",
   "execution_count": 174,
   "metadata": {},
   "outputs": [
    {
     "name": "stdout",
     "output_type": "stream",
     "text": [
      "J-: -36.1\n",
      "J+: 45.6\n",
      "before 0.0\n",
      "overlaps 0.0\n",
      "during 100.0\n",
      "meets 0.0\n",
      "starts 0.0\n",
      "finishes 0.0\n",
      "equals 0.0\n",
      "after 0.0\n"
     ]
    }
   ],
   "source": [
    "cing_anteriority_2=tolerance_y_2(cs_y.round(1), cing_y.round(1), length=.1)"
   ]
  },
  {
   "cell_type": "code",
   "execution_count": 175,
   "metadata": {},
   "outputs": [],
   "source": [
    "paracing_y = manual_sulci['Paracingulate_sulcus'].T[1]"
   ]
  },
  {
   "cell_type": "code",
   "execution_count": 176,
   "metadata": {},
   "outputs": [
    {
     "name": "stdout",
     "output_type": "stream",
     "text": [
      "J-: -17.1\n",
      "J+: 68.1\n",
      "before 49.411764705882355\n",
      "overlaps 0.0\n",
      "during 50.19607843137255\n",
      "meets 0.0\n",
      "starts 0.39215686274509803\n",
      "finishes 0.0\n",
      "equals 0.0\n",
      "after 0.0\n"
     ]
    }
   ],
   "source": [
    "paracing_anteriority_2=tolerance_y_2(cs_y.round(1), paracing_y.round(1), length=.1)"
   ]
  },
  {
   "cell_type": "code",
   "execution_count": 177,
   "metadata": {},
   "outputs": [],
   "source": [
    "srs_y = manual_sulci['Superior_rostral_sulcus'].T[1]"
   ]
  },
  {
   "cell_type": "code",
   "execution_count": 178,
   "metadata": {},
   "outputs": [
    {
     "name": "stdout",
     "output_type": "stream",
     "text": [
      "J-: 40.6\n",
      "J+: 60.199998474121095\n",
      "before 100.0\n",
      "overlaps 0.0\n",
      "during 0.0\n",
      "meets 0.0\n",
      "starts 0.0\n",
      "finishes 0.0\n",
      "equals 0.0\n",
      "after 0.0\n"
     ]
    }
   ],
   "source": [
    "srs_anteriority_2=tolerance_y_2(cs_y.round(1), srs_y.round(1), length=.1)"
   ]
  },
  {
   "cell_type": "code",
   "execution_count": 179,
   "metadata": {},
   "outputs": [],
   "source": [
    "subp_y = manual_sulci['Subparietal_sulcus'].T[1]"
   ]
  },
  {
   "cell_type": "code",
   "execution_count": 180,
   "metadata": {},
   "outputs": [
    {
     "name": "stdout",
     "output_type": "stream",
     "text": [
      "J-: -68.8\n",
      "J+: -34.10000076293945\n",
      "before 0.0\n",
      "overlaps 0.0\n",
      "during 19.72318339100346\n",
      "meets 0.0\n",
      "starts 0.0\n",
      "finishes 0.0\n",
      "equals 0.0\n",
      "after 80.27681660899654\n"
     ]
    }
   ],
   "source": [
    "subp_posteriority=tolerance_y_2(call_y.round(1), subp_y.round(1), length=.1)"
   ]
  },
  {
   "cell_type": "code",
   "execution_count": 181,
   "metadata": {},
   "outputs": [],
   "source": [
    "cun_y = manual_sulci['Cuneal_sulcus'].T[1]"
   ]
  },
  {
   "cell_type": "code",
   "execution_count": 182,
   "metadata": {},
   "outputs": [
    {
     "name": "stdout",
     "output_type": "stream",
     "text": [
      "J-: -85.8\n",
      "J+: -75.9\n",
      "before 0.0\n",
      "overlaps 0.0\n",
      "during 0.0\n",
      "meets 0.0\n",
      "starts 0.0\n",
      "finishes 0.0\n",
      "equals 0.0\n",
      "after 100.0\n"
     ]
    }
   ],
   "source": [
    "cun_anteriority=tolerance_y_2(call_y.round(1), cun_y.round(1), length=.1)"
   ]
  },
  {
   "cell_type": "code",
   "execution_count": 183,
   "metadata": {},
   "outputs": [],
   "source": [
    "ils_y = manual_sulci['Intralingual_sulcus'].T[1]"
   ]
  },
  {
   "cell_type": "code",
   "execution_count": 184,
   "metadata": {},
   "outputs": [
    {
     "name": "stdout",
     "output_type": "stream",
     "text": [
      "J-: -79.8\n",
      "J+: -63.49999847412109\n",
      "before 0.0\n",
      "overlaps 0.0\n",
      "during 0.0\n",
      "meets 0.0\n",
      "starts 0.0\n",
      "finishes 0.0\n",
      "equals 0.0\n",
      "after 100.0\n"
     ]
    }
   ],
   "source": [
    "ils_anteriority=tolerance_y_2(call_y.round(1), ils_y.round(1), length=.1)"
   ]
  },
  {
   "cell_type": "code",
   "execution_count": 185,
   "metadata": {},
   "outputs": [],
   "source": [
    "marg_y=manual_sulci['Callosomarginal_sulcus'].T[1]"
   ]
  },
  {
   "cell_type": "code",
   "execution_count": 186,
   "metadata": {},
   "outputs": [
    {
     "name": "stdout",
     "output_type": "stream",
     "text": [
      "J-: -43.5\n",
      "J+: -34.699999237060545\n",
      "before 0.0\n",
      "overlaps 0.0\n",
      "during 1.3192612137203166\n",
      "meets 0.0\n",
      "starts 0.0\n",
      "finishes 0.2638522427440633\n",
      "equals 0.0\n",
      "after 98.41688654353563\n"
     ]
    }
   ],
   "source": [
    "marg_posteriority=tolerance_y_2(cing_y.round(1), marg_y.round(1), length=.1)"
   ]
  },
  {
   "cell_type": "markdown",
   "metadata": {},
   "source": [
    "### Superiority/Inferiority"
   ]
  },
  {
   "cell_type": "code",
   "execution_count": 187,
   "metadata": {},
   "outputs": [],
   "source": [
    "def tolerance_z(zs_origin_sulcus, zs_target_sulcus, length):\n",
    "    # we consider I the origin\n",
    "    above=set()\n",
    "    overlaps=set()\n",
    "    during=set()\n",
    "    meets=set()\n",
    "    starts=set()\n",
    "    finishes=set()\n",
    "    equals=set()\n",
    "    below=set()\n",
    "    Superior_of=set()\n",
    "    Inferior_of=set()\n",
    "    During=set()\n",
    "    J_minus = min(zs_target_sulcus)\n",
    "    print('J-:', J_minus)\n",
    "    J_plus = max(zs_target_sulcus) + length\n",
    "    print('J+:', J_plus)\n",
    "    \n",
    "    I_boxes = set(zs_origin_sulcus)\n",
    "    for x in I_boxes:\n",
    "        I_minus = x\n",
    "        I_plus = I_minus + length\n",
    "        \n",
    "        if I_minus < I_plus < J_minus < J_plus:\n",
    "            above.add(x)\n",
    "        if I_minus < J_minus < I_plus < J_plus:\n",
    "            overlaps.add(x)\n",
    "        if J_minus < I_minus < I_plus < J_plus:\n",
    "            during.add(x)\n",
    "        if I_minus < I_plus == J_minus < J_plus:\n",
    "            meets.add(x)\n",
    "        if I_minus == J_minus < I_plus < J_plus:\n",
    "            starts.add(x)\n",
    "        if J_minus < I_minus < I_plus == J_plus:\n",
    "            finishes.add(x)\n",
    "        if I_minus == J_minus < I_plus == J_plus:\n",
    "            equals.add(x)\n",
    "        if J_minus < J_plus < I_minus < I_plus:\n",
    "            below.add(x)\n",
    "        \n",
    "    \n",
    "    print('above', len(above) / len(I_boxes) * 100)\n",
    "    print('overlaps', len(overlaps) / len(I_boxes) * 100)\n",
    "    print('during', len(during) / len(I_boxes) * 100)\n",
    "    print('meets', len(meets) / len(I_boxes) * 100)\n",
    "    print('starts', len(starts) / len(I_boxes) * 100)\n",
    "    print('finishes', len(finishes) / len(I_boxes) * 100)\n",
    "    print('equals', len(equals) / len(I_boxes) * 100)\n",
    "    print('below', len(below) / len(I_boxes) * 100)\n",
    "    \n",
    "    if (len(above) / len(I_boxes))>=0.8:\n",
    "        Superior_of.add(str(zs_target_sulcus))\n",
    "        return 'Superior of'\n",
    "    if (len(below) / len(I_boxes))>=0.8:\n",
    "        Inferior_of.add(str(zs_target_sulcus))\n",
    "        return 'Inferior of'\n",
    "    if (len(during) / len(I_boxes))>=0.8:\n",
    "        During.add(str(zs_target_sulcus))\n",
    "        return 'During'\n",
    "    else:\n",
    "        return 'Threshold not reached'"
   ]
  },
  {
   "cell_type": "code",
   "execution_count": 188,
   "metadata": {},
   "outputs": [],
   "source": [
    "cs_z = manual_sulci['Central_sulcus'].T[2]"
   ]
  },
  {
   "cell_type": "code",
   "execution_count": 189,
   "metadata": {},
   "outputs": [],
   "source": [
    "lf_z = manual_sulci['Lateral_fissure'].T[2]"
   ]
  },
  {
   "cell_type": "code",
   "execution_count": 190,
   "metadata": {},
   "outputs": [],
   "source": [
    "sts_z = manual_sulci['Superior_temporal_sulcus'].T[2]"
   ]
  },
  {
   "cell_type": "code",
   "execution_count": 191,
   "metadata": {},
   "outputs": [
    {
     "name": "stdout",
     "output_type": "stream",
     "text": [
      "J-: 0.1\n",
      "J+: 36.39999923706055\n",
      "above 0.0\n",
      "overlaps 0.0\n",
      "during 40.3954802259887\n",
      "meets 0.0\n",
      "starts 0.0\n",
      "finishes 0.2824858757062147\n",
      "equals 0.0\n",
      "below 59.32203389830508\n"
     ]
    },
    {
     "data": {
      "text/plain": [
       "'Threshold not reached'"
      ]
     },
     "execution_count": 191,
     "metadata": {},
     "output_type": "execute_result"
    }
   ],
   "source": [
    "lf_inferior_from_cs=tolerance_z(cs_z.round(1), lf_z.round(1), length=0.1)\n",
    "lf_inferior_from_cs"
   ]
  },
  {
   "cell_type": "code",
   "execution_count": 192,
   "metadata": {},
   "outputs": [
    {
     "name": "stdout",
     "output_type": "stream",
     "text": [
      "J-: -40.2\n",
      "J+: 24.300000762939455\n",
      "above 0.0\n",
      "overlaps 0.0\n",
      "during 73.54085603112841\n",
      "meets 0.0\n",
      "starts 0.0\n",
      "finishes 0.38910505836575876\n",
      "equals 0.0\n",
      "below 25.680933852140075\n"
     ]
    },
    {
     "data": {
      "text/plain": [
       "'Threshold not reached'"
      ]
     },
     "execution_count": 192,
     "metadata": {},
     "output_type": "execute_result"
    }
   ],
   "source": [
    "sts_inferior=tolerance_z(lf_z.round(1), sts_z.round(1), length=0.1)\n",
    "sts_inferior"
   ]
  },
  {
   "cell_type": "code",
   "execution_count": 193,
   "metadata": {},
   "outputs": [
    {
     "name": "stdout",
     "output_type": "stream",
     "text": [
      "J-: -40.2\n",
      "J+: 24.300000762939455\n",
      "above 0.0\n",
      "overlaps 0.0\n",
      "during 16.38418079096045\n",
      "meets 0.0\n",
      "starts 0.0\n",
      "finishes 0.0\n",
      "equals 0.0\n",
      "below 83.61581920903954\n"
     ]
    },
    {
     "data": {
      "text/plain": [
       "'Inferior of'"
      ]
     },
     "execution_count": 193,
     "metadata": {},
     "output_type": "execute_result"
    }
   ],
   "source": [
    "sts_inferior_from_cs=tolerance_z(cs_z.round(1), sts_z.round(1), length=0.1)\n",
    "sts_inferior_from_cs"
   ]
  },
  {
   "cell_type": "code",
   "execution_count": 194,
   "metadata": {},
   "outputs": [],
   "source": [
    "its_z = manual_sulci['Inferior_temporal_sulcus'].T[2]"
   ]
  },
  {
   "cell_type": "code",
   "execution_count": 195,
   "metadata": {},
   "outputs": [
    {
     "name": "stdout",
     "output_type": "stream",
     "text": [
      "J-: -37.2\n",
      "J+: -5.9\n",
      "above 0.0\n",
      "overlaps 0.0\n",
      "during 0.0\n",
      "meets 0.0\n",
      "starts 0.0\n",
      "finishes 0.0\n",
      "equals 0.0\n",
      "below 100.0\n"
     ]
    },
    {
     "data": {
      "text/plain": [
       "'Inferior of'"
      ]
     },
     "execution_count": 195,
     "metadata": {},
     "output_type": "execute_result"
    }
   ],
   "source": [
    "its_inferior=tolerance_z(lf_z.round(1), its_z.round(1), length=0.1)\n",
    "its_inferior"
   ]
  },
  {
   "cell_type": "code",
   "execution_count": 196,
   "metadata": {},
   "outputs": [
    {
     "name": "stdout",
     "output_type": "stream",
     "text": [
      "J-: -37.2\n",
      "J+: -5.9\n",
      "above 0.0\n",
      "overlaps 0.0\n",
      "during 0.0\n",
      "meets 0.0\n",
      "starts 0.0\n",
      "finishes 0.0\n",
      "equals 0.0\n",
      "below 100.0\n"
     ]
    },
    {
     "data": {
      "text/plain": [
       "'Inferior of'"
      ]
     },
     "execution_count": 196,
     "metadata": {},
     "output_type": "execute_result"
    }
   ],
   "source": [
    "its_inferior_from_cs=tolerance_z(cs_z.round(1), its_z.round(1), length=0.1)\n",
    "its_inferior_from_cs"
   ]
  },
  {
   "cell_type": "code",
   "execution_count": 197,
   "metadata": {},
   "outputs": [],
   "source": [
    "ips_z = manual_sulci['Intraparietal_sulcus'].T[2]"
   ]
  },
  {
   "cell_type": "code",
   "execution_count": 198,
   "metadata": {},
   "outputs": [
    {
     "name": "stdout",
     "output_type": "stream",
     "text": [
      "J-: 36.9\n",
      "J+: 63.6\n",
      "above 100.0\n",
      "overlaps 0.0\n",
      "during 0.0\n",
      "meets 0.0\n",
      "starts 0.0\n",
      "finishes 0.0\n",
      "equals 0.0\n",
      "below 0.0\n"
     ]
    },
    {
     "data": {
      "text/plain": [
       "'Superior of'"
      ]
     },
     "execution_count": 198,
     "metadata": {},
     "output_type": "execute_result"
    }
   ],
   "source": [
    "ips_superior=tolerance_z(lf_z.round(1), ips_z.round(1), length=0.1)\n",
    "ips_superior"
   ]
  },
  {
   "cell_type": "code",
   "execution_count": 199,
   "metadata": {},
   "outputs": [],
   "source": [
    "ipoj_z = manual_sulci['Intermediate_primus_of_Jensen'].T[2]"
   ]
  },
  {
   "cell_type": "code",
   "execution_count": 200,
   "metadata": {},
   "outputs": [
    {
     "name": "stdout",
     "output_type": "stream",
     "text": [
      "J-: 21.8\n",
      "J+: 47.199998474121095\n",
      "above 0.0\n",
      "overlaps 0.0\n",
      "during 54.43037974683544\n",
      "meets 0.0\n",
      "starts 0.0\n",
      "finishes 0.6329113924050633\n",
      "equals 0.0\n",
      "below 44.936708860759495\n"
     ]
    },
    {
     "data": {
      "text/plain": [
       "'Threshold not reached'"
      ]
     },
     "execution_count": 200,
     "metadata": {},
     "output_type": "execute_result"
    }
   ],
   "source": [
    "ipoj_inferior=tolerance_z(ips_z.round(1), ipoj_z.round(1), length=0.1)\n",
    "ipoj_inferior"
   ]
  },
  {
   "cell_type": "code",
   "execution_count": 201,
   "metadata": {},
   "outputs": [
    {
     "name": "stdout",
     "output_type": "stream",
     "text": [
      "J-: 21.8\n",
      "J+: 47.199998474121095\n",
      "above 13.559322033898304\n",
      "overlaps 0.2824858757062147\n",
      "during 42.93785310734463\n",
      "meets 0.0\n",
      "starts 0.2824858757062147\n",
      "finishes 0.2824858757062147\n",
      "equals 0.0\n",
      "below 42.65536723163842\n"
     ]
    },
    {
     "data": {
      "text/plain": [
       "'Threshold not reached'"
      ]
     },
     "execution_count": 201,
     "metadata": {},
     "output_type": "execute_result"
    }
   ],
   "source": [
    "ipoj_inferior_from_cs=tolerance_z(cs_z.round(1), ipoj_z.round(1), length=0.1)\n",
    "ipoj_inferior_from_cs"
   ]
  },
  {
   "cell_type": "code",
   "execution_count": 202,
   "metadata": {},
   "outputs": [],
   "source": [
    "ang_z = manual_sulci['Angular_sulcus'].T[2]"
   ]
  },
  {
   "cell_type": "code",
   "execution_count": 203,
   "metadata": {},
   "outputs": [
    {
     "name": "stdout",
     "output_type": "stream",
     "text": [
      "J-: 23.3\n",
      "J+: 52.699998474121095\n",
      "above 0.0\n",
      "overlaps 0.0\n",
      "during 83.54430379746836\n",
      "meets 0.0\n",
      "starts 0.0\n",
      "finishes 0.6329113924050633\n",
      "equals 0.0\n",
      "below 15.822784810126583\n"
     ]
    },
    {
     "data": {
      "text/plain": [
       "'During'"
      ]
     },
     "execution_count": 203,
     "metadata": {},
     "output_type": "execute_result"
    }
   ],
   "source": [
    "ang_inferior=tolerance_z(ips_z.round(1), ang_z.round(1), length=0.1)\n",
    "ang_inferior"
   ]
  },
  {
   "cell_type": "code",
   "execution_count": 204,
   "metadata": {},
   "outputs": [
    {
     "name": "stdout",
     "output_type": "stream",
     "text": [
      "J-: 23.3\n",
      "J+: 52.699998474121095\n",
      "above 15.254237288135593\n",
      "overlaps 0.0\n",
      "during 53.672316384180796\n",
      "meets 0.0\n",
      "starts 0.0\n",
      "finishes 0.0\n",
      "equals 0.0\n",
      "below 31.07344632768362\n"
     ]
    },
    {
     "data": {
      "text/plain": [
       "'Threshold not reached'"
      ]
     },
     "execution_count": 204,
     "metadata": {},
     "output_type": "execute_result"
    }
   ],
   "source": [
    "ang_inferior_from_cs=tolerance_z(cs_z.round(1), ang_z.round(1), length=0.1)\n",
    "ang_inferior_from_cs"
   ]
  },
  {
   "cell_type": "code",
   "execution_count": 205,
   "metadata": {},
   "outputs": [],
   "source": [
    "sos_z = manual_sulci['Superior_occipital_sulcus'].T[2]"
   ]
  },
  {
   "cell_type": "code",
   "execution_count": 206,
   "metadata": {},
   "outputs": [
    {
     "name": "stdout",
     "output_type": "stream",
     "text": [
      "J-: 9.4\n",
      "J+: 43.699998474121095\n",
      "above 0.0\n",
      "overlaps 0.0\n",
      "during 34.177215189873415\n",
      "meets 0.0\n",
      "starts 0.0\n",
      "finishes 0.6329113924050633\n",
      "equals 0.0\n",
      "below 65.18987341772153\n"
     ]
    },
    {
     "data": {
      "text/plain": [
       "'Threshold not reached'"
      ]
     },
     "execution_count": 206,
     "metadata": {},
     "output_type": "execute_result"
    }
   ],
   "source": [
    "sos_inferior=tolerance_z(ips_z.round(1), sos_z.round(1), length=0.1)\n",
    "sos_inferior"
   ]
  },
  {
   "cell_type": "code",
   "execution_count": 207,
   "metadata": {},
   "outputs": [
    {
     "name": "stdout",
     "output_type": "stream",
     "text": [
      "J-: 9.4\n",
      "J+: 43.699998474121095\n",
      "above 0.5649717514124294\n",
      "overlaps 0.0\n",
      "during 50.847457627118644\n",
      "meets 0.0\n",
      "starts 0.0\n",
      "finishes 0.0\n",
      "equals 0.0\n",
      "below 48.58757062146893\n"
     ]
    },
    {
     "data": {
      "text/plain": [
       "'Threshold not reached'"
      ]
     },
     "execution_count": 207,
     "metadata": {},
     "output_type": "execute_result"
    }
   ],
   "source": [
    "sos_inferior_from_cs=tolerance_z(cs_z.round(1), sos_z.round(1), length=0.1)\n",
    "sos_inferior_from_cs"
   ]
  },
  {
   "cell_type": "code",
   "execution_count": 208,
   "metadata": {},
   "outputs": [
    {
     "name": "stdout",
     "output_type": "stream",
     "text": [
      "J-: 9.4\n",
      "J+: 43.699998474121095\n",
      "above 20.622568093385212\n",
      "overlaps 0.38910505836575876\n",
      "during 78.59922178988327\n",
      "meets 0.0\n",
      "starts 0.38910505836575876\n",
      "finishes 0.0\n",
      "equals 0.0\n",
      "below 0.0\n"
     ]
    },
    {
     "data": {
      "text/plain": [
       "'Threshold not reached'"
      ]
     },
     "execution_count": 208,
     "metadata": {},
     "output_type": "execute_result"
    }
   ],
   "source": [
    "sos_inferior_from_lf=tolerance_z(lf_z.round(1), sos_z.round(1), length=0.1)\n",
    "sos_inferior_from_lf"
   ]
  },
  {
   "cell_type": "code",
   "execution_count": 209,
   "metadata": {},
   "outputs": [],
   "source": [
    "ios_z = manual_sulci['Inferior_occipital_sulcus'].T[2]"
   ]
  },
  {
   "cell_type": "code",
   "execution_count": 210,
   "metadata": {},
   "outputs": [
    {
     "name": "stdout",
     "output_type": "stream",
     "text": [
      "J-: -7.4\n",
      "J+: 8.1\n",
      "above 0.0\n",
      "overlaps 0.0\n",
      "during 0.0\n",
      "meets 0.0\n",
      "starts 0.0\n",
      "finishes 0.0\n",
      "equals 0.0\n",
      "below 100.0\n"
     ]
    },
    {
     "data": {
      "text/plain": [
       "'Inferior of'"
      ]
     },
     "execution_count": 210,
     "metadata": {},
     "output_type": "execute_result"
    }
   ],
   "source": [
    "ios_inferior=tolerance_z(sos_z.round(1), ios_z.round(1), length=0.1)\n",
    "ios_inferior"
   ]
  },
  {
   "cell_type": "code",
   "execution_count": 211,
   "metadata": {},
   "outputs": [
    {
     "name": "stdout",
     "output_type": "stream",
     "text": [
      "J-: -7.4\n",
      "J+: 8.1\n",
      "above 0.0\n",
      "overlaps 0.0\n",
      "during 0.0\n",
      "meets 0.0\n",
      "starts 0.0\n",
      "finishes 0.0\n",
      "equals 0.0\n",
      "below 100.0\n"
     ]
    },
    {
     "data": {
      "text/plain": [
       "'Inferior of'"
      ]
     },
     "execution_count": 211,
     "metadata": {},
     "output_type": "execute_result"
    }
   ],
   "source": [
    "ios_inferior_from_cs=tolerance_z(cs_z.round(1), ios_z.round(1), length=0.1)\n",
    "ios_inferior_from_cs"
   ]
  },
  {
   "cell_type": "code",
   "execution_count": 212,
   "metadata": {},
   "outputs": [
    {
     "name": "stdout",
     "output_type": "stream",
     "text": [
      "J-: -7.4\n",
      "J+: 8.1\n",
      "above 0.0\n",
      "overlaps 0.0\n",
      "during 16.342412451361866\n",
      "meets 0.0\n",
      "starts 0.0\n",
      "finishes 0.38910505836575876\n",
      "equals 0.0\n",
      "below 83.26848249027238\n"
     ]
    },
    {
     "data": {
      "text/plain": [
       "'Inferior of'"
      ]
     },
     "execution_count": 212,
     "metadata": {},
     "output_type": "execute_result"
    }
   ],
   "source": [
    "ios_inferior_from_lf=tolerance_z(lf_z.round(1), ios_z.round(1), length=0.1)\n",
    "ios_inferior_from_lf"
   ]
  },
  {
   "cell_type": "code",
   "execution_count": 213,
   "metadata": {},
   "outputs": [],
   "source": [
    "los_z = manual_sulci['Lateral_occipital_sulcus'].T[2]"
   ]
  },
  {
   "cell_type": "code",
   "execution_count": 214,
   "metadata": {},
   "outputs": [
    {
     "name": "stdout",
     "output_type": "stream",
     "text": [
      "J-: -1.3\n",
      "J+: 4.400000190734863\n",
      "above 0.0\n",
      "overlaps 0.0\n",
      "during 0.0\n",
      "meets 0.0\n",
      "starts 0.0\n",
      "finishes 0.0\n",
      "equals 0.0\n",
      "below 100.0\n"
     ]
    },
    {
     "data": {
      "text/plain": [
       "'Inferior of'"
      ]
     },
     "execution_count": 214,
     "metadata": {},
     "output_type": "execute_result"
    }
   ],
   "source": [
    "los_inferior=tolerance_z(sos_z.round(1), los_z.round(1), length=0.1)\n",
    "los_inferior"
   ]
  },
  {
   "cell_type": "code",
   "execution_count": 215,
   "metadata": {},
   "outputs": [
    {
     "name": "stdout",
     "output_type": "stream",
     "text": [
      "J-: -1.3\n",
      "J+: 4.400000190734863\n",
      "above 0.0\n",
      "overlaps 0.0\n",
      "during 5.836575875486381\n",
      "meets 0.0\n",
      "starts 0.0\n",
      "finishes 0.38910505836575876\n",
      "equals 0.0\n",
      "below 93.77431906614785\n"
     ]
    },
    {
     "data": {
      "text/plain": [
       "'Inferior of'"
      ]
     },
     "execution_count": 215,
     "metadata": {},
     "output_type": "execute_result"
    }
   ],
   "source": [
    "los_inferior_from_lf=tolerance_z(lf_z.round(1), los_z.round(1), length=0.1)\n",
    "los_inferior_from_lf"
   ]
  },
  {
   "cell_type": "code",
   "execution_count": 216,
   "metadata": {},
   "outputs": [
    {
     "name": "stdout",
     "output_type": "stream",
     "text": [
      "J-: -1.3\n",
      "J+: 4.400000190734863\n",
      "above 0.0\n",
      "overlaps 0.0\n",
      "during 0.0\n",
      "meets 0.0\n",
      "starts 0.0\n",
      "finishes 0.0\n",
      "equals 0.0\n",
      "below 100.0\n"
     ]
    },
    {
     "data": {
      "text/plain": [
       "'Inferior of'"
      ]
     },
     "execution_count": 216,
     "metadata": {},
     "output_type": "execute_result"
    }
   ],
   "source": [
    "los_inferior_from_cs=tolerance_z(cs_z.round(1), los_z.round(1), length=0.1)\n",
    "los_inferior_from_cs"
   ]
  },
  {
   "cell_type": "code",
   "execution_count": 217,
   "metadata": {},
   "outputs": [
    {
     "name": "stdout",
     "output_type": "stream",
     "text": [
      "J-: -1.3\n",
      "J+: 4.400000190734863\n",
      "above 40.0\n",
      "overlaps 0.0\n",
      "during 25.71428571428571\n",
      "meets 0.0\n",
      "starts 0.0\n",
      "finishes 1.4285714285714286\n",
      "equals 0.0\n",
      "below 31.428571428571427\n"
     ]
    },
    {
     "data": {
      "text/plain": [
       "'Threshold not reached'"
      ]
     },
     "execution_count": 217,
     "metadata": {},
     "output_type": "execute_result"
    }
   ],
   "source": [
    "los_inferior_from_ios=tolerance_z(ios_z.round(1), los_z.round(1), length=0.1)\n",
    "los_inferior_from_ios"
   ]
  },
  {
   "cell_type": "code",
   "execution_count": 218,
   "metadata": {},
   "outputs": [],
   "source": [
    "ifs_z = manual_sulci['Inferior_frontal_sulcus'].T[2]"
   ]
  },
  {
   "cell_type": "code",
   "execution_count": 219,
   "metadata": {},
   "outputs": [
    {
     "name": "stdout",
     "output_type": "stream",
     "text": [
      "J-: -16.2\n",
      "J+: 39.199998474121095\n",
      "above 0.0\n",
      "overlaps 0.0\n",
      "during 100.0\n",
      "meets 0.0\n",
      "starts 0.0\n",
      "finishes 0.0\n",
      "equals 0.0\n",
      "below 0.0\n"
     ]
    },
    {
     "data": {
      "text/plain": [
       "'During'"
      ]
     },
     "execution_count": 219,
     "metadata": {},
     "output_type": "execute_result"
    }
   ],
   "source": [
    "ifs_superiority = tolerance_z(lf_z.round(1), ifs_z.round(1), length=0.1)\n",
    "ifs_superiority"
   ]
  },
  {
   "cell_type": "code",
   "execution_count": 220,
   "metadata": {},
   "outputs": [
    {
     "name": "stdout",
     "output_type": "stream",
     "text": [
      "J-: -16.2\n",
      "J+: 39.199998474121095\n",
      "above 0.0\n",
      "overlaps 0.0\n",
      "during 45.76271186440678\n",
      "meets 0.0\n",
      "starts 0.0\n",
      "finishes 0.2824858757062147\n",
      "equals 0.0\n",
      "below 53.954802259887\n"
     ]
    },
    {
     "data": {
      "text/plain": [
       "'Threshold not reached'"
      ]
     },
     "execution_count": 220,
     "metadata": {},
     "output_type": "execute_result"
    }
   ],
   "source": [
    "ifs_inferiority_from_cs = tolerance_z(cs_z.round(1), ifs_z.round(1), length=0.1)\n",
    "ifs_inferiority_from_cs"
   ]
  },
  {
   "cell_type": "code",
   "execution_count": 221,
   "metadata": {},
   "outputs": [],
   "source": [
    "sfs_z = manual_sulci['Superior_frontal_sulcus'].T[2]"
   ]
  },
  {
   "cell_type": "code",
   "execution_count": 222,
   "metadata": {},
   "outputs": [
    {
     "name": "stdout",
     "output_type": "stream",
     "text": [
      "J-: 10.0\n",
      "J+: 53.1\n",
      "above 22.957198443579767\n",
      "overlaps 0.0\n",
      "during 76.65369649805449\n",
      "meets 0.0\n",
      "starts 0.38910505836575876\n",
      "finishes 0.0\n",
      "equals 0.0\n",
      "below 0.0\n"
     ]
    },
    {
     "data": {
      "text/plain": [
       "'Threshold not reached'"
      ]
     },
     "execution_count": 222,
     "metadata": {},
     "output_type": "execute_result"
    }
   ],
   "source": [
    "sfs_superiority = tolerance_z(lf_z.round(1), sfs_z.round(1), length=0.1)\n",
    "sfs_superiority"
   ]
  },
  {
   "cell_type": "code",
   "execution_count": 223,
   "metadata": {},
   "outputs": [
    {
     "name": "stdout",
     "output_type": "stream",
     "text": [
      "J-: 10.0\n",
      "J+: 53.1\n",
      "above 0.5649717514124294\n",
      "overlaps 0.0\n",
      "during 68.92655367231639\n",
      "meets 0.0\n",
      "starts 0.0\n",
      "finishes 0.0\n",
      "equals 0.0\n",
      "below 30.508474576271187\n"
     ]
    },
    {
     "data": {
      "text/plain": [
       "'Threshold not reached'"
      ]
     },
     "execution_count": 223,
     "metadata": {},
     "output_type": "execute_result"
    }
   ],
   "source": [
    "sfs_superiority_from_cs = tolerance_z(cs_z.round(1), sfs_z.round(1), length=0.1)\n",
    "sfs_superiority_from_cs"
   ]
  },
  {
   "cell_type": "code",
   "execution_count": 224,
   "metadata": {},
   "outputs": [
    {
     "name": "stdout",
     "output_type": "stream",
     "text": [
      "J-: 23.3\n",
      "J+: 52.699998474121095\n",
      "above 15.254237288135593\n",
      "overlaps 0.0\n",
      "during 53.672316384180796\n",
      "meets 0.0\n",
      "starts 0.0\n",
      "finishes 0.0\n",
      "equals 0.0\n",
      "below 31.07344632768362\n"
     ]
    },
    {
     "data": {
      "text/plain": [
       "'Threshold not reached'"
      ]
     },
     "execution_count": 224,
     "metadata": {},
     "output_type": "execute_result"
    }
   ],
   "source": [
    "ang_superiority_from_cs = tolerance_z(cs_z.round(1), ang_z.round(1), length=0.1)\n",
    "ang_superiority_from_cs"
   ]
  },
  {
   "cell_type": "code",
   "execution_count": 225,
   "metadata": {},
   "outputs": [
    {
     "name": "stdout",
     "output_type": "stream",
     "text": [
      "J-: 23.3\n",
      "J+: 52.699998474121095\n",
      "above 69.64980544747081\n",
      "overlaps 0.38910505836575876\n",
      "during 29.571984435797667\n",
      "meets 0.0\n",
      "starts 0.38910505836575876\n",
      "finishes 0.0\n",
      "equals 0.0\n",
      "below 0.0\n"
     ]
    },
    {
     "data": {
      "text/plain": [
       "'Threshold not reached'"
      ]
     },
     "execution_count": 225,
     "metadata": {},
     "output_type": "execute_result"
    }
   ],
   "source": [
    "ang_superiority_from_lf = tolerance_z(lf_z.round(1), ang_z.round(1), length=0.1)\n",
    "ang_superiority_from_lf"
   ]
  },
  {
   "cell_type": "code",
   "execution_count": 226,
   "metadata": {},
   "outputs": [
    {
     "name": "stdout",
     "output_type": "stream",
     "text": [
      "J-: 10.0\n",
      "J+: 53.1\n",
      "above 22.957198443579767\n",
      "overlaps 0.0\n",
      "during 76.65369649805449\n",
      "meets 0.0\n",
      "starts 0.38910505836575876\n",
      "finishes 0.0\n",
      "equals 0.0\n",
      "below 0.0\n"
     ]
    },
    {
     "data": {
      "text/plain": [
       "'Threshold not reached'"
      ]
     },
     "execution_count": 226,
     "metadata": {},
     "output_type": "execute_result"
    }
   ],
   "source": [
    "sfs_superiority_from_lf = tolerance_z(lf_z.round(1), sfs_z.round(1), length=0.1)\n",
    "sfs_superiority_from_lf"
   ]
  },
  {
   "cell_type": "code",
   "execution_count": 227,
   "metadata": {},
   "outputs": [
    {
     "name": "stdout",
     "output_type": "stream",
     "text": [
      "J-: 10.0\n",
      "J+: 53.1\n",
      "above 0.5649717514124294\n",
      "overlaps 0.0\n",
      "during 68.92655367231639\n",
      "meets 0.0\n",
      "starts 0.0\n",
      "finishes 0.0\n",
      "equals 0.0\n",
      "below 30.508474576271187\n"
     ]
    },
    {
     "data": {
      "text/plain": [
       "'Threshold not reached'"
      ]
     },
     "execution_count": 227,
     "metadata": {},
     "output_type": "execute_result"
    }
   ],
   "source": [
    "sfs_superiority_from_cs = tolerance_z(cs_z.round(1), sfs_z.round(1), length=0.1)\n",
    "sfs_superiority_from_cs"
   ]
  },
  {
   "cell_type": "code",
   "execution_count": 228,
   "metadata": {},
   "outputs": [
    {
     "name": "stdout",
     "output_type": "stream",
     "text": [
      "J-: -16.2\n",
      "J+: 39.199998474121095\n",
      "above 0.0\n",
      "overlaps 0.0\n",
      "during 100.0\n",
      "meets 0.0\n",
      "starts 0.0\n",
      "finishes 0.0\n",
      "equals 0.0\n",
      "below 0.0\n"
     ]
    },
    {
     "data": {
      "text/plain": [
       "'During'"
      ]
     },
     "execution_count": 228,
     "metadata": {},
     "output_type": "execute_result"
    }
   ],
   "source": [
    "ifs_superiority_from_lf = tolerance_z(lf_z.round(1), ifs_z.round(1), length=0.1)\n",
    "ifs_superiority_from_lf"
   ]
  },
  {
   "cell_type": "code",
   "execution_count": 229,
   "metadata": {},
   "outputs": [
    {
     "name": "stdout",
     "output_type": "stream",
     "text": [
      "J-: -16.2\n",
      "J+: 39.199998474121095\n",
      "above 0.0\n",
      "overlaps 0.0\n",
      "during 45.76271186440678\n",
      "meets 0.0\n",
      "starts 0.0\n",
      "finishes 0.2824858757062147\n",
      "equals 0.0\n",
      "below 53.954802259887\n"
     ]
    },
    {
     "data": {
      "text/plain": [
       "'Threshold not reached'"
      ]
     },
     "execution_count": 229,
     "metadata": {},
     "output_type": "execute_result"
    }
   ],
   "source": [
    "ifs_superiority_from_cs = tolerance_z(cs_z.round(1), ifs_z.round(1), length=0.1)\n",
    "ifs_superiority_from_cs"
   ]
  },
  {
   "cell_type": "code",
   "execution_count": 230,
   "metadata": {},
   "outputs": [],
   "source": [
    "fms_z = manual_sulci['Frontomarginal_sulcus'].T[2]"
   ]
  },
  {
   "cell_type": "code",
   "execution_count": 231,
   "metadata": {},
   "outputs": [
    {
     "name": "stdout",
     "output_type": "stream",
     "text": [
      "J-: -10.8\n",
      "J+: -0.700000011920929\n",
      "above 0.0\n",
      "overlaps 0.0\n",
      "during 0.0\n",
      "meets 0.0\n",
      "starts 0.0\n",
      "finishes 0.0\n",
      "equals 0.0\n",
      "below 100.0\n"
     ]
    },
    {
     "data": {
      "text/plain": [
       "'Inferior of'"
      ]
     },
     "execution_count": 231,
     "metadata": {},
     "output_type": "execute_result"
    }
   ],
   "source": [
    "fms_superiority_from_cs = tolerance_z(cs_z.round(1), fms_z.round(1), length=0.1)\n",
    "fms_superiority_from_cs"
   ]
  },
  {
   "cell_type": "code",
   "execution_count": 232,
   "metadata": {},
   "outputs": [
    {
     "name": "stdout",
     "output_type": "stream",
     "text": [
      "J-: -10.8\n",
      "J+: -0.700000011920929\n",
      "above 0.0\n",
      "overlaps 0.0\n",
      "during 0.0\n",
      "meets 0.0\n",
      "starts 0.0\n",
      "finishes 0.0\n",
      "equals 0.0\n",
      "below 100.0\n"
     ]
    },
    {
     "data": {
      "text/plain": [
       "'Inferior of'"
      ]
     },
     "execution_count": 232,
     "metadata": {},
     "output_type": "execute_result"
    }
   ],
   "source": [
    "fms_superiority_from_lf = tolerance_z(lf_z.round(1), fms_z.round(1), length=0.1)\n",
    "fms_superiority_from_lf"
   ]
  },
  {
   "cell_type": "code",
   "execution_count": 233,
   "metadata": {},
   "outputs": [],
   "source": [
    "avrlf_z = manual_sulci['Anterior_vertical_ramus_lateral_fissure'].T[2]\n",
    "ahrlf_z = manual_sulci['Anterior_horizontal_ramus_lateral_fissure'].T[2]"
   ]
  },
  {
   "cell_type": "code",
   "execution_count": 234,
   "metadata": {},
   "outputs": [
    {
     "name": "stdout",
     "output_type": "stream",
     "text": [
      "J-: -1.9\n",
      "J+: 1.4999999761581422\n",
      "above 0.0\n",
      "overlaps 0.0\n",
      "during 2.3346303501945527\n",
      "meets 0.0\n",
      "starts 0.0\n",
      "finishes 0.0\n",
      "equals 0.0\n",
      "below 97.66536964980544\n"
     ]
    },
    {
     "data": {
      "text/plain": [
       "'Inferior of'"
      ]
     },
     "execution_count": 234,
     "metadata": {},
     "output_type": "execute_result"
    }
   ],
   "source": [
    "avrlf_superiority_from_lf = tolerance_z(lf_z.round(1), avrlf_z.round(1), length=0.1)\n",
    "avrlf_superiority_from_lf"
   ]
  },
  {
   "cell_type": "code",
   "execution_count": 235,
   "metadata": {},
   "outputs": [
    {
     "name": "stdout",
     "output_type": "stream",
     "text": [
      "J-: -1.9\n",
      "J+: 1.4999999761581422\n",
      "above 0.0\n",
      "overlaps 0.0\n",
      "during 0.0\n",
      "meets 0.0\n",
      "starts 0.0\n",
      "finishes 0.0\n",
      "equals 0.0\n",
      "below 100.0\n"
     ]
    },
    {
     "data": {
      "text/plain": [
       "'Inferior of'"
      ]
     },
     "execution_count": 235,
     "metadata": {},
     "output_type": "execute_result"
    }
   ],
   "source": [
    "avrlf_superiority_from_cs = tolerance_z(cs_z.round(1), avrlf_z.round(1), length=0.1)\n",
    "avrlf_superiority_from_cs"
   ]
  },
  {
   "cell_type": "code",
   "execution_count": 236,
   "metadata": {},
   "outputs": [
    {
     "name": "stdout",
     "output_type": "stream",
     "text": [
      "J-: -10.2\n",
      "J+: 1.200000023841858\n",
      "above 0.0\n",
      "overlaps 0.0\n",
      "during 1.556420233463035\n",
      "meets 0.0\n",
      "starts 0.0\n",
      "finishes 0.38910505836575876\n",
      "equals 0.0\n",
      "below 98.0544747081712\n"
     ]
    },
    {
     "data": {
      "text/plain": [
       "'Inferior of'"
      ]
     },
     "execution_count": 236,
     "metadata": {},
     "output_type": "execute_result"
    }
   ],
   "source": [
    "ahrlf_superiority_from_lf = tolerance_z(lf_z.round(1), ahrlf_z.round(1), length=0.1)\n",
    "ahrlf_superiority_from_lf"
   ]
  },
  {
   "cell_type": "code",
   "execution_count": 237,
   "metadata": {},
   "outputs": [
    {
     "name": "stdout",
     "output_type": "stream",
     "text": [
      "J-: -10.2\n",
      "J+: 1.200000023841858\n",
      "above 0.0\n",
      "overlaps 0.0\n",
      "during 0.0\n",
      "meets 0.0\n",
      "starts 0.0\n",
      "finishes 0.0\n",
      "equals 0.0\n",
      "below 100.0\n"
     ]
    },
    {
     "data": {
      "text/plain": [
       "'Inferior of'"
      ]
     },
     "execution_count": 237,
     "metadata": {},
     "output_type": "execute_result"
    }
   ],
   "source": [
    "ahrlf_superiority_from_cs = tolerance_z(cs_z.round(1), ahrlf_z.round(1), length=0.1)\n",
    "ahrlf_superiority_from_cs"
   ]
  },
  {
   "cell_type": "code",
   "execution_count": 238,
   "metadata": {},
   "outputs": [],
   "source": [
    "mfs_z = manual_sulci['Middle_frontal_sulcus'].T[2]"
   ]
  },
  {
   "cell_type": "code",
   "execution_count": 239,
   "metadata": {},
   "outputs": [
    {
     "name": "stdout",
     "output_type": "stream",
     "text": [
      "J-: 15.6\n",
      "J+: 58.6\n",
      "above 42.4124513618677\n",
      "overlaps 0.0\n",
      "during 57.19844357976653\n",
      "meets 0.0\n",
      "starts 0.38910505836575876\n",
      "finishes 0.0\n",
      "equals 0.0\n",
      "below 0.0\n"
     ]
    },
    {
     "data": {
      "text/plain": [
       "'Threshold not reached'"
      ]
     },
     "execution_count": 239,
     "metadata": {},
     "output_type": "execute_result"
    }
   ],
   "source": [
    "mfs_superiority_from_cs = tolerance_z(lf_z.round(1), mfs_z.round(1), length=0.1)\n",
    "mfs_superiority_from_cs"
   ]
  },
  {
   "cell_type": "code",
   "execution_count": 240,
   "metadata": {},
   "outputs": [],
   "source": [
    "aos_z = manual_sulci['Anterior_occipital_sulcus'].T[2]"
   ]
  },
  {
   "cell_type": "code",
   "execution_count": 241,
   "metadata": {},
   "outputs": [
    {
     "name": "stdout",
     "output_type": "stream",
     "text": [
      "J-: -8.9\n",
      "J+: -4.999999904632569\n",
      "above 0.0\n",
      "overlaps 0.0\n",
      "during 0.0\n",
      "meets 0.0\n",
      "starts 0.0\n",
      "finishes 0.0\n",
      "equals 0.0\n",
      "below 100.0\n"
     ]
    },
    {
     "data": {
      "text/plain": [
       "'Inferior of'"
      ]
     },
     "execution_count": 241,
     "metadata": {},
     "output_type": "execute_result"
    }
   ],
   "source": [
    "aos_inferiority_from_cs = tolerance_z(lf_z.round(1), aos_z.round(1), length=0.1)\n",
    "aos_inferiority_from_cs"
   ]
  },
  {
   "cell_type": "code",
   "execution_count": 242,
   "metadata": {},
   "outputs": [],
   "source": [
    "prcs_z = manual_sulci['Precentral_sulcus'].T[2]"
   ]
  },
  {
   "cell_type": "code",
   "execution_count": 243,
   "metadata": {},
   "outputs": [],
   "source": [
    "cs_y_z = [cs_y, cs_z]\n",
    "prcs_y_z=[prcs_y, cs_z]\n",
    "lf_y_z=[lf_y, lf_z]\n",
    "ifs_y_z=[ifs_y, ifs_z]"
   ]
  },
  {
   "cell_type": "markdown",
   "metadata": {},
   "source": [
    "##### From CS and LF, can find IPS"
   ]
  },
  {
   "cell_type": "code",
   "execution_count": 244,
   "metadata": {},
   "outputs": [
    {
     "name": "stdout",
     "output_type": "stream",
     "text": [
      "IPS is posterior of CS and superior of LF\n"
     ]
    }
   ],
   "source": [
    "if ips_anteriority_2 == 'Posterior of' and ips_superior == 'Superior of':\n",
    "    print('IPS is posterior of CS and superior of LF')\n",
    "else:\n",
    "    print('try again')"
   ]
  },
  {
   "cell_type": "code",
   "execution_count": 245,
   "metadata": {},
   "outputs": [
    {
     "name": "stdout",
     "output_type": "stream",
     "text": [
      "J-: -21.3\n",
      "J+: 13.6\n",
      "before 100.0\n",
      "overlaps 0.0\n",
      "during 0.0\n",
      "meets 0.0\n",
      "starts 0.0\n",
      "finishes 0.0\n",
      "equals 0.0\n",
      "after 0.0\n"
     ]
    },
    {
     "data": {
      "text/plain": [
       "'Anterior of'"
      ]
     },
     "execution_count": 245,
     "metadata": {},
     "output_type": "execute_result"
    }
   ],
   "source": [
    "prcs_from_ips = tolerance_y_2(ips_y.round(1), prcs_y.round(1), length=0.1)\n",
    "prcs_from_ips"
   ]
  },
  {
   "cell_type": "code",
   "execution_count": 246,
   "metadata": {},
   "outputs": [
    {
     "name": "stdout",
     "output_type": "stream",
     "text": [
      "J-: -0.2\n",
      "J+: 74.1\n",
      "above 0.0\n",
      "overlaps 0.0\n",
      "during 100.0\n",
      "meets 0.0\n",
      "starts 0.0\n",
      "finishes 0.0\n",
      "equals 0.0\n",
      "below 0.0\n"
     ]
    },
    {
     "data": {
      "text/plain": [
       "'During'"
      ]
     },
     "execution_count": 246,
     "metadata": {},
     "output_type": "execute_result"
    }
   ],
   "source": [
    "prcs_superiority = tolerance_z(lf_z.round(1), prcs_z.round(1), length=0.1)\n",
    "prcs_superiority"
   ]
  },
  {
   "cell_type": "code",
   "execution_count": 247,
   "metadata": {},
   "outputs": [
    {
     "name": "stdout",
     "output_type": "stream",
     "text": [
      "J-: -49.2\n",
      "J+: -13.4\n",
      "before 0.0\n",
      "overlaps 0.0\n",
      "during 12.648221343873518\n",
      "meets 0.0\n",
      "starts 0.0\n",
      "finishes 0.3952569169960474\n",
      "equals 0.0\n",
      "after 86.95652173913044\n"
     ]
    },
    {
     "data": {
      "text/plain": [
       "'Posterior of'"
      ]
     },
     "execution_count": 247,
     "metadata": {},
     "output_type": "execute_result"
    }
   ],
   "source": [
    "pocs_from_prcs = tolerance_y_2(prcs_y.round(1), pocs_y.round(1), length=0.1)\n",
    "pocs_from_prcs"
   ]
  },
  {
   "cell_type": "code",
   "execution_count": 248,
   "metadata": {},
   "outputs": [
    {
     "name": "stdout",
     "output_type": "stream",
     "text": [
      "J-: -16.2\n",
      "J+: 39.199998474121095\n",
      "above 0.0\n",
      "overlaps 0.0\n",
      "during 61.41078838174274\n",
      "meets 0.0\n",
      "starts 0.0\n",
      "finishes 0.0\n",
      "equals 0.0\n",
      "below 38.589211618257266\n"
     ]
    },
    {
     "data": {
      "text/plain": [
       "'Threshold not reached'"
      ]
     },
     "execution_count": 248,
     "metadata": {},
     "output_type": "execute_result"
    }
   ],
   "source": [
    "ifs_inf_from_sfs = tolerance_z(sfs_z.round(1), ifs_z.round(1), length=0.1)\n",
    "ifs_inf_from_sfs     "
   ]
  },
  {
   "cell_type": "code",
   "execution_count": null,
   "metadata": {},
   "outputs": [],
   "source": []
  },
  {
   "cell_type": "code",
   "execution_count": null,
   "metadata": {},
   "outputs": [],
   "source": []
  }
 ],
 "metadata": {
  "kernelspec": {
   "display_name": "Python 3",
   "language": "python",
   "name": "python3"
  },
  "language_info": {
   "codemirror_mode": {
    "name": "ipython",
    "version": 3
   },
   "file_extension": ".py",
   "mimetype": "text/x-python",
   "name": "python",
   "nbconvert_exporter": "python",
   "pygments_lexer": "ipython3",
   "version": "3.6.2"
  }
 },
 "nbformat": 4,
 "nbformat_minor": 2
}
