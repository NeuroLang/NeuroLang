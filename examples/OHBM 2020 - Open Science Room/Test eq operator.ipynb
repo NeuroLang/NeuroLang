{
 "cells": [
  {
   "cell_type": "code",
   "execution_count": 1,
   "metadata": {},
   "outputs": [],
   "source": [
    "import warnings\n",
    "warnings.simplefilter('ignore')\n",
    "warnings.filterwarnings('ignore')"
   ]
  },
  {
   "cell_type": "code",
   "execution_count": 3,
   "metadata": {},
   "outputs": [],
   "source": [
    "from neurolang.frontend.probabilistic_frontend import ProbabilisticFrontend\n",
    "from neurolang import frontend as fe\n",
    "\n",
    "nl = ProbabilisticFrontend()\n"
   ]
  },
  {
   "cell_type": "code",
   "execution_count": 4,
   "metadata": {},
   "outputs": [],
   "source": [
    "nl.add_tuple_set([('Val1', 'var'), ('Val2', 'var'), ('Val3', 'var')], name='test_var')\n",
    "\n",
    "@nl.add_symbol\n",
    "def word_lower(name: str) -> str:\n",
    "    print(name)\n",
    "    return str(name).lower()"
   ]
  },
  {
   "cell_type": "code",
   "execution_count": 7,
   "metadata": {},
   "outputs": [
    {
     "ename": "AttributeError",
     "evalue": "'ProbabilisticFrontend' object has no attribute 'solve_query'",
     "output_type": "error",
     "traceback": [
      "\u001b[0;31m---------------------------------------------------------------------------\u001b[0m",
      "\u001b[0;31mAttributeError\u001b[0m                            Traceback (most recent call last)",
      "\u001b[0;32m<ipython-input-7-015963435f10>\u001b[0m in \u001b[0;36m<module>\u001b[0;34m\u001b[0m\n\u001b[1;32m     37\u001b[0m     \u001b[0;31m#)\u001b[0m\u001b[0;34m\u001b[0m\u001b[0;34m\u001b[0m\u001b[0;34m\u001b[0m\u001b[0m\n\u001b[1;32m     38\u001b[0m \u001b[0;34m\u001b[0m\u001b[0m\n\u001b[0;32m---> 39\u001b[0;31m     \u001b[0mnl_results\u001b[0m \u001b[0;34m=\u001b[0m \u001b[0mnl\u001b[0m\u001b[0;34m.\u001b[0m\u001b[0msolve_query\u001b[0m\u001b[0;34m(\u001b[0m\u001b[0me\u001b[0m\u001b[0;34m.\u001b[0m\u001b[0montology_terms\u001b[0m\u001b[0;34m[\u001b[0m\u001b[0me\u001b[0m\u001b[0;34m.\u001b[0m\u001b[0mname\u001b[0m\u001b[0;34m]\u001b[0m\u001b[0;34m)\u001b[0m\u001b[0;34m\u001b[0m\u001b[0;34m\u001b[0m\u001b[0m\n\u001b[0m",
      "\u001b[0;31mAttributeError\u001b[0m: 'ProbabilisticFrontend' object has no attribute 'solve_query'"
     ]
    }
   ],
   "source": [
    "from operator import eq\n",
    "\n",
    "with nl.scope as e:\n",
    "    #e.julich_to_neurosynth[e.julich_id, e.id_neurosynth, e.x, e.y, e.z] = (\n",
    "    #    e.xyz_julich[e.x, e.y, e.z, e.julich_id] &\n",
    "    #    e.xyz_neurosynth[e.x, e.y, e.z, e.id_neurosynth]\n",
    "    #)\n",
    "    \n",
    "    #e.region_voxels[e.name, e.id_neurosynth, e.x, e.y, e.z] = (\n",
    "    #    e.julich_id[e.name, e.julich_id] &\n",
    "    #    e.julich_to_neurosynth[e.julich_id, e.id_neurosynth, e.x, e.y, e.z]\n",
    "    #)\n",
    "    \n",
    "    #e.julich_id[e.name, e.id] = (\n",
    "    #    e.julich_ontology[e.name, 'labelIndex', e.id]\n",
    "    #)\n",
    "    \n",
    "    #e.julich_voxels[e.id_neurosynth, e.x, e.y, e.z] = (\n",
    "    #    e.region_voxels['Area Ia (Insula)', e.id_neurosynth, e.x, e.y, e.z]\n",
    "    #)\n",
    "    \n",
    "    #e.p_act[e.id_voxel, e.term] = (\n",
    "    #    e.p_voxel_study[e.id_voxel, e.id_study] & \n",
    "    #    e.p_term_study[e.term,  e.id_study] & \n",
    "    #    e.p_study[e.id_study]\n",
    "    #)\n",
    "    \n",
    "    e.lower[e.lower] = (\n",
    "        e.test_var[e.name, 'var'] &\n",
    "        (e.lower == word_lower(e.name))\n",
    "    )\n",
    "    \n",
    "    #e.probability_voxel[e.term] = (\n",
    "    #    e.p_act[e.id_voxel, e.term] &\n",
    "    #    e.julich_voxels[e.id_voxel, e.x, e.y, e.z] &\n",
    "    #    e.ontology_terms[e.term]\n",
    "    #)\n",
    "    \n",
    "    nl_results = nl.solve_query(e.ontology_terms[e.name])"
   ]
  },
  {
   "cell_type": "code",
   "execution_count": 6,
   "metadata": {},
   "outputs": [
    {
     "ename": "NameError",
     "evalue": "name 'nl_results' is not defined",
     "output_type": "error",
     "traceback": [
      "\u001b[0;31m---------------------------------------------------------------------------\u001b[0m",
      "\u001b[0;31mNameError\u001b[0m                                 Traceback (most recent call last)",
      "\u001b[0;32m<ipython-input-6-5657b134b8b4>\u001b[0m in \u001b[0;36m<module>\u001b[0;34m\u001b[0m\n\u001b[0;32m----> 1\u001b[0;31m \u001b[0mnl_results\u001b[0m\u001b[0;34m[\u001b[0m\u001b[0;34m'ontology_terms'\u001b[0m\u001b[0;34m]\u001b[0m\u001b[0;34m\u001b[0m\u001b[0;34m\u001b[0m\u001b[0m\n\u001b[0m",
      "\u001b[0;31mNameError\u001b[0m: name 'nl_results' is not defined"
     ]
    }
   ],
   "source": [
    "nl_results['ontology_terms']"
   ]
  },
  {
   "cell_type": "code",
   "execution_count": null,
   "metadata": {},
   "outputs": [],
   "source": []
  }
 ],
 "metadata": {
  "jupytext": {
   "encoding": "# -*- coding: utf-8 -*-",
   "formats": "ipynb,py:light"
  },
  "kernelspec": {
   "display_name": "neurolang",
   "language": "python",
   "name": "neurolang"
  }
 },
 "nbformat": 4,
 "nbformat_minor": 2
}
