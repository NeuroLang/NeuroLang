{
 "cells": [
  {
   "cell_type": "code",
   "execution_count": 1,
   "metadata": {},
   "outputs": [],
   "source": [
    "import warnings\n",
    "warnings.simplefilter('ignore')\n",
    "warnings.filterwarnings('ignore')"
   ]
  },
  {
   "cell_type": "code",
   "execution_count": 2,
   "metadata": {},
   "outputs": [],
   "source": [
    "from neurolang.frontend.probabilistic_frontend import ProbabilisticFrontend\n",
    "from neurolang import frontend as fe\n",
    "\n",
    "nl = ProbabilisticFrontend()\n"
   ]
  },
  {
   "cell_type": "code",
   "execution_count": 3,
   "metadata": {},
   "outputs": [],
   "source": [
    "nl.add_tuple_set([('Val1', 'var'), ('Val2', 'var'), ('Val3', 'var')], name='test_var')\n",
    "\n",
    "@nl.add_symbol\n",
    "def word_lower(name: str) -> str:\n",
    "    print(name)\n",
    "    return str(name).lower()"
   ]
  },
  {
   "cell_type": "code",
   "execution_count": 4,
   "metadata": {},
   "outputs": [
    {
     "name": "stdout",
     "output_type": "stream",
     "text": [
      "λ{C{word_lower: typing.Callable[[str], str]}: str}(C{'name': ColumnStr})\n",
      "0\n",
      "1\n",
      "2\n",
      "λ{C{word_lower: typing.Callable[[str], str]}: str}(C{'name': ColumnStr})\n",
      "0\n",
      "1\n",
      "2\n"
     ]
    }
   ],
   "source": [
    "with nl.scope as e:\n",
    "    e.lower[e.lower] = (\n",
    "        e.test_var[e.name, 'var'] &\n",
    "        (e.lower == word_lower(e.name))\n",
    "    )\n",
    "    \n",
    "    nl_results = nl.solve_query(e.ontology_terms[e.name])"
   ]
  },
  {
   "cell_type": "code",
   "execution_count": 6,
   "metadata": {},
   "outputs": [
    {
     "data": {
      "text/plain": [
       "C{   0\n",
       "0  0\n",
       "1  1\n",
       "2  2: typing.AbstractSet[typing.Tuple[str]]}"
      ]
     },
     "execution_count": 6,
     "metadata": {},
     "output_type": "execute_result"
    }
   ],
   "source": [
    "nl_results['lower']"
   ]
  },
  {
   "cell_type": "code",
   "execution_count": null,
   "metadata": {},
   "outputs": [],
   "source": []
  }
 ],
 "metadata": {
  "jupytext": {
   "encoding": "# -*- coding: utf-8 -*-",
   "formats": "ipynb,py:light"
  },
  "kernelspec": {
   "display_name": "neurolang",
   "language": "python",
   "name": "neurolang"
  },
  "language_info": {
   "codemirror_mode": {
    "name": "ipython",
    "version": 3
   },
   "file_extension": ".py",
   "mimetype": "text/x-python",
   "name": "python",
   "nbconvert_exporter": "python",
   "pygments_lexer": "ipython3",
   "version": "3.7.3"
  }
 },
 "nbformat": 4,
 "nbformat_minor": 2
}
