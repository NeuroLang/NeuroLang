{
 "cells": [
  {
   "cell_type": "code",
   "execution_count": 1,
   "metadata": {},
   "outputs": [],
   "source": [
    "import warnings\n",
    "warnings.simplefilter('ignore')\n",
    "warnings.filterwarnings('ignore')"
   ]
  },
  {
   "cell_type": "code",
   "execution_count": 3,
   "metadata": {},
   "outputs": [],
   "source": [
    "import stats_helper, datasets_helper\n",
    "from neurolang.frontend.probabilistic_frontend import ProbabilisticFrontend\n",
    "from rdflib import RDFS\n",
    "from nilearn import plotting\n",
    "import numpy as np\n",
    "from matplotlib import pyplot as plt\n",
    "from typing import Iterable\n",
    "from neurolang import frontend as fe"
   ]
  },
  {
   "cell_type": "markdown",
   "metadata": {},
   "source": [
    "We will use the FMA ontology to obtain regions of the brain included within the `Temporal lobe`. We will obtain all the entities that make up the `Temporal Lobe` and then we will convert them into regions using the information provided by the Destrieux atlas. This will allow us to perform spatial operations on these regions, allowing us to obtain those NeuroSynth regions associated with the term `auditory` that overlap our results.\n",
    "\n"
   ]
  },
  {
   "cell_type": "code",
   "execution_count": 4,
   "metadata": {},
   "outputs": [
    {
     "name": "stderr",
     "output_type": "stream",
     "text": [
      "/Users/gzanitti/miniconda3/envs/neurolang/lib/python3.7/site-packages/neurosynth/base/dataset.py:435: ResourceWarning: unclosed file <_io.BufferedReader name='/Users/gzanitti/Projects/INRIA/NeuroLang/neurolang/frontend/neurosynth_data/dataset.pkl'>\n",
      "  dataset = pickle.load(open(filename, 'rb'))\n",
      "ResourceWarning: Enable tracemalloc to get the object allocation traceback\n",
      "/Users/gzanitti/miniconda3/envs/neurolang/lib/python3.7/site-packages/neurosynth/base/dataset.py:771: FutureWarning: DataFrame.to_sparse is deprecated and will be removed in a future version\n",
      "  columns=self.data['columns']).to_sparse()\n",
      "/Users/gzanitti/miniconda3/envs/neurolang/lib/python3.7/site-packages/pandas/core/generic.py:3607: FutureWarning: SparseDataFrame is deprecated and will be removed in a future version.\n",
      "Use a regular DataFrame whose columns are SparseArrays instead.\n",
      "\n",
      "See http://pandas.pydata.org/pandas-docs/stable/user_guide/sparse.html#migrating for more.\n",
      "\n",
      "  result = self._constructor(new_data).__finalize__(self)\n",
      "/Users/gzanitti/miniconda3/envs/neurolang/lib/python3.7/site-packages/pandas/core/frame.py:3451: FutureWarning: SparseSeries is deprecated and will be removed in a future version.\n",
      "Use a Series with sparse values instead.\n",
      "\n",
      "    >>> series = pd.Series(pd.SparseArray(...))\n",
      "\n",
      "See http://pandas.pydata.org/pandas-docs/stable/user_guide/sparse.html#migrating for more.\n",
      "\n",
      "  return klass(values, index=self.index, name=items, fastpath=True)\n",
      "/Users/gzanitti/miniconda3/envs/neurolang/lib/python3.7/site-packages/neurosynth/base/dataset.py:435: ResourceWarning: unclosed file <_io.BufferedReader name='/Users/gzanitti/Projects/INRIA/NeuroLang/neurolang/frontend/neurosynth_data/dataset.pkl'>\n",
      "  dataset = pickle.load(open(filename, 'rb'))\n",
      "ResourceWarning: Enable tracemalloc to get the object allocation traceback\n",
      "/Users/gzanitti/miniconda3/envs/neurolang/lib/python3.7/site-packages/neurosynth/base/dataset.py:771: FutureWarning: DataFrame.to_sparse is deprecated and will be removed in a future version\n",
      "  columns=self.data['columns']).to_sparse()\n",
      "/Users/gzanitti/miniconda3/envs/neurolang/lib/python3.7/site-packages/numpy/lib/npyio.py:2358: VisibleDeprecationWarning: Reading unicode strings without specifying the encoding argument is deprecated. Set the encoding, use None for the system default.\n",
      "  output = genfromtxt(fname, **kwargs)\n",
      "/Users/gzanitti/miniconda3/envs/neurolang/lib/python3.7/site-packages/neurosynth/base/dataset.py:435: ResourceWarning: unclosed file <_io.BufferedReader name='/Users/gzanitti/Projects/INRIA/NeuroLang/neurolang/frontend/neurosynth_data/dataset.pkl'>\n",
      "  dataset = pickle.load(open(filename, 'rb'))\n",
      "ResourceWarning: Enable tracemalloc to get the object allocation traceback\n",
      "/Users/gzanitti/miniconda3/envs/neurolang/lib/python3.7/site-packages/neurosynth/base/dataset.py:771: FutureWarning: DataFrame.to_sparse is deprecated and will be removed in a future version\n",
      "  columns=self.data['columns']).to_sparse()\n",
      "/Users/gzanitti/miniconda3/envs/neurolang/lib/python3.7/site-packages/pandas/core/frame.py:3451: FutureWarning: SparseSeries is deprecated and will be removed in a future version.\n",
      "Use a Series with sparse values instead.\n",
      "\n",
      "    >>> series = pd.Series(pd.SparseArray(...))\n",
      "\n",
      "See http://pandas.pydata.org/pandas-docs/stable/user_guide/sparse.html#migrating for more.\n",
      "\n",
      "  return klass(values, index=self.index, name=items, fastpath=True)\n",
      "/Users/gzanitti/miniconda3/envs/neurolang/lib/python3.7/site-packages/pandas/core/sparse/frame.py:785: FutureWarning: SparseDataFrame is deprecated and will be removed in a future version.\n",
      "Use a regular DataFrame whose columns are SparseArrays instead.\n",
      "\n",
      "See http://pandas.pydata.org/pandas-docs/stable/user_guide/sparse.html#migrating for more.\n",
      "\n",
      "  return self._constructor(new_arrays, index=index, columns=columns).__finalize__(\n",
      "/Users/gzanitti/miniconda3/envs/neurolang/lib/python3.7/site-packages/pandas/core/reshape/concat.py:443: FutureWarning: SparseSeries is deprecated and will be removed in a future version.\n",
      "Use a Series with sparse values instead.\n",
      "\n",
      "    >>> series = pd.Series(pd.SparseArray(...))\n",
      "\n",
      "See http://pandas.pydata.org/pandas-docs/stable/user_guide/sparse.html#migrating for more.\n",
      "\n",
      "  return cons(mgr, name=name).__finalize__(self, method=\"concat\")\n",
      "/Users/gzanitti/miniconda3/envs/neurolang/lib/python3.7/site-packages/pandas/core/reshape/melt.py:118: FutureWarning: SparseDataFrame is deprecated and will be removed in a future version.\n",
      "Use a regular DataFrame whose columns are SparseArrays instead.\n",
      "\n",
      "See http://pandas.pydata.org/pandas-docs/stable/user_guide/sparse.html#migrating for more.\n",
      "\n",
      "  return frame._constructor(mdata, columns=mcolumns)\n",
      "/Users/gzanitti/miniconda3/envs/neurolang/lib/python3.7/site-packages/pandas/core/computation/align.py:161: FutureWarning: SparseSeries is deprecated and will be removed in a future version.\n",
      "Use a Series with sparse values instead.\n",
      "\n",
      "    >>> series = pd.Series(pd.SparseArray(...))\n",
      "\n",
      "See http://pandas.pydata.org/pandas-docs/stable/user_guide/sparse.html#migrating for more.\n",
      "\n",
      "  return typ(obj, dtype=res_t, **axes)\n",
      "/Users/gzanitti/miniconda3/envs/neurolang/lib/python3.7/site-packages/pandas/core/sparse/series.py:585: FutureWarning: SparseSeries is deprecated and will be removed in a future version.\n",
      "Use a Series with sparse values instead.\n",
      "\n",
      "    >>> series = pd.Series(pd.SparseArray(...))\n",
      "\n",
      "See http://pandas.pydata.org/pandas-docs/stable/user_guide/sparse.html#migrating for more.\n",
      "\n",
      "  return self._constructor(arr, index=self.index).__finalize__(self)\n",
      "/Users/gzanitti/miniconda3/envs/neurolang/lib/python3.7/site-packages/pandas/core/generic.py:3607: FutureWarning: SparseDataFrame is deprecated and will be removed in a future version.\n",
      "Use a regular DataFrame whose columns are SparseArrays instead.\n",
      "\n",
      "See http://pandas.pydata.org/pandas-docs/stable/user_guide/sparse.html#migrating for more.\n",
      "\n",
      "  result = self._constructor(new_data).__finalize__(self)\n"
     ]
    }
   ],
   "source": [
    "nl = ProbabilisticFrontend()\n",
    "datasets_helper.load_reverse_inference_dataset(nl, n=50)"
   ]
  },
  {
   "cell_type": "code",
   "execution_count": 5,
   "metadata": {},
   "outputs": [
    {
     "name": "stderr",
     "output_type": "stream",
     "text": [
      "/Users/gzanitti/Projects/INRIA/NeuroLang/neurolang/datalog/ontologies_parser.py:231: UserWarning: The restriction minCardinality has not\n",
      "            been parsed for http://sig.biostr.washington.edu/fma3.0#Organ_with_organ_cavity. Not implemented yet.\n",
      "  been parsed for {restricted_node}. Not implemented yet.\"\"\"\n"
     ]
    }
   ],
   "source": [
    "paths = ['neurolang_data/ontologies/neurofma_fma3.0.owl', 'neurolang_data/ontologies/cogat.xrdf']\n",
    "nl.load_ontology(paths, load_format=[\"xml\", \"xml\"])"
   ]
  },
  {
   "cell_type": "code",
   "execution_count": 6,
   "metadata": {},
   "outputs": [],
   "source": [
    "label = nl.new_symbol(name=str(RDFS.label))\n",
    "subclass_of = nl.new_symbol(name=str(RDFS.subClassOf))\n",
    "regional_part = nl.new_symbol(name='http://sig.biostr.washington.edu/fma3.0#regional_part_of')\n",
    "\n",
    "#@nl.add_symbol\n",
    "#def agg_create_region(x: Iterable, y: Iterable, z: Iterable) -> fe.ExplicitVBR:\n",
    "#    mni_t1 = it.masker.volume\n",
    "#    voxels = nib.affines.apply_affine(np.linalg.inv(mni_t1.affine), np.c_[x, y, z])\n",
    "#    return fe.ExplicitVBR(voxels, mni_t1.affine, image_dim=mni_t1.shape)\n",
    "\n",
    "@nl.add_symbol\n",
    "def first_word(name: str) -> str:\n",
    "    return name.split(\" \")[0]\n",
    "\n",
    "with nl.environment as e:    \n",
    "    e.fma_related_region[e.subregion_name, e.fma_uri] = (\n",
    "        label(e.xfma_entity_name, e.fma_uri) & \n",
    "        regional_part(e.fma_region, e.xfma_entity_name) & \n",
    "        subclass_of(e.fma_subregion, e.fma_region) &\n",
    "        label(e.fma_subregion, e.subregion_name)\n",
    "    )\n",
    "    e.fma_related_region[e.recursive_region, e.fma_name] = (\n",
    "        subclass_of(e.recursive_region, e.fma_subregion) & e.fma_related_region(e.fma_subregion, e.fma_name)\n",
    "    )\n",
    "    e.fma_to_destrieux[e.fma_name, e.destrieux_name] = (\n",
    "        label(e.fma_uri, e.fma_name) & e.relation_destrieux_fma(e.destrieux_name, e.fma_name)\n",
    "    )"
   ]
  },
  {
   "cell_type": "code",
   "execution_count": null,
   "metadata": {
    "lines_to_end_of_cell_marker": 2,
    "scrolled": false
   },
   "outputs": [
    {
     "name": "stderr",
     "output_type": "stream",
     "text": [
      "/Users/gzanitti/Projects/INRIA/NeuroLang/neurolang/datalog/aggregation.py:146: UserWarning: No check performed. Should implement check for stratified aggregation\n",
      "  \"No check performed. Should implement check for stratified\"\n",
      "/Users/gzanitti/miniconda3/envs/neurolang/lib/python3.7/site-packages/pandas/core/frame.py:4218: SettingWithCopyWarning: \n",
      "A value is trying to be set on a copy of a slice from a DataFrame\n",
      "\n",
      "See the caveats in the documentation: http://pandas.pydata.org/pandas-docs/stable/user_guide/indexing.html#returning-a-view-versus-a-copy\n",
      "  return super().rename(**kwargs)\n"
     ]
    }
   ],
   "source": [
    "with nl.environment as e:\n",
    "    e.region_voxels[e.id_neurosynth, e.x, e.y, e.z] = (\n",
    "        e.fma_related_region[e.fma_subregions, 'Temporal lobe'] & \n",
    "        e.fma_to_destrieux[e.fma_subregions, e.destrieux_name] & \n",
    "        e.destrieux_to_neurosynth[e.destrieux_name, e.id_neurosynth, e.x, e.y, e.z]\n",
    "    )\n",
    "    \n",
    "    e.destrieux_to_neurosynth[e.destrieux_name, e.id_neurosynth, e.x, e.y, e.z] = (\n",
    "        e.destrieux_labels[e.id_destrieux, e.destrieux_name] &\n",
    "        e.xyz_destrieux[e.x, e.y, e.z, e.id_destrieux] &\n",
    "        e.xyz_neurosynth[e.x, e.y, e.z, e.id_neurosynth]\n",
    "    )\n",
    "    \n",
    "    e.p_act[e.id_voxel, e.term, e.id_study] = (\n",
    "        e.p_voxel_study[e.id_voxel, e.id_study] & \n",
    "        e.p_term_study[e.term,  e.id_study] & \n",
    "        e.p_study[e.id_study]\n",
    "    )\n",
    "    \n",
    "    e.probability_voxel[e.id_voxel, e.x, e.y, e.z] = (\n",
    "        e.p_act[e.id_voxel, e.term, e.id_study] &\n",
    "        e.region_voxels[e.id_voxel, e.x, e.y, e.z]\n",
    "    )\n",
    "    \n",
    "    #nl_results = nl.solve_all()\n",
    "    nl_results = nl.solve_query(e.probability_voxel[e.id_voxel, e.x, e.y, e.z])\n",
    "    \n",
    "    #e.probability_voxel[nl.symbols.agg_create_region(e.x, e.y, e.z)] = (\n",
    "    #    e.p_act[e.id_voxel, e.term, e.id_study] &\n",
    "    #    e.region_voxels[e.id_voxel, e.x, e.y, e.z]\n",
    "    #)\n",
    "    \n",
    "    #e.final[e.region] = e.probability_voxel[e.region]\n",
    "    \n",
    "    #nl_results = nl.solve_query(e.final[e.region])"
   ]
  },
  {
   "cell_type": "code",
   "execution_count": null,
   "metadata": {},
   "outputs": [],
   "source": [
    "t = nl_results.value._container.values\n",
    "f = [(float(prob), id_voxel, x, y, z) for z, id_voxel, x, y, prob in t]\n",
    "p_act_aud = nl.add_probabilistic_facts_from_tuples(tuple(f), name='p_act_aud');"
   ]
  },
  {
   "cell_type": "code",
   "execution_count": null,
   "metadata": {},
   "outputs": [],
   "source": [
    "prob_img_nl = datasets_helper.parse_results(nl_results)\n",
    "plotting.plot_stat_map(\n",
    "    prob_img_nl, \n",
    "    title='Tag \"auditory\" (Neurolang)', \n",
    "    cmap='PuBuGn',\n",
    "    display_mode='x',\n",
    "    cut_coords=np.linspace(-63, 63, 5),\n",
    ")"
   ]
  },
  {
   "cell_type": "code",
   "execution_count": null,
   "metadata": {},
   "outputs": [],
   "source": [
    "plotting.plot_stat_map(\n",
    "    prob_img_nl, title='Tag \"auditory\" (Neurolang)', \n",
    "    cmap='PuBuGn',\n",
    "    display_mode='y',\n",
    "    cut_coords=np.linspace(-30, 5, 5),\n",
    ")"
   ]
  },
  {
   "cell_type": "code",
   "execution_count": null,
   "metadata": {},
   "outputs": [],
   "source": [
    "from rdflib import RDF\n",
    "\n",
    "part_of = nl.new_symbol(name='http://www.obofoundry.org/ro/ro.owl#part_of')\n",
    "\n",
    "# Should found a better to imply this\n",
    "triples = nl.symbol_table[nl.get_ontology_triples_symbol().name]\n",
    "a = triples.value.as_numpy_array()\n",
    "t = [('Auditory', str(RDF.type), 'http://www.cognitiveatlas.org/ontology/cogat.owl#CAO_00148')]\n",
    "\n",
    "t = np.concatenate((a, t))\n",
    "nl.add_extensional_predicate_from_tuples(t, name=nl.get_ontology_triples_symbol().name)"
   ]
  },
  {
   "cell_type": "code",
   "execution_count": null,
   "metadata": {},
   "outputs": [],
   "source": [
    "with nl.scope as e:\n",
    "    e.pre_part[e.x, e.y] = part_of[e.x, e.y]\n",
    "\n",
    "    e.perception_terms[e.short_name] = (\n",
    "        e.pre_part[\"Auditory\", e.y] & \n",
    "        subclass_of[e.z, e.y] & \n",
    "        label(e.z, e.term) &\n",
    "        (e.short_name == nl.symbols.first_word(e.term))\n",
    "    )\n",
    "    \n",
    "    e.p_term_given_act[e.term, e.voxid] = (\n",
    "        e.ns_reported_activations[e.study, e.voxid] &\n",
    "        e.perception_terms[e.term] & \n",
    "        e.ns_term_study_associations[e.study, e.term]\n",
    "    )\n",
    "    \n",
    "    e.p_term_g_aud_voxels[e.term] = (\n",
    "        e.p_term_given_act[e.term, e.voxid] &\n",
    "        e.p_act_aud[e.voxid, e.x, e.y, e.z]\n",
    "    )\n",
    "    \n",
    "    nl_reverse = nl.solve_query(e.p_term_g_aud_voxels[e.term])"
   ]
  },
  {
   "cell_type": "code",
   "execution_count": null,
   "metadata": {},
   "outputs": [],
   "source": [
    "nl_reverse"
   ]
  },
  {
   "cell_type": "code",
   "execution_count": null,
   "metadata": {},
   "outputs": [],
   "source": []
  },
  {
   "cell_type": "code",
   "execution_count": null,
   "metadata": {},
   "outputs": [],
   "source": []
  },
  {
   "cell_type": "code",
   "execution_count": null,
   "metadata": {
    "lines_to_next_cell": 2
   },
   "outputs": [],
   "source": [
    "#prob_terms, prob_voxels, prob_terms_voxels = stats_helper.load_neurosynth_database()\n",
    "prob_img = stats_helper.parse_neurolang_result(result, prob_terms)"
   ]
  },
  {
   "cell_type": "code",
   "execution_count": null,
   "metadata": {},
   "outputs": [],
   "source": [
    "plotting.plot_stat_map(\n",
    "    prob_img, \n",
    "    title='Tag \"auditory\" (Neurolang)', \n",
    "    cmap='PuBuGn',\n",
    "    display_mode='x',\n",
    "    cut_coords=np.linspace(-63, 63, 5),\n",
    ")"
   ]
  },
  {
   "cell_type": "code",
   "execution_count": null,
   "metadata": {},
   "outputs": [],
   "source": [
    "plotting.plot_stat_map(\n",
    "    prob_img, title='Tag \"auditory\" (Neurolang)', \n",
    "    cmap='PuBuGn',\n",
    "    display_mode='y',\n",
    "    cut_coords=np.linspace(-30, 5, 5),\n",
    ")"
   ]
  },
  {
   "cell_type": "markdown",
   "metadata": {},
   "source": [
    "Now let's see the same result obtained directly from the NeuroSynth database."
   ]
  },
  {
   "cell_type": "code",
   "execution_count": null,
   "metadata": {},
   "outputs": [],
   "source": [
    "prob_img_ns = stats_helper.parse_neurosynth_result(prob_terms_voxels)"
   ]
  },
  {
   "cell_type": "code",
   "execution_count": null,
   "metadata": {},
   "outputs": [],
   "source": [
    "plotting.plot_stat_map(\n",
    "    prob_img_ns, title='Tag \"auditory\" (Neurosynth)', \n",
    "    cmap='PuBu',\n",
    "    display_mode='x',\n",
    "    cut_coords=np.linspace(-63, 63, 5),\n",
    ")"
   ]
  },
  {
   "cell_type": "code",
   "execution_count": null,
   "metadata": {},
   "outputs": [],
   "source": [
    "plotting.plot_stat_map(\n",
    "    prob_img_ns, title='Tag \"auditory\" (Neurosynth)', \n",
    "    cmap='PuBu',\n",
    "    display_mode='y',\n",
    "    cut_coords=np.linspace(-30, 5, 5),\n",
    ")"
   ]
  },
  {
   "cell_type": "markdown",
   "metadata": {},
   "source": [
    "Now we can analyze the results by plotting the p-values obtained. Let's start with the NeuroLang results."
   ]
  },
  {
   "cell_type": "code",
   "execution_count": null,
   "metadata": {},
   "outputs": [],
   "source": [
    "res, p_values_corrected, p_value_image = stats_helper.compute_p_values(prob_img, q=1e-25)"
   ]
  },
  {
   "cell_type": "code",
   "execution_count": null,
   "metadata": {},
   "outputs": [],
   "source": [
    "plt.hist(-np.log10(res))\n",
    "plt.axvline(-np.log10(p_values_corrected), c='r')"
   ]
  },
  {
   "cell_type": "code",
   "execution_count": null,
   "metadata": {},
   "outputs": [],
   "source": [
    "plotting.plot_stat_map(\n",
    "    p_value_image, \n",
    "    title=r'$-\\log_{10} P$ value (Neurolang)', \n",
    "    threshold=-np.log10(p_values_corrected), \n",
    "    cmap='YlOrRd',\n",
    "    display_mode='x',\n",
    "    cut_coords=np.linspace(-63, 63, 5),\n",
    ")"
   ]
  },
  {
   "cell_type": "code",
   "execution_count": null,
   "metadata": {
    "scrolled": true
   },
   "outputs": [],
   "source": [
    "plotting.plot_stat_map(\n",
    "    p_value_image, title=r'$-\\log_{10} P$ value (Neurolang)', \n",
    "    threshold=-np.log10(p_values_corrected),\n",
    "    cmap='YlOrRd',\n",
    "    display_mode='y',\n",
    "    cut_coords=np.linspace(-30, 5, 5),\n",
    ")"
   ]
  },
  {
   "cell_type": "markdown",
   "metadata": {},
   "source": [
    "In the above results, we can see that the regions have a high specificity and that they focus entirely on our area of interest. Reducing the area of work in this way allows us to minimize variance, enabling us to obtain results with greater statistical power."
   ]
  },
  {
   "cell_type": "markdown",
   "metadata": {},
   "source": [
    "And now let's do the same with the NeuroSynth results to compare. It is important to mention that the techniques used for the calculation of the p-values, make a comparison against the average of the activations. Bearing this in mind, by decreasing the region to be analyzed and focusing it on the activated region, the average of the activations increases."
   ]
  },
  {
   "cell_type": "code",
   "execution_count": null,
   "metadata": {},
   "outputs": [],
   "source": [
    "res, p_values_corrected, p_value_image = stats_helper.compute_p_values(prob_img_ns, q=1e-25)"
   ]
  },
  {
   "cell_type": "code",
   "execution_count": null,
   "metadata": {},
   "outputs": [],
   "source": [
    "plt.hist(-np.log10(res))\n",
    "plt.axvline(-np.log10(p_values_corrected), c='r')"
   ]
  },
  {
   "cell_type": "code",
   "execution_count": null,
   "metadata": {},
   "outputs": [],
   "source": [
    "plotting.plot_stat_map(\n",
    "    p_value_image, \n",
    "    title=r'$-\\log_{10} P$ value (NeuroSynth)', \n",
    "    threshold=-np.log10(p_values_corrected), \n",
    "    cmap='YlOrRd',\n",
    "    display_mode='x',\n",
    "    cut_coords=np.linspace(-63, 63, 5),\n",
    ")"
   ]
  },
  {
   "cell_type": "code",
   "execution_count": null,
   "metadata": {},
   "outputs": [],
   "source": [
    "plotting.plot_stat_map(\n",
    "    p_value_image, title=r'$-\\log_{10} P$ value (NeuroSynth)', \n",
    "    threshold=-np.log10(p_values_corrected),\n",
    "    cmap='YlOrRd',\n",
    "    display_mode='y',\n",
    "    cut_coords=np.linspace(-30, 5, 5),\n",
    ")"
   ]
  },
  {
   "cell_type": "markdown",
   "metadata": {},
   "source": [
    "It can be seen above how despite using a restrictive threshold for the p-value ($q<10^{25}$, FDR corrected), in the Neurosynth example there are activations considered statistically significant in the motor cortex that should not be present for the `auditory` tag. Using a prior information in NeuroLang, we are able to remove these false positives and obtain a cleaner result. "
   ]
  },
  {
   "cell_type": "markdown",
   "metadata": {},
   "source": [
    "#### References\n",
    "[1] Yarkoni, T.: Neurosynth core tools v0.3.1, DOI: 10.5281/zenodo.9925 (2014). <br/>\n",
    "[2] Yarkoni, T., Poldrack, R. A., Nichols, T. E., Van Essen, D. C. & Wager, T. D: Large-scale automated synthesis of human functional neuroimaging data. Nat. Methods 8, 665–670, DOI: 10.1038/nmeth.1635 (2011). <br/>\n",
    "[3] News. Journal of Investigative Medicine 58 (8), 929 (Dec2010). https://doi.org/10.2310/JIM.0b013e3182025955, http://jim.bmj.com/content/58/8/929.abstract <br/>\n",
    "[4] Insel, T. R., Landis, S.C., Collins, F.S.: Research priorities. The NIHBRAIN Initiative. Science (New York, N.Y.) 340 (6133), 687–688 (May  2013). https://doi.org/10.1126/science.1239276 <br/>\n",
    "[5] Markram, H.: The human brain project. Scientific American306(6), 50–55 (Jun2012). https://doi.org/10.1038/scientificamerican0612-50\n",
    "[6] Derrfuss, J. & Mar, R. A. Lost in localization: the need for a universal coordinate database. NeuroImage 48, 1–7, DOI:10.1016/j.neuroimage.2009.01.053 (2009)."
   ]
  }
 ],
 "metadata": {
  "jupytext": {
   "encoding": "# -*- coding: utf-8 -*-",
   "formats": "ipynb,py:light"
  },
  "kernelspec": {
   "display_name": "neurolang",
   "language": "python",
   "name": "neurolang"
  },
  "language_info": {
   "codemirror_mode": {
    "name": "ipython",
    "version": 3
   },
   "file_extension": ".py",
   "mimetype": "text/x-python",
   "name": "python",
   "nbconvert_exporter": "python",
   "pygments_lexer": "ipython3",
   "version": "3.7.3"
  }
 },
 "nbformat": 4,
 "nbformat_minor": 2
}
