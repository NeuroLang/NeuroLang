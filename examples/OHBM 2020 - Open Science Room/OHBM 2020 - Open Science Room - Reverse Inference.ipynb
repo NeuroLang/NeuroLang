{
 "cells": [
  {
   "cell_type": "code",
   "execution_count": 1,
   "metadata": {},
   "outputs": [],
   "source": [
    "import warnings\n",
    "warnings.simplefilter('ignore')\n",
    "warnings.filterwarnings('ignore')"
   ]
  },
  {
   "cell_type": "code",
   "execution_count": 1,
   "metadata": {},
   "outputs": [
    {
     "name": "stderr",
     "output_type": "stream",
     "text": [
      "/Users/gzanitti/miniconda3/envs/neurolang/lib/python3.7/site-packages/sklearn/externals/joblib/__init__.py:15: DeprecationWarning: sklearn.externals.joblib is deprecated in 0.21 and will be removed in 0.23. Please import this functionality directly from joblib, which can be installed with: pip install joblib. If this warning is raised when loading pickled models, you may need to re-serialize those models with scikit-learn 0.21+.\n",
      "  warnings.warn(msg, category=DeprecationWarning)\n",
      "/Users/gzanitti/miniconda3/envs/neurolang/lib/python3.7/site-packages/nilearn/plotting/cm.py:159: MatplotlibDeprecationWarning: \n",
      "The revcmap function was deprecated in Matplotlib 3.2 and will be removed two minor releases later. Use Colormap.reversed() instead.\n",
      "  _cmaps_data[_cmapname_r] = _cm.revcmap(_cmapspec)\n",
      "/Users/gzanitti/miniconda3/envs/neurolang/lib/python3.7/importlib/_bootstrap.py:219: RuntimeWarning: numpy.ufunc size changed, may indicate binary incompatibility. Expected 192 from C header, got 216 from PyObject\n",
      "  return f(*args, **kwds)\n",
      "/Users/gzanitti/miniconda3/envs/neurolang/lib/python3.7/site-packages/tatsu/grammars.py:6: DeprecationWarning: Using or importing the ABCs from 'collections' instead of from 'collections.abc' is deprecated, and in 3.8 it will stop working\n",
      "  from collections import defaultdict, Mapping\n",
      "/Users/gzanitti/miniconda3/envs/neurolang/lib/python3.7/site-packages/problog/util.py:250: DeprecationWarning: Using or importing the ABCs from 'collections' instead of from 'collections.abc' is deprecated, and in 3.8 it will stop working\n",
      "  class OrderedSet(collections.MutableSet):\n"
     ]
    }
   ],
   "source": [
    "import stats_helper, datasets_helper\n",
    "from neurolang.frontend.probabilistic_frontend import ProbabilisticFrontend\n",
    "from rdflib import RDFS\n",
    "from nilearn import plotting\n",
    "import numpy as np\n",
    "from matplotlib import pyplot as plt\n",
    "from typing import Iterable\n",
    "from neurolang import frontend as fe"
   ]
  },
  {
   "cell_type": "markdown",
   "metadata": {},
   "source": [
    "We will use the FMA ontology to obtain regions of the brain included within the `Temporal lobe`. We will obtain all the entities that make up the `Temporal Lobe` and then we will convert them into regions using the information provided by the Destrieux atlas. This will allow us to perform spatial operations on these regions, allowing us to obtain those NeuroSynth regions associated with the term `auditory` that overlap our results.\n",
    "\n"
   ]
  },
  {
   "cell_type": "code",
   "execution_count": 2,
   "metadata": {},
   "outputs": [
    {
     "name": "stderr",
     "output_type": "stream",
     "text": [
      "/Users/gzanitti/miniconda3/envs/neurolang/lib/python3.7/site-packages/neurosynth/base/mask.py:232: DeprecationWarning: get_header method is deprecated.\n",
      "Please use the ``img.header`` property instead.\n",
      "\n",
      "* deprecated from version: 2.1\n",
      "* Will raise <class 'nibabel.deprecator.ExpiredDeprecationError'> as of version: 4.0\n",
      "  return self.volume.get_header()\n",
      "/Users/gzanitti/miniconda3/envs/neurolang/lib/python3.7/site-packages/neurosynth/base/dataset.py:624: FutureWarning: DataFrame/Series.to_dense is deprecated and will be removed in a future version\n",
      "  old_data = self.data.to_dense()\n",
      "/Users/gzanitti/miniconda3/envs/neurolang/lib/python3.7/site-packages/neurosynth/base/dataset.py:634: FutureWarning: DataFrame.to_sparse is deprecated and will be removed in a future version\n",
      "  self.data = data.fillna(0.0).to_sparse()\n",
      "/Users/gzanitti/miniconda3/envs/neurolang/lib/python3.7/site-packages/neurosynth/base/mask.py:232: DeprecationWarning: get_header method is deprecated.\n",
      "Please use the ``img.header`` property instead.\n",
      "\n",
      "* deprecated from version: 2.1\n",
      "* Will raise <class 'nibabel.deprecator.ExpiredDeprecationError'> as of version: 4.0\n",
      "  return self.volume.get_header()\n",
      "/Users/gzanitti/miniconda3/envs/neurolang/lib/python3.7/site-packages/neurosynth/base/dataset.py:624: FutureWarning: DataFrame/Series.to_dense is deprecated and will be removed in a future version\n",
      "  old_data = self.data.to_dense()\n",
      "/Users/gzanitti/miniconda3/envs/neurolang/lib/python3.7/site-packages/neurosynth/base/dataset.py:634: FutureWarning: DataFrame.to_sparse is deprecated and will be removed in a future version\n",
      "  self.data = data.fillna(0.0).to_sparse()\n",
      "/Users/gzanitti/miniconda3/envs/neurolang/lib/python3.7/site-packages/numpy/lib/npyio.py:2358: VisibleDeprecationWarning: Reading unicode strings without specifying the encoding argument is deprecated. Set the encoding, use None for the system default.\n",
      "  output = genfromtxt(fname, **kwargs)\n"
     ]
    }
   ],
   "source": [
    "nl = ProbabilisticFrontend()\n",
    "datasets_helper.load_reverse_inference_dataset(nl)"
   ]
  },
  {
   "cell_type": "code",
   "execution_count": 3,
   "metadata": {},
   "outputs": [],
   "source": [
    "path = 'neurolang_data/ontologies/cogat.xrdf'\n",
    "nl.load_ontology(path)"
   ]
  },
  {
   "cell_type": "code",
   "execution_count": 4,
   "metadata": {},
   "outputs": [
    {
     "name": "stderr",
     "output_type": "stream",
     "text": [
      "/Users/gzanitti/Projects/INRIA/NeuroLang/neurolang/datalog/aggregation.py:152: UserWarning: No check performed. Should implement check for stratified aggregation\n",
      "  \"No check performed. Should implement check for stratified\"\n",
      "/Users/gzanitti/miniconda3/envs/neurolang/lib/python3.7/site-packages/pandas/core/frame.py:4218: SettingWithCopyWarning: \n",
      "A value is trying to be set on a copy of a slice from a DataFrame\n",
      "\n",
      "See the caveats in the documentation: http://pandas.pydata.org/pandas-docs/stable/user_guide/indexing.html#returning-a-view-versus-a-copy\n",
      "  return super().rename(**kwargs)\n"
     ]
    }
   ],
   "source": [
    "with nl.scope as e:\n",
    "    e.julich_to_neurosynth[e.julich_id, e.id_neurosynth, e.x, e.y, e.z] = (\n",
    "        e.xyz_julich[e.x, e.y, e.z, e.julich_id] &\n",
    "        e.xyz_neurosynth[e.x, e.y, e.z, e.id_neurosynth]\n",
    "    )\n",
    "    \n",
    "    e.region_voxels[e.name, e.id_neurosynth, e.x, e.y, e.z] = (\n",
    "        e.julich_id[e.name, e.julich_id] &\n",
    "        e.julich_to_neurosynth[e.julich_id, e.id_neurosynth, e.x, e.y, e.z]\n",
    "    )\n",
    "    \n",
    "    e.julich_id[e.name, e.id] = (\n",
    "        e.julich_ontology[e.name, 'labelIndex', e.id]\n",
    "    )\n",
    "    \n",
    "    e.julich_voxels[e.id_neurosynth, e.x, e.y, e.z] = (\n",
    "        e.region_voxels['Area Ia (Insula)', e.id_neurosynth, e.x, e.y, e.z]\n",
    "    )\n",
    "    \n",
    "    e.p_act[e.id_voxel, e.term] = (\n",
    "        e.p_voxel_study[e.id_voxel, e.id_study] & \n",
    "        e.p_term_study[e.term,  e.id_study] & \n",
    "        e.p_study[e.id_study]\n",
    "    )\n",
    "    \n",
    "    e.probability_voxel[e.term] = (\n",
    "        e.p_act[e.id_voxel, e.term] &\n",
    "        e.julich_voxels[e.id_voxel, e.x, e.y, e.z]\n",
    "    )\n",
    "    \n",
    "    nl_results = nl.solve_query(e.probability_voxel[e.term])"
   ]
  },
  {
   "cell_type": "code",
   "execution_count": 7,
   "metadata": {},
   "outputs": [
    {
     "data": {
      "text/html": [
       "<div>\n",
       "<style scoped>\n",
       "    .dataframe tbody tr th:only-of-type {\n",
       "        vertical-align: middle;\n",
       "    }\n",
       "\n",
       "    .dataframe tbody tr th {\n",
       "        vertical-align: top;\n",
       "    }\n",
       "\n",
       "    .dataframe thead th {\n",
       "        text-align: right;\n",
       "    }\n",
       "</style>\n",
       "<table border=\"1\" class=\"dataframe\">\n",
       "  <thead>\n",
       "    <tr style=\"text-align: right;\">\n",
       "      <th></th>\n",
       "      <th>term</th>\n",
       "      <th>fresh_00004571</th>\n",
       "    </tr>\n",
       "  </thead>\n",
       "  <tbody>\n",
       "    <tr>\n",
       "      <th>0</th>\n",
       "      <td>001</td>\n",
       "      <td>8.259320e-08</td>\n",
       "    </tr>\n",
       "    <tr>\n",
       "      <th>1</th>\n",
       "      <td>01</td>\n",
       "      <td>8.654360e-08</td>\n",
       "    </tr>\n",
       "    <tr>\n",
       "      <th>2</th>\n",
       "      <td>05</td>\n",
       "      <td>1.696883e-07</td>\n",
       "    </tr>\n",
       "    <tr>\n",
       "      <th>3</th>\n",
       "      <td>10</td>\n",
       "      <td>3.720645e-07</td>\n",
       "    </tr>\n",
       "    <tr>\n",
       "      <th>4</th>\n",
       "      <td>100</td>\n",
       "      <td>1.569163e-07</td>\n",
       "    </tr>\n",
       "  </tbody>\n",
       "</table>\n",
       "</div>"
      ],
      "text/plain": [
       "  term  fresh_00004571\n",
       "0  001    8.259320e-08\n",
       "1   01    8.654360e-08\n",
       "2   05    1.696883e-07\n",
       "3   10    3.720645e-07\n",
       "4  100    1.569163e-07"
      ]
     },
     "execution_count": 7,
     "metadata": {},
     "output_type": "execute_result"
    }
   ],
   "source": [
    "nl_results.value.as_pandas_dataframe().head()"
   ]
  },
  {
   "cell_type": "code",
   "execution_count": null,
   "metadata": {},
   "outputs": [],
   "source": []
  },
  {
   "cell_type": "code",
   "execution_count": null,
   "metadata": {},
   "outputs": [],
   "source": []
  },
  {
   "cell_type": "code",
   "execution_count": null,
   "metadata": {},
   "outputs": [],
   "source": []
  },
  {
   "cell_type": "code",
   "execution_count": 1,
   "metadata": {},
   "outputs": [
    {
     "name": "stderr",
     "output_type": "stream",
     "text": [
      "/Users/gzanitti/miniconda3/envs/neurolang/lib/python3.7/site-packages/sklearn/externals/joblib/__init__.py:15: DeprecationWarning: sklearn.externals.joblib is deprecated in 0.21 and will be removed in 0.23. Please import this functionality directly from joblib, which can be installed with: pip install joblib. If this warning is raised when loading pickled models, you may need to re-serialize those models with scikit-learn 0.21+.\n",
      "  warnings.warn(msg, category=DeprecationWarning)\n",
      "/Users/gzanitti/miniconda3/envs/neurolang/lib/python3.7/site-packages/nilearn/plotting/cm.py:159: MatplotlibDeprecationWarning: \n",
      "The revcmap function was deprecated in Matplotlib 3.2 and will be removed two minor releases later. Use Colormap.reversed() instead.\n",
      "  _cmaps_data[_cmapname_r] = _cm.revcmap(_cmapspec)\n",
      "/Users/gzanitti/miniconda3/envs/neurolang/lib/python3.7/importlib/_bootstrap.py:219: RuntimeWarning: numpy.ufunc size changed, may indicate binary incompatibility. Expected 192 from C header, got 216 from PyObject\n",
      "  return f(*args, **kwds)\n",
      "/Users/gzanitti/miniconda3/envs/neurolang/lib/python3.7/site-packages/tatsu/grammars.py:6: DeprecationWarning: Using or importing the ABCs from 'collections' instead of from 'collections.abc' is deprecated, and in 3.8 it will stop working\n",
      "  from collections import defaultdict, Mapping\n",
      "/Users/gzanitti/miniconda3/envs/neurolang/lib/python3.7/site-packages/problog/util.py:250: DeprecationWarning: Using or importing the ABCs from 'collections' instead of from 'collections.abc' is deprecated, and in 3.8 it will stop working\n",
      "  class OrderedSet(collections.MutableSet):\n",
      "/Users/gzanitti/miniconda3/envs/neurolang/lib/python3.7/site-packages/neurosynth/base/mask.py:232: DeprecationWarning: get_header method is deprecated.\n",
      "Please use the ``img.header`` property instead.\n",
      "\n",
      "* deprecated from version: 2.1\n",
      "* Will raise <class 'nibabel.deprecator.ExpiredDeprecationError'> as of version: 4.0\n",
      "  return self.volume.get_header()\n",
      "/Users/gzanitti/miniconda3/envs/neurolang/lib/python3.7/site-packages/neurosynth/base/dataset.py:624: FutureWarning: DataFrame/Series.to_dense is deprecated and will be removed in a future version\n",
      "  old_data = self.data.to_dense()\n",
      "/Users/gzanitti/miniconda3/envs/neurolang/lib/python3.7/site-packages/neurosynth/base/dataset.py:634: FutureWarning: DataFrame.to_sparse is deprecated and will be removed in a future version\n",
      "  self.data = data.fillna(0.0).to_sparse()\n",
      "/Users/gzanitti/miniconda3/envs/neurolang/lib/python3.7/site-packages/neurosynth/base/mask.py:232: DeprecationWarning: get_header method is deprecated.\n",
      "Please use the ``img.header`` property instead.\n",
      "\n",
      "* deprecated from version: 2.1\n",
      "* Will raise <class 'nibabel.deprecator.ExpiredDeprecationError'> as of version: 4.0\n",
      "  return self.volume.get_header()\n",
      "/Users/gzanitti/miniconda3/envs/neurolang/lib/python3.7/site-packages/neurosynth/base/dataset.py:624: FutureWarning: DataFrame/Series.to_dense is deprecated and will be removed in a future version\n",
      "  old_data = self.data.to_dense()\n",
      "/Users/gzanitti/miniconda3/envs/neurolang/lib/python3.7/site-packages/neurosynth/base/dataset.py:634: FutureWarning: DataFrame.to_sparse is deprecated and will be removed in a future version\n",
      "  self.data = data.fillna(0.0).to_sparse()\n",
      "/Users/gzanitti/miniconda3/envs/neurolang/lib/python3.7/site-packages/numpy/lib/npyio.py:2358: VisibleDeprecationWarning: Reading unicode strings without specifying the encoding argument is deprecated. Set the encoding, use None for the system default.\n",
      "  output = genfromtxt(fname, **kwargs)\n"
     ]
    }
   ],
   "source": [
    "import stats_helper, datasets_helper\n",
    "from neurolang.frontend.probabilistic_frontend import ProbabilisticFrontend\n",
    "from rdflib import RDFS\n",
    "from nilearn import plotting\n",
    "import numpy as np\n",
    "from matplotlib import pyplot as plt\n",
    "from typing import Iterable\n",
    "from neurolang import frontend as fe\n",
    "\n",
    "nl = ProbabilisticFrontend()\n",
    "datasets_helper.load_reverse_inference_dataset(nl)\n",
    "\n",
    "path = 'neurolang_data/ontologies/cogat.xrdf'\n",
    "nl.load_ontology(path)"
   ]
  },
  {
   "cell_type": "code",
   "execution_count": 6,
   "metadata": {},
   "outputs": [],
   "source": [
    "part_of = nl.new_symbol(name='http://www.obofoundry.org/ro/ro.owl#part_of')\n",
    "subclass_of = nl.new_symbol(name=str(RDFS.subClassOf))\n",
    "label = nl.new_symbol(name=str(RDFS.label))\n",
    "hasTopConcept = nl.new_symbol(name='http://www.w3.org/2004/02/skos/core#hasTopConcept')\n",
    "\n",
    "@nl.add_symbol\n",
    "def word_lower(name: str) -> str:\n",
    "    print(name)\n",
    "    return str(name).lower()"
   ]
  },
  {
   "cell_type": "code",
   "execution_count": 7,
   "metadata": {},
   "outputs": [
    {
     "name": "stdout",
     "output_type": "stream",
     "text": [
      "λ{C{word_lower: typing.Callable[[str], str]}: str}(C{'name': ColumnStr})\n",
      "λ{C{word_lower: typing.Callable[[str], str]}: str}(C{'name': ColumnStr})\n",
      "0\n",
      "1\n",
      "2\n",
      "3\n",
      "4\n",
      "5\n",
      "6\n",
      "7\n",
      "8\n",
      "9\n",
      "10\n",
      "11\n",
      "12\n",
      "13\n",
      "14\n",
      "15\n",
      "16\n",
      "17\n",
      "18\n",
      "19\n",
      "20\n",
      "21\n",
      "22\n",
      "23\n",
      "24\n",
      "25\n",
      "26\n",
      "27\n",
      "28\n",
      "29\n",
      "30\n",
      "31\n",
      "32\n",
      "33\n",
      "34\n",
      "35\n",
      "36\n",
      "37\n",
      "38\n",
      "39\n",
      "40\n",
      "41\n",
      "λ{C{word_lower: typing.Callable[[str], str]}: str}(C{'name': ColumnStr})\n",
      "λ{C{word_lower: typing.Callable[[str], str]}: str}(C{'name': ColumnStr})\n",
      "λ{C{word_lower: typing.Callable[[str], str]}: str}(C{'name': ColumnStr})\n",
      "λ{C{word_lower: typing.Callable[[str], str]}: str}(C{'name': ColumnStr})\n",
      "0\n",
      "1\n",
      "2\n",
      "3\n",
      "4\n",
      "5\n",
      "6\n",
      "7\n",
      "8\n",
      "9\n",
      "10\n",
      "11\n",
      "12\n",
      "13\n",
      "14\n",
      "15\n",
      "16\n",
      "17\n",
      "18\n",
      "19\n",
      "20\n",
      "21\n",
      "22\n",
      "23\n",
      "24\n",
      "25\n",
      "26\n",
      "27\n",
      "28\n",
      "29\n",
      "30\n",
      "31\n",
      "32\n",
      "33\n",
      "34\n",
      "35\n",
      "36\n",
      "37\n",
      "38\n",
      "39\n",
      "40\n",
      "41\n",
      "λ{C{word_lower: typing.Callable[[str], str]}: str}(C{'name': ColumnStr})\n",
      "λ{C{word_lower: typing.Callable[[str], str]}: str}(C{'name': ColumnStr})\n",
      "λ{C{word_lower: typing.Callable[[str], str]}: str}(C{'name': ColumnStr})\n",
      "λ{C{word_lower: typing.Callable[[str], str]}: str}(C{'name': ColumnStr})\n",
      "0\n",
      "1\n",
      "2\n",
      "3\n",
      "4\n",
      "5\n",
      "6\n",
      "7\n",
      "8\n",
      "9\n",
      "10\n",
      "11\n",
      "12\n",
      "13\n",
      "14\n",
      "15\n",
      "16\n",
      "17\n",
      "18\n",
      "19\n",
      "20\n",
      "21\n",
      "22\n",
      "23\n",
      "24\n",
      "25\n",
      "26\n",
      "27\n",
      "28\n",
      "29\n",
      "30\n",
      "31\n",
      "32\n",
      "33\n",
      "34\n",
      "35\n",
      "36\n",
      "37\n",
      "38\n",
      "39\n",
      "40\n",
      "41\n",
      "λ{C{word_lower: typing.Callable[[str], str]}: str}(C{'name': ColumnStr})\n",
      "λ{C{word_lower: typing.Callable[[str], str]}: str}(C{'name': ColumnStr})\n"
     ]
    }
   ],
   "source": [
    "from operator import eq\n",
    "\n",
    "with nl.scope as e:\n",
    "    e.julich_to_neurosynth[e.julich_id, e.id_neurosynth, e.x, e.y, e.z] = (\n",
    "        e.xyz_julich[e.x, e.y, e.z, e.julich_id] &\n",
    "        e.xyz_neurosynth[e.x, e.y, e.z, e.id_neurosynth]\n",
    "    )\n",
    "    \n",
    "    e.region_voxels[e.name, e.id_neurosynth, e.x, e.y, e.z] = (\n",
    "        e.julich_id[e.name, e.julich_id] &\n",
    "        e.julich_to_neurosynth[e.julich_id, e.id_neurosynth, e.x, e.y, e.z]\n",
    "    )\n",
    "    \n",
    "    e.julich_id[e.name, e.id] = (\n",
    "        e.julich_ontology[e.name, 'labelIndex', e.id]\n",
    "    )\n",
    "    \n",
    "    e.julich_voxels[e.id_neurosynth, e.x, e.y, e.z] = (\n",
    "        e.region_voxels['Area Ia (Insula)', e.id_neurosynth, e.x, e.y, e.z]\n",
    "    )\n",
    "    \n",
    "    e.p_act[e.id_voxel, e.term] = (\n",
    "        e.p_voxel_study[e.id_voxel, e.id_study] & \n",
    "        e.p_term_study[e.term,  e.id_study] & \n",
    "        e.p_study[e.id_study]\n",
    "    )\n",
    "    \n",
    "    e.ontology_terms[e.lower] = (\n",
    "        hasTopConcept[e.uri, 'Executive-Cognitive Control'] &\n",
    "        label[e.uri, e.name] &\n",
    "        eq(e.lower, word_lower(e.name))\n",
    "    )\n",
    "    \n",
    "    e.probability_voxel[e.term] = (\n",
    "        e.p_act[e.id_voxel, e.term] &\n",
    "        e.julich_voxels[e.id_voxel, e.x, e.y, e.z] &\n",
    "        e.ontology_terms[e.term]\n",
    "    )\n",
    "    \n",
    "    nl_results = nl.solve_query(e.probability_voxel[e.term])"
   ]
  },
  {
   "cell_type": "code",
   "execution_count": 4,
   "metadata": {},
   "outputs": [
    {
     "data": {
      "text/plain": [
       "C{   term  fresh_00004605\n",
       "0    10    3.720645e-07\n",
       "1    11    1.983791e-07\n",
       "2    12    4.200625e-07\n",
       "3    13    1.727430e-07\n",
       "4    14    2.621186e-07\n",
       "5    15    2.434404e-07\n",
       "6    16    2.295541e-07\n",
       "7    17    2.179966e-07\n",
       "8    18    2.787830e-07\n",
       "9    19    1.514488e-07\n",
       "10   20    3.442151e-07\n",
       "11   21    2.598925e-07\n",
       "12   22    1.221099e-07\n",
       "13   23    1.573988e-07\n",
       "14   24    1.379274e-07\n",
       "15   25    1.308708e-07\n",
       "16   26    9.844265e-08\n",
       "17   27    1.427252e-07\n",
       "18   28    1.775880e-07\n",
       "19   29    9.873308e-08\n",
       "20   30    1.529717e-07\n",
       "21   31    1.638666e-07\n",
       "22   32    8.594952e-08\n",
       "23   33    3.997718e-08\n",
       "24   34    1.030381e-07\n",
       "25   35    4.575327e-08\n",
       "26   36    7.031302e-08\n",
       "27   37    1.658503e-08\n",
       "28   38    3.453533e-08\n",
       "29   39    8.352935e-08\n",
       "30   40    6.990839e-08\n",
       "31   41    6.477083e-08: Unknown}"
      ]
     },
     "execution_count": 4,
     "metadata": {},
     "output_type": "execute_result"
    }
   ],
   "source": [
    "nl_results"
   ]
  },
  {
   "cell_type": "code",
   "execution_count": null,
   "metadata": {},
   "outputs": [],
   "source": []
  },
  {
   "cell_type": "code",
   "execution_count": null,
   "metadata": {},
   "outputs": [],
   "source": []
  },
  {
   "cell_type": "code",
   "execution_count": 6,
   "metadata": {},
   "outputs": [],
   "source": [
    "label = nl.new_symbol(name=str(RDFS.label))\n",
    "subclass_of = nl.new_symbol(name=str(RDFS.subClassOf))\n",
    "regional_part = nl.new_symbol(name='http://sig.biostr.washington.edu/fma3.0#regional_part_of')\n",
    "\n",
    "#@nl.add_symbol\n",
    "#def agg_create_region(x: Iterable, y: Iterable, z: Iterable) -> fe.ExplicitVBR:\n",
    "#    mni_t1 = it.masker.volume\n",
    "#    voxels = nib.affines.apply_affine(np.linalg.inv(mni_t1.affine), np.c_[x, y, z])\n",
    "#    return fe.ExplicitVBR(voxels, mni_t1.affine, image_dim=mni_t1.shape)\n",
    "\n",
    "@nl.add_symbol\n",
    "def first_word(name: str) -> str:\n",
    "    return name.split(\" \")[0]\n",
    "\n",
    "with nl.environment as e:    \n",
    "    e.fma_related_region[e.subregion_name, e.fma_uri] = (\n",
    "        label(e.xfma_entity_name, e.fma_uri) & \n",
    "        regional_part(e.fma_region, e.xfma_entity_name) & \n",
    "        subclass_of(e.fma_subregion, e.fma_region) &\n",
    "        label(e.fma_subregion, e.subregion_name)\n",
    "    )\n",
    "    e.fma_related_region[e.recursive_region, e.fma_name] = (\n",
    "        subclass_of(e.recursive_region, e.fma_subregion) & e.fma_related_region(e.fma_subregion, e.fma_name)\n",
    "    )\n",
    "    e.fma_to_destrieux[e.fma_name, e.destrieux_name] = (\n",
    "        label(e.fma_uri, e.fma_name) & e.relation_destrieux_fma(e.destrieux_name, e.fma_name)\n",
    "    )"
   ]
  },
  {
   "cell_type": "code",
   "execution_count": null,
   "metadata": {
    "lines_to_end_of_cell_marker": 2,
    "scrolled": false
   },
   "outputs": [
    {
     "name": "stderr",
     "output_type": "stream",
     "text": [
      "/Users/gzanitti/Projects/INRIA/NeuroLang/neurolang/datalog/aggregation.py:146: UserWarning: No check performed. Should implement check for stratified aggregation\n",
      "  \"No check performed. Should implement check for stratified\"\n",
      "/Users/gzanitti/miniconda3/envs/neurolang/lib/python3.7/site-packages/pandas/core/frame.py:4218: SettingWithCopyWarning: \n",
      "A value is trying to be set on a copy of a slice from a DataFrame\n",
      "\n",
      "See the caveats in the documentation: http://pandas.pydata.org/pandas-docs/stable/user_guide/indexing.html#returning-a-view-versus-a-copy\n",
      "  return super().rename(**kwargs)\n"
     ]
    }
   ],
   "source": [
    "with nl.environment as e:\n",
    "    e.region_voxels[e.id_neurosynth, e.x, e.y, e.z] = (\n",
    "        e.fma_related_region[e.fma_subregions, 'Temporal lobe'] & \n",
    "        e.fma_to_destrieux[e.fma_subregions, e.destrieux_name] & \n",
    "        e.destrieux_to_neurosynth[e.destrieux_name, e.id_neurosynth, e.x, e.y, e.z]\n",
    "    )\n",
    "    \n",
    "    e.destrieux_to_neurosynth[e.destrieux_name, e.id_neurosynth, e.x, e.y, e.z] = (\n",
    "        e.destrieux_labels[e.id_destrieux, e.destrieux_name] &\n",
    "        e.xyz_destrieux[e.x, e.y, e.z, e.id_destrieux] &\n",
    "        e.xyz_neurosynth[e.x, e.y, e.z, e.id_neurosynth]\n",
    "    )\n",
    "    \n",
    "    e.p_act[e.id_voxel, e.term, e.id_study] = (\n",
    "        e.p_voxel_study[e.id_voxel, e.id_study] & \n",
    "        e.p_term_study[e.term,  e.id_study] & \n",
    "        e.p_study[e.id_study]\n",
    "    )\n",
    "    \n",
    "    e.probability_voxel[e.id_voxel, e.x, e.y, e.z] = (\n",
    "        e.p_act[e.id_voxel, e.term, e.id_study] &\n",
    "        e.region_voxels[e.id_voxel, e.x, e.y, e.z]\n",
    "    )\n",
    "    \n",
    "    #nl_results = nl.solve_all()\n",
    "    nl_results = nl.solve_query(e.probability_voxel[e.id_voxel, e.x, e.y, e.z])\n",
    "    \n",
    "    #e.probability_voxel[nl.symbols.agg_create_region(e.x, e.y, e.z)] = (\n",
    "    #    e.p_act[e.id_voxel, e.term, e.id_study] &\n",
    "    #    e.region_voxels[e.id_voxel, e.x, e.y, e.z]\n",
    "    #)\n",
    "    \n",
    "    #e.final[e.region] = e.probability_voxel[e.region]\n",
    "    \n",
    "    #nl_results = nl.solve_query(e.final[e.region])"
   ]
  },
  {
   "cell_type": "code",
   "execution_count": null,
   "metadata": {},
   "outputs": [],
   "source": [
    "t = nl_results.value._container.values\n",
    "f = [(float(prob), id_voxel, x, y, z) for z, id_voxel, x, y, prob in t]\n",
    "p_act_aud = nl.add_probabilistic_facts_from_tuples(tuple(f), name='p_act_aud');"
   ]
  },
  {
   "cell_type": "code",
   "execution_count": null,
   "metadata": {},
   "outputs": [],
   "source": [
    "prob_img_nl = datasets_helper.parse_results(nl_results)\n",
    "plotting.plot_stat_map(\n",
    "    prob_img_nl, \n",
    "    title='Tag \"auditory\" (Neurolang)', \n",
    "    cmap='PuBuGn',\n",
    "    display_mode='x',\n",
    "    cut_coords=np.linspace(-63, 63, 5),\n",
    ")"
   ]
  },
  {
   "cell_type": "code",
   "execution_count": null,
   "metadata": {},
   "outputs": [],
   "source": [
    "plotting.plot_stat_map(\n",
    "    prob_img_nl, title='Tag \"auditory\" (Neurolang)', \n",
    "    cmap='PuBuGn',\n",
    "    display_mode='y',\n",
    "    cut_coords=np.linspace(-30, 5, 5),\n",
    ")"
   ]
  },
  {
   "cell_type": "code",
   "execution_count": null,
   "metadata": {},
   "outputs": [],
   "source": [
    "from rdflib import RDF\n",
    "\n",
    "part_of = nl.new_symbol(name='http://www.obofoundry.org/ro/ro.owl#part_of')\n",
    "\n",
    "# Should found a better to imply this\n",
    "triples = nl.symbol_table[nl.get_ontology_triples_symbol().name]\n",
    "a = triples.value.as_numpy_array()\n",
    "t = [('Auditory', str(RDF.type), 'http://www.cognitiveatlas.org/ontology/cogat.owl#CAO_00148')]\n",
    "\n",
    "t = np.concatenate((a, t))\n",
    "nl.add_extensional_predicate_from_tuples(t, name=nl.get_ontology_triples_symbol().name)"
   ]
  },
  {
   "cell_type": "code",
   "execution_count": null,
   "metadata": {},
   "outputs": [],
   "source": [
    "with nl.scope as e:\n",
    "    e.pre_part[e.x, e.y] = part_of[e.x, e.y]\n",
    "\n",
    "    e.perception_terms[e.short_name] = (\n",
    "        e.pre_part[\"Auditory\", e.y] & \n",
    "        subclass_of[e.z, e.y] & \n",
    "        label(e.z, e.term) &\n",
    "        (e.short_name == nl.symbols.first_word(e.term))\n",
    "    )\n",
    "    \n",
    "    e.p_term_given_act[e.term, e.voxid] = (\n",
    "        e.ns_reported_activations[e.study, e.voxid] &\n",
    "        e.perception_terms[e.term] & \n",
    "        e.ns_term_study_associations[e.study, e.term]\n",
    "    )\n",
    "    \n",
    "    e.p_term_g_aud_voxels[e.term] = (\n",
    "        e.p_term_given_act[e.term, e.voxid] &\n",
    "        e.p_act_aud[e.voxid, e.x, e.y, e.z]\n",
    "    )\n",
    "    \n",
    "    nl_reverse = nl.solve_query(e.p_term_g_aud_voxels[e.term])"
   ]
  },
  {
   "cell_type": "code",
   "execution_count": null,
   "metadata": {},
   "outputs": [],
   "source": [
    "nl_reverse"
   ]
  },
  {
   "cell_type": "code",
   "execution_count": null,
   "metadata": {},
   "outputs": [],
   "source": []
  },
  {
   "cell_type": "code",
   "execution_count": null,
   "metadata": {},
   "outputs": [],
   "source": []
  },
  {
   "cell_type": "code",
   "execution_count": null,
   "metadata": {
    "lines_to_next_cell": 2
   },
   "outputs": [],
   "source": [
    "#prob_terms, prob_voxels, prob_terms_voxels = stats_helper.load_neurosynth_database()\n",
    "prob_img = stats_helper.parse_neurolang_result(result, prob_terms)"
   ]
  },
  {
   "cell_type": "code",
   "execution_count": null,
   "metadata": {},
   "outputs": [],
   "source": [
    "plotting.plot_stat_map(\n",
    "    prob_img, \n",
    "    title='Tag \"auditory\" (Neurolang)', \n",
    "    cmap='PuBuGn',\n",
    "    display_mode='x',\n",
    "    cut_coords=np.linspace(-63, 63, 5),\n",
    ")"
   ]
  },
  {
   "cell_type": "code",
   "execution_count": null,
   "metadata": {},
   "outputs": [],
   "source": [
    "plotting.plot_stat_map(\n",
    "    prob_img, title='Tag \"auditory\" (Neurolang)', \n",
    "    cmap='PuBuGn',\n",
    "    display_mode='y',\n",
    "    cut_coords=np.linspace(-30, 5, 5),\n",
    ")"
   ]
  },
  {
   "cell_type": "markdown",
   "metadata": {},
   "source": [
    "Now let's see the same result obtained directly from the NeuroSynth database."
   ]
  },
  {
   "cell_type": "code",
   "execution_count": null,
   "metadata": {},
   "outputs": [],
   "source": [
    "prob_img_ns = stats_helper.parse_neurosynth_result(prob_terms_voxels)"
   ]
  },
  {
   "cell_type": "code",
   "execution_count": null,
   "metadata": {},
   "outputs": [],
   "source": [
    "plotting.plot_stat_map(\n",
    "    prob_img_ns, title='Tag \"auditory\" (Neurosynth)', \n",
    "    cmap='PuBu',\n",
    "    display_mode='x',\n",
    "    cut_coords=np.linspace(-63, 63, 5),\n",
    ")"
   ]
  },
  {
   "cell_type": "code",
   "execution_count": null,
   "metadata": {},
   "outputs": [],
   "source": [
    "plotting.plot_stat_map(\n",
    "    prob_img_ns, title='Tag \"auditory\" (Neurosynth)', \n",
    "    cmap='PuBu',\n",
    "    display_mode='y',\n",
    "    cut_coords=np.linspace(-30, 5, 5),\n",
    ")"
   ]
  },
  {
   "cell_type": "markdown",
   "metadata": {},
   "source": [
    "Now we can analyze the results by plotting the p-values obtained. Let's start with the NeuroLang results."
   ]
  },
  {
   "cell_type": "code",
   "execution_count": null,
   "metadata": {},
   "outputs": [],
   "source": [
    "res, p_values_corrected, p_value_image = stats_helper.compute_p_values(prob_img, q=1e-25)"
   ]
  },
  {
   "cell_type": "code",
   "execution_count": null,
   "metadata": {},
   "outputs": [],
   "source": [
    "plt.hist(-np.log10(res))\n",
    "plt.axvline(-np.log10(p_values_corrected), c='r')"
   ]
  },
  {
   "cell_type": "code",
   "execution_count": null,
   "metadata": {},
   "outputs": [],
   "source": [
    "plotting.plot_stat_map(\n",
    "    p_value_image, \n",
    "    title=r'$-\\log_{10} P$ value (Neurolang)', \n",
    "    threshold=-np.log10(p_values_corrected), \n",
    "    cmap='YlOrRd',\n",
    "    display_mode='x',\n",
    "    cut_coords=np.linspace(-63, 63, 5),\n",
    ")"
   ]
  },
  {
   "cell_type": "code",
   "execution_count": null,
   "metadata": {
    "scrolled": true
   },
   "outputs": [],
   "source": [
    "plotting.plot_stat_map(\n",
    "    p_value_image, title=r'$-\\log_{10} P$ value (Neurolang)', \n",
    "    threshold=-np.log10(p_values_corrected),\n",
    "    cmap='YlOrRd',\n",
    "    display_mode='y',\n",
    "    cut_coords=np.linspace(-30, 5, 5),\n",
    ")"
   ]
  },
  {
   "cell_type": "markdown",
   "metadata": {},
   "source": [
    "In the above results, we can see that the regions have a high specificity and that they focus entirely on our area of interest. Reducing the area of work in this way allows us to minimize variance, enabling us to obtain results with greater statistical power."
   ]
  },
  {
   "cell_type": "markdown",
   "metadata": {},
   "source": [
    "And now let's do the same with the NeuroSynth results to compare. It is important to mention that the techniques used for the calculation of the p-values, make a comparison against the average of the activations. Bearing this in mind, by decreasing the region to be analyzed and focusing it on the activated region, the average of the activations increases."
   ]
  },
  {
   "cell_type": "code",
   "execution_count": null,
   "metadata": {},
   "outputs": [],
   "source": [
    "res, p_values_corrected, p_value_image = stats_helper.compute_p_values(prob_img_ns, q=1e-25)"
   ]
  },
  {
   "cell_type": "code",
   "execution_count": null,
   "metadata": {},
   "outputs": [],
   "source": [
    "plt.hist(-np.log10(res))\n",
    "plt.axvline(-np.log10(p_values_corrected), c='r')"
   ]
  },
  {
   "cell_type": "code",
   "execution_count": null,
   "metadata": {},
   "outputs": [],
   "source": [
    "plotting.plot_stat_map(\n",
    "    p_value_image, \n",
    "    title=r'$-\\log_{10} P$ value (NeuroSynth)', \n",
    "    threshold=-np.log10(p_values_corrected), \n",
    "    cmap='YlOrRd',\n",
    "    display_mode='x',\n",
    "    cut_coords=np.linspace(-63, 63, 5),\n",
    ")"
   ]
  },
  {
   "cell_type": "code",
   "execution_count": null,
   "metadata": {},
   "outputs": [],
   "source": [
    "plotting.plot_stat_map(\n",
    "    p_value_image, title=r'$-\\log_{10} P$ value (NeuroSynth)', \n",
    "    threshold=-np.log10(p_values_corrected),\n",
    "    cmap='YlOrRd',\n",
    "    display_mode='y',\n",
    "    cut_coords=np.linspace(-30, 5, 5),\n",
    ")"
   ]
  },
  {
   "cell_type": "markdown",
   "metadata": {},
   "source": [
    "It can be seen above how despite using a restrictive threshold for the p-value ($q<10^{25}$, FDR corrected), in the Neurosynth example there are activations considered statistically significant in the motor cortex that should not be present for the `auditory` tag. Using a prior information in NeuroLang, we are able to remove these false positives and obtain a cleaner result. "
   ]
  },
  {
   "cell_type": "markdown",
   "metadata": {},
   "source": [
    "#### References\n",
    "[1] Yarkoni, T.: Neurosynth core tools v0.3.1, DOI: 10.5281/zenodo.9925 (2014). <br/>\n",
    "[2] Yarkoni, T., Poldrack, R. A., Nichols, T. E., Van Essen, D. C. & Wager, T. D: Large-scale automated synthesis of human functional neuroimaging data. Nat. Methods 8, 665–670, DOI: 10.1038/nmeth.1635 (2011). <br/>\n",
    "[3] News. Journal of Investigative Medicine 58 (8), 929 (Dec2010). https://doi.org/10.2310/JIM.0b013e3182025955, http://jim.bmj.com/content/58/8/929.abstract <br/>\n",
    "[4] Insel, T. R., Landis, S.C., Collins, F.S.: Research priorities. The NIHBRAIN Initiative. Science (New York, N.Y.) 340 (6133), 687–688 (May  2013). https://doi.org/10.1126/science.1239276 <br/>\n",
    "[5] Markram, H.: The human brain project. Scientific American306(6), 50–55 (Jun2012). https://doi.org/10.1038/scientificamerican0612-50\n",
    "[6] Derrfuss, J. & Mar, R. A. Lost in localization: the need for a universal coordinate database. NeuroImage 48, 1–7, DOI:10.1016/j.neuroimage.2009.01.053 (2009)."
   ]
  }
 ],
 "metadata": {
  "jupytext": {
   "encoding": "# -*- coding: utf-8 -*-",
   "formats": "ipynb,py:light"
  },
  "kernelspec": {
   "display_name": "neurolang",
   "language": "python",
   "name": "neurolang"
  },
  "language_info": {
   "codemirror_mode": {
    "name": "ipython",
    "version": 3
   },
   "file_extension": ".py",
   "mimetype": "text/x-python",
   "name": "python",
   "nbconvert_exporter": "python",
   "pygments_lexer": "ipython3",
   "version": "3.7.3"
  }
 },
 "nbformat": 4,
 "nbformat_minor": 2
}
