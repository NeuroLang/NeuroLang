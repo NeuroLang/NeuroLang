{
 "cells": [
  {
   "cell_type": "code",
   "execution_count": 1,
   "metadata": {},
   "outputs": [
    {
     "name": "stderr",
     "output_type": "stream",
     "text": [
      "/home/amachlou/miniconda3/envs/antonia/lib/python3.6/importlib/_bootstrap.py:205: ImportWarning: can't resolve package from __spec__ or __package__, falling back on __name__ and __path__\n",
      "  return f(*args, **kwds)\n",
      "/home/amachlou/git/neurolang/neurolang/expression_pattern_matching.py:54: UserWarning: Warning in class FirstOrderLogicSolver overwrites {'universal_predicate', 'existential_predicate'} from base GenericSolver[typing.Any]\n",
      "  warn(warn_message)\n",
      "/home/amachlou/miniconda3/envs/antonia/lib/python3.6/importlib/_bootstrap_external.py:426: ImportWarning: Not importing directory /home/amachlou/miniconda3/envs/antonia/lib/python3.6/site-packages/mpl_toolkits: missing __init__\n",
      "  _warnings.warn(msg.format(portions[0]), ImportWarning)\n"
     ]
    }
   ],
   "source": [
    "import os\n",
    "import random\n",
    "from collections import defaultdict, Counter\n",
    "from statistics import mode\n",
    "\n",
    "import numpy as np\n",
    "import pandas as pd\n",
    "import nibabel\n",
    "from matplotlib import colors\n",
    "import matplotlib.style\n",
    "matplotlib.style.use('ggplot')\n",
    "import matplotlib.pyplot as plt\n",
    "import matplotlib.gridspec as gridspec\n",
    "# import seaborn as sns\n",
    "import matplotlib\n",
    "%matplotlib inline\n",
    "import numpy as np\n",
    "import nilearn\n",
    "from nilearn import datasets, plotting, image, surface\n",
    "import nibabel as nib\n",
    "from sklearn.decomposition import PCA\n",
    "from sklearn.linear_model import LinearRegression\n",
    "from sklearn.preprocessing import MinMaxScaler\n",
    "\n",
    "from neurolang import frontend as fe\n",
    "from neurolang import regions"
   ]
  },
  {
   "cell_type": "code",
   "execution_count": 2,
   "metadata": {},
   "outputs": [
    {
     "name": "stderr",
     "output_type": "stream",
     "text": [
      "/home/amachlou/miniconda3/envs/antonia/lib/python3.6/site-packages/numpy/lib/npyio.py:2278: VisibleDeprecationWarning: Reading unicode strings without specifying the encoding argument is deprecated. Set the encoding, use None for the system default.\n",
      "  output = genfromtxt(fname, **kwargs)\n"
     ]
    },
    {
     "data": {
      "text/plain": [
       "rec.array([(  0, b'Background'), (  1, b'L G_and_S_frontomargin'),\n",
       "           (  2, b'L G_and_S_occipital_inf'),\n",
       "           (  3, b'L G_and_S_paracentral'),\n",
       "           (  4, b'L G_and_S_subcentral'),\n",
       "           (  5, b'L G_and_S_transv_frontopol'),\n",
       "           (  6, b'L G_and_S_cingul-Ant'),\n",
       "           (  7, b'L G_and_S_cingul-Mid-Ant'),\n",
       "           (  8, b'L G_and_S_cingul-Mid-Post'),\n",
       "           (  9, b'L G_cingul-Post-dorsal'),\n",
       "           ( 10, b'L G_cingul-Post-ventral'), ( 11, b'L G_cuneus'),\n",
       "           ( 12, b'L G_front_inf-Opercular'),\n",
       "           ( 13, b'L G_front_inf-Orbital'),\n",
       "           ( 14, b'L G_front_inf-Triangul'), ( 15, b'L G_front_middle'),\n",
       "           ( 16, b'L G_front_sup'), ( 17, b'L G_Ins_lg_and_S_cent_ins'),\n",
       "           ( 18, b'L G_insular_short'), ( 19, b'L G_occipital_middle'),\n",
       "           ( 20, b'L G_occipital_sup'), ( 21, b'L G_oc-temp_lat-fusifor'),\n",
       "           ( 22, b'L G_oc-temp_med-Lingual'),\n",
       "           ( 23, b'L G_oc-temp_med-Parahip'), ( 24, b'L G_orbital'),\n",
       "           ( 25, b'L G_pariet_inf-Angular'),\n",
       "           ( 26, b'L G_pariet_inf-Supramar'), ( 27, b'L G_parietal_sup'),\n",
       "           ( 28, b'L G_postcentral'), ( 29, b'L G_precentral'),\n",
       "           ( 30, b'L G_precuneus'), ( 31, b'L G_rectus'),\n",
       "           ( 32, b'L G_subcallosal'), ( 33, b'L G_temp_sup-G_T_transv'),\n",
       "           ( 34, b'L G_temp_sup-Lateral'),\n",
       "           ( 35, b'L G_temp_sup-Plan_polar'),\n",
       "           ( 36, b'L G_temp_sup-Plan_tempo'), ( 37, b'L G_temporal_inf'),\n",
       "           ( 38, b'L G_temporal_middle'),\n",
       "           ( 39, b'L Lat_Fis-ant-Horizont'),\n",
       "           ( 40, b'L Lat_Fis-ant-Vertical'), ( 41, b'L Lat_Fis-post'),\n",
       "           ( 42, b'L Medial_wall'), ( 43, b'L Pole_occipital'),\n",
       "           ( 44, b'L Pole_temporal'), ( 45, b'L S_calcarine'),\n",
       "           ( 46, b'L S_central'), ( 47, b'L S_cingul-Marginalis'),\n",
       "           ( 48, b'L S_circular_insula_ant'),\n",
       "           ( 49, b'L S_circular_insula_inf'),\n",
       "           ( 50, b'L S_circular_insula_sup'),\n",
       "           ( 51, b'L S_collat_transv_ant'),\n",
       "           ( 52, b'L S_collat_transv_post'), ( 53, b'L S_front_inf'),\n",
       "           ( 54, b'L S_front_middle'), ( 55, b'L S_front_sup'),\n",
       "           ( 56, b'L S_interm_prim-Jensen'),\n",
       "           ( 57, b'L S_intrapariet_and_P_trans'),\n",
       "           ( 58, b'L S_oc_middle_and_Lunatus'),\n",
       "           ( 59, b'L S_oc_sup_and_transversal'),\n",
       "           ( 60, b'L S_occipital_ant'), ( 61, b'L S_oc-temp_lat'),\n",
       "           ( 62, b'L S_oc-temp_med_and_Lingual'),\n",
       "           ( 63, b'L S_orbital_lateral'),\n",
       "           ( 64, b'L S_orbital_med-olfact'),\n",
       "           ( 65, b'L S_orbital-H_Shaped'),\n",
       "           ( 66, b'L S_parieto_occipital'), ( 67, b'L S_pericallosal'),\n",
       "           ( 68, b'L S_postcentral'), ( 69, b'L S_precentral-inf-part'),\n",
       "           ( 70, b'L S_precentral-sup-part'), ( 71, b'L S_suborbital'),\n",
       "           ( 72, b'L S_subparietal'), ( 73, b'L S_temporal_inf'),\n",
       "           ( 74, b'L S_temporal_sup'), ( 75, b'L S_temporal_transverse'),\n",
       "           ( 76, b'R G_and_S_frontomargin'),\n",
       "           ( 77, b'R G_and_S_occipital_inf'),\n",
       "           ( 78, b'R G_and_S_paracentral'),\n",
       "           ( 79, b'R G_and_S_subcentral'),\n",
       "           ( 80, b'R G_and_S_transv_frontopol'),\n",
       "           ( 81, b'R G_and_S_cingul-Ant'),\n",
       "           ( 82, b'R G_and_S_cingul-Mid-Ant'),\n",
       "           ( 83, b'R G_and_S_cingul-Mid-Post'),\n",
       "           ( 84, b'R G_cingul-Post-dorsal'),\n",
       "           ( 85, b'R G_cingul-Post-ventral'), ( 86, b'R G_cuneus'),\n",
       "           ( 87, b'R G_front_inf-Opercular'),\n",
       "           ( 88, b'R G_front_inf-Orbital'),\n",
       "           ( 89, b'R G_front_inf-Triangul'), ( 90, b'R G_front_middle'),\n",
       "           ( 91, b'R G_front_sup'), ( 92, b'R G_Ins_lg_and_S_cent_ins'),\n",
       "           ( 93, b'R G_insular_short'), ( 94, b'R G_occipital_middle'),\n",
       "           ( 95, b'R G_occipital_sup'), ( 96, b'R G_oc-temp_lat-fusifor'),\n",
       "           ( 97, b'R G_oc-temp_med-Lingual'),\n",
       "           ( 98, b'R G_oc-temp_med-Parahip'), ( 99, b'R G_orbital'),\n",
       "           (100, b'R G_pariet_inf-Angular'),\n",
       "           (101, b'R G_pariet_inf-Supramar'), (102, b'R G_parietal_sup'),\n",
       "           (103, b'R G_postcentral'), (104, b'R G_precentral'),\n",
       "           (105, b'R G_precuneus'), (106, b'R G_rectus'),\n",
       "           (107, b'R G_subcallosal'), (108, b'R G_temp_sup-G_T_transv'),\n",
       "           (109, b'R G_temp_sup-Lateral'),\n",
       "           (110, b'R G_temp_sup-Plan_polar'),\n",
       "           (111, b'R G_temp_sup-Plan_tempo'), (112, b'R G_temporal_inf'),\n",
       "           (113, b'R G_temporal_middle'),\n",
       "           (114, b'R Lat_Fis-ant-Horizont'),\n",
       "           (115, b'R Lat_Fis-ant-Vertical'), (116, b'R Lat_Fis-post'),\n",
       "           (117, b'R Medial_wall'), (118, b'R Pole_occipital'),\n",
       "           (119, b'R Pole_temporal'), (120, b'R S_calcarine'),\n",
       "           (121, b'R S_central'), (122, b'R S_cingul-Marginalis'),\n",
       "           (123, b'R S_circular_insula_ant'),\n",
       "           (124, b'R S_circular_insula_inf'),\n",
       "           (125, b'R S_circular_insula_sup'),\n",
       "           (126, b'R S_collat_transv_ant'),\n",
       "           (127, b'R S_collat_transv_post'), (128, b'R S_front_inf'),\n",
       "           (129, b'R S_front_middle'), (130, b'R S_front_sup'),\n",
       "           (131, b'R S_interm_prim-Jensen'),\n",
       "           (132, b'R S_intrapariet_and_P_trans'),\n",
       "           (133, b'R S_oc_middle_and_Lunatus'),\n",
       "           (134, b'R S_oc_sup_and_transversal'),\n",
       "           (135, b'R S_occipital_ant'), (136, b'R S_oc-temp_lat'),\n",
       "           (137, b'R S_oc-temp_med_and_Lingual'),\n",
       "           (138, b'R S_orbital_lateral'),\n",
       "           (139, b'R S_orbital_med-olfact'),\n",
       "           (140, b'R S_orbital-H_Shaped'),\n",
       "           (141, b'R S_parieto_occipital'), (142, b'R S_pericallosal'),\n",
       "           (143, b'R S_postcentral'), (144, b'R S_precentral-inf-part'),\n",
       "           (145, b'R S_precentral-sup-part'), (146, b'R S_suborbital'),\n",
       "           (147, b'R S_subparietal'), (148, b'R S_temporal_inf'),\n",
       "           (149, b'R S_temporal_sup'), (150, b'R S_temporal_transverse')],\n",
       "          dtype=[('index', '<i8'), ('name', 'S27')])"
      ]
     },
     "execution_count": 2,
     "metadata": {},
     "output_type": "execute_result"
    }
   ],
   "source": [
    "destrieux_dataset = datasets.fetch_atlas_destrieux_2009()\n",
    "destrieux_map = nib.load(destrieux_dataset['maps'])\n",
    "destrieux_dataset['labels']"
   ]
  },
  {
   "cell_type": "code",
   "execution_count": 3,
   "metadata": {},
   "outputs": [],
   "source": [
    "# destr_points = nilearn.surface.vol_to_surf(destrieux_map, '108525.L.pial.32k_fs_LR.surf.gii')"
   ]
  },
  {
   "cell_type": "code",
   "execution_count": 4,
   "metadata": {},
   "outputs": [],
   "source": [
    "# destr_regions={}\n",
    "\n",
    "# for label_number, name in destrieux_dataset['labels']:\n",
    "#     name = name.decode()\n",
    "#     if not name.startswith('L') or ('S_' not in name and 'G_' not in name and 'Lat_Fis' not in name):\n",
    "#         continue\n",
    "#     name = 'L_' + name[2:].replace('-', '_')\n",
    "    \n",
    "#     for x in range(1, len(destrieux_dataset['labels'])):    \n",
    "#         voxels_ijk  = np.transpose((destrieux_map.get_data()==x).nonzero())\n",
    "#         destr_regions[name]= nib.affines.apply_affine(destrieux_map.affine, voxels_ijk)"
   ]
  },
  {
   "cell_type": "code",
   "execution_count": 5,
   "metadata": {},
   "outputs": [
    {
     "name": "stdout",
     "output_type": "stream",
     "text": [
      "Anterior_parolfactory_sulcus: number of points 20\n",
      "Anterior_occipital_sulcus: number of points 83\n",
      "Hippocampal_sulcus: number of points 251\n",
      "Intralingual_sulcus: number of points 34\n",
      "Collateral_sulcus: number of points 238\n",
      "Occipitotemporal_sulcus: number of points 277\n",
      "Rhinal_sulcus: number of points 49\n",
      "Temporopolar_sulcus: number of points 56\n",
      "Orbital_H_shaped_sulcus: number of points 171\n",
      "Olfactory_sulcus: number of points 110\n",
      "Frontomarginal_sulcus: number of points 22\n",
      "Inferior_frontal_sulcus: number of points 194\n",
      "Superior_frontal_sulcus: number of points 339\n",
      "Lunate_sulcus: number of points 39\n",
      "Lateral_occipital_sulcus: number of points 66\n",
      "Inferior_occipital_sulcus: number of points 84\n",
      "Intermediate_primus_of_Jensen: number of points 133\n",
      "Inferior_temporal_sulcus: number of points 164\n",
      "Angular_sulcus: number of points 179\n",
      "Superior_temporal_sulcus: number of points 259\n",
      "Superior_occipital_sulcus: number of points 122\n",
      "Superior_parietal_sulcus: number of points 151\n",
      "Intraparietal_sulcus: number of points 209\n",
      "Postcentral_sulcus: number of points 448\n",
      "Precentral_sulcus: number of points 499\n",
      "Paracentral_sulcus: number of points 73\n",
      "Subparietal_sulcus: number of points 96\n",
      "Superior_rostral_sulcus: number of points 68\n",
      "Paracingulate_sulcus: number of points 260\n",
      "Callosomarginal_sulcus: number of points 138\n",
      "Cingulate_sulcus: number of points 392\n",
      "Cuneal_sulcus: number of points 31\n",
      "Retrocalcarine_sulcus: number of points 40\n",
      "Calcarine_sulcus: number of points 197\n",
      "Parieto_occipital_sulcus: number of points 175\n",
      "Callosal_sulcus: number of points 422\n",
      "Central_sulcus: number of points 398\n",
      "Lateral_fissure: number of points 487\n",
      "Anterior_vertical_ramus_lateral_fissure: number of points 69\n",
      "Anterior_horizontal_ramus_lateral_fissure: number of points 57\n"
     ]
    },
    {
     "name": "stderr",
     "output_type": "stream",
     "text": [
      "/home/amachlou/miniconda3/envs/antonia/lib/python3.6/site-packages/nibabel/gifti/parse_gifti_fast.py:62: DeprecationWarning: The binary mode of fromstring is deprecated, as it behaves surprisingly on unicode inputs. Use frombuffer instead\n",
      "  newarr = np.fromstring(zdec, dtype=dt)\n",
      "/home/amachlou/miniconda3/envs/antonia/lib/python3.6/site-packages/nibabel/gifti/gifti.py:760: ResourceWarning: unclosed file <_io.BufferedReader name='108525.R.pial.32k_fs_LR.surf.gii'>\n",
      "  parser.parse(fptr=file_map['image'].get_prepare_fileobj('rb'))\n",
      "/home/amachlou/miniconda3/envs/antonia/lib/python3.6/site-packages/nibabel/gifti/gifti.py:760: ResourceWarning: unclosed file <_io.BufferedReader name='108525_R_manual_segmentation.func.gii'>\n",
      "  parser.parse(fptr=file_map['image'].get_prepare_fileobj('rb'))\n"
     ]
    }
   ],
   "source": [
    "surface = nib.load('108525.R.pial.32k_fs_LR.surf.gii')\n",
    "vertices = surface.darrays[0].data\n",
    "manual_sulci_gii = nib.load('108525_R_manual_segmentation.func.gii')\n",
    "manual_sulci = dict()\n",
    "for darray in manual_sulci_gii.darrays:\n",
    "    name = darray.meta.metadata['Name']\n",
    "    name = name[:name.rfind('_')]\n",
    "    points = vertices[darray.data.nonzero()]\n",
    "    manual_sulci[name] = points\n",
    "    print(f\"{name}: number of points {points.shape[0]}\")"
   ]
  },
  {
   "cell_type": "code",
   "execution_count": 6,
   "metadata": {},
   "outputs": [],
   "source": [
    "nl = fe.RegionFrontend()\n",
    "\n",
    "for name, points in manual_sulci.items():\n",
    "    ijk_points = nib.affines.apply_affine(np.linalg.inv(destrieux_map.affine), points).astype(int)\n",
    "    region = fe.ExplicitVBR(\n",
    "        ijk_points,\n",
    "        destrieux_map.affine,\n",
    "        img_dim=destrieux_map.shape\n",
    "    )\n",
    "    nl.add_region(region, result_symbol_name=f'manual_{name}')\n",
    "    \n",
    "# for label_number, name in destrieux_dataset['labels']:\n",
    "#     name = name.decode()\n",
    "#     if not name.startswith('L') or ('S_' not in name and 'G_' not in name and 'Lat_Fis' not in name):\n",
    "#         continue\n",
    "\n",
    "#     # Create a region object\n",
    "#     region = nl.create_region(destrieux_map, label=label_number)\n",
    "\n",
    "#     # Fine tune the symbol name\n",
    "#     name = 'L_' + name[2:].replace('-', '_')\n",
    "#     nl.add_region(region, result_symbol_name=name)"
   ]
  },
  {
   "cell_type": "code",
   "execution_count": 7,
   "metadata": {},
   "outputs": [],
   "source": [
    "from neurolang import regions"
   ]
  },
  {
   "cell_type": "code",
   "execution_count": 8,
   "metadata": {},
   "outputs": [],
   "source": [
    "# oxplane = regions.PlanarVolume((7, 0, 0), (1, 0, 0))\n",
    "# ox_plane_vbr_mr = oxplane.to_explicit_vbr(destrieux_map.affine, destrieux_map.shape)\n",
    "# nl.add_region(ox_plane_vbr_mr, result_symbol_name='medial_R_plane')\n",
    "# plotting.plot_roi(ox_plane_vbr_mr.spatial_image())"
   ]
  },
  {
   "cell_type": "code",
   "execution_count": 9,
   "metadata": {},
   "outputs": [],
   "source": [
    "# oxplane = regions.PlanarVolume((0, 0, -6), (0, 0, 1))\n",
    "# ox_plane_vbr_v = oxplane.to_explicit_vbr(destrieux_map.affine, destrieux_map.shape)\n",
    "# nl.add_region(ox_plane_vbr_v, result_symbol_name='ventral_plane')\n",
    "# plotting.plot_roi(ox_plane_vbr_v.spatial_image())"
   ]
  },
  {
   "cell_type": "code",
   "execution_count": 72,
   "metadata": {},
   "outputs": [],
   "source": [
    "def make_planes(limiting_sulcus, axis):\n",
    "    if axis==0:\n",
    "        x = max((nl.symbols[f'manual_{limiting_sulcus}'].value.to_xyz().T[axis]), key=abs)\n",
    "        oxplane = regions.PlanarVolume((x, 0, 0), (1, 0, 0))\n",
    "        ox_plane_vbr = oxplane.to_explicit_vbr(destrieux_map.affine, destrieux_map.shape)\n",
    "        nl.add_region(ox_plane_vbr, result_symbol_name='medial_R_plane')\n",
    "        plotting.plot_roi(ox_plane_vbr.spatial_image())\n",
    "    elif axis==2:\n",
    "        x = np.max((nl.symbols[f'manual_{limiting_sulcus}'].value.to_xyz().T[axis]))\n",
    "        oxplane = regions.PlanarVolume((0, 0, x), (0, 0, 1))\n",
    "        ox_plane_vbr = oxplane.to_explicit_vbr(destrieux_map.affine, destrieux_map.shape)\n",
    "        nl.add_region(ox_plane_vbr, result_symbol_name='ventral_R_plane')\n",
    "        plotting.plot_roi(ox_plane_vbr.spatial_image())"
   ]
  },
  {
   "cell_type": "code",
   "execution_count": 92,
   "metadata": {},
   "outputs": [
    {
     "name": "stderr",
     "output_type": "stream",
     "text": [
      "/home/amachlou/miniconda3/envs/antonia/lib/python3.6/site-packages/scipy/ndimage/measurements.py:272: DeprecationWarning: In future, it will be an error for 'np.bool_' scalars to be interpreted as an index\n",
      "  return _nd_image.find_objects(input, max_label)\n"
     ]
    },
    {
     "data": {
      "image/png": "[encoded data removed]",
      "text/plain": [
       "<Figure size 475.2x187.2 with 4 Axes>"
      ]
     },
     "metadata": {},
     "output_type": "display_data"
    }
   ],
   "source": [
    "medial_R_plane = make_planes('Calcarine_sulcus', axis=0)"
   ]
  },
  {
   "cell_type": "code",
   "execution_count": 93,
   "metadata": {},
   "outputs": [
    {
     "name": "stderr",
     "output_type": "stream",
     "text": [
      "/home/amachlou/miniconda3/envs/antonia/lib/python3.6/site-packages/scipy/ndimage/measurements.py:272: DeprecationWarning: In future, it will be an error for 'np.bool_' scalars to be interpreted as an index\n",
      "  return _nd_image.find_objects(input, max_label)\n"
     ]
    },
    {
     "data": {
      "image/png": "[encoded data removed]",
      "text/plain": [
       "<Figure size 475.2x187.2 with 4 Axes>"
      ]
     },
     "metadata": {},
     "output_type": "display_data"
    }
   ],
   "source": [
    "ventral_R_plane = make_planes('Collateral_sulcus', axis=2)"
   ]
  },
  {
   "cell_type": "code",
   "execution_count": 94,
   "metadata": {},
   "outputs": [],
   "source": [
    "# oxplane = regions.PlanarVolume((-8, 0, 0), (1, 0, 0))\n",
    "# ox_plane_vbr_ml = oxplane.to_explicit_vbr(destrieux_map.affine, destrieux_map.shape)\n",
    "# nl.add_region(ox_plane_vbr_ml, result_symbol_name='medial_L_plane')\n",
    "# plotting.plot_roi(ox_plane_vbr_ml.spatial_image())"
   ]
  },
  {
   "cell_type": "code",
   "execution_count": 95,
   "metadata": {},
   "outputs": [],
   "source": [
    "# ml = nl.symbols.medial_L_plane.value.to_xyz()"
   ]
  },
  {
   "cell_type": "code",
   "execution_count": 96,
   "metadata": {},
   "outputs": [],
   "source": [
    "x_LH_labels = ['medial', 'overlaps', 'during_x', 'meets', 'starts', 'finishes', 'equals', 'lateral']\n",
    "x_RH_labels = ['lateral', 'overlaps', 'during_x', 'meets', 'starts', 'finishes', 'equals', 'medial']\n",
    "y_labels =  ['anterior', 'overlaps', 'during_y', 'meets', 'starts', 'finishes', 'equals', 'posterior']\n",
    "z_labels = ['superior', 'overlaps', 'during_z', 'meets', 'starts', 'finishes', 'equals', 'inferior']"
   ]
  },
  {
   "cell_type": "code",
   "execution_count": 97,
   "metadata": {},
   "outputs": [],
   "source": [
    "def tolerance_y_3(ys_origin_sulcus, ys_target_sulcus, length):\n",
    "    # we consider I the origin\n",
    "    before=set()\n",
    "    overlaps=set()\n",
    "    during=set()\n",
    "    meets=set()\n",
    "    starts=set()\n",
    "    finishes=set()\n",
    "    equals=set()\n",
    "    after=set()\n",
    "    Anterior_of=set()\n",
    "    Posterior_of=set()\n",
    "    During=set()\n",
    "    J_minus = min(ys_target_sulcus)\n",
    "    J_plus = max(ys_target_sulcus) + length\n",
    "    \n",
    "    I_boxes = set(ys_origin_sulcus)\n",
    "    for x in I_boxes:\n",
    "        I_minus = x\n",
    "        I_plus = I_minus + length\n",
    "        \n",
    "        if I_minus < I_plus < J_minus < J_plus:\n",
    "            before.add(x)\n",
    "        if I_minus < J_minus < I_plus < J_plus:\n",
    "            overlaps.add(x)\n",
    "        if J_minus < I_minus < I_plus < J_plus:\n",
    "            during.add(x)\n",
    "        if I_minus < I_plus == J_minus < J_plus:\n",
    "            meets.add(x)\n",
    "        if I_minus == J_minus < I_plus < J_plus:\n",
    "            starts.add(x)\n",
    "        if J_minus < I_minus < I_plus == J_plus:\n",
    "            finishes.add(x)\n",
    "        if I_minus == J_minus < I_plus == J_plus:\n",
    "            equals.add(x)\n",
    "        if J_minus < J_plus < I_minus < I_plus:\n",
    "            after.add(x)\n",
    "    before_pc =  len(before) / len(I_boxes) * 100\n",
    "    overlaps_pc =  len(overlaps) / len(I_boxes) * 100\n",
    "    during_pc = len(during) / len(I_boxes) * 100\n",
    "    meets_pc = len(meets) / len(I_boxes) * 100\n",
    "    starts_pc = len(starts) / len(I_boxes) * 100\n",
    "    finishes_pc = len(finishes) / len(I_boxes) * 100\n",
    "    equals_pc = len(equals) / len(I_boxes) * 100\n",
    "    after_pc = len(after) / len(I_boxes) * 100     \n",
    "\n",
    "#     x = np.arange(8)\n",
    "#     plt.bar(x, height= [before_pc, overlaps_pc, during_pc, meets_pc, starts_pc, finishes_pc, equals_pc, after_pc])\n",
    "# #     plt.xticks(x+.5, [labels[0], labels[1], labels[2], labels[3], labels[4], labels[5], labels[6], labels[7]])\n",
    "#     plt.xticks(x+.5, ['before','overlaps','during','meets','starts','finishes','equals','after'])\n",
    "#     plt.axhline(y=80, color='r', linestyle='--')\n",
    "#     plt.show()\n",
    "    values = [before_pc, overlaps_pc, during_pc, meets_pc, starts_pc, finishes_pc, equals_pc, after_pc]\n",
    "    \n",
    "    return values"
   ]
  },
  {
   "cell_type": "code",
   "execution_count": 98,
   "metadata": {},
   "outputs": [],
   "source": [
    "def making_dominant_set_for_planes(plane, labels, subject_manual_sulci, axis):\n",
    "    \n",
    "    x = nl.new_region_symbol('x')\n",
    "    q = nl.query(\n",
    "        x, \n",
    "        (\n",
    "            nl.symbols.right_of(x, nl.symbols[plane]) |\n",
    "            nl.symbols.left_of(x, nl.symbols[plane]) |\n",
    "            nl.symbols.superior_of(x, nl.symbols[plane]) |\n",
    "            nl.symbols.inferior_of(x, nl.symbols[plane])\n",
    "        )\n",
    "    )\n",
    "    \n",
    "    res = q.do()\n",
    "    \n",
    "    superior=set()\n",
    "    inferior=set()\n",
    "    during_z=set()\n",
    "    medial=set()\n",
    "    lateral=set()\n",
    "    during_x=set()\n",
    "    \n",
    "    for r in res:\n",
    "        if r.symbol_name.startswith('manual_'):\n",
    "            sulcus_relativity = tolerance_y_3((nl.symbols[plane].value.to_xyz()).T[axis], subject_manual_sulci[r.symbol_name[7:]].T[axis], length=.1)\n",
    "            relations = []\n",
    "            relations_second_largest = []\n",
    "            R = np.argsort(-np.array(sulcus_relativity))\n",
    "            relations_second_largest.append(labels[R[1]])\n",
    "            relations.append(labels[np.argmax(np.array(sulcus_relativity))])\n",
    "#             print(relations)\n",
    "#             print('largest', heapq.nlargest(2, relations))\n",
    "#             length=len(relations)\n",
    "#             relations.sort()\n",
    "#             if mode(relations)=='anterior':\n",
    "#                 anterior.add(nl.symbols[r.symbol_name])\n",
    "#             elif mode(relations)=='posterior':\n",
    "#                 posterior.add(nl.symbols[r.symbol_name])\n",
    "#             elif mode(relations)=='during_y':\n",
    "#                 during_y.add(nl.symbols[r.symbol_name])\n",
    "            if mode(relations)=='superior':\n",
    "                superior.add(nl.symbols[r.symbol_name])\n",
    "            elif mode(relations)=='inferior':\n",
    "                inferior.add(nl.symbols[r.symbol_name])\n",
    "            elif mode(relations)=='during_z':\n",
    "                if mode(relations_second_largest)=='superior':\n",
    "                    superior.add(nl.symbols[r.symbol_name])\n",
    "                elif mode(relations_second_largest)=='inferior':\n",
    "                    inferior.add(nl.symbols[r.symbol_name])\n",
    "#                 during_z.add(nl.symbols[r.symbol_name])\n",
    "            elif mode(relations)=='medial':\n",
    "                medial.add(nl.symbols[r.symbol_name])\n",
    "            elif mode(relations)=='lateral':\n",
    "                lateral.add(nl.symbols[r.symbol_name])\n",
    "            elif mode(relations)=='during_x':\n",
    "                if mode(relations_second_largest)=='medial':\n",
    "                    medial.add(nl.symbols[r.symbol_name])\n",
    "                elif mode(relations_second_largest)=='lateral':\n",
    "                    lateral.add(nl.symbols[r.symbol_name])\n",
    "#                 print(heapq.nlargest(3, relations))\n",
    "#                 for m in relations:\n",
    "#                     if m=='during_x':\n",
    "#                         relations.remove(m)\n",
    "#                 if mode(relations)=='medial':\n",
    "#                     medial.add(nl.symbols[r.symbol_name])\n",
    "#                 elif mode(relations)=='lateral':\n",
    "#                     lateral.add(nl.symbols[r.symbol_name])\n",
    "#                 during_x.add(nl.symbols[r.symbol_name])\n",
    "            else:\n",
    "                continue            \n",
    "            \n",
    "#         if axis==1:\n",
    "#             anterior_dominant = nl.add_region_set(anterior, name=f'{primary_sulcus}_anterior_dominant')\n",
    "#             posterior_dominant = nl.add_region_set(posterior, name=f'{primary_sulcus}_posterior_dominant')\n",
    "#             during_y_dominant = nl.add_region_set(during_y, name=f'{primary_sulcus}_during_y_dominant')\n",
    "        if axis==2:\n",
    "            superior_dominant = nl.add_region_set(superior, name='superior_sulci')\n",
    "            inferior_dominant = nl.add_region_set(inferior, name='ventral_sulci')\n",
    "#             during_z_dominant = nl.add_region_set(during_z, name=f'{plane}_during_z_dominant')\n",
    "        elif axis==0:\n",
    "            medial_dominant = nl.add_region_set(medial, name='medial_sulci')\n",
    "            lateral_dominant = nl.add_region_set(lateral, name='lateral_sulci')\n",
    "#             during_x_dominant = nl.add_region_set(during_x, name=f'{plane}_during_x_dominant')"
   ]
  },
  {
   "cell_type": "code",
   "execution_count": 99,
   "metadata": {},
   "outputs": [
    {
     "name": "stderr",
     "output_type": "stream",
     "text": [
      "/home/amachlou/git/neurolang/neurolang/regions.py:218: DeprecationWarning: elementwise == comparison failed; this will raise an error in the future.\n",
      "  np.all(self.voxels == other.voxels))\n"
     ]
    }
   ],
   "source": [
    "medial_test = making_dominant_set_for_planes('medial_R_plane', x_RH_labels, manual_sulci, axis=0)"
   ]
  },
  {
   "cell_type": "code",
   "execution_count": 100,
   "metadata": {},
   "outputs": [
    {
     "name": "stderr",
     "output_type": "stream",
     "text": [
      "/home/amachlou/git/neurolang/neurolang/regions.py:218: DeprecationWarning: elementwise == comparison failed; this will raise an error in the future.\n",
      "  np.all(self.voxels == other.voxels))\n"
     ]
    }
   ],
   "source": [
    "ventral_test = making_dominant_set_for_planes('ventral_R_plane', z_labels, manual_sulci, axis=2)"
   ]
  },
  {
   "cell_type": "code",
   "execution_count": 101,
   "metadata": {},
   "outputs": [
    {
     "data": {
      "text/plain": [
       "superior_sulci: typing.AbstractSet[neurolang.regions.Region] = ['manual_Lateral_fissure', 'manual_Anterior_horizontal_ramus_lateral_fissure', 'manual_Parieto_occipital_sulcus', 'manual_Intraparietal_sulcus', 'manual_Angular_sulcus', 'manual_Paracentral_sulcus', 'manual_Precentral_sulcus', 'manual_Subparietal_sulcus', 'manual_Calcarine_sulcus', 'manual_Superior_parietal_sulcus', 'manual_Superior_occipital_sulcus', 'manual_Paracingulate_sulcus', 'manual_Central_sulcus', 'manual_Cingulate_sulcus', 'manual_Callosal_sulcus', 'manual_Inferior_frontal_sulcus', 'manual_Lateral_occipital_sulcus', 'manual_Callosomarginal_sulcus', 'manual_Hippocampal_sulcus', 'manual_Anterior_occipital_sulcus', 'manual_Superior_frontal_sulcus', 'manual_Cuneal_sulcus', 'manual_Intralingual_sulcus', 'manual_Intermediate_primus_of_Jensen', 'manual_Postcentral_sulcus', 'manual_Superior_rostral_sulcus', 'manual_Inferior_occipital_sulcus', 'manual_Anterior_vertical_ramus_lateral_fissure', 'manual_Superior_temporal_sulcus', 'manual_Retrocalcarine_sulcus']"
      ]
     },
     "execution_count": 101,
     "metadata": {},
     "output_type": "execute_result"
    }
   ],
   "source": [
    "nl.symbols.superior_sulci"
   ]
  },
  {
   "cell_type": "code",
   "execution_count": 102,
   "metadata": {},
   "outputs": [
    {
     "data": {
      "text/plain": [
       "ventral_sulci: typing.AbstractSet[neurolang.regions.Region] = ['manual_Orbital_H_shaped_sulcus', 'manual_Frontomarginal_sulcus', 'manual_Rhinal_sulcus', 'manual_Anterior_parolfactory_sulcus', 'manual_Temporopolar_sulcus', 'manual_Collateral_sulcus', 'manual_Inferior_temporal_sulcus', 'manual_Occipitotemporal_sulcus', 'manual_Olfactory_sulcus']"
      ]
     },
     "execution_count": 102,
     "metadata": {},
     "output_type": "execute_result"
    }
   ],
   "source": [
    "nl.symbols.ventral_sulci"
   ]
  },
  {
   "cell_type": "code",
   "execution_count": 103,
   "metadata": {
    "scrolled": true
   },
   "outputs": [
    {
     "data": {
      "text/plain": [
       "medial_sulci: typing.AbstractSet[neurolang.regions.Region] = ['manual_Calcarine_sulcus', 'manual_Cingulate_sulcus', 'manual_Frontomarginal_sulcus', 'manual_Cuneal_sulcus', 'manual_Intralingual_sulcus', 'manual_Retrocalcarine_sulcus', 'manual_Anterior_parolfactory_sulcus', 'manual_Parieto_occipital_sulcus', 'manual_Callosal_sulcus', 'manual_Superior_rostral_sulcus', 'manual_Lunate_sulcus', 'manual_Paracentral_sulcus', 'manual_Subparietal_sulcus', 'manual_Paracingulate_sulcus', 'manual_Olfactory_sulcus', 'manual_Callosomarginal_sulcus']"
      ]
     },
     "execution_count": 103,
     "metadata": {},
     "output_type": "execute_result"
    }
   ],
   "source": [
    "nl.symbols.medial_sulci"
   ]
  },
  {
   "cell_type": "code",
   "execution_count": 104,
   "metadata": {},
   "outputs": [
    {
     "data": {
      "text/plain": [
       "lateral_sulci: typing.AbstractSet[neurolang.regions.Region] = ['manual_Lateral_fissure', 'manual_Anterior_horizontal_ramus_lateral_fissure', 'manual_Intraparietal_sulcus', 'manual_Angular_sulcus', 'manual_Precentral_sulcus', 'manual_Superior_parietal_sulcus', 'manual_Central_sulcus', 'manual_Inferior_frontal_sulcus', 'manual_Collateral_sulcus', 'manual_Lateral_occipital_sulcus', 'manual_Hippocampal_sulcus', 'manual_Anterior_occipital_sulcus', 'manual_Superior_frontal_sulcus', 'manual_Rhinal_sulcus', 'manual_Intermediate_primus_of_Jensen', 'manual_Temporopolar_sulcus', 'manual_Postcentral_sulcus', 'manual_Occipitotemporal_sulcus', 'manual_Inferior_occipital_sulcus', 'manual_Anterior_vertical_ramus_lateral_fissure', 'manual_Orbital_H_shaped_sulcus', 'manual_Superior_temporal_sulcus', 'manual_Inferior_temporal_sulcus']"
      ]
     },
     "execution_count": 104,
     "metadata": {},
     "output_type": "execute_result"
    }
   ],
   "source": [
    "nl.symbols.lateral_sulci"
   ]
  }
 ],
 "metadata": {
  "kernelspec": {
   "display_name": "Python 3",
   "language": "python",
   "name": "python3"
  },
  "language_info": {
   "codemirror_mode": {
    "name": "ipython",
    "version": 3
   },
   "file_extension": ".py",
   "mimetype": "text/x-python",
   "name": "python",
   "nbconvert_exporter": "python",
   "pygments_lexer": "ipython3",
   "version": "3.6.2"
  }
 },
 "nbformat": 4,
 "nbformat_minor": 2
}
