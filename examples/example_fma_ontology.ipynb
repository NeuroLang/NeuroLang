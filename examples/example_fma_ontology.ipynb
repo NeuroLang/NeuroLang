{
 "cells": [
  {
   "cell_type": "code",
   "execution_count": 1,
   "metadata": {},
   "outputs": [],
   "source": [
    "import warnings\n",
    "warnings.filterwarnings('ignore')"
   ]
  },
  {
   "cell_type": "code",
   "execution_count": 2,
   "metadata": {},
   "outputs": [
    {
     "name": "stderr",
     "output_type": "stream",
     "text": [
      "* Owlready2 * Warning: optimized Cython parser module 'owlready2_optimized' is not available, defaulting to slower Python implementation\n",
      "/Users/gzanitti/miniconda3/envs/neurolang/lib/python3.7/site-packages/sklearn/externals/joblib/__init__.py:15: DeprecationWarning: sklearn.externals.joblib is deprecated in 0.21 and will be removed in 0.23. Please import this functionality directly from joblib, which can be installed with: pip install joblib. If this warning is raised when loading pickled models, you may need to re-serialize those models with scikit-learn 0.21+.\n",
      "  warnings.warn(msg, category=DeprecationWarning)\n",
      "/Users/gzanitti/Projects/INRIA/NeuroLang/neurolang/solver_datalog_naive.py:23: UserWarning: This module is being deprecated please use the datalog module\n",
      "  warn(\"This module is being deprecated please use the datalog module\")\n",
      "/Users/gzanitti/Projects/INRIA/NeuroLang/neurolang/expression_pattern_matching.py:87: UserWarning: Warning in class SolverNonRecursiveDatalogNaive overwrites ['fact', 'statement_intensional'] from base DatalogProgram[typing.Any]\n",
      "  warn(warn_message)\n",
      "/Users/gzanitti/Projects/INRIA/NeuroLang/neurolang/utils/data_manipulation.py:1: DeprecationWarning: Using or importing the ABCs from 'collections' instead of from 'collections.abc' is deprecated, and in 3.8 it will stop working\n",
      "  from collections import Iterable\n"
     ]
    }
   ],
   "source": [
    "from neurosynth.base.dataset import Dataset\n",
    "from owlready2 import get_ontology\n",
    "from neurosynth.analysis import meta\n",
    "import nibabel as nib\n",
    "import nilearn as nil\n",
    "import numpy as np\n",
    "from neurolang.frontend.fma_ontolgy_utils import FMAOntology\n",
    "from neurolang import frontend as fe\n",
    "from nilearn import plotting"
   ]
  },
  {
   "cell_type": "code",
   "execution_count": 3,
   "metadata": {},
   "outputs": [
    {
     "name": "stderr",
     "output_type": "stream",
     "text": [
      "/Users/gzanitti/miniconda3/envs/neurolang/lib/python3.7/site-packages/numpy/lib/npyio.py:2358: VisibleDeprecationWarning: Reading unicode strings without specifying the encoding argument is deprecated. Set the encoding, use None for the system default.\n",
      "  output = genfromtxt(fname, **kwargs)\n",
      "/Users/gzanitti/Projects/INRIA/NeuroLang/neurolang/datalog/aggregation.py:132: UserWarning: No check performed. Should implement check for stratified aggregation\n",
      "  \"No check performed. Should implement check for stratified\"\n"
     ]
    }
   ],
   "source": [
    "fma = FMAOntology('fma.owl')\n",
    "fma.load_ontology()\n",
    "\n",
    "nl = fe.NeurolangDL()\n",
    "nl = fma.init_ontology(nl, destriuex_relations=True)"
   ]
  },
  {
   "cell_type": "code",
   "execution_count": 4,
   "metadata": {},
   "outputs": [],
   "source": [
    "@nl.add_symbol\n",
    "def region_volume(region: fe.ExplicitVBR) -> float:\n",
    "    volume = (\n",
    "        len(region.voxels) *\n",
    "        float(np.product(np.abs(np.linalg.eigvals(region.affine[:-1, :-1]))))\n",
    "    )\n",
    "    return volume"
   ]
  },
  {
   "cell_type": "code",
   "execution_count": 5,
   "metadata": {},
   "outputs": [],
   "source": [
    "#Description"
   ]
  },
  {
   "cell_type": "code",
   "execution_count": 6,
   "metadata": {},
   "outputs": [
    {
     "data": {
      "text/plain": [
       "val: typing.AbstractSet[typing.Tuple[str]] = [('Right postcentral gyrus',), ('Left postcentral gyrus',), ('Right precuneus',), ('Left precuneus',), ('Right superior parietal lobule',), ('Left superior parietal lobule',), ('Right inferior parietal lobule',), ('Left inferior parietal lobule',)]"
      ]
     },
     "execution_count": 6,
     "metadata": {},
     "output_type": "execute_result"
    }
   ],
   "source": [
    "with nl.environment as e:\n",
    "    res = nl.query(e.val(e.y), e.isSub('Gyrus of parietal lobe', e.y)) \n",
    "res"
   ]
  },
  {
   "cell_type": "code",
   "execution_count": 7,
   "metadata": {},
   "outputs": [],
   "source": [
    "#Description"
   ]
  },
  {
   "cell_type": "code",
   "execution_count": null,
   "metadata": {},
   "outputs": [
    {
     "name": "stderr",
     "output_type": "stream",
     "text": [
      "/Users/gzanitti/miniconda3/envs/neurolang/lib/python3.7/site-packages/neurosynth/base/dataset.py:435: ResourceWarning: unclosed file <_io.BufferedReader name='/Users/gzanitti/Projects/INRIA/NeuroLang/neurolang/frontend/neurosynth_data/dataset.pkl'>\n",
      "  dataset = pickle.load(open(filename, 'rb'))\n",
      "ResourceWarning: Enable tracemalloc to get the object allocation traceback\n",
      "/Users/gzanitti/miniconda3/envs/neurolang/lib/python3.7/site-packages/neurosynth/base/dataset.py:716: DeprecationWarning: \n",
      ".ix is deprecated. Please use\n",
      ".loc for label based indexing or\n",
      ".iloc for positional indexing\n",
      "\n",
      "See the documentation here:\n",
      "http://pandas.pydata.org/pandas-docs/stable/indexing.html#ix-indexer-is-deprecated\n",
      "  feature_weights = self.data.ix[:, features]\n",
      "/Users/gzanitti/miniconda3/envs/neurolang/lib/python3.7/site-packages/pandas/core/indexing.py:888: DeprecationWarning: \n",
      ".ix is deprecated. Please use\n",
      ".loc for label based indexing or\n",
      ".iloc for positional indexing\n",
      "\n",
      "See the documentation here:\n",
      "http://pandas.pydata.org/pandas-docs/stable/indexing.html#ix-indexer-is-deprecated\n",
      "  retval = getattr(retval, self.name)._getitem_axis(key, axis=i)\n"
     ]
    }
   ],
   "source": [
    "neurosynth_superior = nl.load_neurosynth_term_regions(\n",
    "    '*superior*',\n",
    "    name='neurosynth_superior'\n",
    ")"
   ]
  },
  {
   "cell_type": "code",
   "execution_count": null,
   "metadata": {},
   "outputs": [],
   "source": [
    "with nl.environment as e:\n",
    "    res = nl.query(\n",
    "        e.query(e.y, e.region_1),\n",
    "        e.isSub('Gyrus of parietal lobe', e.x) & e.relation(e.y, e.x) &\n",
    "        e.destrieux_regions(e.y, e.region_1) & e.neurosynth_superior(e.region_2) &\n",
    "        (e.region_volume(e.region_2) > 1500) &\n",
    "        nl.symbols.overlapping(e.region_1, e.region_2)\n",
    "    )\n",
    "    \n",
    "for name, region in res.value:\n",
    "    plotting.plot_roi(region.spatial_image(), title=name)"
   ]
  },
  {
   "cell_type": "code",
   "execution_count": null,
   "metadata": {},
   "outputs": [],
   "source": [
    "with nl.environment as e:\n",
    "    res2 = nl.query(\n",
    "        e.query(e.y, e.region_1),\n",
    "        #isSub('Gyrus of parietal lobe', x) & relation(y, x) &\n",
    "        e.relation(e.y, 'Left superior parietal lobule') &\n",
    "        e.destrieux(e.y, e.region_1) & e.neurosynth_superior(e.region_2) &\n",
    "        (e.region_volume(e.region_2) > 1500) &\n",
    "        nl.symbols.overlapping(e.region_1, e.region_2)\n",
    "    )\n",
    "for name, region in res2.value:\n",
    "    plotting.plot_roi(region.spatial_image(), title=name)"
   ]
  },
  {
   "cell_type": "code",
   "execution_count": null,
   "metadata": {},
   "outputs": [],
   "source": [
    "#Description"
   ]
  },
  {
   "cell_type": "code",
   "execution_count": null,
   "metadata": {},
   "outputs": [],
   "source": [
    "neurosynth_occipitotemporal = nl.load_neurosynth_term_regions(\n",
    "    'occipitotemporal',\n",
    "    name='neurosynth_occipitotemporal'\n",
    ")"
   ]
  },
  {
   "cell_type": "code",
   "execution_count": null,
   "metadata": {},
   "outputs": [],
   "source": [
    "with nl.environment as e:\n",
    "    res3 = nl.query(\n",
    "        e.query('neurosynth_occipitotemporal', e.region_2),\n",
    "        e.neurosynth_occipitotemporal(e.region_2) &\n",
    "        (e.region_volume(e.region_2) > 1500)\n",
    "    )\n",
    "for name, region in res3.value:\n",
    "    plotting.plot_roi(region.spatial_image(), title=name)"
   ]
  },
  {
   "cell_type": "code",
   "execution_count": null,
   "metadata": {},
   "outputs": [],
   "source": [
    "with nl.environment as e:\n",
    "    res4 = nl.query(\n",
    "        e.query(e.y, e.region_1),\n",
    "        e.destrieux_regions(e.y, e.region_1) &\n",
    "        e.relation(e.y, 'Left occipitotemporal sulcus')\n",
    "    )\n",
    "\n",
    "for name, region in res4.value:\n",
    "    plotting.plot_roi(region.spatial_image(), title=name)"
   ]
  }
 ],
 "metadata": {
  "kernelspec": {
   "display_name": "neurolang",
   "language": "python",
   "name": "neurolang"
  },
  "language_info": {
   "codemirror_mode": {
    "name": "ipython",
    "version": 3
   },
   "file_extension": ".py",
   "mimetype": "text/x-python",
   "name": "python",
   "nbconvert_exporter": "python",
   "pygments_lexer": "ipython3",
   "version": "3.7.3"
  }
 },
 "nbformat": 4,
 "nbformat_minor": 2
}
