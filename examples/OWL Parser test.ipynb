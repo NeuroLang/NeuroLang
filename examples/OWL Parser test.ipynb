{
 "cells": [
  {
   "cell_type": "code",
   "execution_count": 1,
   "metadata": {},
   "outputs": [
    {
     "name": "stderr",
     "output_type": "stream",
     "text": [
      "/home/gzanitti/miniconda3/envs/neurolang/lib/python3.8/site-packages/sklearn/externals/joblib/__init__.py:15: DeprecationWarning: sklearn.externals.joblib is deprecated in 0.21 and will be removed in 0.23. Please import this functionality directly from joblib, which can be installed with: pip install joblib. If this warning is raised when loading pickled models, you may need to re-serialize those models with scikit-learn 0.21+.\n",
      "  warnings.warn(msg, category=DeprecationWarning)\n"
     ]
    }
   ],
   "source": [
    "import rdflib\n",
    "from nilearn import datasets"
   ]
  },
  {
   "cell_type": "code",
   "execution_count": 3,
   "metadata": {},
   "outputs": [],
   "source": [
    "from rdflib.namespace import RDF, RDFS, OWL, SKOS\n",
    "from rdflib import BNode\n"
   ]
  },
  {
   "cell_type": "markdown",
   "metadata": {},
   "source": [
    "subClass others -> todo lo que este en other tambien esta en este \n",
    "subClass own -> todo lo que este en esta entidad tambien lo enceuntro en la subclass\n",
    "\n",
    "part_of others -> los que puedo traer con la query, referenciando al own"
   ]
  },
  {
   "cell_type": "code",
   "execution_count": null,
   "metadata": {},
   "outputs": [],
   "source": [
    "CAO_00216 Consciousness\n",
    "    Others:\n",
    "        - subClass CAO_00693 Autonoesis\n",
    "        - subClass CAO_00695 Noesis\n",
    "        - part_of CAO_00141 Attention\n",
    "        - part_of CAO_00277 Episodic memory\n",
    "    \n",
    "CAO_00141 Attention\n",
    "    Own:\n",
    "        - part_of CAO_00549 Visual search\n",
    "        - part_of CAO_00687 Attentional blink\n",
    "        - part_of CAO_00216 Consciousness\n",
    "    \n",
    "    Others:\n",
    "        - subClass CAO_00482 Selective attention\n",
    "        - subClass CAO_00786 Exogenous attention\n",
    "        - subClass CAO_00523 Sustained attention\n",
    "        - subClass CAO_00691 Covert attention\n",
    "        - subClass CAO_00690 Overt attention\n",
    "        - subClass CAO_00414 Passive attention\n",
    "        - subClass CAO_00262 Divided attention\n",
    "        - subClass CAO_00541 Visual attention\n",
    "        - subClass CAO_00149 Auditory attention\n",
    "        \n",
    "        - part_of CAO_00562 Attention span\n",
    "        - part_of CAO_00563 Attentional focusing\n",
    "        - part_of CAO_00797 Feature-based attention\n",
    "        - part_of CAO_00142 Attention capacity\n",
    "        \n",
    "\n",
    "CAO_00277 Episodic memory\n",
    "    Own:\n",
    "        - part_of CAO_00216 Consciousness\n",
    "        - subClass CAO_00248 Declarative memory\n",
    "    \n",
    "    Others:\n",
    "        - subClass CAO_00504 Source memory\n",
    "        - subClass CAO_00168 Autobiographical memory\n",
    "        - part_of CAO_00693 Autonoesis\n",
    "        \n",
    "CAO_00693 Autonoesis\n",
    "    Own:\n",
    "        - subClass CAO_00216 Consciousness\n",
    "        - part_of CAO_00277 Episodic memory\n",
    "        - part_of CAO_00169 Autobiographical recall\n",
    "    \n",
    "\n",
    "        \n",
    "CAO_00541 Visual attention\n",
    "    Own:\n",
    "        - subClass CAO_00141 Attention\n",
    "    \n",
    "    Others:\n",
    "        - subClass CAO_00507 Spatial attention\n",
    "\n",
    "\n",
    "CAO_00149 Auditory attention\n",
    "    Own:\n",
    "        - subClass CAO_00141 Attention\n",
    "    \n",
    "    Others:\n",
    "        - subClass CAO_00370 Listening\n",
    "        \n",
    "        \n",
    "        \n",
    "CAO_00418 Perception\n",
    "    Others:\n",
    "        - subClass CAO_00662 Synchrony perception\n",
    "        - subClas CAO_00624 Gustation processing\n",
    "        - subClass CAO_00547 visual perception\n",
    "        - subClass CAO_00408 object perception\n",
    "        - subClass CAO_00411 olfactory perception\n",
    "        - subClass CAO_00779 discrimination\n",
    "        - subClass CAO_00147 audiovisual perception\n",
    "        - subClass CAO_00730 animacy perception\n",
    "        - subClass CAO_00887 detection\n",
    "        - subClass CAO_00255 depth perception\n",
    "        - subClass CAO_00503 Somatosensation\n",
    "        - subClass CAO_00160 Auditory perception\n",
    "        - subClass CAO_00675 visual awareness\n",
    "        \n",
    "        - part_of CAO_00728 agency\n",
    "        - part_of CAO_00788 localization\n",
    "        - part_of CAO_00626 Active maintenance\n",
    "        - part_of CAO_00480 schema\n",
    "        - part_of CAO_00410 Olfaction\n",
    "        - part_of CAO_00148 Audition\n",
    "        \n",
    "        \n",
    "CAO_00728 agency\n",
    "    Own:\n",
    "        - part_of CAO_00418 Perception"
   ]
  },
  {
   "cell_type": "code",
   "execution_count": null,
   "metadata": {},
   "outputs": [],
   "source": []
  },
  {
   "cell_type": "code",
   "execution_count": null,
   "metadata": {},
   "outputs": [],
   "source": []
  },
  {
   "cell_type": "code",
   "execution_count": 3,
   "metadata": {},
   "outputs": [
    {
     "name": "stderr",
     "output_type": "stream",
     "text": [
      "/home/gzanitti/miniconda3/envs/neurolang/lib/python3.8/site-packages/nibabel/wrapstruct.py:212: DeprecationWarning: tostring() is deprecated. Use tobytes() instead.\n",
      "  return self._structarr.tostring()\n"
     ]
    }
   ],
   "source": [
    "from nilearn import datasets, image\n",
    "import pandas as pd\n",
    "import numpy as np\n",
    "import nibabel as nib\n",
    "\n",
    "cogAt = datasets.utils._fetch_files(\n",
    "    datasets.utils._get_dataset_dir('CogAt'),\n",
    "    [\n",
    "        (\n",
    "            'cogat.xml',\n",
    "            'http://data.bioontology.org/ontologies/COGAT/download?'\n",
    "            'apikey=8b5b7825-538d-40e0-9e9e-5ab9274a9aeb&download_format=rdf',\n",
    "            {'move': 'cogat.xml'}\n",
    "        )\n",
    "    ]\n",
    ")[0]\n",
    "\n",
    "\n",
    "cogAt_old = datasets.utils._fetch_files(\n",
    "    datasets.utils._get_dataset_dir('ontology'),\n",
    "    [\n",
    "        (\n",
    "            'cogat_old.xml',\n",
    "            'https://data.bioontology.org/ontologies/COGAT/submissions/7/download?'\n",
    "            'apikey=8b5b7825-538d-40e0-9e9e-5ab9274a9aeb',\n",
    "            {'move': 'cogat_old.xml'}\n",
    "        )\n",
    "    ]\n",
    ")[0]\n",
    "\n",
    "mni_t1 = nib.load(datasets.fetch_icbm152_2009()['t1'])\n",
    "mni_t1_4mm = image.resample_img(mni_t1, np.eye(3) * 2)\n",
    "\n",
    "ns_database_fn, ns_features_fn = datasets.utils._fetch_files(\n",
    "    datasets.utils._get_dataset_dir('neurosynth'),\n",
    "    [\n",
    "        (\n",
    "            'database.txt',\n",
    "            'https://github.com/neurosynth/neurosynth-data/raw/master/current_data.tar.gz',\n",
    "            {'uncompress': True}\n",
    "        ),\n",
    "        (\n",
    "            'features.txt',\n",
    "            'https://github.com/neurosynth/neurosynth-data/raw/master/current_data.tar.gz',\n",
    "            {'uncompress': True}\n",
    "        ),\n",
    "    ]\n",
    ")\n",
    "\n",
    "ns_database = pd.read_csv(ns_database_fn, sep=f'\\t')\n",
    "ijk_positions = (\n",
    "    nib.affines.apply_affine(\n",
    "        np.linalg.inv(mni_t1_4mm.affine),\n",
    "        ns_database[['x', 'y', 'z']]\n",
    "    ).astype(int)\n",
    ")\n",
    "ns_database['i'] = ijk_positions[:, 0]\n",
    "ns_database['j'] = ijk_positions[:, 1]\n",
    "ns_database['k'] = ijk_positions[:, 2]\n",
    "\n",
    "ns_database = ns_database[[\"x\", \"y\", \"z\", \"id\"]]\n",
    "\n",
    "ns_features = pd.read_csv(ns_features_fn, sep=f'\\t')\n",
    "ns_terms = (\n",
    "    pd.melt(\n",
    "            ns_features,\n",
    "            var_name='term', id_vars='pmid', value_name='TfIdf'\n",
    "    )\n",
    "    .query('TfIdf > 1e-3')[['pmid', 'term']]\n",
    ")\n",
    "ns_docs = ns_features[['pmid']].drop_duplicates()"
   ]
  },
  {
   "cell_type": "code",
   "execution_count": 4,
   "metadata": {},
   "outputs": [
    {
     "name": "stderr",
     "output_type": "stream",
     "text": [
      "/home/gzanitti/miniconda3/envs/neurolang/lib/python3.8/site-packages/ipykernel/ipkernel.py:283: DeprecationWarning: `should_run_async` will not call `transform_cell` automatically in the future. Please pass the result to `transformed_cell` argument and any exception that happen during thetransform in `preprocessing_exc_tuple` in IPython 7.17 and above.\n",
      "  and should_run_async(code)\n"
     ]
    }
   ],
   "source": [
    "import rdflib\n",
    "from rdflib import RDFS\n",
    "g = rdflib.Graph()\n",
    "g.load(cogAt_old)\n",
    "\n",
    "from rdflib import BNode\n",
    "\n",
    "onto_dic = {}\n",
    "for obj in g.subjects():\n",
    "    if isinstance(obj, BNode):\n",
    "        continue\n",
    "    for b in g.triples((obj, RDFS.label, None)):\n",
    "        label = b[2].lower().replace(' ', '_')\n",
    "        obj_split = obj.split('#')\n",
    "        if len(obj_split) == 2:\n",
    "            name = obj_split[1]\n",
    "            namespace = obj_split[0].split('/')[-1]\n",
    "            if name[0] != '' and namespace != '':\n",
    "                res = namespace + ':' + name\n",
    "            else:\n",
    "                res = name\n",
    "        else:\n",
    "            obj_split = obj.split('/')\n",
    "            res = obj_split[-1]\n",
    "\n",
    "        onto_dic[label] = res\n",
    "\n",
    "group_terms = ns_terms.groupby('term')\n",
    "dic_term_pmid = {}\n",
    "\n",
    "for term, ids in group_terms:\n",
    "    term = term.lower().replace(' ', '_')\n",
    "    dic_term_pmid[term] = ids\n",
    "\n",
    "merge_dic = {}\n",
    "for k, v in onto_dic.items():\n",
    "    if k in dic_term_pmid.keys():\n",
    "        vl = v.lower()\n",
    "        merge_dic[vl] = dic_term_pmid[k]"
   ]
  },
  {
   "cell_type": "code",
   "execution_count": 5,
   "metadata": {},
   "outputs": [],
   "source": [
    "from neurolang.frontend import NeurolangPDL\n",
    "\n",
    "nl = NeurolangPDL()\n",
    "nl.load_ontology(cogAt_old)\n",
    "\n",
    "for k, v in dic_term_pmid.items():\n",
    "    if k in onto_dic.keys():\n",
    "        cogat_key = onto_dic[k]\n",
    "        nl.add_tuple_set(v.pmid.values, name=cogat_key)"
   ]
  },
  {
   "cell_type": "code",
   "execution_count": 17,
   "metadata": {},
   "outputs": [],
   "source": [
    "import nibabel\n",
    "\n",
    "ns_database = ns_database[[\"x\", \"y\", \"z\", \"id\"]]\n",
    "\n",
    "TermInStudy = nl.add_tuple_set(ns_terms, name=\"TermInStudy\")\n",
    "FocusReported = nl.add_tuple_set(ns_database, name=\"FocusReported\")\n",
    "Voxel = nl.add_tuple_set(\n",
    "    nibabel.affines.apply_affine(\n",
    "        mni_t1_4mm.affine,\n",
    "        np.transpose(mni_t1_4mm.get_fdata().nonzero())\n",
    "    ),\n",
    "    name='Voxel'\n",
    ")\n",
    "SelectedStudy = nl.add_uniform_probabilistic_choice_over_set(\n",
    "    ns_docs, name=\"SelectedStudy\"\n",
    ")"
   ]
  },
  {
   "cell_type": "code",
   "execution_count": 19,
   "metadata": {},
   "outputs": [
    {
     "data": {
      "text/plain": [
       "exp: typing.Callable[[float], float] = <ufunc 'exp'>"
      ]
     },
     "execution_count": 19,
     "metadata": {},
     "output_type": "execute_result"
    }
   ],
   "source": [
    "from typing import Iterable, Callable\n",
    "from neurolang.frontend import ExplicitVBR, ExplicitVBROverlay\n",
    "\n",
    "@nl.add_symbol\n",
    "def agg_create_region_overlay_MNI(\n",
    "    x: Iterable, y: Iterable, z: Iterable, p: Iterable\n",
    ") -> ExplicitVBR:\n",
    "    voxels = nibabel.affines.apply_affine(\n",
    "        np.linalg.inv(mni_t1_4mm.affine),\n",
    "        np.c_[x, y, z]\n",
    "    )\n",
    "    return ExplicitVBROverlay(\n",
    "        voxels, mni_t1_4mm.affine, p, image_dim=mni_t1_4mm.shape\n",
    "    )\n",
    "\n",
    "nl.add_symbol(np.exp, name=\"exp\", type_=Callable[[float], float])"
   ]
  },
  {
   "cell_type": "code",
   "execution_count": 7,
   "metadata": {},
   "outputs": [],
   "source": [
    "part_of = nl.new_symbol(name='ro.owl:part_of')\n",
    "label = nl.new_symbol(name='rdf-schema:label')\n",
    "\n",
    "perception = nl.new_symbol(name='cogat.owl:CAO_00418')\n",
    "\n",
    "attention = nl.new_symbol(name='cogat.owl:CAO_00141')\n",
    "\n",
    "listening = nl.new_symbol(name='cogat.owl:CAO_00370')\n",
    "auditory_attention = nl.new_symbol(name='cogat.owl:CAO_00149')\n",
    "\n",
    "spatial_attention = nl.new_symbol(name='cogat.owl:CAO_00507')\n",
    "visual_attention = nl.new_symbol(name='cogat.owl:CAO_00541')\n",
    "\n",
    "consciousness = nl.new_symbol(name='cogat.owl:CAO_00216')\n",
    "\n",
    "attention_capacity = nl.new_symbol(name='cogat.owl:CAO_00142')\n",
    "\n",
    "autonoesis = nl.new_symbol(name='cogat.owl:CAO_00693')\n",
    "episodic_memory = nl.new_symbol(name='cogat.owl:CAO_00277')"
   ]
  },
  {
   "cell_type": "code",
   "execution_count": 40,
   "metadata": {},
   "outputs": [
    {
     "name": "stderr",
     "output_type": "stream",
     "text": [
      "/home/gzanitti/miniconda3/envs/neurolang/lib/python3.8/site-packages/pandas/core/reshape/merge.py:1123: UserWarning: You are merging on int and float columns where the float values are not equal to their int representation\n",
      "  warnings.warn(\n",
      "/home/gzanitti/miniconda3/envs/neurolang/lib/python3.8/site-packages/pandas/core/reshape/merge.py:1123: UserWarning: You are merging on int and float columns where the float values are not equal to their int representation\n",
      "  warnings.warn(\n"
     ]
    }
   ],
   "source": [
    "with nl.scope as e:\n",
    "    e.OpenWorld[e.a] = (\n",
    "        part_of[e.a, e.b] &\n",
    "        autonoesis[e.b]\n",
    "    )\n",
    "    \n",
    "    e.EpisodicMemory[e.a] = (\n",
    "        episodic_memory[e.a]\n",
    "    )\n",
    "    \n",
    "    \n",
    "    (e.VoxelReported @ e.exp(-e.d / 5.0))[e.x1, e.y1, e.z1, e.s] = (\n",
    "        e.FocusReported(e.x2, e.y2, e.z2, e.s)\n",
    "        & e.Voxel(e.x1, e.y1, e.z1)\n",
    "        & (e.d == e.EUCLIDEAN(e.x1, e.y1, e.z1, e.x2, e.y2, e.z2))\n",
    "        & (e.d < 4)\n",
    "    )\n",
    "\n",
    "    e.Result[e.x, e.y, e.z, e.PROB[e.x, e.y, e.z]] = (\n",
    "           e.VoxelReported[e.x, e.y, e.z, e.s] // (\n",
    "           e.SelectedStudy[e.s]\n",
    "           & e.OpenWorld[e.s]\n",
    "       )\n",
    "    )\n",
    "    \n",
    "    e.ResultEM[e.x, e.y, e.z, e.PROB[e.x, e.y, e.z]] = (\n",
    "           e.VoxelReported[e.x, e.y, e.z, e.s] // (\n",
    "           e.SelectedStudy[e.s]\n",
    "           & e.EpisodicMemory[e.s]\n",
    "       )\n",
    "    )\n",
    "    \n",
    "    e.VoxelActivationImg[agg_create_region_overlay_MNI[e.x, e.y, e.z, e.p]] = (\n",
    "        e.Result(e.x, e.y, e.z, e.p)\n",
    "    )\n",
    "    \n",
    "    e.VoxelActivationImgEM[agg_create_region_overlay_MNI[e.x, e.y, e.z, e.p]] = (\n",
    "        e.Result(e.x, e.y, e.z, e.p)\n",
    "    )\n",
    "    \n",
    "    f_term = nl.solve_all()\n",
    "    #f_term = nl.query((e.a,), e.answer[e.a])\n"
   ]
  },
  {
   "cell_type": "code",
   "execution_count": 43,
   "metadata": {},
   "outputs": [
    {
     "data": {
      "image/png": "[encoded data removed]",
      "text/plain": [
       "<Figure size 612x165.6 with 5 Axes>"
      ]
     },
     "metadata": {},
     "output_type": "display_data"
    }
   ],
   "source": [
    "from nilearn import plotting\n",
    "\n",
    "img_query = f_term['VoxelActivationImg']\n",
    "\n",
    "result_image = (\n",
    "    img_query\n",
    "    .fetch_one()\n",
    "    [0]\n",
    "    .spatial_image()\n",
    ")\n",
    "img = result_image.get_fdata()\n",
    "\n",
    "plot = plotting.plot_stat_map(\n",
    "    result_image, threshold=np.percentile(img[img > 0], 95),\n",
    "    display_mode='x',\n",
    "    cut_coords=np.linspace(-63, 63, 3),\n",
    ")\n",
    "plotting.show()"
   ]
  },
  {
   "cell_type": "code",
   "execution_count": 44,
   "metadata": {},
   "outputs": [
    {
     "data": {
      "image/png": "[encoded data removed]",
      "text/plain": [
       "<Figure size 612x165.6 with 5 Axes>"
      ]
     },
     "metadata": {},
     "output_type": "display_data"
    }
   ],
   "source": [
    "from nilearn import plotting\n",
    "\n",
    "img_query = f_term['VoxelActivationImgEM']\n",
    "\n",
    "result_image = (\n",
    "    img_query\n",
    "    .fetch_one()\n",
    "    [0]\n",
    "    .spatial_image()\n",
    ")\n",
    "img = result_image.get_fdata()\n",
    "\n",
    "plot = plotting.plot_stat_map(\n",
    "    result_image, threshold=np.percentile(img[img > 0], 95),\n",
    "    display_mode='x',\n",
    "    cut_coords=np.linspace(-63, 63, 3),\n",
    ")\n",
    "plotting.show()"
   ]
  },
  {
   "cell_type": "code",
   "execution_count": 45,
   "metadata": {},
   "outputs": [
    {
     "name": "stdout",
     "output_type": "stream",
     "text": [
      "4139 2744 1395\n"
     ]
    }
   ],
   "source": [
    "ow = f_term['OpenWorld']\n",
    "m = f_term['EpisodicMemory']\n",
    "\n",
    "print(len(ow), len(m), len(set(ow).difference(set(m))))"
   ]
  },
  {
   "cell_type": "code",
   "execution_count": null,
   "metadata": {},
   "outputs": [],
   "source": []
  }
 ],
 "metadata": {
  "kernelspec": {
   "display_name": "neurolang",
   "language": "python",
   "name": "neurolang"
  },
  "language_info": {
   "codemirror_mode": {
    "name": "ipython",
    "version": 3
   },
   "file_extension": ".py",
   "mimetype": "text/x-python",
   "name": "python",
   "nbconvert_exporter": "python",
   "pygments_lexer": "ipython3",
   "version": "3.8.5"
  }
 },
 "nbformat": 4,
 "nbformat_minor": 4
}
