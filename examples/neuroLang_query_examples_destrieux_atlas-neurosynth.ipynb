{
 "cells": [
  {
   "cell_type": "markdown",
   "metadata": {},
   "source": [
    "### Overview"
   ]
  },
  {
   "cell_type": "code",
   "execution_count": 1,
   "metadata": {},
   "outputs": [],
   "source": [
    "import os\n",
    "import sys\n",
    "\n",
    "module_path = os.path.abspath(os.path.join('..'))\n",
    "if 'module_path' not in sys.path:\n",
    "    sys.path.append(module_path)\n",
    "\n",
    "from IPython.display import display\n",
    "import numpy as np\n",
    "import nibabel as nib\n",
    "from nilearn import plotting\n",
    "import neurolang as nl\n",
    "from typing import AbstractSet, Callable\n",
    "from neurolang.CD_relations import *\n",
    "from neurolang.frontend import *\n",
    "from neurolang.regions import *\n",
    "from neurolang.region_solver import *\n",
    "from neurolang.symbols_and_types import TypedSymbolTable, is_subtype, Constant, Predicate, Query, Symbol\n",
    "\n",
    "%matplotlib inline"
   ]
  },
  {
   "cell_type": "code",
   "execution_count": 22,
   "metadata": {},
   "outputs": [],
   "source": [
    "subject = '100206'\n",
    "t1w_path = f'../data/{subject}/T1w/T1w_acpc_dc_restore_brain.nii.gz'\n",
    "labels_path = f'../data/{subject}/T1w/aparc.a2009s+aseg.nii.gz'\n",
    "labeled_im = nib.load(labels_path)\n",
    "t1w_im = nib.load(t1w_path)\n",
    "neurolang = RegionFrontend()"
   ]
  },
  {
   "cell_type": "code",
   "execution_count": 23,
   "metadata": {
    "scrolled": false
   },
   "outputs": [],
   "source": [
    "#regions_2 = neurolang.load_parcellation(labeled_im, selected_labels='CTX_LH_S*')\n",
    "#regions_2"
   ]
  },
  {
   "cell_type": "code",
   "execution_count": 24,
   "metadata": {
    "scrolled": true
   },
   "outputs": [
    {
     "data": {
      "text/plain": [
       "neurolang.frontend.query_resolution.QueryBuilderSymbol"
      ]
     },
     "execution_count": 24,
     "metadata": {},
     "output_type": "execute_result"
    }
   ],
   "source": [
    "neurolang.load_parcellation(labeled_im, selected_labels=('CTX_RH_G_AND_S_SUBCENTRAL'))\n",
    "subcentral_g_and_s = neurolang.get_symbol('CTX_RH_G_AND_S_SUBCENTRAL')\n",
    "type(subcentral_g_and_s)"
   ]
  },
  {
   "cell_type": "code",
   "execution_count": null,
   "metadata": {
    "scrolled": false
   },
   "outputs": [],
   "source": [
    "img = region_union(subcentral_g_and_s.value).spatial_image()\n",
    "plotting.plot_roi(img, t1w_im, cmap=plotting.cm.cyan_copper) "
   ]
  },
  {
   "cell_type": "code",
   "execution_count": null,
   "metadata": {},
   "outputs": [],
   "source": [
    "emotion = neurolang.neurosynth_term_to_region_set('emotion')\n",
    "f'regions defined using the term emotion is: {len(emotion.value)}'"
   ]
  },
  {
   "cell_type": "code",
   "execution_count": null,
   "metadata": {},
   "outputs": [],
   "source": [
    "plotting.plot_roi(region_union(emotion.value).spatial_image(), t1w_im, cmap=plotting.cm.cyan_copper)"
   ]
  },
  {
   "cell_type": "code",
   "execution_count": null,
   "metadata": {
    "scrolled": true
   },
   "outputs": [],
   "source": [
    "result_sup = neurolang.solve_query(\n",
    "    neurolang.define_predicate('superior_of',  subcentral_g_and_s),\n",
    "    result_symbol_name='superior_rh_subcentral'\n",
    ")\n",
    "f'from the {len(emotion.value)} regions related to the term emotion \\\n",
    "only {len(result_sup.value)} are superior to {subcentral_g_and_s.symbol_name}'"
   ]
  },
  {
   "cell_type": "code",
   "execution_count": null,
   "metadata": {},
   "outputs": [],
   "source": [
    "result_region = region_union(result_sup.value)\n",
    "plotting.plot_roi(result_region.spatial_image(), t1w_im, cmap=plotting.cm.cyan_copper)"
   ]
  },
  {
   "cell_type": "code",
   "execution_count": null,
   "metadata": {},
   "outputs": [],
   "source": []
  },
  {
   "cell_type": "code",
   "execution_count": null,
   "metadata": {},
   "outputs": [],
   "source": []
  },
  {
   "cell_type": "code",
   "execution_count": null,
   "metadata": {},
   "outputs": [],
   "source": []
  }
 ],
 "metadata": {
  "kernelspec": {
   "display_name": "Python 3",
   "language": "python",
   "name": "python3"
  },
  "language_info": {
   "codemirror_mode": {
    "name": "ipython",
    "version": 3
   },
   "file_extension": ".py",
   "mimetype": "text/x-python",
   "name": "python",
   "nbconvert_exporter": "python",
   "pygments_lexer": "ipython3",
   "version": "3.6.4"
  }
 },
 "nbformat": 4,
 "nbformat_minor": 2
}
