{
 "cells": [
  {
   "cell_type": "code",
   "execution_count": 1,
   "metadata": {},
   "outputs": [],
   "source": [
    "%matplotlib inline"
   ]
  },
  {
   "cell_type": "code",
   "execution_count": 2,
   "metadata": {},
   "outputs": [],
   "source": [
    "import neurolang\n",
    "from neurolang import region_solver_ds\n",
    "from neurolang import frontend\n",
    "import nibabel as nib\n",
    "from nilearn import plotting\n",
    "import os"
   ]
  },
  {
   "cell_type": "code",
   "execution_count": 3,
   "metadata": {},
   "outputs": [],
   "source": [
    "data_folder = os.env['HCP_folder']\n",
    "t1w = nib.load(f'{data_folder}/100206/T1w/T1w_acpc_dc_restore_brain.nii.gz')\n",
    "parc = nib.load(f'{data_folder}/100206/T1w/aparc.a2009s+aseg.nii.gz')"
   ]
  },
  {
   "cell_type": "code",
   "execution_count": 4,
   "metadata": {},
   "outputs": [],
   "source": [
    "fe = frontend.RegionFrontend(\n",
    "    region_solver_ds.RegionSolver(neurolang.neurolang.TypedSymbolTable())\n",
    ")"
   ]
  },
  {
   "cell_type": "code",
   "execution_count": 5,
   "metadata": {},
   "outputs": [],
   "source": [
    "fe.load_parcellation(parc, selected_labels='CTX_LH_S_*');"
   ]
  },
  {
   "cell_type": "code",
   "execution_count": 6,
   "metadata": {},
   "outputs": [
    {
     "data": {
      "text/plain": [
       "QuerySymbolsProxy with symbols ['CTX_LH_S_CALCARINE', 'CTX_LH_S_CENTRAL', 'CTX_LH_S_CINGUL-MARGINALIS', 'CTX_LH_S_CIRCULAR_INSULA_ANT', 'CTX_LH_S_CIRCULAR_INSULA_INF', 'CTX_LH_S_CIRCULAR_INSULA_SUP', 'CTX_LH_S_COLLAT_TRANSV_ANT', 'CTX_LH_S_COLLAT_TRANSV_POST', 'CTX_LH_S_FRONT_INF', 'CTX_LH_S_FRONT_MIDDLE', 'CTX_LH_S_FRONT_SUP', 'CTX_LH_S_INTERM_PRIM-JENSEN', 'CTX_LH_S_INTRAPARIET_AND_P_TRANS', 'CTX_LH_S_OC_MIDDLE_AND_LUNATUS', 'CTX_LH_S_OC_SUP_AND_TRANSVERSAL', 'CTX_LH_S_OCCIPITAL_ANT', 'CTX_LH_S_OC-TEMP_LAT', 'CTX_LH_S_OC-TEMP_MED_AND_LINGUAL', 'CTX_LH_S_ORBITAL_LATERAL', 'CTX_LH_S_ORBITAL_MED-OLFACT', 'CTX_LH_S_ORBITAL-H_SHAPED', 'CTX_LH_S_PARIETO_OCCIPITAL', 'CTX_LH_S_PERICALLOSAL', 'CTX_LH_S_POSTCENTRAL', 'CTX_LH_S_PRECENTRAL-INF-PART', 'CTX_LH_S_PRECENTRAL-SUP-PART', 'CTX_LH_S_SUBORBITAL', 'CTX_LH_S_SUBPARIETAL', 'CTX_LH_S_TEMPORAL_INF', 'CTX_LH_S_TEMPORAL_SUP', 'CTX_LH_S_TEMPORAL_TRANSVERSE', 'anterior_of', 'inferior_of', 'left_of', 'overlapping', 'posterior_of', 'right_of', 'superior_of']"
      ]
     },
     "execution_count": 6,
     "metadata": {},
     "output_type": "execute_result"
    }
   ],
   "source": [
    "fe.symbols"
   ]
  },
  {
   "cell_type": "code",
   "execution_count": 7,
   "metadata": {},
   "outputs": [
    {
     "data": {
      "text/plain": [
       "CTX_LH_S_CENTRAL: <class 'neurolang.regions.Region'> = Region(VBR= affine:[[  -0.69999999    0.            0.           90.        ]\n",
       " [   0.            0.69999999    0.         -126.        ]\n",
       " [   0.            0.            0.69999999  -72.        ]\n",
       " [   0.            0.            0.            1.        ]], voxels:[[143 112 193]\n",
       " [143 113 193]\n",
       " [143 114 193]\n",
       " ..., \n",
       " [220 162 131]\n",
       " [220 162 132]\n",
       " [220 162 133]])"
      ]
     },
     "execution_count": 7,
     "metadata": {},
     "output_type": "execute_result"
    }
   ],
   "source": [
    "a = fe.symbols[fe.region_names[0]]\n",
    "b = fe.symbols[fe.region_names[1]]\n",
    "b"
   ]
  },
  {
   "cell_type": "code",
   "execution_count": 8,
   "metadata": {},
   "outputs": [
    {
     "data": {
      "text/plain": [
       "x"
      ]
     },
     "execution_count": 8,
     "metadata": {},
     "output_type": "execute_result"
    }
   ],
   "source": [
    "x = fe.new_region_symbol('x')\n",
    "\n",
    "\n",
    "x"
   ]
  },
  {
   "cell_type": "code",
   "execution_count": 9,
   "metadata": {},
   "outputs": [
    {
     "data": {
      "text/plain": [
       "{x | ∃x: ( superior_of(CTX_LH_S_CENTRAL, x) ) <built-in function and_> ( <built-in function invert>(( ( inferior_of(CTX_LH_S_CENTRAL, x) ) <built-in function and_> ( overlapping(CTX_LH_S_CENTRAL, x) ) )) )}"
      ]
     },
     "execution_count": 9,
     "metadata": {},
     "output_type": "execute_result"
    }
   ],
   "source": [
    "x = fe.new_region_symbol('x')\n",
    "query = fe.query(\n",
    "    x,\n",
    "    fe.symbols.superior_of(b, x) & ~(\n",
    "        fe.symbols.inferior_of(b, x) &\n",
    "        fe.symbols.overlapping(b, x)\n",
    "    )\n",
    ")\n",
    "query"
   ]
  },
  {
   "cell_type": "code",
   "execution_count": 10,
   "metadata": {},
   "outputs": [
    {
     "data": {
      "text/plain": [
       "d396c228-8354-11e8-8078-8c85902183dd: typing.AbstractSet[neurolang.regions.Region] = ['CTX_LH_S_COLLAT_TRANSV_ANT', 'CTX_LH_S_CIRCULAR_INSULA_ANT', 'CTX_LH_S_SUBORBITAL', 'CTX_LH_S_CIRCULAR_INSULA_INF', 'CTX_LH_S_OC-TEMP_MED_AND_LINGUAL', 'CTX_LH_S_OC-TEMP_LAT', 'CTX_LH_S_SUBPARIETAL', 'CTX_LH_S_COLLAT_TRANSV_POST', 'CTX_LH_S_OCCIPITAL_ANT', 'CTX_LH_S_ORBITAL_LATERAL', 'CTX_LH_S_FRONT_INF', 'CTX_LH_S_CIRCULAR_INSULA_SUP', 'CTX_LH_S_TEMPORAL_SUP', 'CTX_LH_S_PERICALLOSAL', 'CTX_LH_S_TEMPORAL_INF', 'CTX_LH_S_OC_MIDDLE_AND_LUNATUS', 'CTX_LH_S_CALCARINE', 'CTX_LH_S_INTERM_PRIM-JENSEN', 'CTX_LH_S_OC_SUP_AND_TRANSVERSAL', 'CTX_LH_S_TEMPORAL_TRANSVERSE', 'CTX_LH_S_ORBITAL_MED-OLFACT', 'CTX_LH_S_FRONT_MIDDLE', 'CTX_LH_S_PRECENTRAL-INF-PART', 'CTX_LH_S_ORBITAL-H_SHAPED', 'CTX_LH_S_PARIETO_OCCIPITAL']"
      ]
     },
     "execution_count": 10,
     "metadata": {},
     "output_type": "execute_result"
    }
   ],
   "source": [
    "qr = query.do()\n",
    "qr"
   ]
  }
 ],
 "metadata": {
  "kernelspec": {
   "display_name": "Python 3",
   "language": "python",
   "name": "python3"
  },
  "language_info": {
   "codemirror_mode": {
    "name": "ipython",
    "version": 3
   },
   "file_extension": ".py",
   "mimetype": "text/x-python",
   "name": "python",
   "nbconvert_exporter": "python",
   "pygments_lexer": "ipython3",
   "version": "3.6.2"
  }
 },
 "nbformat": 4,
 "nbformat_minor": 1
}
