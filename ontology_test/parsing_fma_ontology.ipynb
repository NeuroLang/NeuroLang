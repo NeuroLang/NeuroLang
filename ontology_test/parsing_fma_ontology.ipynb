{
 "cells": [
  {
   "cell_type": "code",
   "execution_count": 1,
   "metadata": {},
   "outputs": [
    {
     "name": "stderr",
     "output_type": "stream",
     "text": [
      "* Owlready2 * Warning: optimized Cython parser module 'owlready2_optimized' is not available, defaulting to slower Python implementation\n"
     ]
    }
   ],
   "source": [
    "from owlready2 import get_ontology"
   ]
  },
  {
   "cell_type": "code",
   "execution_count": 3,
   "metadata": {},
   "outputs": [
    {
     "name": "stderr",
     "output_type": "stream",
     "text": [
      "/Users/gzanitti/miniconda3/envs/neurolang/lib/python3.7/site-packages/sklearn/externals/joblib/__init__.py:15: DeprecationWarning: sklearn.externals.joblib is deprecated in 0.21 and will be removed in 0.23. Please import this functionality directly from joblib, which can be installed with: pip install joblib. If this warning is raised when loading pickled models, you may need to re-serialize those models with scikit-learn 0.21+.\n",
      "  warnings.warn(msg, category=DeprecationWarning)\n",
      "/Users/gzanitti/miniconda3/envs/neurolang/lib/python3.7/site-packages/numpy/lib/npyio.py:2322: VisibleDeprecationWarning: Reading unicode strings without specifying the encoding argument is deprecated. Set the encoding, use None for the system default.\n",
      "  output = genfromtxt(fname, **kwargs)\n"
     ]
    }
   ],
   "source": [
    "import nilearn\n",
    "atlas_destrieux = nilearn.datasets.fetch_atlas_destrieux_2009()"
   ]
  },
  {
   "cell_type": "code",
   "execution_count": 2,
   "metadata": {},
   "outputs": [
    {
     "data": {
      "text/plain": [
       "get_ontology(\"http://purl.org/sig/ont/fma.owl#\")"
      ]
     },
     "execution_count": 2,
     "metadata": {},
     "output_type": "execute_result"
    }
   ],
   "source": [
    "onto = get_ontology('./fma.owl')\n",
    "onto.load()"
   ]
  },
  {
   "cell_type": "code",
   "execution_count": 3,
   "metadata": {},
   "outputs": [
    {
     "data": {
      "text/plain": [
       "'\\ndef get_nodes(onto, main_label, labels=[]):\\n    for main in onto.search(label = main_label):\\n        #import ipdb; ipdb.set_trace()\\n        for sub in main.subclasses():\\n            labels = get_members(onto, sub.label, labels)\\n        labels.append(main.label[0])\\n    return labels \\n\\ndef get_subclasses(onto, main_label, subclasses=dict({})):\\n    for main in onto.search(label = main_label):\\n        subs = []\\n        for sub in main.subclasses():\\n            subs.append(sub.label[0])\\n            subclasses = get_subclasses(onto, sub.label, subclasses)\\n        if len(subs) > 0:\\n            subclasses[main.label[0]] = subs\\n    return subclasses \\n'"
      ]
     },
     "execution_count": 3,
     "metadata": {},
     "output_type": "execute_result"
    }
   ],
   "source": [
    "'''\n",
    "def get_nodes(onto, main_label, labels=[]):\n",
    "    for main in onto.search(label = main_label):\n",
    "        #import ipdb; ipdb.set_trace()\n",
    "        for sub in main.subclasses():\n",
    "            labels = get_members(onto, sub.label, labels)\n",
    "        labels.append(main.label[0])\n",
    "    return labels \n",
    "\n",
    "def get_subclasses(onto, main_label, subclasses=dict({})):\n",
    "    for main in onto.search(label = main_label):\n",
    "        subs = []\n",
    "        for sub in main.subclasses():\n",
    "            subs.append(sub.label[0])\n",
    "            subclasses = get_subclasses(onto, sub.label, subclasses)\n",
    "        if len(subs) > 0:\n",
    "            subclasses[main.label[0]] = subs\n",
    "    return subclasses \n",
    "'''"
   ]
  },
  {
   "cell_type": "code",
   "execution_count": 37,
   "metadata": {},
   "outputs": [],
   "source": [
    "def get_nodes(onto, main_label, labels=[]):\n",
    "    for main in onto.search(label = main_label):\n",
    "        subs = list(main.subclasses())\n",
    "        while subs:\n",
    "            subc = subs.pop(0)\n",
    "            labels.append(subc.label[0])\n",
    "            subs = subs + list(subc.subclasses())\n",
    "    labels = list(dict.fromkeys(labels))\n",
    "    return labels\n",
    "\n",
    "def get_subclasses(onto, main_label, apply=None):\n",
    "    subclasses = dict()\n",
    "    for main in onto.search(label = main_label):\n",
    "        subs = [main]\n",
    "        while subs:\n",
    "            subc = subs.pop(0)\n",
    "            temp = list(subc.subclasses())\n",
    "            if len(temp) > 0:\n",
    "                subclasses[subc.label[0]] = [e.label[0] for e in temp]\n",
    "                subs = subs + temp\n",
    "    if apply is not None:\n",
    "        subclasses = apply(subclasses)\n",
    "    return subclasses\n",
    "\n",
    "def parse_isSub(subc):\n",
    "    subclass = []\n",
    "    for k, v in subc.items():\n",
    "        for elem in v:\n",
    "            subclass.append((k, elem))\n",
    "    return subclass\n",
    "\n",
    "def get_synonyms(onto, main_label, apply=None):\n",
    "    synonyms = dict()\n",
    "    for main in onto.search(label = main_label):\n",
    "        subs = [main]\n",
    "        while subs:\n",
    "            subc = subs.pop(0)\n",
    "            temp = list(subc.subclasses())\n",
    "            syn = subc.synonym\n",
    "            if len(syn) > 0:\n",
    "                synonyms[subc.label[0]] = syn\n",
    "            subs = subs + temp\n",
    "    if apply is not None:\n",
    "        synonyms = apply(synonyms)\n",
    "    return synonyms\n",
    "\n",
    "def parse_isSyn(syn):\n",
    "    syns = []\n",
    "    for k, v in syn.items():\n",
    "        for elem in v:\n",
    "            syns.append((k, elem))\n",
    "            syns.append((elem, k))\n",
    "    return syns"
   ]
  },
  {
   "cell_type": "code",
   "execution_count": 38,
   "metadata": {},
   "outputs": [],
   "source": [
    "#nodes = get_nodes(onto, 'Anatomical entity')\n",
    "#subc = get_subclasses(onto, 'Anatomical entity', apply=parse_isSub)\n",
    "#syn = get_synonyms(onto, 'Anatomical entity', apply=parse_isSyn)"
   ]
  },
  {
   "cell_type": "code",
   "execution_count": 39,
   "metadata": {},
   "outputs": [],
   "source": [
    "from neurolang import frontend as fe\n",
    "dl = fe.NeurolangDL()\n",
    "\n",
    "nodes = get_nodes(onto, 'Anatomical entity')\n",
    "subc = get_subclasses(onto, 'Anatomical entity', apply=parse_isSub)\n",
    "syn = get_synonyms(onto, 'Anatomical entity', apply=parse_isSyn)\n",
    "\n",
    "dl.add_tuple_set(\n",
    "    ((str(e),) for e in nodes),\n",
    "    name='nodes'\n",
    ");\n",
    "\n",
    "dl.add_tuple_set(\n",
    "    ((str(e1), str(e2),) for e1, e2 in subc),\n",
    "    name='subclasses'\n",
    ");\n",
    "\n",
    "dl.add_tuple_set(\n",
    "    ((str(e1), str(e2),) for e1, e2 in syn),\n",
    "    name='synonyms'\n",
    ");"
   ]
  },
  {
   "cell_type": "code",
   "execution_count": 58,
   "metadata": {},
   "outputs": [],
   "source": [
    "x = dl.new_symbol(name='x')\n",
    "y = dl.new_symbol(name='y')\n",
    "val = dl.new_symbol(name='val')\n",
    "isSub = dl.new_symbol(name='isSub')\n",
    "isSyn = dl.new_symbol(name='isSyn')\n",
    "\n",
    "query1 = dl.query(val(x), dl.symbols.nodes(x))\n",
    "query2 = dl.query(isSyn(x, y), dl.symbols.synonyms(x, y))\n",
    "query3 = dl.query(isSub(x, y), dl.symbols.subclasses(x, y))"
   ]
  },
  {
   "cell_type": "code",
   "execution_count": 60,
   "metadata": {},
   "outputs": [
    {
     "data": {
      "text/plain": [
       "val: typing.AbstractSet[typing.Tuple[str]] = [('Frontal lobe',), ('Temporal lobe',), ('Parietal lobe',), ('Occipital lobe',), ('Insula',), ('Limbic lobe',)]"
      ]
     },
     "execution_count": 60,
     "metadata": {},
     "output_type": "execute_result"
    }
   ],
   "source": [
    "dl.query(val(y), isSub('Lobe of cerebral hemisphere', y))"
   ]
  },
  {
   "cell_type": "code",
   "execution_count": 61,
   "metadata": {},
   "outputs": [
    {
     "data": {
      "text/plain": [
       "val: typing.AbstractSet[typing.Tuple[str]] = [('Cerebral hemisphere lobe',), ('Cerebral lobe',)]"
      ]
     },
     "execution_count": 61,
     "metadata": {},
     "output_type": "execute_result"
    }
   ],
   "source": [
    "dl.query(val(y), isSyn('Lobe of cerebral hemisphere', y))"
   ]
  },
  {
   "cell_type": "code",
   "execution_count": null,
   "metadata": {},
   "outputs": [],
   "source": []
  }
 ],
 "metadata": {
  "kernelspec": {
   "display_name": "neurolang",
   "language": "python",
   "name": "neurolang"
  },
  "language_info": {
   "codemirror_mode": {
    "name": "ipython",
    "version": 3
   },
   "file_extension": ".py",
   "mimetype": "text/x-python",
   "name": "python",
   "nbconvert_exporter": "python",
   "pygments_lexer": "ipython3",
   "version": "3.7.3"
  }
 },
 "nbformat": 4,
 "nbformat_minor": 2
}
