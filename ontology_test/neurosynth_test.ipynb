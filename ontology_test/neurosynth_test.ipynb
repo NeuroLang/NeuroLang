{
 "cells": [
  {
   "cell_type": "code",
   "execution_count": 1,
   "metadata": {},
   "outputs": [
    {
     "name": "stderr",
     "output_type": "stream",
     "text": [
      "* Owlready2 * Warning: optimized Cython parser module 'owlready2_optimized' is not available, defaulting to slower Python implementation\n",
      "/Users/gzanitti/miniconda3/envs/neurolang/lib/python3.7/site-packages/sklearn/externals/joblib/__init__.py:15: DeprecationWarning: sklearn.externals.joblib is deprecated in 0.21 and will be removed in 0.23. Please import this functionality directly from joblib, which can be installed with: pip install joblib. If this warning is raised when loading pickled models, you may need to re-serialize those models with scikit-learn 0.21+.\n",
      "  warnings.warn(msg, category=DeprecationWarning)\n",
      "/Users/gzanitti/Projects/INRIA/NeuroLang/neurolang/expression_pattern_matching.py:74: UserWarning: Warning in class ReplaceExpressionsByValues overwrites {'symbol', 'constant'} from base ExpressionWalker[typing.Any]\n",
      "  warn(warn_message)\n",
      "/Users/gzanitti/Projects/INRIA/NeuroLang/neurolang/expression_pattern_matching.py:74: UserWarning: Warning in class FirstOrderLogicSolver overwrites {'universal_predicate', 'existential_predicate'} from base GenericSolver[typing.Any]\n",
      "  warn(warn_message)\n",
      "/Users/gzanitti/Projects/INRIA/NeuroLang/neurolang/expression_pattern_matching.py:74: UserWarning: Warning in class SolverNonRecursiveDatalogNaive overwrites {'fact', 'statement_intensional'} from base DatalogBasic[typing.Any]\n",
      "  warn(warn_message)\n"
     ]
    }
   ],
   "source": [
    "from neurosynth.base.dataset import Dataset\n",
    "from owlready2 import get_ontology\n",
    "from neurosynth.analysis import meta\n",
    "import nibabel as nib\n",
    "import nilearn as nil\n",
    "from nilearn import plotting\n",
    "from neurolang import frontend as fe"
   ]
  },
  {
   "cell_type": "code",
   "execution_count": 2,
   "metadata": {},
   "outputs": [],
   "source": [
    "onto = get_ontology('./fma.owl')\n",
    "onto.load()\n",
    "\n",
    "def get_nodes(onto, main_label, labels=[]):\n",
    "    for main in onto.search(label = main_label):\n",
    "        subs = list(main.subclasses())\n",
    "        while subs:\n",
    "            subc = subs.pop(0)\n",
    "            labels.append(subc.label[0])\n",
    "            subs = subs + list(subc.subclasses())\n",
    "    labels = list(dict.fromkeys(labels))\n",
    "    return labels\n",
    "\n",
    "def get_subclasses(onto, main_label, apply=None):\n",
    "    subclasses = dict()\n",
    "    for main in onto.search(label = main_label):\n",
    "        subs = [main]\n",
    "        while subs:\n",
    "            subc = subs.pop(0)\n",
    "            temp = list(subc.subclasses())\n",
    "            if len(temp) > 0:\n",
    "                subclasses[subc.label[0]] = [e.label[0] for e in temp]\n",
    "                subs = subs + temp\n",
    "    if apply is not None:\n",
    "        subclasses = apply(subclasses)\n",
    "    return subclasses\n",
    "\n",
    "def parse_isSub(subc):\n",
    "    subclass = []\n",
    "    for k, v in subc.items():\n",
    "        for elem in v:\n",
    "            subclass.append((k, elem))\n",
    "    return subclass\n",
    "\n",
    "def get_synonyms(onto, main_label, apply=None):\n",
    "    synonyms = dict()\n",
    "    for main in onto.search(label = main_label):\n",
    "        subs = [main]\n",
    "        while subs:\n",
    "            subc = subs.pop(0)\n",
    "            temp = list(subc.subclasses())\n",
    "            syn = subc.synonym\n",
    "            if len(syn) > 0:\n",
    "                synonyms[subc.label[0]] = syn\n",
    "            subs = subs + temp\n",
    "    if apply is not None:\n",
    "        synonyms = apply(synonyms)\n",
    "    return synonyms\n",
    "\n",
    "def parse_isSyn(syn):\n",
    "    syns = []\n",
    "    for k, v in syn.items():\n",
    "        for elem in v:\n",
    "            syns.append((k, elem))\n",
    "            syns.append((elem, k))\n",
    "    return syns\n",
    "\n",
    "nl = fe.NeurolangDL()\n",
    "\n",
    "nodes = get_nodes(onto, 'Lobe of cerebral hemisphere')\n",
    "subc = get_subclasses(onto, 'Lobe of cerebral hemisphere', apply=parse_isSub)\n",
    "syn = get_synonyms(onto, 'Lobe of cerebral hemisphere', apply=parse_isSyn)\n",
    "\n",
    "nl.add_tuple_set(\n",
    "    ((str(e),) for e in nodes),\n",
    "    name='nodes'\n",
    ");\n",
    "\n",
    "nl.add_tuple_set(\n",
    "    ((str(e1), str(e2),) for e1, e2 in subc),\n",
    "    name='subclasses'\n",
    ");\n",
    "\n",
    "nl.add_tuple_set(\n",
    "    ((str(e1), str(e2),) for e1, e2 in syn),\n",
    "    name='synonyms'\n",
    ");"
   ]
  },
  {
   "cell_type": "code",
   "execution_count": 3,
   "metadata": {},
   "outputs": [],
   "source": [
    "dataset = Dataset('database.txt')\n",
    "dataset.add_features('features.txt')"
   ]
  },
  {
   "cell_type": "code",
   "execution_count": 4,
   "metadata": {},
   "outputs": [],
   "source": [
    "ids = dataset.get_studies(features='frontal lobe*', frequency_threshold=0.001)"
   ]
  },
  {
   "cell_type": "code",
   "execution_count": 5,
   "metadata": {},
   "outputs": [
    {
     "data": {
      "text/plain": [
       "271"
      ]
     },
     "execution_count": 5,
     "metadata": {},
     "output_type": "execute_result"
    }
   ],
   "source": [
    "len(ids)"
   ]
  },
  {
   "cell_type": "code",
   "execution_count": 6,
   "metadata": {},
   "outputs": [
    {
     "name": "stderr",
     "output_type": "stream",
     "text": [
      "/Users/gzanitti/miniconda3/envs/neurolang/lib/python3.7/site-packages/neurosynth/analysis/meta.py:134: RuntimeWarning: invalid value encountered in true_divide\n",
      "  pFgA = pAgF * pF / pA\n",
      "/Users/gzanitti/miniconda3/envs/neurolang/lib/python3.7/site-packages/neurosynth/analysis/meta.py:139: RuntimeWarning: invalid value encountered in true_divide\n",
      "  pFgA_prior = pAgF * prior / pAgF_prior\n"
     ]
    }
   ],
   "source": [
    "ma = meta.MetaAnalysis(dataset, ids)\n",
    "ma.save_results('.', 'frontal_lobe')"
   ]
  },
  {
   "cell_type": "code",
   "execution_count": 7,
   "metadata": {},
   "outputs": [
    {
     "data": {
      "text/plain": [
       "<nilearn.plotting.displays.OrthoSlicer at 0x137d09c88>"
      ]
     },
     "execution_count": 7,
     "metadata": {},
     "output_type": "execute_result"
    },
    {
     "data": {
      "image/png": "[encoded data removed]",
      "text/plain": [
       "<Figure size 525.6x187.2 with 5 Axes>"
      ]
     },
     "metadata": {},
     "output_type": "display_data"
    }
   ],
   "source": [
    "plotting.plot_stat_map('frontal_lobe_pA.nii.gz')"
   ]
  },
  {
   "cell_type": "code",
   "execution_count": 8,
   "metadata": {},
   "outputs": [],
   "source": [
    "from neurolang.frontend.neurosynth_utils import NeuroSynthHandler"
   ]
  },
  {
   "cell_type": "code",
   "execution_count": 9,
   "metadata": {},
   "outputs": [],
   "source": [
    "nsh = NeuroSynthHandler()\n",
    "dataset = nsh.ns_load_dataset()\n",
    "nsh = NeuroSynthHandler(ns_dataset=dataset)"
   ]
  },
  {
   "cell_type": "code",
   "execution_count": 10,
   "metadata": {},
   "outputs": [],
   "source": [
    "#nsh_data = nsh.ns_region_set_from_term('frontal lobe*')\n",
    "neurosynth_frontal_lobe = nl.load_neurosynth_term_regions(\n",
    "    'frontal lobe*',\n",
    "    name='neurosynth_frontal_lobe'\n",
    ")"
   ]
  },
  {
   "cell_type": "code",
   "execution_count": 11,
   "metadata": {},
   "outputs": [
    {
     "name": "stderr",
     "output_type": "stream",
     "text": [
      "/Users/gzanitti/miniconda3/envs/neurolang/lib/python3.7/site-packages/numpy/lib/npyio.py:2322: VisibleDeprecationWarning: Reading unicode strings without specifying the encoding argument is deprecated. Set the encoding, use None for the system default.\n",
      "  output = genfromtxt(fname, **kwargs)\n"
     ]
    }
   ],
   "source": [
    "import nilearn\n",
    "import nibabel as nib\n",
    "from nilearn import datasets\n",
    "from neurolang import regions\n",
    "import numpy as np\n",
    "\n",
    "from neurolang import expressions\n",
    "from neurolang import solver_datalog_naive as sdb\n",
    "from neurolang import solver_datalog_extensional_db\n",
    "from neurolang import expression_walker as ew\n",
    "from neurolang import datalog_chase as dc\n",
    "\n",
    "C_ = expressions.Constant\n",
    "S_ = expressions.Symbol\n",
    "Imp_ = sdb.Implication\n",
    "Fact_ = sdb.Fact\n",
    "Eb_ = expressions.ExpressionBlock\n",
    "\n",
    "\n",
    "destrieux_dataset = datasets.fetch_atlas_destrieux_2009()\n",
    "destrieux_map = nib.load(destrieux_dataset['maps'])\n",
    "\n",
    "destrieux = nl.new_symbol(name='destrieux')\n",
    "d = []\n",
    "for label_number, name in destrieux_dataset['labels']:\n",
    "    if label_number == 0:\n",
    "        continue\n",
    "    name = name.decode()\n",
    "    region = nl.create_region(destrieux_map, label=label_number)\n",
    "    if region is None:\n",
    "        continue\n",
    "    name = name.replace('-', '_').replace(' ', '_')\n",
    "    d.append((name.lower(), region))\n",
    "\n",
    "destrieux = nl.add_tuple_set(d, name='destrieux')"
   ]
  },
  {
   "cell_type": "code",
   "execution_count": 12,
   "metadata": {},
   "outputs": [],
   "source": [
    "x = nl.new_symbol(name='x')\n",
    "y = nl.new_symbol(name='y')\n",
    "val = nl.new_symbol(name='val')\n",
    "isSub = nl.new_symbol(name='isSub')\n",
    "isSyn = nl.new_symbol(name='isSyn')\n",
    "\n",
    "query1 = nl.query(val(x), nl.symbols.nodes(x))\n",
    "query2 = nl.query(isSyn(x, y), nl.symbols.synonyms(x, y))\n",
    "query3 = nl.query(isSub(x, y), nl.symbols.subclasses(x, y))"
   ]
  },
  {
   "cell_type": "code",
   "execution_count": 14,
   "metadata": {},
   "outputs": [
    {
     "data": {
      "text/plain": [
       "val: typing.AbstractSet[typing.Tuple[str]] = [('Right frontal lobe',), ('Left frontal lobe',)]"
      ]
     },
     "execution_count": 14,
     "metadata": {},
     "output_type": "execute_result"
    }
   ],
   "source": [
    "nl.query(val(y), isSub('Frontal lobe', y))\n",
    "#dl.query(val(y), isSyn('Lobe of cerebral hemisphere', y))"
   ]
  },
  {
   "cell_type": "code",
   "execution_count": null,
   "metadata": {},
   "outputs": [],
   "source": []
  },
  {
   "cell_type": "code",
   "execution_count": null,
   "metadata": {},
   "outputs": [],
   "source": []
  },
  {
   "cell_type": "code",
   "execution_count": null,
   "metadata": {},
   "outputs": [],
   "source": []
  },
  {
   "cell_type": "code",
   "execution_count": 19,
   "metadata": {},
   "outputs": [
    {
     "name": "stdout",
     "output_type": "stream",
     "text": [
      "0\n",
      "1\n",
      "2\n",
      "3\n",
      "4\n",
      "5\n",
      "6\n",
      "7\n",
      "8\n",
      "9\n",
      "10\n",
      "11\n",
      "12\n",
      "13\n",
      "14\n",
      "15\n",
      "16\n",
      "17\n",
      "18\n",
      "19\n",
      "20\n",
      "21\n",
      "22\n",
      "23\n",
      "24\n",
      "25\n",
      "26\n",
      "27\n",
      "28\n",
      "29\n",
      "30\n",
      "31\n",
      "32\n",
      "33\n",
      "34\n",
      "35\n",
      "36\n",
      "37\n",
      "38\n",
      "39\n",
      "40\n",
      "41\n",
      "42\n",
      "43\n",
      "44\n",
      "45\n",
      "46\n",
      "47\n",
      "48\n",
      "49\n",
      "50\n",
      "51\n",
      "52\n",
      "53\n",
      "54\n",
      "55\n",
      "56\n",
      "57\n",
      "58\n",
      "59\n",
      "60\n",
      "61\n",
      "62\n",
      "63\n",
      "64\n",
      "65\n",
      "66\n",
      "67\n",
      "68\n",
      "69\n",
      "70\n",
      "71\n",
      "72\n",
      "73\n",
      "74\n",
      "75\n",
      "76\n",
      "77\n",
      "78\n",
      "79\n",
      "80\n",
      "81\n",
      "82\n",
      "83\n",
      "84\n",
      "85\n",
      "86\n",
      "87\n",
      "88\n",
      "89\n",
      "90\n",
      "91\n",
      "92\n",
      "93\n",
      "94\n",
      "95\n",
      "96\n",
      "97\n",
      "98\n",
      "99\n",
      "100\n",
      "101\n",
      "102\n",
      "103\n",
      "104\n",
      "105\n",
      "106\n",
      "107\n",
      "108\n",
      "109\n",
      "110\n",
      "111\n",
      "112\n",
      "113\n",
      "114\n",
      "115\n",
      "116\n",
      "117\n",
      "118\n",
      "119\n",
      "120\n",
      "121\n",
      "122\n",
      "123\n",
      "124\n",
      "125\n",
      "126\n",
      "127\n",
      "128\n",
      "129\n",
      "130\n",
      "131\n",
      "132\n",
      "133\n",
      "134\n",
      "135\n",
      "136\n",
      "137\n",
      "138\n",
      "139\n",
      "140\n",
      "141\n",
      "142\n",
      "143\n",
      "144\n",
      "145\n",
      "146\n",
      "147\n",
      "148\n",
      "149\n",
      "150\n"
     ]
    },
    {
     "ename": "TypeError",
     "evalue": "argument of type 'SpatialHeader' is not iterable",
     "output_type": "error",
     "traceback": [
      "\u001b[0;31m---------------------------------------------------------------------------\u001b[0m",
      "\u001b[0;31mTypeError\u001b[0m                                 Traceback (most recent call last)",
      "\u001b[0;32m<ipython-input-19-3cf55d56883e>\u001b[0m in \u001b[0;36m<module>\u001b[0;34m\u001b[0m\n\u001b[1;32m     94\u001b[0m \u001b[0;34m\u001b[0m\u001b[0m\n\u001b[1;32m     95\u001b[0m \u001b[0;31m#%%\u001b[0m\u001b[0;34m\u001b[0m\u001b[0;34m\u001b[0m\u001b[0;34m\u001b[0m\u001b[0m\n\u001b[0;32m---> 96\u001b[0;31m \u001b[0mplotting\u001b[0m\u001b[0;34m.\u001b[0m\u001b[0mplot_roi\u001b[0m\u001b[0;34m(\u001b[0m\u001b[0mregion_dict\u001b[0m\u001b[0;34m[\u001b[0m\u001b[0;34m'L S_temporal_sup'\u001b[0m\u001b[0;34m]\u001b[0m\u001b[0;34m.\u001b[0m\u001b[0mspatial_image\u001b[0m\u001b[0;34m(\u001b[0m\u001b[0;34m)\u001b[0m\u001b[0;34m)\u001b[0m\u001b[0;34m;\u001b[0m\u001b[0;34m\u001b[0m\u001b[0;34m\u001b[0m\u001b[0m\n\u001b[0m\u001b[1;32m     97\u001b[0m \u001b[0;34m\u001b[0m\u001b[0m\n\u001b[1;32m     98\u001b[0m \u001b[0;34m\u001b[0m\u001b[0m\n",
      "\u001b[0;32m~/miniconda3/envs/neurolang/lib/python3.7/site-packages/nilearn/plotting/img_plotting.py\u001b[0m in \u001b[0;36mplot_roi\u001b[0;34m(roi_img, bg_img, cut_coords, output_file, display_mode, figure, axes, title, annotate, draw_cross, black_bg, threshold, alpha, cmap, dim, vmin, vmax, resampling_interpolation, **kwargs)\u001b[0m\n\u001b[1;32m    706\u001b[0m         \u001b[0mthreshold\u001b[0m\u001b[0;34m=\u001b[0m\u001b[0mthreshold\u001b[0m\u001b[0;34m,\u001b[0m \u001b[0mbg_vmin\u001b[0m\u001b[0;34m=\u001b[0m\u001b[0mbg_vmin\u001b[0m\u001b[0;34m,\u001b[0m \u001b[0mbg_vmax\u001b[0m\u001b[0;34m=\u001b[0m\u001b[0mbg_vmax\u001b[0m\u001b[0;34m,\u001b[0m\u001b[0;34m\u001b[0m\u001b[0;34m\u001b[0m\u001b[0m\n\u001b[1;32m    707\u001b[0m         \u001b[0mresampling_interpolation\u001b[0m\u001b[0;34m=\u001b[0m\u001b[0mresampling_interpolation\u001b[0m\u001b[0;34m,\u001b[0m\u001b[0;34m\u001b[0m\u001b[0;34m\u001b[0m\u001b[0m\n\u001b[0;32m--> 708\u001b[0;31m         alpha=alpha, cmap=cmap, vmin=vmin, vmax=vmax, **kwargs)\n\u001b[0m\u001b[1;32m    709\u001b[0m     \u001b[0;32mreturn\u001b[0m \u001b[0mdisplay\u001b[0m\u001b[0;34m\u001b[0m\u001b[0;34m\u001b[0m\u001b[0m\n\u001b[1;32m    710\u001b[0m \u001b[0;34m\u001b[0m\u001b[0m\n",
      "\u001b[0;32m~/miniconda3/envs/neurolang/lib/python3.7/site-packages/nilearn/plotting/img_plotting.py\u001b[0m in \u001b[0;36m_plot_img_with_bg\u001b[0;34m(img, bg_img, cut_coords, output_file, display_mode, colorbar, figure, axes, title, threshold, annotate, draw_cross, black_bg, vmin, vmax, bg_vmin, bg_vmax, interpolation, display_factory, cbar_vmin, cbar_vmax, brain_color, **kwargs)\u001b[0m\n\u001b[1;32m    153\u001b[0m \u001b[0;34m\u001b[0m\u001b[0m\n\u001b[1;32m    154\u001b[0m     \u001b[0;32mif\u001b[0m \u001b[0mimg\u001b[0m \u001b[0;32mis\u001b[0m \u001b[0;32mnot\u001b[0m \u001b[0;32mFalse\u001b[0m \u001b[0;32mand\u001b[0m \u001b[0mimg\u001b[0m \u001b[0;32mis\u001b[0m \u001b[0;32mnot\u001b[0m \u001b[0;32mNone\u001b[0m\u001b[0;34m:\u001b[0m\u001b[0;34m\u001b[0m\u001b[0;34m\u001b[0m\u001b[0m\n\u001b[0;32m--> 155\u001b[0;31m         \u001b[0mimg\u001b[0m \u001b[0;34m=\u001b[0m \u001b[0m_utils\u001b[0m\u001b[0;34m.\u001b[0m\u001b[0mcheck_niimg_3d\u001b[0m\u001b[0;34m(\u001b[0m\u001b[0mimg\u001b[0m\u001b[0;34m,\u001b[0m \u001b[0mdtype\u001b[0m\u001b[0;34m=\u001b[0m\u001b[0;34m'auto'\u001b[0m\u001b[0;34m)\u001b[0m\u001b[0;34m\u001b[0m\u001b[0;34m\u001b[0m\u001b[0m\n\u001b[0m\u001b[1;32m    156\u001b[0m         \u001b[0mdata\u001b[0m \u001b[0;34m=\u001b[0m \u001b[0m_safe_get_data\u001b[0m\u001b[0;34m(\u001b[0m\u001b[0mimg\u001b[0m\u001b[0;34m,\u001b[0m \u001b[0mensure_finite\u001b[0m\u001b[0;34m=\u001b[0m\u001b[0;32mTrue\u001b[0m\u001b[0;34m)\u001b[0m\u001b[0;34m\u001b[0m\u001b[0;34m\u001b[0m\u001b[0m\n\u001b[1;32m    157\u001b[0m         \u001b[0maffine\u001b[0m \u001b[0;34m=\u001b[0m \u001b[0mimg\u001b[0m\u001b[0;34m.\u001b[0m\u001b[0maffine\u001b[0m\u001b[0;34m\u001b[0m\u001b[0;34m\u001b[0m\u001b[0m\n",
      "\u001b[0;32m~/miniconda3/envs/neurolang/lib/python3.7/site-packages/nilearn/_utils/niimg_conversions.py\u001b[0m in \u001b[0;36mcheck_niimg_3d\u001b[0;34m(niimg, dtype)\u001b[0m\n\u001b[1;32m    320\u001b[0m     \u001b[0mIts\u001b[0m \u001b[0mapplication\u001b[0m \u001b[0;32mis\u001b[0m \u001b[0midempotent\u001b[0m\u001b[0;34m.\u001b[0m\u001b[0;34m\u001b[0m\u001b[0;34m\u001b[0m\u001b[0m\n\u001b[1;32m    321\u001b[0m     \"\"\"\n\u001b[0;32m--> 322\u001b[0;31m     \u001b[0;32mreturn\u001b[0m \u001b[0mcheck_niimg\u001b[0m\u001b[0;34m(\u001b[0m\u001b[0mniimg\u001b[0m\u001b[0;34m,\u001b[0m \u001b[0mensure_ndim\u001b[0m\u001b[0;34m=\u001b[0m\u001b[0;36m3\u001b[0m\u001b[0;34m,\u001b[0m \u001b[0mdtype\u001b[0m\u001b[0;34m=\u001b[0m\u001b[0mdtype\u001b[0m\u001b[0;34m)\u001b[0m\u001b[0;34m\u001b[0m\u001b[0;34m\u001b[0m\u001b[0m\n\u001b[0m\u001b[1;32m    323\u001b[0m \u001b[0;34m\u001b[0m\u001b[0m\n\u001b[1;32m    324\u001b[0m \u001b[0;34m\u001b[0m\u001b[0m\n",
      "\u001b[0;32m~/miniconda3/envs/neurolang/lib/python3.7/site-packages/nilearn/_utils/niimg_conversions.py\u001b[0m in \u001b[0;36mcheck_niimg\u001b[0;34m(niimg, ensure_ndim, atleast_4d, dtype, return_iterator, wildcards)\u001b[0m\n\u001b[1;32m    269\u001b[0m \u001b[0;34m\u001b[0m\u001b[0m\n\u001b[1;32m    270\u001b[0m     \u001b[0;31m# Otherwise, it should be a filename or a SpatialImage, we load it\u001b[0m\u001b[0;34m\u001b[0m\u001b[0;34m\u001b[0m\u001b[0;34m\u001b[0m\u001b[0m\n\u001b[0;32m--> 271\u001b[0;31m     \u001b[0mniimg\u001b[0m \u001b[0;34m=\u001b[0m \u001b[0mload_niimg\u001b[0m\u001b[0;34m(\u001b[0m\u001b[0mniimg\u001b[0m\u001b[0;34m,\u001b[0m \u001b[0mdtype\u001b[0m\u001b[0;34m=\u001b[0m\u001b[0mdtype\u001b[0m\u001b[0;34m)\u001b[0m\u001b[0;34m\u001b[0m\u001b[0;34m\u001b[0m\u001b[0m\n\u001b[0m\u001b[1;32m    272\u001b[0m \u001b[0;34m\u001b[0m\u001b[0m\n\u001b[1;32m    273\u001b[0m     \u001b[0;32mif\u001b[0m \u001b[0mensure_ndim\u001b[0m \u001b[0;34m==\u001b[0m \u001b[0;36m3\u001b[0m \u001b[0;32mand\u001b[0m \u001b[0mlen\u001b[0m\u001b[0;34m(\u001b[0m\u001b[0mniimg\u001b[0m\u001b[0;34m.\u001b[0m\u001b[0mshape\u001b[0m\u001b[0;34m)\u001b[0m \u001b[0;34m==\u001b[0m \u001b[0;36m4\u001b[0m \u001b[0;32mand\u001b[0m \u001b[0mniimg\u001b[0m\u001b[0;34m.\u001b[0m\u001b[0mshape\u001b[0m\u001b[0;34m[\u001b[0m\u001b[0;36m3\u001b[0m\u001b[0;34m]\u001b[0m \u001b[0;34m==\u001b[0m \u001b[0;36m1\u001b[0m\u001b[0;34m:\u001b[0m\u001b[0;34m\u001b[0m\u001b[0;34m\u001b[0m\u001b[0m\n",
      "\u001b[0;32m~/miniconda3/envs/neurolang/lib/python3.7/site-packages/nilearn/_utils/niimg.py\u001b[0m in \u001b[0;36mload_niimg\u001b[0;34m(niimg, dtype)\u001b[0m\n\u001b[1;32m    120\u001b[0m         \u001b[0;32mif\u001b[0m \u001b[0mniimg\u001b[0m\u001b[0;34m.\u001b[0m\u001b[0mheader\u001b[0m \u001b[0;32mis\u001b[0m \u001b[0;32mnot\u001b[0m \u001b[0;32mNone\u001b[0m\u001b[0;34m:\u001b[0m\u001b[0;34m\u001b[0m\u001b[0;34m\u001b[0m\u001b[0m\n\u001b[1;32m    121\u001b[0m             niimg = new_img_like(niimg, niimg.get_data().astype(dtype),\n\u001b[0;32m--> 122\u001b[0;31m                                 niimg.affine, copy_header=True)\n\u001b[0m\u001b[1;32m    123\u001b[0m             \u001b[0mniimg\u001b[0m\u001b[0;34m.\u001b[0m\u001b[0mheader\u001b[0m\u001b[0;34m.\u001b[0m\u001b[0mset_data_dtype\u001b[0m\u001b[0;34m(\u001b[0m\u001b[0mdtype\u001b[0m\u001b[0;34m)\u001b[0m\u001b[0;34m\u001b[0m\u001b[0;34m\u001b[0m\u001b[0m\n\u001b[1;32m    124\u001b[0m         \u001b[0;32melse\u001b[0m\u001b[0;34m:\u001b[0m\u001b[0;34m\u001b[0m\u001b[0;34m\u001b[0m\u001b[0m\n",
      "\u001b[0;32m~/miniconda3/envs/neurolang/lib/python3.7/site-packages/nilearn/image/image.py\u001b[0m in \u001b[0;36mnew_img_like\u001b[0;34m(ref_niimg, data, affine, copy_header)\u001b[0m\n\u001b[1;32m    637\u001b[0m     \u001b[0;32mif\u001b[0m \u001b[0mcopy_header\u001b[0m\u001b[0;34m:\u001b[0m\u001b[0;34m\u001b[0m\u001b[0;34m\u001b[0m\u001b[0m\n\u001b[1;32m    638\u001b[0m         \u001b[0mheader\u001b[0m \u001b[0;34m=\u001b[0m \u001b[0mcopy\u001b[0m\u001b[0;34m.\u001b[0m\u001b[0mdeepcopy\u001b[0m\u001b[0;34m(\u001b[0m\u001b[0mref_niimg\u001b[0m\u001b[0;34m.\u001b[0m\u001b[0mheader\u001b[0m\u001b[0;34m)\u001b[0m\u001b[0;34m\u001b[0m\u001b[0;34m\u001b[0m\u001b[0m\n\u001b[0;32m--> 639\u001b[0;31m         \u001b[0;32mif\u001b[0m \u001b[0;34m'scl_slope'\u001b[0m \u001b[0;32min\u001b[0m \u001b[0mheader\u001b[0m\u001b[0;34m:\u001b[0m\u001b[0;34m\u001b[0m\u001b[0;34m\u001b[0m\u001b[0m\n\u001b[0m\u001b[1;32m    640\u001b[0m             \u001b[0mheader\u001b[0m\u001b[0;34m[\u001b[0m\u001b[0;34m'scl_slope'\u001b[0m\u001b[0;34m]\u001b[0m \u001b[0;34m=\u001b[0m \u001b[0;36m0.\u001b[0m\u001b[0;34m\u001b[0m\u001b[0;34m\u001b[0m\u001b[0m\n\u001b[1;32m    641\u001b[0m         \u001b[0;32mif\u001b[0m \u001b[0;34m'scl_inter'\u001b[0m \u001b[0;32min\u001b[0m \u001b[0mheader\u001b[0m\u001b[0;34m:\u001b[0m\u001b[0;34m\u001b[0m\u001b[0;34m\u001b[0m\u001b[0m\n",
      "\u001b[0;31mTypeError\u001b[0m: argument of type 'SpatialHeader' is not iterable"
     ]
    }
   ],
   "source": [
    "# To add a new cell, type '#%%'\n",
    "# To add a new markdown cell, type '#%% [markdown]'\n",
    "#%% Change working directory from the workspace root to the ipynb file location. Turn this addition off with the DataScience.changeDirOnImportExport setting\n",
    "# ms-python.python added\n",
    "import os\n",
    "try:\n",
    "    os.chdir(os.path.join(os.getcwd(), 'examples'))\n",
    "    print(os.getcwd())\n",
    "except:\n",
    "    pass\n",
    "#%%\n",
    "from IPython import get_ipython\n",
    "\n",
    "\n",
    "#%%\n",
    "get_ipython().run_line_magic('matplotlib', 'inline')\n",
    "\n",
    "\n",
    "#%%\n",
    "import nilearn\n",
    "from nilearn import plotting\n",
    "import nibabel as nib\n",
    "import numpy as np\n",
    "\n",
    "\n",
    "#%%\n",
    "from neurolang import regions\n",
    "from neurolang import region_solver\n",
    "\n",
    "\n",
    "#%%\n",
    "from neurolang import expressions\n",
    "from neurolang import solver_datalog_naive as sdb\n",
    "from neurolang import solver_datalog_extensional_db\n",
    "from neurolang import expression_walker as ew\n",
    "from neurolang import datalog_chase as dc\n",
    "\n",
    "\n",
    "C_ = expressions.Constant\n",
    "S_ = expressions.Symbol\n",
    "Imp_ = sdb.Implication\n",
    "Fact_ = sdb.Fact\n",
    "Eb_ = expressions.ExpressionBlock\n",
    "\n",
    "\n",
    "#%%\n",
    "atlas_destrieux = nilearn.datasets.fetch_atlas_destrieux_2009()\n",
    "\n",
    "\n",
    "#%%\n",
    "image = nib.load(atlas_destrieux['maps'])\n",
    "image_data = image.get_data()\n",
    "\n",
    "\n",
    "#%%\n",
    "region_dict = {}\n",
    "for label, name in atlas_destrieux['labels']:\n",
    "    \n",
    "    print(label)\n",
    "    if label == 0 or label == 42 or label == 117:\n",
    "        continue\n",
    "    r = regions.ExplicitVBR(np.transpose((image_data == label).nonzero()), image.affine, image_dim=image.shape)\n",
    "    if r.voxels.shape[0] > 0:\n",
    "        region_dict[name.decode('utf8')] = r\n",
    "    \n",
    "\n",
    "\n",
    "#%%\n",
    "destrieux = sdb.Symbol('Destrieux')\n",
    "destrieux_facts = [\n",
    "    Fact_(destrieux(\n",
    "        C_(name), \n",
    "        C_(region)\n",
    "    ))\n",
    "    for name, region in region_dict.items()\n",
    "]\n",
    "\n",
    "\n",
    "#%%\n",
    "from typing import Any\n",
    "\n",
    "class Datalog(\n",
    "    region_solver.RegionSolver,\n",
    "    dc.sdb.DatalogBasic,\n",
    "    solver_datalog_extensional_db.ExtensionalDatabaseSolver,\n",
    "    ew.ExpressionBasicEvaluator\n",
    "):\n",
    "    def function_lh(self, x: str) -> bool:\n",
    "        return x.startswith('L ')\n",
    "    \n",
    "    def function_rh(self, x: str) -> bool:\n",
    "        return x.startswith('R ')\n",
    "\n",
    "\n",
    "#%%\n",
    "plotting.plot_roi(region_dict['L S_temporal_sup'].spatial_image());\n",
    "\n",
    "\n",
    "#%%\n",
    "superior_sts_l = S_('region_l_sts')\n",
    "r = S_('r')\n",
    "name = S_('name')\n",
    "\n",
    "t1 = Imp_(\n",
    "    S_('superior_sts_l')(name),\n",
    "        destrieux(C_('L S_temporal_sup'), superior_sts_l) &\n",
    "        S_('anatomical_superior_of')(r, superior_sts_l) &\n",
    "        S_('lh')(name) & \n",
    "        destrieux(name, r)\n",
    ")\n",
    "\n",
    "\n",
    "#%%\n",
    "datalog_program = Eb_(\n",
    "    destrieux_facts + [\n",
    "    t1,\n",
    "])\n",
    "\n",
    "\n",
    "#%%\n",
    "dl = Datalog()\n",
    "dl.walk(datalog_program);\n",
    "\n",
    "\n",
    "#%%\n",
    "solution = dc.build_chase_solution(dl)\n",
    "\n",
    "\n",
    "#%%\n",
    "solution\n",
    "\n",
    "\n",
    "#%%\n",
    "rsbv = ew.ReplaceExpressionsByValues({})\n",
    "result = rsbv.walk(solution['superior_sts_l'])\n",
    "result\n",
    "\n",
    "\n",
    "#%%\n",
    "\n",
    "\n",
    "\n"
   ]
  },
  {
   "cell_type": "code",
   "execution_count": 20,
   "metadata": {},
   "outputs": [
    {
     "data": {
      "text/plain": [
       "<nibabel.spatialimages.SpatialImage at 0x1350cb128>"
      ]
     },
     "execution_count": 20,
     "metadata": {},
     "output_type": "execute_result"
    }
   ],
   "source": [
    "region_dict['L S_temporal_sup'].spatial_image()"
   ]
  },
  {
   "cell_type": "code",
   "execution_count": 22,
   "metadata": {},
   "outputs": [
    {
     "ename": "TypeError",
     "evalue": "argument of type 'SpatialHeader' is not iterable",
     "output_type": "error",
     "traceback": [
      "\u001b[0;31m---------------------------------------------------------------------------\u001b[0m",
      "\u001b[0;31mTypeError\u001b[0m                                 Traceback (most recent call last)",
      "\u001b[0;32m<ipython-input-22-3b0d17704d96>\u001b[0m in \u001b[0;36m<module>\u001b[0;34m\u001b[0m\n\u001b[0;32m----> 1\u001b[0;31m \u001b[0mplotting\u001b[0m\u001b[0;34m.\u001b[0m\u001b[0mplot_roi\u001b[0m\u001b[0;34m(\u001b[0m\u001b[0mregion_dict\u001b[0m\u001b[0;34m[\u001b[0m\u001b[0;34m'L S_temporal_sup'\u001b[0m\u001b[0;34m]\u001b[0m\u001b[0;34m.\u001b[0m\u001b[0mspatial_image\u001b[0m\u001b[0;34m(\u001b[0m\u001b[0;34m)\u001b[0m\u001b[0;34m)\u001b[0m\u001b[0;34m\u001b[0m\u001b[0;34m\u001b[0m\u001b[0m\n\u001b[0m",
      "\u001b[0;32m~/miniconda3/envs/neurolang/lib/python3.7/site-packages/nilearn/plotting/img_plotting.py\u001b[0m in \u001b[0;36mplot_roi\u001b[0;34m(roi_img, bg_img, cut_coords, output_file, display_mode, figure, axes, title, annotate, draw_cross, black_bg, threshold, alpha, cmap, dim, vmin, vmax, resampling_interpolation, **kwargs)\u001b[0m\n\u001b[1;32m    706\u001b[0m         \u001b[0mthreshold\u001b[0m\u001b[0;34m=\u001b[0m\u001b[0mthreshold\u001b[0m\u001b[0;34m,\u001b[0m \u001b[0mbg_vmin\u001b[0m\u001b[0;34m=\u001b[0m\u001b[0mbg_vmin\u001b[0m\u001b[0;34m,\u001b[0m \u001b[0mbg_vmax\u001b[0m\u001b[0;34m=\u001b[0m\u001b[0mbg_vmax\u001b[0m\u001b[0;34m,\u001b[0m\u001b[0;34m\u001b[0m\u001b[0;34m\u001b[0m\u001b[0m\n\u001b[1;32m    707\u001b[0m         \u001b[0mresampling_interpolation\u001b[0m\u001b[0;34m=\u001b[0m\u001b[0mresampling_interpolation\u001b[0m\u001b[0;34m,\u001b[0m\u001b[0;34m\u001b[0m\u001b[0;34m\u001b[0m\u001b[0m\n\u001b[0;32m--> 708\u001b[0;31m         alpha=alpha, cmap=cmap, vmin=vmin, vmax=vmax, **kwargs)\n\u001b[0m\u001b[1;32m    709\u001b[0m     \u001b[0;32mreturn\u001b[0m \u001b[0mdisplay\u001b[0m\u001b[0;34m\u001b[0m\u001b[0;34m\u001b[0m\u001b[0m\n\u001b[1;32m    710\u001b[0m \u001b[0;34m\u001b[0m\u001b[0m\n",
      "\u001b[0;32m~/miniconda3/envs/neurolang/lib/python3.7/site-packages/nilearn/plotting/img_plotting.py\u001b[0m in \u001b[0;36m_plot_img_with_bg\u001b[0;34m(img, bg_img, cut_coords, output_file, display_mode, colorbar, figure, axes, title, threshold, annotate, draw_cross, black_bg, vmin, vmax, bg_vmin, bg_vmax, interpolation, display_factory, cbar_vmin, cbar_vmax, brain_color, **kwargs)\u001b[0m\n\u001b[1;32m    153\u001b[0m \u001b[0;34m\u001b[0m\u001b[0m\n\u001b[1;32m    154\u001b[0m     \u001b[0;32mif\u001b[0m \u001b[0mimg\u001b[0m \u001b[0;32mis\u001b[0m \u001b[0;32mnot\u001b[0m \u001b[0;32mFalse\u001b[0m \u001b[0;32mand\u001b[0m \u001b[0mimg\u001b[0m \u001b[0;32mis\u001b[0m \u001b[0;32mnot\u001b[0m \u001b[0;32mNone\u001b[0m\u001b[0;34m:\u001b[0m\u001b[0;34m\u001b[0m\u001b[0;34m\u001b[0m\u001b[0m\n\u001b[0;32m--> 155\u001b[0;31m         \u001b[0mimg\u001b[0m \u001b[0;34m=\u001b[0m \u001b[0m_utils\u001b[0m\u001b[0;34m.\u001b[0m\u001b[0mcheck_niimg_3d\u001b[0m\u001b[0;34m(\u001b[0m\u001b[0mimg\u001b[0m\u001b[0;34m,\u001b[0m \u001b[0mdtype\u001b[0m\u001b[0;34m=\u001b[0m\u001b[0;34m'auto'\u001b[0m\u001b[0;34m)\u001b[0m\u001b[0;34m\u001b[0m\u001b[0;34m\u001b[0m\u001b[0m\n\u001b[0m\u001b[1;32m    156\u001b[0m         \u001b[0mdata\u001b[0m \u001b[0;34m=\u001b[0m \u001b[0m_safe_get_data\u001b[0m\u001b[0;34m(\u001b[0m\u001b[0mimg\u001b[0m\u001b[0;34m,\u001b[0m \u001b[0mensure_finite\u001b[0m\u001b[0;34m=\u001b[0m\u001b[0;32mTrue\u001b[0m\u001b[0;34m)\u001b[0m\u001b[0;34m\u001b[0m\u001b[0;34m\u001b[0m\u001b[0m\n\u001b[1;32m    157\u001b[0m         \u001b[0maffine\u001b[0m \u001b[0;34m=\u001b[0m \u001b[0mimg\u001b[0m\u001b[0;34m.\u001b[0m\u001b[0maffine\u001b[0m\u001b[0;34m\u001b[0m\u001b[0;34m\u001b[0m\u001b[0m\n",
      "\u001b[0;32m~/miniconda3/envs/neurolang/lib/python3.7/site-packages/nilearn/_utils/niimg_conversions.py\u001b[0m in \u001b[0;36mcheck_niimg_3d\u001b[0;34m(niimg, dtype)\u001b[0m\n\u001b[1;32m    320\u001b[0m     \u001b[0mIts\u001b[0m \u001b[0mapplication\u001b[0m \u001b[0;32mis\u001b[0m \u001b[0midempotent\u001b[0m\u001b[0;34m.\u001b[0m\u001b[0;34m\u001b[0m\u001b[0;34m\u001b[0m\u001b[0m\n\u001b[1;32m    321\u001b[0m     \"\"\"\n\u001b[0;32m--> 322\u001b[0;31m     \u001b[0;32mreturn\u001b[0m \u001b[0mcheck_niimg\u001b[0m\u001b[0;34m(\u001b[0m\u001b[0mniimg\u001b[0m\u001b[0;34m,\u001b[0m \u001b[0mensure_ndim\u001b[0m\u001b[0;34m=\u001b[0m\u001b[0;36m3\u001b[0m\u001b[0;34m,\u001b[0m \u001b[0mdtype\u001b[0m\u001b[0;34m=\u001b[0m\u001b[0mdtype\u001b[0m\u001b[0;34m)\u001b[0m\u001b[0;34m\u001b[0m\u001b[0;34m\u001b[0m\u001b[0m\n\u001b[0m\u001b[1;32m    323\u001b[0m \u001b[0;34m\u001b[0m\u001b[0m\n\u001b[1;32m    324\u001b[0m \u001b[0;34m\u001b[0m\u001b[0m\n",
      "\u001b[0;32m~/miniconda3/envs/neurolang/lib/python3.7/site-packages/nilearn/_utils/niimg_conversions.py\u001b[0m in \u001b[0;36mcheck_niimg\u001b[0;34m(niimg, ensure_ndim, atleast_4d, dtype, return_iterator, wildcards)\u001b[0m\n\u001b[1;32m    269\u001b[0m \u001b[0;34m\u001b[0m\u001b[0m\n\u001b[1;32m    270\u001b[0m     \u001b[0;31m# Otherwise, it should be a filename or a SpatialImage, we load it\u001b[0m\u001b[0;34m\u001b[0m\u001b[0;34m\u001b[0m\u001b[0;34m\u001b[0m\u001b[0m\n\u001b[0;32m--> 271\u001b[0;31m     \u001b[0mniimg\u001b[0m \u001b[0;34m=\u001b[0m \u001b[0mload_niimg\u001b[0m\u001b[0;34m(\u001b[0m\u001b[0mniimg\u001b[0m\u001b[0;34m,\u001b[0m \u001b[0mdtype\u001b[0m\u001b[0;34m=\u001b[0m\u001b[0mdtype\u001b[0m\u001b[0;34m)\u001b[0m\u001b[0;34m\u001b[0m\u001b[0;34m\u001b[0m\u001b[0m\n\u001b[0m\u001b[1;32m    272\u001b[0m \u001b[0;34m\u001b[0m\u001b[0m\n\u001b[1;32m    273\u001b[0m     \u001b[0;32mif\u001b[0m \u001b[0mensure_ndim\u001b[0m \u001b[0;34m==\u001b[0m \u001b[0;36m3\u001b[0m \u001b[0;32mand\u001b[0m \u001b[0mlen\u001b[0m\u001b[0;34m(\u001b[0m\u001b[0mniimg\u001b[0m\u001b[0;34m.\u001b[0m\u001b[0mshape\u001b[0m\u001b[0;34m)\u001b[0m \u001b[0;34m==\u001b[0m \u001b[0;36m4\u001b[0m \u001b[0;32mand\u001b[0m \u001b[0mniimg\u001b[0m\u001b[0;34m.\u001b[0m\u001b[0mshape\u001b[0m\u001b[0;34m[\u001b[0m\u001b[0;36m3\u001b[0m\u001b[0;34m]\u001b[0m \u001b[0;34m==\u001b[0m \u001b[0;36m1\u001b[0m\u001b[0;34m:\u001b[0m\u001b[0;34m\u001b[0m\u001b[0;34m\u001b[0m\u001b[0m\n",
      "\u001b[0;32m~/miniconda3/envs/neurolang/lib/python3.7/site-packages/nilearn/_utils/niimg.py\u001b[0m in \u001b[0;36mload_niimg\u001b[0;34m(niimg, dtype)\u001b[0m\n\u001b[1;32m    120\u001b[0m         \u001b[0;32mif\u001b[0m \u001b[0mniimg\u001b[0m\u001b[0;34m.\u001b[0m\u001b[0mheader\u001b[0m \u001b[0;32mis\u001b[0m \u001b[0;32mnot\u001b[0m \u001b[0;32mNone\u001b[0m\u001b[0;34m:\u001b[0m\u001b[0;34m\u001b[0m\u001b[0;34m\u001b[0m\u001b[0m\n\u001b[1;32m    121\u001b[0m             niimg = new_img_like(niimg, niimg.get_data().astype(dtype),\n\u001b[0;32m--> 122\u001b[0;31m                                 niimg.affine, copy_header=True)\n\u001b[0m\u001b[1;32m    123\u001b[0m             \u001b[0mniimg\u001b[0m\u001b[0;34m.\u001b[0m\u001b[0mheader\u001b[0m\u001b[0;34m.\u001b[0m\u001b[0mset_data_dtype\u001b[0m\u001b[0;34m(\u001b[0m\u001b[0mdtype\u001b[0m\u001b[0;34m)\u001b[0m\u001b[0;34m\u001b[0m\u001b[0;34m\u001b[0m\u001b[0m\n\u001b[1;32m    124\u001b[0m         \u001b[0;32melse\u001b[0m\u001b[0;34m:\u001b[0m\u001b[0;34m\u001b[0m\u001b[0;34m\u001b[0m\u001b[0m\n",
      "\u001b[0;32m~/miniconda3/envs/neurolang/lib/python3.7/site-packages/nilearn/image/image.py\u001b[0m in \u001b[0;36mnew_img_like\u001b[0;34m(ref_niimg, data, affine, copy_header)\u001b[0m\n\u001b[1;32m    637\u001b[0m     \u001b[0;32mif\u001b[0m \u001b[0mcopy_header\u001b[0m\u001b[0;34m:\u001b[0m\u001b[0;34m\u001b[0m\u001b[0;34m\u001b[0m\u001b[0m\n\u001b[1;32m    638\u001b[0m         \u001b[0mheader\u001b[0m \u001b[0;34m=\u001b[0m \u001b[0mcopy\u001b[0m\u001b[0;34m.\u001b[0m\u001b[0mdeepcopy\u001b[0m\u001b[0;34m(\u001b[0m\u001b[0mref_niimg\u001b[0m\u001b[0;34m.\u001b[0m\u001b[0mheader\u001b[0m\u001b[0;34m)\u001b[0m\u001b[0;34m\u001b[0m\u001b[0;34m\u001b[0m\u001b[0m\n\u001b[0;32m--> 639\u001b[0;31m         \u001b[0;32mif\u001b[0m \u001b[0;34m'scl_slope'\u001b[0m \u001b[0;32min\u001b[0m \u001b[0mheader\u001b[0m\u001b[0;34m:\u001b[0m\u001b[0;34m\u001b[0m\u001b[0;34m\u001b[0m\u001b[0m\n\u001b[0m\u001b[1;32m    640\u001b[0m             \u001b[0mheader\u001b[0m\u001b[0;34m[\u001b[0m\u001b[0;34m'scl_slope'\u001b[0m\u001b[0;34m]\u001b[0m \u001b[0;34m=\u001b[0m \u001b[0;36m0.\u001b[0m\u001b[0;34m\u001b[0m\u001b[0;34m\u001b[0m\u001b[0m\n\u001b[1;32m    641\u001b[0m         \u001b[0;32mif\u001b[0m \u001b[0;34m'scl_inter'\u001b[0m \u001b[0;32min\u001b[0m \u001b[0mheader\u001b[0m\u001b[0;34m:\u001b[0m\u001b[0;34m\u001b[0m\u001b[0;34m\u001b[0m\u001b[0m\n",
      "\u001b[0;31mTypeError\u001b[0m: argument of type 'SpatialHeader' is not iterable"
     ]
    }
   ],
   "source": [
    "plotting.plot_roi(region_dict['L S_temporal_sup'].spatial_image())"
   ]
  },
  {
   "cell_type": "code",
   "execution_count": null,
   "metadata": {},
   "outputs": [],
   "source": []
  }
 ],
 "metadata": {
  "kernelspec": {
   "display_name": "neurolang",
   "language": "python",
   "name": "neurolang"
  },
  "language_info": {
   "codemirror_mode": {
    "name": "ipython",
    "version": 3
   },
   "file_extension": ".py",
   "mimetype": "text/x-python",
   "name": "python",
   "nbconvert_exporter": "python",
   "pygments_lexer": "ipython3",
   "version": "3.7.3"
  }
 },
 "nbformat": 4,
 "nbformat_minor": 2
}
