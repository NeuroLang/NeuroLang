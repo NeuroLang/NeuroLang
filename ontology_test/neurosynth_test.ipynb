{
 "cells": [
  {
   "cell_type": "code",
   "execution_count": 2,
   "metadata": {},
   "outputs": [
    {
     "name": "stderr",
     "output_type": "stream",
     "text": [
      "* Owlready2 * Warning: optimized Cython parser module 'owlready2_optimized' is not available, defaulting to slower Python implementation\n",
      "/Users/gzanitti/miniconda3/envs/neurolang/lib/python3.7/site-packages/sklearn/externals/joblib/__init__.py:15: DeprecationWarning: sklearn.externals.joblib is deprecated in 0.21 and will be removed in 0.23. Please import this functionality directly from joblib, which can be installed with: pip install joblib. If this warning is raised when loading pickled models, you may need to re-serialize those models with scikit-learn 0.21+.\n",
      "  warnings.warn(msg, category=DeprecationWarning)\n",
      "/Users/gzanitti/Projects/INRIA/NeuroLang/neurolang/solver_datalog_naive.py:23: UserWarning: This module is being deprecated please use the datalog module\n",
      "  warn(\"This module is being deprecated please use the datalog module\")\n",
      "/Users/gzanitti/Projects/INRIA/NeuroLang/neurolang/expression_pattern_matching.py:87: UserWarning: Warning in class SolverNonRecursiveDatalogNaive overwrites ['fact', 'statement_intensional'] from base DatalogProgram[typing.Any]\n",
      "  warn(warn_message)\n",
      "/Users/gzanitti/Projects/INRIA/NeuroLang/neurolang/utils/data_manipulation.py:1: DeprecationWarning: Using or importing the ABCs from 'collections' instead of from 'collections.abc' is deprecated, and in 3.8 it will stop working\n",
      "  from collections import Iterable\n"
     ]
    }
   ],
   "source": [
    "from neurosynth.base.dataset import Dataset\n",
    "from owlready2 import get_ontology\n",
    "from neurosynth.analysis import meta\n",
    "import nibabel as nib\n",
    "import nilearn as nil\n",
    "from nilearn import plotting\n",
    "from neurolang import frontend as fe"
   ]
  },
  {
   "cell_type": "code",
   "execution_count": 3,
   "metadata": {},
   "outputs": [],
   "source": [
    "relations = [\n",
    "    ('l_g_and_s_frontomargin','Left frontomarginal gyrus'),\n",
    "    ('l_g_and_s_occipital_inf','Left inferior occipital gyrus'),\n",
    "    ('l_g_and_s_paracentral','Left paracentral lobule'),\n",
    "    ('l_g_and_s_subcentral','Left subcentral gyrus'),\n",
    "    ('l_g_and_s_transv_frontopol','Left superior transverse frontopolar gyrus'),\n",
    "    ('l_g_and_s_cingul_ant','Left anterior cingulate gyrus'),\n",
    "    ('l_g_and_s_cingul_mid_ant','Left anterior middle cingulate gyrus'),\n",
    "    ('l_g_and_s_cingul_mid_post','Left posterior middle cingulate gyrus'),\n",
    "    ('l_g_cingul_post_dorsal','Dorsal segment of left posterior middle cingulate gyrus'),\n",
    "    ('l_g_cingul_post_ventral','Ventral segment of left posterior middle cingulate gyrus'),\n",
    "    ('l_g_cuneus','Left cuneus'),\n",
    "    ('l_g_front_inf_opercular','Opercular part of left inferior frontal gyrus'),\n",
    "    ('l_g_front_inf_orbital','Orbital part of left inferior frontal gyrus'),\n",
    "    ('l_g_front_inf_triangul','Triangular part of left inferior frontal gyrus'),\n",
    "    ('l_g_front_middle','Left middle frontal gyrus'),\n",
    "    ('l_g_front_sup','Left superior frontal gyrus'),\n",
    "    ('l_g_ins_lg_and_s_cent_ins','Left central insular sulcus'),\n",
    "    ('l_g_ins_lg_and_s_cent_ins','Left long insular gyrus'),\n",
    "    ('l_g_insular_short','Short insular gyrus'),\n",
    "    ('l_g_occipital_middleLeft', 'lateral occipital gyru'),\n",
    "    ('l_g_occipital_sup','Left superior occipital gyrus'),\n",
    "    ('l_g_oc_temp_lat_fusifor','Left fusiform gyrus'),\n",
    "    ('l_g_oc_temp_med_lingual','Left lingual gyrus'),\n",
    "    ('l_g_oc_temp_med_parahip','Left parahippocampal gyrus'),\n",
    "    ('l_g_orbital','Left orbital gyrus'),\n",
    "    ('l_g_pariet_inf_angular','Left angular gyrus'),\n",
    "    ('l_g_pariet_inf_supramar','Left supramarginal gyrus'),\n",
    "    ('l_g_parietal_sup','Left superior parietal lobule'),\n",
    "    ('l_g_postcentral','Left postcentral gyrus'),\n",
    "    ('l_g_precentral','Left precentral gyrus'),\n",
    "    ('l_g_precuneus','Left precuneus'),\n",
    "    ('l_g_rectus','Left straight gyrus'),\n",
    "    ('l_g_subcallosal','Left paraterminal gyrus'),\n",
    "    ('l_g_temp_sup_g_t_transv','Left transverse temporal gyrus'),\n",
    "    ('l_g_temp_sup_lateral','Left superior temporal gyrus'),\n",
    "    ('l_g_temp_sup_plan_polar','Left superior temporal gyrus'),\n",
    "    ('l_g_temp_sup_plan_tempo','Left superior temporal gyrus'),\n",
    "    ('l_g_temporal_inf','Left inferior temporal gyrus'),\n",
    "    ('l_g_temporal_middle','Left middle temporal gyrus'),\n",
    "    ('l_lat_fis_ant_horizont','Anterior horizontal limb of left lateral sulcus'),\n",
    "    ('l_lat_fis_ant_vertical','Anterior ascending limb of left lateral sulcus'),\n",
    "    ('l_lat_fis_post','Posterior ascending limb of left lateral sulcus'),\n",
    "    ('l_lat_fis_post','Left lateral sulcus'),\n",
    "    ('l_pole_occipital','Left occipital pole'),\n",
    "    ('l_pole_temporal','Left temporal pole'),\n",
    "    ('l_s_calcarine','Left Calcarine sulcus'),\n",
    "    ('l_s_central','Left central sulcus'),\n",
    "    ('l_s_cingul_marginalis','Left marginal sulcus'),\n",
    "    ('l_s_circular_insula_ant','Circular sulcus of left insula'),\n",
    "    ('l_s_circular_insula_inf','Circular sulcus of left insula'),\n",
    "    ('l_s_circular_insula_sup','Circular sulcus of left insula'),\n",
    "    ('l_s_collat_transv_ant','Left collateral sulcus'),\n",
    "    ('l_s_collat_transv_post','Left collateral sulcus'),\n",
    "    ('l_s_front_inf','Left inferior frontal sulcus'),\n",
    "    ('l_s_front_sup','Left superior frontal sulcus'),\n",
    "    ('l_s_intrapariet_and_p_trans','Left intraparietal sulcus'),\n",
    "    ('l_s_oc_middle_and_lunatus','Left lunate sulcus'),\n",
    "    ('l_s_oc_sup_and_transversal','Left transverse occipital sulcus'),\n",
    "    ('l_s_occipital_ant','Left anterior occipital sulcus'),\n",
    "    ('l_s_oc_temp_lat','Left occipitotemporal sulcus'),\n",
    "    ('l_s_oc_temp_med_and_lingual','Left intralingual sulcus'),\n",
    "    ('l_s_orbital_lateral','Left orbital sulcus'),\n",
    "    ('l_s_orbital_med_olfact','Left olfactory sulcus'),\n",
    "    ('l_s_orbital_h_shaped','Left transverse orbital sulcus'),\n",
    "    ('l_s_orbital_h_shaped','Left orbital sulcus'),\n",
    "    ('l_s_parieto_occipital','Left parieto-occipital sulcus'),\n",
    "    ('l_s_pericallosal','Left callosal sulcus'),\n",
    "    ('l_s_postcentral','Left postcentral sulcus'),\n",
    "    ('l_s_precentral_inf_part','Left precentral sulcus'),\n",
    "    ('l_s_precentral_sup_part','Left precentral sulcus'),\n",
    "    ('l_s_suborbital','Left fronto-orbital sulcus'),\n",
    "    ('l_s_subparietal','Left subparietal sulcus'),\n",
    "    ('l_s_temporal_inf','Left inferior temporal sulcus'),\n",
    "    ('l_s_temporal_sup','Left superior temporal sulcus'),\n",
    "    ('l_s_temporal_transverse','Left transverse temporal sulcus'),\n",
    "    ('r_g_and_s_frontomargin','Right frontomarginal gyrus'),\n",
    "    ('r_g_and_s_occipital_inf','Right inferior occipital gyrus'),\n",
    "    ('r_g_and_s_paracentral','Right paracentral lobule'),\n",
    "    ('r_g_and_s_subcentral','Right subcentral gyrus'),\n",
    "    ('r_g_and_s_transv_frontopol','Right superior transverse frontopolar gyrus'),\n",
    "    ('r_g_and_s_cingul_ant','Right anterior cingulate gyrus'),\n",
    "    ('r_g_and_s_cingul_mid_ant','Right anterior middle cingulate gyrus'),\n",
    "    ('r_g_and_s_cingul_mid_post','Right posterior middle cingulate gyrus'),\n",
    "    ('r_g_cingul_post_dorsal','Dorsal segment of right posterior middle cingulate gyrus'),\n",
    "    ('r_g_cingul_post_ventral','Ventral segment of right posterior middle cingulate gyrus'),\n",
    "    ('r_g_cuneus','Right cuneus'),\n",
    "    ('r_g_front_inf_opercular','Opercular part of right inferior frontal gyrus'),\n",
    "    ('r_g_front_inf_orbital','Orbital part of right inferior frontal gyrus'),\n",
    "    ('r_g_front_inf_triangul','Triangular part of right inferior frontal gyrus'),\n",
    "    ('r_g_front_middle','Right middle frontal gyrus'),\n",
    "    ('r_g_front_sup','Right superior frontal gyrus'),\n",
    "    ('r_g_ins_lg_and_s_cent_ins','Right central insular sulcus'),\n",
    "    ('r_g_ins_lg_and_s_cent_ins','Right long insular gyrus'),\n",
    "    ('r_g_insular_short','Right short insular gyrus'),\n",
    "    ('r_g_occipital_middle','Right lateral occipital gyrus'),\n",
    "    ('r_g_occipital_sup','Right superior occipital gyrus'),\n",
    "    ('r_g_oc_temp_lat_fusifor','Right fusiform gyrus'),\n",
    "    ('r_g_oc_temp_med_lingual','Right lingual gyrus'),\n",
    "    ('r_g_oc_temp_med_parahip','Right parahippocampal gyrus'),\n",
    "    ('r_g_orbital','Right orbital gyrus'),\n",
    "    ('r_g_pariet_inf_angular','Right angular gyrus'),\n",
    "    ('r_g_pariet_inf_supramar','Right supramarginal gyrus'),\n",
    "    ('r_g_parietal_sup','Right superior parietal lobule'),\n",
    "    ('r_g_postcentral','Right postcentral gyrus'),\n",
    "    ('r_g_precentral','Right precentral gyrus'),\n",
    "    ('r_g_precuneus','Right precuneus'),\n",
    "    ('r_g_rectus','Right straight gyrus'),\n",
    "    ('r_g_subcallosal','Right paraterminal gyrus'),\n",
    "    ('r_g_temp_sup_g_t_transv','Right transverse temporal gyrus'),\n",
    "    ('r_g_temp_sup_lateral','Right superior temporal gyrus'),\n",
    "    ('r_g_temp_sup_plan_polar','Right superior temporal gyrus'),\n",
    "    ('r_g_temp_sup_plan_tempo','Right superior temporal gyrus'),\n",
    "    ('r_g_temporal_inf','Right inferior temporal gyrus'),\n",
    "    ('r_g_temporal_middle','Right middle temporal gyrus'),\n",
    "    ('r_lat_fis_ant_horizont','Anterior horizontal limb of right lateral sulcus'),\n",
    "    ('r_lat_fis_ant_vertical','Anterior ascending limb of right lateral sulcus'),\n",
    "    ('r_lat_fis_post','Right lateral sulcus'),\n",
    "    ('r_lat_fis_post','Posterior ascending limb of right lateral sulcus'),\n",
    "    ('r_pole_occipital','Right occipital pole'),\n",
    "    ('r_pole_temporal','Right temporal pole'),\n",
    "    ('r_s_calcarine','Right Calcarine sulcus'),\n",
    "    ('r_s_central','Right central sulcus'),\n",
    "    ('r_s_cingul_marginalis','Right marginal sulcus'),\n",
    "    ('r_s_circular_insula_ant','Circular sulcus of Right insula'),\n",
    "    ('r_s_circular_insula_inf','Circular sulcus of Right insula'),\n",
    "    ('r_s_circular_insula_sup','Circular sulcus of Right insula'),\n",
    "    ('r_s_collat_transv_ant','Right collateral sulcus'),\n",
    "    ('r_s_collat_transv_post','Right collateral sulcus'),\n",
    "    ('r_s_front_inf','Right inferior frontal sulcus'),\n",
    "    ('r_s_front_sup','Right superior frontal sulcus'),\n",
    "    ('r_s_intrapariet_and_p_trans','Right intraparietal sulcus'),\n",
    "    ('r_s_oc_middle_and_lunatus','Right lunate sulcus'),\n",
    "    ('r_s_oc_sup_and_transversal','Right transverse occipital sulcus'),\n",
    "    ('r_s_occipital_ant','Right anterior occipital sulcus'),\n",
    "    ('r_s_oc_temp_lat','Right occipitotemporal sulcus'),\n",
    "    ('r_s_oc_temp_med_and_lingual','Right intralingual sulcus'),\n",
    "    ('r_s_orbital_lateral','Right orbital sulcus'),\n",
    "    ('r_s_orbital_med_olfact','Right olfactory sulcus'),\n",
    "    ('r_s_orbital_h_shaped','Right orbital sulcus'),\n",
    "    ('r_s_orbital_h_shaped','Right transverse orbital sulcus'),\n",
    "    ('r_s_parieto_occipital','Right parieto-occipital sulcus'),\n",
    "    ('r_s_pericallosal','Right callosal sulcus'),\n",
    "    ('r_s_postcentral','Right postcentral sulcus'),\n",
    "    ('r_s_precentral_inf_part','Right precentral sulcus'),\n",
    "    ('r_s_precentral_sup_part','Right precentral sulcus'),\n",
    "    ('r_s_suborbital','Right fronto-orbital sulcus'),\n",
    "    ('r_s_subparietal','Right subparietal sulcus'),\n",
    "    ('r_s_temporal_inf','Right inferior temporal sulcus'),\n",
    "    ('r_s_temporal_sup','Right superior temporal sulcus'),\n",
    "    ('r_s_temporal_transverse','Right transverse temporal sulcus'),\n",
    "]"
   ]
  },
  {
   "cell_type": "code",
   "execution_count": 4,
   "metadata": {},
   "outputs": [],
   "source": [
    "onto = get_ontology('./fma.owl')\n",
    "onto.load()\n",
    "\n",
    "def get_nodes(onto, main_label, labels=[]):\n",
    "    for main in onto.search(label = main_label):\n",
    "        subs = list(main.subclasses())\n",
    "        while subs:\n",
    "            subc = subs.pop(0)\n",
    "            labels.append(subc.label[0])\n",
    "            subs = subs + list(subc.subclasses())\n",
    "    labels = list(dict.fromkeys(labels))\n",
    "    return labels\n",
    "\n",
    "def get_subclasses(onto, main_label, apply=None):\n",
    "    subclasses = dict()\n",
    "    for main in onto.search(label = main_label):\n",
    "        subs = [main]\n",
    "        while subs:\n",
    "            subc = subs.pop(0)\n",
    "            temp = list(subc.subclasses())\n",
    "            if len(temp) > 0:\n",
    "                subclasses[subc.label[0]] = [e.label[0] for e in temp]\n",
    "                subs = subs + temp\n",
    "    if apply is not None:\n",
    "        subclasses = apply(subclasses)\n",
    "    return subclasses\n",
    "\n",
    "def parse_isSub(subc):\n",
    "    subclass = []\n",
    "    for k, v in subc.items():\n",
    "        for elem in v:\n",
    "            subclass.append((k, elem))\n",
    "    return subclass\n",
    "\n",
    "def get_synonyms(onto, main_label, apply=None):\n",
    "    synonyms = dict()\n",
    "    for main in onto.search(label = main_label):\n",
    "        subs = [main]\n",
    "        while subs:\n",
    "            subc = subs.pop(0)\n",
    "            temp = list(subc.subclasses())\n",
    "            syn = subc.synonym\n",
    "            if len(syn) > 0:\n",
    "                synonyms[subc.label[0]] = syn\n",
    "            subs = subs + temp\n",
    "    if apply is not None:\n",
    "        synonyms = apply(synonyms)\n",
    "    return synonyms\n",
    "\n",
    "def parse_isSyn(syn):\n",
    "    syns = []\n",
    "    for k, v in syn.items():\n",
    "        for elem in v:\n",
    "            syns.append((k, elem))\n",
    "            syns.append((elem, k))\n",
    "    return syns\n",
    "\n",
    "nl = fe.NeurolangDL()\n",
    "\n",
    "nodes = get_nodes(onto, 'Segment of brain')\n",
    "subc = get_subclasses(onto, 'Segment of brain', apply=parse_isSub)\n",
    "syn = get_synonyms(onto, 'Segment of brain', apply=parse_isSyn)\n",
    "\n",
    "nl.add_tuple_set(\n",
    "    ((str(e),) for e in nodes),\n",
    "    name='nodes'\n",
    ");\n",
    "\n",
    "nl.add_tuple_set(\n",
    "    ((str(e1), str(e2),) for e1, e2 in subc),\n",
    "    name='subclasses'\n",
    ");\n",
    "\n",
    "nl.add_tuple_set(\n",
    "    ((str(e1), str(e2),) for e1, e2 in syn),\n",
    "    name='synonyms'\n",
    ");"
   ]
  },
  {
   "cell_type": "code",
   "execution_count": 5,
   "metadata": {},
   "outputs": [
    {
     "name": "stderr",
     "output_type": "stream",
     "text": [
      "/Users/gzanitti/Projects/INRIA/NeuroLang/neurolang/datalog_chase.py:11: UserWarning: This module is going to be deprecated. Switch to datalog.chase\n",
      "  warn(\"This module is going to be deprecated. Switch to datalog.chase\")\n",
      "/Users/gzanitti/miniconda3/envs/neurolang/lib/python3.7/site-packages/numpy/lib/npyio.py:2358: VisibleDeprecationWarning: Reading unicode strings without specifying the encoding argument is deprecated. Set the encoding, use None for the system default.\n",
      "  output = genfromtxt(fname, **kwargs)\n"
     ]
    }
   ],
   "source": [
    "import nilearn\n",
    "import nibabel as nib\n",
    "from nilearn import datasets\n",
    "from neurolang import regions\n",
    "import numpy as np\n",
    "\n",
    "from neurolang import expressions\n",
    "from neurolang import solver_datalog_naive as sdb\n",
    "from neurolang import solver_datalog_extensional_db\n",
    "from neurolang import expression_walker as ew\n",
    "from neurolang import datalog_chase as dc\n",
    "\n",
    "C_ = expressions.Constant\n",
    "S_ = expressions.Symbol\n",
    "Imp_ = sdb.Implication\n",
    "Fact_ = sdb.Fact\n",
    "Eb_ = expressions.ExpressionBlock\n",
    "\n",
    "\n",
    "destrieux_dataset = datasets.fetch_atlas_destrieux_2009()\n",
    "destrieux_map = nib.load(destrieux_dataset['maps'])\n",
    "\n",
    "d = []\n",
    "for label_number, name in destrieux_dataset['labels']:\n",
    "    if label_number == 0:\n",
    "        continue\n",
    "    name = name.decode()\n",
    "    region = nl.create_region(destrieux_map, label=label_number)\n",
    "    if region is None:\n",
    "        continue\n",
    "    name = name.replace('-', '_').replace(' ', '_')\n",
    "    d.append((name.lower(), region))\n",
    "\n",
    "nl.add_tuple_set(d, name='destrieux_regions');"
   ]
  },
  {
   "cell_type": "code",
   "execution_count": 6,
   "metadata": {},
   "outputs": [],
   "source": [
    "nl.add_tuple_set(\n",
    "    ((e1, e2,) for e1, e2 in relations),\n",
    "    name='relations'\n",
    ");"
   ]
  },
  {
   "cell_type": "code",
   "execution_count": 7,
   "metadata": {},
   "outputs": [
    {
     "name": "stderr",
     "output_type": "stream",
     "text": [
      "/Users/gzanitti/Projects/INRIA/NeuroLang/neurolang/datalog/aggregation.py:132: UserWarning: No check performed. Should implement check for stratified aggregation\n",
      "  \"No check performed. Should implement check for stratified\"\n"
     ]
    }
   ],
   "source": [
    "x = nl.new_symbol(name='x')\n",
    "y = nl.new_symbol(name='y')\n",
    "z = nl.new_symbol(name='z')\n",
    "destrieux = nl.new_symbol(name='destrieux')\n",
    "relation = nl.new_symbol(name='relation')\n",
    "val = nl.new_symbol(name='val')\n",
    "isSub = nl.new_symbol(name='isSub')\n",
    "isSyn = nl.new_symbol(name='isSyn')\n",
    "\n",
    "query1 = nl.query(val(x), nl.symbols.nodes(x))\n",
    "query2 = nl.query(isSyn(x, y), nl.symbols.synonyms(x, y))\n",
    "query3 = nl.query(isSub(x, y), nl.symbols.subclasses(x, y))\n",
    "\n",
    "query4 = nl.query(isSub(x, z), isSub(x, y) & isSub(y, z))\n",
    "\n",
    "query5 = nl.query(destrieux(x, y), nl.symbols.destrieux_regions(x, y))\n",
    "query6 = nl.query(relation(x, y), nl.symbols.relations(x, y))"
   ]
  },
  {
   "cell_type": "code",
   "execution_count": 8,
   "metadata": {},
   "outputs": [
    {
     "data": {
      "text/plain": [
       "val: typing.AbstractSet[typing.Tuple[str]] = [('Right postcentral gyrus',), ('Left postcentral gyrus',), ('Right precuneus',), ('Left precuneus',), ('Right superior parietal lobule',), ('Left superior parietal lobule',), ('Right inferior parietal lobule',), ('Left inferior parietal lobule',)]"
      ]
     },
     "execution_count": 8,
     "metadata": {},
     "output_type": "execute_result"
    }
   ],
   "source": [
    "nl.query(val(y), isSub('Gyrus of parietal lobe', y))"
   ]
  },
  {
   "cell_type": "code",
   "execution_count": 9,
   "metadata": {},
   "outputs": [],
   "source": [
    "res = nl.query(destrieux(y, z), isSub('Gyrus of parietal lobe', x) & relation(y, x) & destrieux(y, z))"
   ]
  },
  {
   "cell_type": "code",
   "execution_count": 10,
   "metadata": {},
   "outputs": [
    {
     "data": {
      "text/plain": [
       "'0.5.0'"
      ]
     },
     "execution_count": 10,
     "metadata": {},
     "output_type": "execute_result"
    }
   ],
   "source": [
    "nilearn.__version__"
   ]
  },
  {
   "cell_type": "code",
   "execution_count": 14,
   "metadata": {},
   "outputs": [
    {
     "name": "stderr",
     "output_type": "stream",
     "text": [
      "/Users/gzanitti/miniconda3/envs/neurolang/lib/python3.7/site-packages/neurosynth/base/dataset.py:716: DeprecationWarning: \n",
      ".ix is deprecated. Please use\n",
      ".loc for label based indexing or\n",
      ".iloc for positional indexing\n",
      "\n",
      "See the documentation here:\n",
      "http://pandas.pydata.org/pandas-docs/stable/indexing.html#ix-indexer-is-deprecated\n",
      "  feature_weights = self.data.ix[:, features]\n",
      "/Users/gzanitti/miniconda3/envs/neurolang/lib/python3.7/site-packages/pandas/core/indexing.py:888: DeprecationWarning: \n",
      ".ix is deprecated. Please use\n",
      ".loc for label based indexing or\n",
      ".iloc for positional indexing\n",
      "\n",
      "See the documentation here:\n",
      "http://pandas.pydata.org/pandas-docs/stable/indexing.html#ix-indexer-is-deprecated\n",
      "  retval = getattr(retval, self.name)._getitem_axis(key, axis=i)\n",
      "/Users/gzanitti/miniconda3/envs/neurolang/lib/python3.7/site-packages/neurosynth/base/mask.py:232: DeprecationWarning: get_header method is deprecated.\n",
      "Please use the ``img.header`` property instead.\n",
      "\n",
      "* deprecated from version: 2.1\n",
      "* Will raise <class 'nibabel.deprecator.ExpiredDeprecationError'> as of version: 4.0\n",
      "  return self.volume.get_header()\n"
     ]
    }
   ],
   "source": [
    "#nsh_data = nsh.ns_region_set_from_term('parietal lobe*')\n",
    "neurosynth_superior = nl.load_neurosynth_term_regions(\n",
    "    '*superior*',\n",
    "    name='neurosynth_superior'\n",
    ")"
   ]
  },
  {
   "cell_type": "code",
   "execution_count": 15,
   "metadata": {},
   "outputs": [
    {
     "name": "stderr",
     "output_type": "stream",
     "text": [
      "/Users/gzanitti/Projects/INRIA/NeuroLang/neurolang/datalog/aggregation.py:132: UserWarning: No check performed. Should implement check for stratified aggregation\n",
      "  \"No check performed. Should implement check for stratified\"\n",
      "/Users/gzanitti/miniconda3/envs/neurolang/lib/python3.7/site-packages/scipy/ndimage/measurements.py:305: DeprecationWarning: In future, it will be an error for 'np.bool_' scalars to be interpreted as an index\n",
      "  return _nd_image.find_objects(input, max_label)\n"
     ]
    },
    {
     "data": {
      "image/png": "[encoded data removed]",
      "text/plain": [
       "<Figure size 475.2x187.2 with 4 Axes>"
      ]
     },
     "metadata": {},
     "output_type": "display_data"
    },
    {
     "data": {
      "image/png": "[encoded data removed]",
      "text/plain": [
       "<Figure size 475.2x187.2 with 4 Axes>"
      ]
     },
     "metadata": {},
     "output_type": "display_data"
    }
   ],
   "source": [
    "query = nl.new_symbol(name='query')\n",
    "region_1 = nl.new_symbol(name='region_1')\n",
    "region_2 = nl.new_symbol(name='region_2')\n",
    "\n",
    "@nl.add_symbol\n",
    "def region_volume(region: fe.ExplicitVBR) -> float:\n",
    "    volume = (\n",
    "        len(region.voxels) *\n",
    "        float(np.product(np.abs(np.linalg.eigvals(region.affine[:-1, :-1]))))\n",
    "    )\n",
    "    return volume\n",
    "\n",
    "res = nl.query(\n",
    "    query(y, region_1),\n",
    "    isSub('Gyrus of parietal lobe', x) & relation(y, x) &\n",
    "    destrieux(y, region_1) & neurosynth_superior(region_2) &\n",
    "    (region_volume(region_2) > 1500) &\n",
    "    nl.symbols.overlapping(region_1, region_2)\n",
    ")\n",
    "for name, region in res.value:\n",
    "    plotting.plot_roi(region.spatial_image(), title=name)"
   ]
  },
  {
   "cell_type": "code",
   "execution_count": 16,
   "metadata": {},
   "outputs": [
    {
     "name": "stderr",
     "output_type": "stream",
     "text": [
      "/Users/gzanitti/Projects/INRIA/NeuroLang/neurolang/datalog/aggregation.py:132: UserWarning: No check performed. Should implement check for stratified aggregation\n",
      "  \"No check performed. Should implement check for stratified\"\n",
      "/Users/gzanitti/miniconda3/envs/neurolang/lib/python3.7/site-packages/scipy/ndimage/measurements.py:305: DeprecationWarning: In future, it will be an error for 'np.bool_' scalars to be interpreted as an index\n",
      "  return _nd_image.find_objects(input, max_label)\n"
     ]
    },
    {
     "data": {
      "image/png": "[encoded data removed]",
      "text/plain": [
       "<Figure size 475.2x187.2 with 4 Axes>"
      ]
     },
     "metadata": {},
     "output_type": "display_data"
    }
   ],
   "source": [
    "res2 = nl.query(\n",
    "    query(y, region_1),\n",
    "    #isSub('Gyrus of parietal lobe', x) & relation(y, x) &\n",
    "    relation(y, 'Left superior parietal lobule') &\n",
    "    destrieux(y, region_1) & neurosynth_superior(region_2) &\n",
    "    (region_volume(region_2) > 1500) &\n",
    "    nl.symbols.overlapping(region_1, region_2)\n",
    ")\n",
    "for name, region in res2.value:\n",
    "    plotting.plot_roi(region.spatial_image(), title=name)"
   ]
  },
  {
   "cell_type": "code",
   "execution_count": null,
   "metadata": {},
   "outputs": [],
   "source": []
  },
  {
   "cell_type": "code",
   "execution_count": null,
   "metadata": {},
   "outputs": [],
   "source": []
  },
  {
   "cell_type": "code",
   "execution_count": null,
   "metadata": {},
   "outputs": [],
   "source": []
  },
  {
   "cell_type": "code",
   "execution_count": null,
   "metadata": {},
   "outputs": [],
   "source": []
  },
  {
   "cell_type": "code",
   "execution_count": null,
   "metadata": {},
   "outputs": [],
   "source": []
  },
  {
   "cell_type": "code",
   "execution_count": null,
   "metadata": {},
   "outputs": [],
   "source": []
  },
  {
   "cell_type": "code",
   "execution_count": null,
   "metadata": {},
   "outputs": [],
   "source": []
  },
  {
   "cell_type": "code",
   "execution_count": null,
   "metadata": {},
   "outputs": [],
   "source": []
  },
  {
   "cell_type": "code",
   "execution_count": null,
   "metadata": {},
   "outputs": [],
   "source": []
  },
  {
   "cell_type": "code",
   "execution_count": null,
   "metadata": {},
   "outputs": [],
   "source": []
  },
  {
   "cell_type": "code",
   "execution_count": null,
   "metadata": {},
   "outputs": [],
   "source": []
  },
  {
   "cell_type": "code",
   "execution_count": null,
   "metadata": {},
   "outputs": [],
   "source": []
  },
  {
   "cell_type": "code",
   "execution_count": null,
   "metadata": {},
   "outputs": [],
   "source": []
  },
  {
   "cell_type": "code",
   "execution_count": null,
   "metadata": {},
   "outputs": [],
   "source": [
    "dataset = Dataset('database.txt')\n",
    "dataset.add_features('features.txt')"
   ]
  },
  {
   "cell_type": "code",
   "execution_count": 21,
   "metadata": {},
   "outputs": [],
   "source": [
    "ids = dataset.get_studies(features='frontal lobe*', frequency_threshold=0.001)"
   ]
  },
  {
   "cell_type": "code",
   "execution_count": 22,
   "metadata": {},
   "outputs": [
    {
     "data": {
      "text/plain": [
       "271"
      ]
     },
     "execution_count": 22,
     "metadata": {},
     "output_type": "execute_result"
    }
   ],
   "source": [
    "len(ids)"
   ]
  },
  {
   "cell_type": "code",
   "execution_count": 23,
   "metadata": {},
   "outputs": [],
   "source": [
    "ma = meta.MetaAnalysis(dataset, ids)\n",
    "ma.save_results('.', 'frontal_lobe')"
   ]
  },
  {
   "cell_type": "code",
   "execution_count": 24,
   "metadata": {},
   "outputs": [
    {
     "data": {
      "text/plain": [
       "<nilearn.plotting.displays.OrthoSlicer at 0x120e0a160>"
      ]
     },
     "execution_count": 24,
     "metadata": {},
     "output_type": "execute_result"
    },
    {
     "data": {
      "image/png": "[encoded data removed]",
      "text/plain": [
       "<Figure size 525.6x187.2 with 5 Axes>"
      ]
     },
     "metadata": {},
     "output_type": "display_data"
    }
   ],
   "source": [
    "plotting.plot_stat_map('frontal_lobe_pA.nii.gz')"
   ]
  },
  {
   "cell_type": "code",
   "execution_count": 14,
   "metadata": {},
   "outputs": [],
   "source": [
    "from neurolang.frontend.neurosynth_utils import NeuroSynthHandler"
   ]
  },
  {
   "cell_type": "code",
   "execution_count": 15,
   "metadata": {},
   "outputs": [],
   "source": [
    "nsh = NeuroSynthHandler()\n",
    "dataset = nsh.ns_load_dataset()\n",
    "nsh = NeuroSynthHandler(ns_dataset=dataset)"
   ]
  },
  {
   "cell_type": "code",
   "execution_count": null,
   "metadata": {},
   "outputs": [],
   "source": []
  },
  {
   "cell_type": "code",
   "execution_count": 27,
   "metadata": {},
   "outputs": [
    {
     "name": "stderr",
     "output_type": "stream",
     "text": [
      "/Users/gzanitti/miniconda3/envs/neurolang/lib/python3.7/site-packages/numpy/lib/npyio.py:2322: VisibleDeprecationWarning: Reading unicode strings without specifying the encoding argument is deprecated. Set the encoding, use None for the system default.\n",
      "  output = genfromtxt(fname, **kwargs)\n"
     ]
    },
    {
     "data": {
      "text/plain": [
       "frozenset({('L G_and_S_cingul-Mid-Ant',),\n",
       "           ('L G_and_S_cingul-Mid-Post',),\n",
       "           ('L G_and_S_paracentral',),\n",
       "           ('L G_and_S_subcentral',),\n",
       "           ('L G_cingul-Post-dorsal',),\n",
       "           ('L G_cuneus',),\n",
       "           ('L G_front_middle',),\n",
       "           ('L G_front_sup',),\n",
       "           ('L G_occipital_sup',),\n",
       "           ('L G_parietal_sup',),\n",
       "           ('L G_postcentral',),\n",
       "           ('L G_precentral',),\n",
       "           ('L G_precuneus',),\n",
       "           ('L S_central',),\n",
       "           ('L S_cingul-Marginalis',),\n",
       "           ('L S_circular_insula_sup',),\n",
       "           ('L S_front_inf',),\n",
       "           ('L S_front_sup',),\n",
       "           ('L S_interm_prim-Jensen',),\n",
       "           ('L S_intrapariet_and_P_trans',),\n",
       "           ('L S_parieto_occipital',),\n",
       "           ('L S_postcentral',),\n",
       "           ('L S_precentral-inf-part',),\n",
       "           ('L S_precentral-sup-part',),\n",
       "           ('L S_subparietal',)})"
      ]
     },
     "execution_count": 27,
     "metadata": {},
     "output_type": "execute_result"
    }
   ],
   "source": [
    "import os\n",
    "try:\n",
    "    os.chdir(os.path.join(os.getcwd(), 'examples'))\n",
    "    print(os.getcwd())\n",
    "except:\n",
    "    pass\n",
    "\n",
    "from IPython import get_ipython\n",
    "get_ipython().run_line_magic('matplotlib', 'inline')\n",
    "\n",
    "\n",
    "import nilearn\n",
    "from nilearn import plotting\n",
    "import nibabel as nib\n",
    "import numpy as np\n",
    "\n",
    "from neurolang import regions\n",
    "from neurolang import region_solver\n",
    "\n",
    "from neurolang import expressions\n",
    "from neurolang import solver_datalog_naive as sdb\n",
    "from neurolang import solver_datalog_extensional_db\n",
    "from neurolang import expression_walker as ew\n",
    "from neurolang.datalog_chase import DatalogChase\n",
    "\n",
    "\n",
    "C_ = expressions.Constant\n",
    "S_ = expressions.Symbol\n",
    "Imp_ = sdb.Implication\n",
    "Fact_ = sdb.Fact\n",
    "Eb_ = expressions.ExpressionBlock\n",
    "\n",
    "\n",
    "atlas_destrieux = nilearn.datasets.fetch_atlas_destrieux_2009()\n",
    "\n",
    "\n",
    "image = nib.load(atlas_destrieux['maps'])\n",
    "image_data = image.get_data()\n",
    "\n",
    "\n",
    "region_dict = {}\n",
    "for label, name in atlas_destrieux['labels']:\n",
    "    if label == 0 or label == 42 or label == 117:\n",
    "        continue\n",
    "    r = regions.ExplicitVBR(np.transpose((image_data == label).nonzero()), image.affine, image_dim=image.shape)\n",
    "    if r.voxels.shape[0] > 0:\n",
    "        region_dict[name.decode('utf8')] = r\n",
    "    \n",
    "\n",
    "destrieux = sdb.Symbol('Destrieux')\n",
    "destrieux_facts = [\n",
    "    Fact_(destrieux(\n",
    "        C_(name), \n",
    "        C_(region)\n",
    "    ))\n",
    "    for name, region in region_dict.items()\n",
    "]\n",
    "\n",
    "\n",
    "from typing import Any\n",
    "\n",
    "class Datalog(\n",
    "    region_solver.RegionSolver,\n",
    "    dc.sdb.DatalogBasic,\n",
    "    solver_datalog_extensional_db.ExtensionalDatabaseSolver,\n",
    "    ew.ExpressionBasicEvaluator\n",
    "):\n",
    "    def function_lh(self, x: str) -> bool:\n",
    "        return x.startswith('L ')\n",
    "    \n",
    "    def function_rh(self, x: str) -> bool:\n",
    "        return x.startswith('R ')\n",
    "\n",
    "\n",
    "superior_sts_l = S_('region_l_sts')\n",
    "r = S_('r')\n",
    "name = S_('name')\n",
    "\n",
    "t1 = Imp_(\n",
    "    S_('superior_sts_l')(name),\n",
    "        destrieux(C_('L S_temporal_sup'), superior_sts_l) &\n",
    "        S_('anatomical_superior_of')(r, superior_sts_l) &\n",
    "        S_('lh')(name) & \n",
    "        destrieux(name, r)\n",
    ")\n",
    "\n",
    "datalog_program = Eb_(\n",
    "    destrieux_facts + [\n",
    "    t1,\n",
    "])\n",
    "\n",
    "dl = Datalog()\n",
    "dl.walk(datalog_program);\n",
    "\n",
    "dc = DatalogChase(dl)\n",
    "solution = dc.build_chase_solution()\n",
    "\n",
    "rsbv = ew.ReplaceExpressionsByValues({})\n",
    "result = rsbv.walk(solution['superior_sts_l'])\n",
    "result"
   ]
  },
  {
   "cell_type": "code",
   "execution_count": null,
   "metadata": {},
   "outputs": [],
   "source": []
  },
  {
   "cell_type": "code",
   "execution_count": null,
   "metadata": {},
   "outputs": [],
   "source": []
  },
  {
   "cell_type": "code",
   "execution_count": null,
   "metadata": {},
   "outputs": [],
   "source": []
  },
  {
   "cell_type": "code",
   "execution_count": null,
   "metadata": {},
   "outputs": [],
   "source": []
  }
 ],
 "metadata": {
  "kernelspec": {
   "display_name": "neurolang",
   "language": "python",
   "name": "neurolang"
  },
  "language_info": {
   "codemirror_mode": {
    "name": "ipython",
    "version": 3
   },
   "file_extension": ".py",
   "mimetype": "text/x-python",
   "name": "python",
   "nbconvert_exporter": "python",
   "pygments_lexer": "ipython3",
   "version": "3.7.3"
  }
 },
 "nbformat": 4,
 "nbformat_minor": 2
}
